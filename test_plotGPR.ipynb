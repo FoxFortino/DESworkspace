{
 "cells": [
  {
   "cell_type": "code",
   "execution_count": 468,
   "metadata": {},
   "outputs": [],
   "source": [
    "from importlib import reload\n",
    "\n",
    "import cfGPR\n",
    "import vonkarman as vk\n",
    "import plotGPR\n",
    "\n",
    "import numpy as np\n",
    "import matplotlib.pyplot as plt\n",
    "import astropy.units as u\n",
    "import astropy.constants as c"
   ]
  },
  {
   "cell_type": "code",
   "execution_count": 492,
   "metadata": {},
   "outputs": [
    {
     "data": {
      "image/png": "[encoded data removed]",
      "text/plain": [
       "<Figure size 1152x576 with 3 Axes>"
      ]
     },
     "metadata": {
      "needs_background": "light"
     },
     "output_type": "display_data"
    }
   ],
   "source": [
    "reload(plotGPR)\n",
    "\n",
    "def DivCurl(\n",
    "        x, y, dx, dy, err,\n",
    "        x2=None, y2=None, dx2=None, dy2=None, err2=None,\n",
    "        title1=\"Observed\", title2=\"GPR Applied\",\n",
    "        minPoints=100,\n",
    "        pixelsPerBin=1000,\n",
    "        maxErr=50*u.mas,\n",
    "        scale=50,\n",
    "        savedir=None\n",
    "):\n",
    "\n",
    "    x, y, dx, dy, errors, cellSize = \\\n",
    "        plotGPR.calcPixelGrid(\n",
    "            x, y, dx, dy, err,\n",
    "            minPoints=minPoints,\n",
    "            pixelsPerBin=pixelsPerBin,\n",
    "            maxErr=maxErr)\n",
    "    RMS_x = f\"RMS x: {np.round(errors[0].value, 1)} {errors[0].unit}\"\n",
    "    RMS_y = f\"RMS y: {np.round(errors[1].value, 1)} {errors[1].unit}\"\n",
    "    noise = f\"Noise: {np.round(errors[2].value, 1)} {errors[2].unit}\"\n",
    "\n",
    "    div, curl = plotGPR.calcDivCurl(x, y, dx, dy)\n",
    "    \n",
    "    if np.all([arr is not None for arr in [x2, y2, dx2, dy2, err2]]):\n",
    "        x2, y2, dx2, dy2, errors2, cellSize2 = \\\n",
    "            plotGPR.calcPixelGrid(\n",
    "                x2, y2, dx2, dy2, err2,\n",
    "                minPoints=minPoints,\n",
    "                pixelsPerBin=pixelsPerBin,\n",
    "                maxErr=maxErr)\n",
    "        RMS_x2 = f\"RMS x: {np.round(errors2[0].value, 1)} {errors2[0].unit}\"\n",
    "        RMS_y2 = f\"RMS y: {np.round(errors2[1].value, 1)} {errors2[1].unit}\"\n",
    "        noise2 = f\"Noise: {np.round(errors2[2].value, 1)} {errors2[2].unit}\"\n",
    "        \n",
    "        div2, curl2 = plotGPR.calcDivCurl(x2, y2, dx2, dy2)\n",
    "        \n",
    "        fig, axes = plt.subplots(\n",
    "            nrows=2, ncols=2,\n",
    "            sharex=True, sharey=True,\n",
    "            figsize=(16, 16))\n",
    "#         fig.subplots_adjust(wspace=0)\n",
    "        fig.subplots_adjust(hspace=0)\n",
    "        \n",
    "        divplot = axes[0, 0].imshow(\n",
    "            div,\n",
    "            origin=\"lower\",\n",
    "            cmap=\"Spectral\",\n",
    "            vmin=-scale,\n",
    "            vmax=scale)\n",
    "        axes[0, 0].axis(\"off\")\n",
    "        axes[0, 0].set_title(\"Divergence\")\n",
    "        curlplot = axes[0, 1].imshow(\n",
    "            curl,\n",
    "            origin=\"lower\",\n",
    "            cmap=\"Spectral\",\n",
    "            vmin=-scale,\n",
    "            vmax=scale)\n",
    "        axes[0, 1].axis(\"off\")\n",
    "        axes[0, 1].set_title(\"Curl\")\n",
    "        \n",
    "        divplot = axes[1, 0].imshow(\n",
    "            div2,\n",
    "            origin=\"lower\",\n",
    "            cmap=\"Spectral\",\n",
    "            vmin=-scale,\n",
    "            vmax=scale)\n",
    "        axes[1, 0].axis(\"off\")\n",
    "        axes[1, 0].set_title(\"Divergence\")\n",
    "        curlplot = axes[1, 1].imshow(\n",
    "            curl2,\n",
    "            origin=\"lower\",\n",
    "            cmap=\"Spectral\",\n",
    "            vmin=-scale,\n",
    "            vmax=scale)\n",
    "        axes[1, 1].axis(\"off\")\n",
    "        axes[1, 1].set_title(\"Curl\")\n",
    "        \n",
    "        fig.colorbar(divplot, ax=fig.get_axes())\n",
    "        \n",
    "    else:\n",
    "        fig, axes = plt.subplots(\n",
    "            nrows=1, ncols=2,\n",
    "            sharex=True, sharey=True,\n",
    "            figsize=(16, 8))\n",
    "\n",
    "        divplot = axes[0].imshow(\n",
    "            div,\n",
    "            origin=\"lower\",\n",
    "            cmap=\"Spectral\",\n",
    "            vmin=-scale,\n",
    "            vmax=scale)\n",
    "        axes[0].axis(\"off\")\n",
    "        axes[0].set_title(\"Divergence\")\n",
    "        curlplot = axes[1].imshow(\n",
    "            curl,\n",
    "            origin=\"lower\",\n",
    "            cmap=\"Spectral\",\n",
    "            vmin=-scale,\n",
    "            vmax=scale)\n",
    "        axes[1].axis(\"off\")\n",
    "        axes[1].set_title(\"Curl\")\n",
    "        \n",
    "        fig.colorbar(divplot, ax=fig.get_axes())\n",
    "\n",
    "#     if save:\n",
    "#         plt.savefig(os.path.join(self.outdir, ext + \"div_curl.pdf\"))\n",
    "\n",
    "#     plt.show()\n",
    "\n",
    "#     # Some stats:\n",
    "#     vardiv = gbutil.clippedMean(div[div==div],5.)[1]\n",
    "#     varcurl = gbutil.clippedMean(curl[div==div],5.)[1]\n",
    "#     print(\"RMS of div: {:.2f}; curl: {:.2f}\".format(np.sqrt(vardiv), np.sqrt(varcurl)))\n",
    "\n",
    "reload(plotGPR)\n",
    "GP = np.load(\"../vkexposures/450/450.npz\")\n",
    "DivCurl(\n",
    "        GP[\"Xtest\"][:, 0]*u.deg,\n",
    "        GP[\"Xtest\"][:, 1]*u.deg,\n",
    "        GP[\"Ytest\"][:, 0]*u.mas,\n",
    "        GP[\"Ytest\"][:, 1]*u.mas,\n",
    "        GP[\"Etest\"][:, 0]*u.mas,\n",
    "#         x2=GP[\"Xtest\"][:, 0]*u.deg,\n",
    "#         y2=GP[\"Xtest\"][:, 1]*u.deg,\n",
    "#         dx2=GP[\"Ytest\"][:, 0]*u.mas - GP[\"fbar_s\"][:, 0]*u.mas,\n",
    "#         dy2=GP[\"Ytest\"][:, 1]*u.mas - GP[\"fbar_s\"][:, 1]*u.mas,\n",
    "#         err2=GP[\"Etest\"][:, 0]*u.mas,\n",
    "#         savedir=\".\"\n",
    "        pixelsPerBin=1000\n",
    "    )"
   ]
  },
  {
   "cell_type": "code",
   "execution_count": 479,
   "metadata": {},
   "outputs": [],
   "source": [
    "gp = cfGPR.CurlFreeGPR()"
   ]
  },
  {
   "cell_type": "code",
   "execution_count": 480,
   "metadata": {},
   "outputs": [
    {
     "name": "stdout",
     "output_type": "stream",
     "text": [
      "RMSx, RMSy, noise: 14.095285968175011 14.707538934706172 0.750386197037176\n"
     ]
    },
    {
     "data": {
      "image/png": "[encoded data removed]",
      "text/plain": [
       "<Figure size 864x432 with 3 Axes>"
      ]
     },
     "metadata": {
      "needs_background": "light"
     },
     "output_type": "display_data"
    },
    {
     "name": "stdout",
     "output_type": "stream",
     "text": [
      "RMS of div: 30.53; curl: 14.98\n"
     ]
    }
   ],
   "source": [
    "gp.plot_div_curl(GP['Xtest'], GP['Ytest'], GP['Etest'])"
   ]
  },
  {
   "cell_type": "code",
   "execution_count": null,
   "metadata": {},
   "outputs": [],
   "source": []
  }
 ],
 "metadata": {
  "kernelspec": {
   "display_name": "Python 3",
   "language": "python",
   "name": "python3"
  },
  "language_info": {
   "codemirror_mode": {
    "name": "ipython",
    "version": 3
   },
   "file_extension": ".py",
   "mimetype": "text/x-python",
   "name": "python",
   "nbconvert_exporter": "python",
   "pygments_lexer": "ipython3",
   "version": "3.7.3"
  }
 },
 "nbformat": 4,
 "nbformat_minor": 4
}
