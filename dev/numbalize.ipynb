{
 "cells": [
  {
   "cell_type": "code",
   "execution_count": 1,
   "metadata": {},
   "outputs": [
    {
     "name": "stdout",
     "output_type": "stream",
     "text": [
      "Created TAP+ (v1.2.1) - Connection:\n",
      "\tHost: gea.esac.esa.int\n",
      "\tUse HTTPS: True\n",
      "\tPort: 443\n",
      "\tSSL Port: 443\n",
      "Created TAP+ (v1.2.1) - Connection:\n",
      "\tHost: geadata.esac.esa.int\n",
      "\tUse HTTPS: True\n",
      "\tPort: 443\n",
      "\tSSL Port: 443\n"
     ]
    }
   ],
   "source": [
    "# Standard modules\n",
    "import glob\n",
    "import os\n",
    "import shutil\n",
    "\n",
    "# Willow Fox Fortino's modules\n",
    "import GPRutils\n",
    "import vK2KGPR\n",
    "import plotGPR\n",
    "\n",
    "# Professor Gary Bernstein's modules\n",
    "import getGaiaDR2 as gaia\n",
    "import gbutil\n",
    "import vonkarmanFT as vk\n",
    "\n",
    "# Science modules\n",
    "import numba\n",
    "import numpy as np\n",
    "import astropy.units as u\n",
    "import astropy.constants as c\n",
    "import astropy.coordinates as co\n",
    "import astropy.table as tb\n",
    "import astropy.io.fits as fits\n",
    "import astropy.stats as stats\n",
    "from astropy.time import Time\n",
    "import scipy.optimize as opt\n",
    "from scipy.spatial.ckdtree import cKDTree"
   ]
  },
  {
   "cell_type": "markdown",
   "metadata": {},
   "source": [
    "Numba doesn't seem to help with functions fit and predict. Maybe inside vonkarmanFT.py"
   ]
  },
  {
   "cell_type": "code",
   "execution_count": 21,
   "metadata": {},
   "outputs": [],
   "source": [
    "exposure = 348819\n",
    "dC = GPRutils.loadFITS(glob.glob(f\"../thesis/{exposure}/DES{exposure}_?.fits\")[0])\n",
    "dC2 = GPRutils.loadNPZ(f\"../thesis/{exposure}/{exposure}.npz\")\n",
    "dC.params = dC2.params"
   ]
  },
  {
   "cell_type": "code",
   "execution_count": 22,
   "metadata": {},
   "outputs": [],
   "source": [
    "Train, Valid = GPRutils.makeSplit(dC.TV, \"Subset A\")\n",
    "dC.makeArrays(Train, Valid)"
   ]
  },
  {
   "cell_type": "code",
   "execution_count": 43,
   "metadata": {},
   "outputs": [
    {
     "name": "stdout",
     "output_type": "stream",
     "text": [
      "CPU times: user 33.2 s, sys: 5.19 s, total: 38.4 s\n",
      "Wall time: 11.4 s\n"
     ]
    }
   ],
   "source": [
    "%%time\n",
    "ttt = vk.TurbulentLayer(\n",
    "    variance=dC.params[0],\n",
    "    outerScale=dC.params[1],\n",
    "    diameter=dC.params[2],\n",
    "    wind=(dC.params[3], dC.params[4]))"
   ]
  },
  {
   "cell_type": "code",
   "execution_count": 55,
   "metadata": {},
   "outputs": [
    {
     "name": "stdout",
     "output_type": "stream",
     "text": [
      "CPU times: user 15min 55s, sys: 2min 39s, total: 18min 35s\n",
      "Wall time: 1min\n"
     ]
    }
   ],
   "source": [
    "%%time\n",
    "du, dv = GPRutils.getGrid(dC.Xtrain, dC.Xtrain) \n",
    "CuvTT = ttt.getCuv(du, dv)\n",
    "CuvTT[:, :, 0, 1] *= 0\n",
    "CuvTT[:, :, 1, 0] *= 0\n",
    "n1, n2 = CuvTT.shape[0], CuvTT.shape[1]\n",
    "K = np.swapaxes(CuvTT, 1, 2).reshape(2*n1, 2*n2)"
   ]
  },
  {
   "cell_type": "code",
   "execution_count": 56,
   "metadata": {},
   "outputs": [
    {
     "name": "stdout",
     "output_type": "stream",
     "text": [
      "CPU times: user 3min 56s, sys: 36.2 s, total: 4min 32s\n",
      "Wall time: 15.7 s\n"
     ]
    }
   ],
   "source": [
    "%%time\n",
    "du, dv = GPRutils.getGrid(dC.Xvalid, dC.Xtrain)\n",
    "CuvVT = ttt.getCuv(du, dv)\n",
    "CuvVT[:, :, 0, 1] *= 0\n",
    "CuvVT[:, :, 1, 0] *= 0\n",
    "n1, n2 = CuvVT.shape[0], CuvVT.shape[1]\n",
    "Ks = np.swapaxes(CuvVT, 1, 2).reshape(2*n1, 2*n2)"
   ]
  },
  {
   "cell_type": "code",
   "execution_count": 60,
   "metadata": {},
   "outputs": [
    {
     "name": "stdout",
     "output_type": "stream",
     "text": [
      "CPU times: user 5.73 s, sys: 5.39 s, total: 11.1 s\n",
      "Wall time: 5.93 s\n"
     ]
    }
   ],
   "source": [
    "%%time\n",
    "W = GPRutils.makeW(dC.Etrain_GAIA, dC.Etrain_DES)"
   ]
  },
  {
   "cell_type": "code",
   "execution_count": 62,
   "metadata": {},
   "outputs": [
    {
     "name": "stdout",
     "output_type": "stream",
     "text": [
      "CPU times: user 1.1 ms, sys: 0 ns, total: 1.1 ms\n",
      "Wall time: 587 µs\n"
     ]
    }
   ],
   "source": [
    "%%time\n",
    "Y = GPRutils.flat(dC.Ytrain)"
   ]
  },
  {
   "cell_type": "code",
   "execution_count": 57,
   "metadata": {},
   "outputs": [
    {
     "name": "stdout",
     "output_type": "stream",
     "text": [
      "CPU times: user 18min 53s, sys: 45 s, total: 19min 38s\n",
      "Wall time: 1min 46s\n"
     ]
    }
   ],
   "source": [
    "%%time\n",
    "L = np.linalg.cholesky(K + W)\n",
    "alpha = np.linalg.solve(L, Y)\n",
    "alpha = np.linalg.solve(L.T, alpha)\n",
    "\n",
    "fbar_s = GPRutils.unflat(np.dot(Ks.T, alpha))"
   ]
  },
  {
   "cell_type": "code",
   "execution_count": 68,
   "metadata": {},
   "outputs": [
    {
     "name": "stderr",
     "output_type": "stream",
     "text": [
      "<ipython-input-68-babc20051f88>:10: NumbaPerformanceWarning: np.dot() is faster on contiguous arrays, called on (array(float64, 2d, A), array(float64, 1d, C))\n",
      "  fbar_s = np.dot(Ks.T, alpha)\n"
     ]
    }
   ],
   "source": [
    "@numba.njit(\"f8[:](f8[:,:], f8[:,:], f8[:,:], f8[:])\", cache=True)\n",
    "def func(K, Ks, W, Y):\n",
    "    \n",
    "    # Get alpha\n",
    "    L = np.linalg.cholesky(K + W)\n",
    "    alpha = np.linalg.solve(L, Y)\n",
    "    alpha = np.linalg.solve(L.T, alpha)\n",
    "    \n",
    "    # Get fbar_s\n",
    "    fbar_s = np.dot(Ks.T, alpha)\n",
    "\n",
    "    return fbar_s"
   ]
  },
  {
   "cell_type": "code",
   "execution_count": 69,
   "metadata": {},
   "outputs": [
    {
     "name": "stdout",
     "output_type": "stream",
     "text": [
      "CPU times: user 18min 42s, sys: 33.5 s, total: 19min 15s\n",
      "Wall time: 1min 57s\n"
     ]
    }
   ],
   "source": [
    "%%time\n",
    "fbar_s_numba = func(K, Ks, W, Y)"
   ]
  },
  {
   "cell_type": "code",
   "execution_count": 70,
   "metadata": {},
   "outputs": [
    {
     "name": "stdout",
     "output_type": "stream",
     "text": [
      "CPU times: user 18min 53s, sys: 35.9 s, total: 19min 29s\n",
      "Wall time: 1min 58s\n"
     ]
    }
   ],
   "source": [
    "%%time\n",
    "fbar_s_numba = func(K, Ks, W, Y)"
   ]
  },
  {
   "cell_type": "code",
   "execution_count": 71,
   "metadata": {},
   "outputs": [
    {
     "name": "stdout",
     "output_type": "stream",
     "text": [
      "CPU times: user 17min 17s, sys: 36 s, total: 17min 53s\n",
      "Wall time: 1min 51s\n"
     ]
    }
   ],
   "source": [
    "%%time\n",
    "fbar_s_numba = func(K, Ks, W, Y)"
   ]
  },
  {
   "cell_type": "code",
   "execution_count": 73,
   "metadata": {},
   "outputs": [
    {
     "name": "stdout",
     "output_type": "stream",
     "text": [
      "CPU times: user 14min 34s, sys: 27.7 s, total: 15min 2s\n",
      "Wall time: 1min 33s\n"
     ]
    }
   ],
   "source": [
    "%%time\n",
    "fbar_s_numba = func(K, Ks, W, Y)"
   ]
  },
  {
   "cell_type": "code",
   "execution_count": 74,
   "metadata": {},
   "outputs": [
    {
     "name": "stdout",
     "output_type": "stream",
     "text": [
      "CPU times: user 14min 34s, sys: 33 s, total: 15min 7s\n",
      "Wall time: 1min 18s\n"
     ]
    }
   ],
   "source": [
    "%%time\n",
    "L = np.linalg.cholesky(K + W)\n",
    "alpha = np.linalg.solve(L, Y)\n",
    "alpha = np.linalg.solve(L.T, alpha)\n",
    "\n",
    "fbar_s = GPRutils.unflat(np.dot(Ks.T, alpha))"
   ]
  },
  {
   "cell_type": "code",
   "execution_count": 75,
   "metadata": {},
   "outputs": [
    {
     "name": "stderr",
     "output_type": "stream",
     "text": [
      "<ipython-input-75-c5d9dcc50912>:10: NumbaPerformanceWarning: np.dot() is faster on contiguous arrays, called on (array(float64, 2d, A), array(float64, 1d, C))\n",
      "  fbar_s = np.dot(Ks.T, alpha)\n"
     ]
    }
   ],
   "source": [
    "@numba.njit(\"f8[:](f8[:,:], f8[:,:], f8[:,:], f8[:])\", cache=True, parallel=True)\n",
    "def pfunc(K, Ks, W, Y):\n",
    "    \n",
    "    # Get alpha\n",
    "    L = np.linalg.cholesky(K + W)\n",
    "    alpha = np.linalg.solve(L, Y)\n",
    "    alpha = np.linalg.solve(L.T, alpha)\n",
    "    \n",
    "    # Get fbar_s\n",
    "    fbar_s = np.dot(Ks.T, alpha)\n",
    "\n",
    "    return fbar_s"
   ]
  },
  {
   "cell_type": "code",
   "execution_count": 76,
   "metadata": {},
   "outputs": [
    {
     "name": "stdout",
     "output_type": "stream",
     "text": [
      "CPU times: user 14min 36s, sys: 36.9 s, total: 15min 13s\n",
      "Wall time: 1min 30s\n"
     ]
    }
   ],
   "source": [
    "%%time\n",
    "fbar_s_numba = pfunc(K, Ks, W, Y)"
   ]
  },
  {
   "cell_type": "code",
   "execution_count": 77,
   "metadata": {},
   "outputs": [
    {
     "name": "stdout",
     "output_type": "stream",
     "text": [
      "CPU times: user 14min 27s, sys: 40.3 s, total: 15min 7s\n",
      "Wall time: 1min 30s\n"
     ]
    }
   ],
   "source": [
    "%%time\n",
    "fbar_s_numba = pfunc(K, Ks, W, Y)"
   ]
  },
  {
   "cell_type": "code",
   "execution_count": null,
   "metadata": {},
   "outputs": [],
   "source": []
  }
 ],
 "metadata": {
  "kernelspec": {
   "display_name": "Python 3",
   "language": "python",
   "name": "python3"
  },
  "language_info": {
   "codemirror_mode": {
    "name": "ipython",
    "version": 3
   },
   "file_extension": ".py",
   "mimetype": "text/x-python",
   "name": "python",
   "nbconvert_exporter": "python",
   "pygments_lexer": "ipython3",
   "version": "3.7.3"
  }
 },
 "nbformat": 4,
 "nbformat_minor": 4
}
