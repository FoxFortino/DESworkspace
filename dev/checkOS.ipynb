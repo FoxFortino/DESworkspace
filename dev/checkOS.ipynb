{
 "cells": [
  {
   "cell_type": "code",
   "execution_count": 1,
   "metadata": {},
   "outputs": [
    {
     "name": "stdout",
     "output_type": "stream",
     "text": [
      "Created TAP+ (v1.2.1) - Connection:\n",
      "\tHost: gea.esac.esa.int\n",
      "\tUse HTTPS: True\n",
      "\tPort: 443\n",
      "\tSSL Port: 443\n",
      "Created TAP+ (v1.2.1) - Connection:\n",
      "\tHost: geadata.esac.esa.int\n",
      "\tUse HTTPS: True\n",
      "\tPort: 443\n",
      "\tSSL Port: 443\n"
     ]
    }
   ],
   "source": [
    "import os\n",
    "import glob\n",
    "\n",
    "import GPRutils\n",
    "import DESutils\n",
    "import vK2KGPR\n",
    "\n",
    "import numpy as np\n",
    "import astropy.units as u\n",
    "import matplotlib.pyplot as plt\n",
    "\n",
    "import warnings\n",
    "warnings.filterwarnings(\"ignore\")\n",
    "\n",
    "exps = DESutils.findExpNums()\n",
    "gband = DESutils.bandDict[\"g\"]\n",
    "rband = DESutils.bandDict[\"r\"]\n",
    "iband = DESutils.bandDict[\"i\"]\n",
    "zband = DESutils.bandDict[\"z\"]"
   ]
  },
  {
   "cell_type": "code",
   "execution_count": 2,
   "metadata": {},
   "outputs": [],
   "source": [
    "expNum = exps[0]"
   ]
  },
  {
   "cell_type": "code",
   "execution_count": 3,
   "metadata": {},
   "outputs": [
    {
     "name": "stdout",
     "output_type": "stream",
     "text": [
      "Exposure: 348819\n",
      "Band: z\n",
      "Kernel Parameters from 2d Correlation Fitting\n",
      "K Variance     Outer Scale    Diameter       Wind X         Wind Y         \n",
      "109.1565559    1.5349095      -0.0061141     0.0890528      -0.0355237     \n",
      "\n",
      "Kernel Parameters from GPR Optimization\n",
      "K Variance     Outer Scale    Diameter       Wind X         Wind Y         \n",
      "220.7504306    0.5817545      -0.0084507     0.0122671      -0.030748      \n",
      "\n",
      "Jackknifed xi+ (Inter-set pairs excluded)\n",
      "xi0: 83.083 ± 1.693 mas^2\n",
      "xif: 5.641 ± 0.486 mas^2\n",
      "Reduction: 14.729\n",
      "\n"
     ]
    }
   ],
   "source": [
    "dC = GPRutils.loadFITS(f\"/home/fortino/GPRSolutions/simple/GPR.{expNum}.?RC.fits\")\n",
    "dC.summarize(noplots=True)\n",
    "\n",
    "fitCorrParams = dC.fitCorrParams.copy()\n",
    "finalParams = dC.params.copy()"
   ]
  },
  {
   "cell_type": "code",
   "execution_count": 15,
   "metadata": {},
   "outputs": [],
   "source": [
    "def printXi(dC):\n",
    "    GPRutils.printParams(dC.params)\n",
    "    xi0, Xerr, Yerr, prs = GPRutils.getXi(dC.Xvalid, dC.Yvalid)\n",
    "    xierr = np.sqrt(Xerr**2 + Yerr**2)\n",
    "    print(f\"xi0: {xi0:.3f} ± {xierr:.3f} mas^2\")\n",
    "    \n",
    "    xif, Xerr, Yerr, prs = GPRutils.getXi(dC.Xvalid, dC.Yvalid-dC.fbar_s)\n",
    "    xierr = np.sqrt(Xerr**2 + Yerr**2)\n",
    "    print(f\"xif: {xif:.3f} ± {xierr:.3f} mas^2\")\n",
    "    print(f\"Reduction: {xi0/xif:.3f}\")\n",
    "    print()"
   ]
  },
  {
   "cell_type": "code",
   "execution_count": 5,
   "metadata": {},
   "outputs": [
    {
     "name": "stdout",
     "output_type": "stream",
     "text": [
      "220.7504306    0.5817545      -0.0084507     0.0122671      -0.030748      \n",
      "xi0: 81.926 ± 4.118 mas^2\n",
      "xif: 7.377 ± 1.337 mas^2\n",
      "Reductin: 11.105\n",
      "\n"
     ]
    }
   ],
   "source": [
    "# Get xi for final params\n",
    "\n",
    "GP = vK2KGPR.vonKarman2KernelGPR(dC, curl=True)\n",
    "GP.fit(finalParams)\n",
    "GP.predict(dC.Xvalid)\n",
    "xif, Xerr, Yerr, prs = GPRutils.getXi(dC.Xvalid, dC.Yvalid-dC.fbar_s)\n",
    "xiferr = np.sqrt(Xerr**2 + Yerr**2)\n",
    "printXi(dC)"
   ]
  },
  {
   "cell_type": "code",
   "execution_count": 17,
   "metadata": {},
   "outputs": [
    {
     "name": "stdout",
     "output_type": "stream",
     "text": [
      "109.1565559    1.5349095      -0.0061141     0.0890528      -0.0355237     \n",
      "xi0: 81.926 ± 4.118 mas^2\n",
      "xif: 12.289 ± 1.523 mas^2\n",
      "Reduction: 6.667\n",
      "\n"
     ]
    }
   ],
   "source": [
    "# Get xi for fitCorr params\n",
    "\n",
    "GP = vK2KGPR.vonKarman2KernelGPR(dC, curl=True)\n",
    "GP.fit(fitCorrParams)\n",
    "GP.predict(dC.Xvalid)\n",
    "xif, Xerr, Yerr, prs = GPRutils.getXi(dC.Xvalid, dC.Yvalid-dC.fbar_s)\n",
    "xiferr = np.sqrt(Xerr**2 + Yerr**2)\n",
    "printXi(dC)"
   ]
  },
  {
   "cell_type": "code",
   "execution_count": 6,
   "metadata": {},
   "outputs": [
    {
     "name": "stdout",
     "output_type": "stream",
     "text": [
      "220.7504306    1.5349095      -0.0084507     0.0122671      -0.030748      \n",
      "xi0: 81.926 ± 4.118 mas^2\n",
      "xif: 7.398 ± 1.331 mas^2\n",
      "Reductin: 11.074\n",
      "\n"
     ]
    }
   ],
   "source": [
    "# Test fitCorr OS effect on final params\n",
    "testParams = np.array([\n",
    "    finalParams[0],\n",
    "    fitCorrParams[1],\n",
    "    finalParams[2],\n",
    "    finalParams[3],\n",
    "    finalParams[4]\n",
    "])\n",
    "\n",
    "GP = vK2KGPR.vonKarman2KernelGPR(dC, curl=True)\n",
    "GP.fit(testParams)\n",
    "GP.predict(dC.Xvalid)\n",
    "xif, Xerr, Yerr, prs = GPRutils.getXi(dC.Xvalid, dC.Yvalid-dC.fbar_s)\n",
    "xiferr = np.sqrt(Xerr**2 + Yerr**2)\n",
    "printXi(dC)"
   ]
  },
  {
   "cell_type": "code",
   "execution_count": 7,
   "metadata": {},
   "outputs": [
    {
     "name": "stdout",
     "output_type": "stream",
     "text": [
      "oS: 0.000. LinAlgError\n",
      "oS: 0.048. xif: 55.400 ± 3.809 mas^2\n",
      "oS: 0.097. xif: 35.514 ± 2.821 mas^2\n",
      "oS: 0.145. xif: 21.782 ± 2.031 mas^2\n",
      "oS: 0.194. xif: 14.077 ± 1.618 mas^2\n",
      "oS: 0.242. xif: 10.358 ± 1.449 mas^2\n",
      "oS: 0.291. xif: 8.693 ± 1.384 mas^2\n",
      "oS: 0.339. xif: 7.962 ± 1.359 mas^2\n",
      "oS: 0.388. xif: 7.638 ± 1.348 mas^2\n",
      "oS: 0.436. xif: 7.491 ± 1.343 mas^2\n",
      "oS: 0.485. xif: 7.424 ± 1.340 mas^2\n",
      "oS: 0.533. xif: 7.392 ± 1.338 mas^2\n",
      "oS: 0.582. xif: 7.377 ± 1.337 mas^2\n",
      "oS: 0.630. xif: 7.371 ± 1.336 mas^2\n",
      "oS: 0.679. xif: 7.369 ± 1.336 mas^2\n",
      "oS: 0.727. xif: 7.368 ± 1.335 mas^2\n",
      "oS: 0.776. xif: 7.369 ± 1.335 mas^2\n",
      "oS: 0.824. xif: 7.370 ± 1.334 mas^2\n",
      "oS: 0.873. xif: 7.372 ± 1.334 mas^2\n",
      "oS: 0.921. xif: 7.374 ± 1.333 mas^2\n",
      "oS: 0.970. xif: 7.376 ± 1.333 mas^2\n",
      "oS: 1.018. xif: 7.378 ± 1.333 mas^2\n",
      "oS: 1.067. xif: 7.380 ± 1.333 mas^2\n",
      "oS: 1.115. xif: 7.382 ± 1.332 mas^2\n",
      "oS: 1.164. xif: 7.384 ± 1.332 mas^2\n"
     ]
    }
   ],
   "source": [
    "# Test OS effect on final params\n",
    "OS0 = fitCorrParams[1]\n",
    "OSf = finalParams[1]\n",
    "N = 25\n",
    "OSList = np.linspace(0, 2*OSf, N)\n",
    "paramList = np.array([finalParams]*N)\n",
    "paramList[:, 1] = OSList\n",
    "\n",
    "xiList= []\n",
    "xierrList = []\n",
    "for params in paramList:\n",
    "    GP = vK2KGPR.vonKarman2KernelGPR(dC, curl=True)\n",
    "    try:\n",
    "        GP.fit(params)\n",
    "        GP.predict(dC.Xvalid)\n",
    "    except np.linalg.LinAlgError:\n",
    "        xiList.append(0)\n",
    "        xierrList.append(0)\n",
    "        print(f\"oS: {params[1]:.3f}. LinAlgError\")\n",
    "        continue\n",
    "    xi, Xerr, Yerr, prs = GPRutils.getXi(dC.Xvalid, dC.Yvalid-dC.fbar_s)\n",
    "    xierr = np.sqrt(Xerr**2 + Yerr**2)\n",
    "    print(f\"oS: {params[1]:.3f}. xif: {xi:.3f} ± {xierr:.3f} mas^2\")\n",
    "\n",
    "    xiList.append(xi)\n",
    "    xierrList.append(xierr)"
   ]
  },
  {
   "cell_type": "code",
   "execution_count": 13,
   "metadata": {},
   "outputs": [
    {
     "data": {
      "text/plain": [
       "[<matplotlib.lines.Line2D at 0x7fa1e35bbba8>]"
      ]
     },
     "execution_count": 13,
     "metadata": {},
     "output_type": "execute_result"
    },
    {
     "data": {
      "image/png": "[encoded data removed]",
      "text/plain": [
       "<Figure size 432x432 with 1 Axes>"
      ]
     },
     "metadata": {
      "needs_background": "light"
     },
     "output_type": "display_data"
    }
   ],
   "source": [
    "plt.figure(figsize=(6, 6))\n",
    "plt.plot(OSList, xiList, \"k.\")\n",
    "plt.plot(finalParams[1], xif, \"rx\")\n",
    "plt.plot(OSList[np.argmin(xiList[1:])], np.min(xiList[1:]), \"bx\")"
   ]
  },
  {
   "cell_type": "code",
   "execution_count": 14,
   "metadata": {},
   "outputs": [
    {
     "name": "stdout",
     "output_type": "stream",
     "text": [
      "109.1565559    1.5349095      -0.0084507     0.0122671      -0.030748      \n",
      "xi0: 81.926 ± 4.118 mas^2\n",
      "xif: 8.157 ± 1.344 mas^2\n",
      "Reductin: 10.044\n",
      "\n"
     ]
    }
   ],
   "source": [
    "# Test fitCorr OS and K effect on final params\n",
    "testParams = np.array([\n",
    "    fitCorrParams[0],\n",
    "    fitCorrParams[1],\n",
    "    finalParams[2],\n",
    "    finalParams[3],\n",
    "    finalParams[4]\n",
    "])\n",
    "\n",
    "GP = vK2KGPR.vonKarman2KernelGPR(dC, curl=True)\n",
    "GP.fit(testParams)\n",
    "GP.predict(dC.Xvalid)\n",
    "xif, Xerr, Yerr, prs = GPRutils.getXi(dC.Xvalid, dC.Yvalid-dC.fbar_s)\n",
    "xiferr = np.sqrt(Xerr**2 + Yerr**2)\n",
    "printXi(dC)"
   ]
  },
  {
   "cell_type": "code",
   "execution_count": 16,
   "metadata": {},
   "outputs": [
    {
     "name": "stdout",
     "output_type": "stream",
     "text": [
      "109.1565559    1.5349095      -0.0061141     0.0122671      -0.030748      \n",
      "xi0: 81.926 ± 4.118 mas^2\n",
      "xif: 8.275 ± 1.348 mas^2\n",
      "Reduction: 9.901\n",
      "\n"
     ]
    }
   ],
   "source": [
    "# Test fitCorr OS, K, and d effect on final params\n",
    "testParams = np.array([\n",
    "    fitCorrParams[0],\n",
    "    fitCorrParams[1],\n",
    "    fitCorrParams[2],\n",
    "    finalParams[3],\n",
    "    finalParams[4]\n",
    "])\n",
    "\n",
    "GP = vK2KGPR.vonKarman2KernelGPR(dC, curl=True)\n",
    "GP.fit(testParams)\n",
    "GP.predict(dC.Xvalid)\n",
    "xif, Xerr, Yerr, prs = GPRutils.getXi(dC.Xvalid, dC.Yvalid-dC.fbar_s)\n",
    "xiferr = np.sqrt(Xerr**2 + Yerr**2)\n",
    "printXi(dC)"
   ]
  },
  {
   "cell_type": "code",
   "execution_count": 18,
   "metadata": {},
   "outputs": [
    {
     "data": {
      "text/plain": [
       "array([ 2.20750431e+02,  1.16350891e+00, -8.45066151e-03,  1.22671459e-02,\n",
       "       -3.07480046e-02])"
      ]
     },
     "execution_count": 18,
     "metadata": {},
     "output_type": "execute_result"
    }
   ],
   "source": [
    "params"
   ]
  },
  {
   "cell_type": "code",
   "execution_count": null,
   "metadata": {},
   "outputs": [],
   "source": []
  }
 ],
 "metadata": {
  "kernelspec": {
   "display_name": "Python 3",
   "language": "python",
   "name": "python3"
  },
  "language_info": {
   "codemirror_mode": {
    "name": "ipython",
    "version": 3
   },
   "file_extension": ".py",
   "mimetype": "text/x-python",
   "name": "python",
   "nbconvert_exporter": "python",
   "pygments_lexer": "ipython3",
   "version": "3.7.3"
  }
 },
 "nbformat": 4,
 "nbformat_minor": 4
}
