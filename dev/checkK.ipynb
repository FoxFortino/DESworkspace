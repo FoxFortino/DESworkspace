{
 "cells": [
  {
   "cell_type": "code",
   "execution_count": 1,
   "metadata": {},
   "outputs": [
    {
     "name": "stdout",
     "output_type": "stream",
     "text": [
      "Created TAP+ (v1.2.1) - Connection:\n",
      "\tHost: gea.esac.esa.int\n",
      "\tUse HTTPS: True\n",
      "\tPort: 443\n",
      "\tSSL Port: 443\n",
      "Created TAP+ (v1.2.1) - Connection:\n",
      "\tHost: geadata.esac.esa.int\n",
      "\tUse HTTPS: True\n",
      "\tPort: 443\n",
      "\tSSL Port: 443\n"
     ]
    }
   ],
   "source": [
    "import os\n",
    "import glob\n",
    "\n",
    "import GPRutils\n",
    "import DESutils\n",
    "import vK2KGPR\n",
    "\n",
    "import numpy as np\n",
    "import astropy.units as u\n",
    "import matplotlib.pyplot as plt\n",
    "\n",
    "import warnings\n",
    "warnings.filterwarnings(\"ignore\")\n",
    "\n",
    "exps = DESutils.findExpNums()\n",
    "gband = DESutils.bandDict[\"g\"]\n",
    "rband = DESutils.bandDict[\"r\"]\n",
    "iband = DESutils.bandDict[\"i\"]\n",
    "zband = DESutils.bandDict[\"z\"]"
   ]
  },
  {
   "cell_type": "code",
   "execution_count": 2,
   "metadata": {},
   "outputs": [],
   "source": [
    "expNum = exps[0]"
   ]
  },
  {
   "cell_type": "code",
   "execution_count": 3,
   "metadata": {},
   "outputs": [
    {
     "name": "stdout",
     "output_type": "stream",
     "text": [
      "Exposure: 348819\n",
      "Band: z\n",
      "Kernel Parameters from 2d Correlation Fitting\n",
      "K Variance     Outer Scale    Diameter       Wind X         Wind Y         \n",
      "109.1565559    1.5349095      -0.0061141     0.0890528      -0.0355237     \n",
      "\n",
      "Kernel Parameters from GPR Optimization\n",
      "K Variance     Outer Scale    Diameter       Wind X         Wind Y         \n",
      "220.7504306    0.5817545      -0.0084507     0.0122671      -0.030748      \n",
      "\n",
      "Jackknifed xi+ (Inter-set pairs excluded)\n",
      "xi0: 83.083 ± 1.693 mas^2\n",
      "xif: 5.641 ± 0.486 mas^2\n",
      "Reduction: 14.729\n",
      "\n"
     ]
    }
   ],
   "source": [
    "dC = GPRutils.loadFITS(f\"/home/fortino/GPRSolutions/simple/GPR.{expNum}.?RC.fits\")\n",
    "dC.summarize(noplots=True)\n",
    "\n",
    "fitCorrParams = dC.fitCorrParams.copy()\n",
    "finalParams = dC.params.copy()"
   ]
  },
  {
   "cell_type": "code",
   "execution_count": 4,
   "metadata": {},
   "outputs": [],
   "source": [
    "def printXi(dC):\n",
    "    GPRutils.printParams(dC.params)\n",
    "    xi0, Xerr, Yerr, prs = GPRutils.getXi(dC.Xvalid, dC.Yvalid)\n",
    "    xierr = np.sqrt(Xerr**2 + Yerr**2)\n",
    "    print(f\"xi0: {xi0:.3f} ± {xierr:.3f} mas^2\")\n",
    "    \n",
    "    xif, Xerr, Yerr, prs = GPRutils.getXi(dC.Xvalid, dC.Yvalid-dC.fbar_s)\n",
    "    xierr = np.sqrt(Xerr**2 + Yerr**2)\n",
    "    print(f\"xif: {xif:.3f} ± {xierr:.3f} mas^2\")\n",
    "    print(f\"Reductin: {xi0/xif:.3f}\")\n",
    "    print()"
   ]
  },
  {
   "cell_type": "code",
   "execution_count": 5,
   "metadata": {},
   "outputs": [
    {
     "name": "stdout",
     "output_type": "stream",
     "text": [
      "220.7504306    0.5817545      -0.0084507     0.0122671      -0.030748      \n",
      "xi0: 81.926 ± 4.118 mas^2\n",
      "xif: 7.377 ± 1.337 mas^2\n",
      "Reductin: 11.105\n",
      "\n"
     ]
    }
   ],
   "source": [
    "# Get xi for final params\n",
    "\n",
    "GP = vK2KGPR.vonKarman2KernelGPR(dC, curl=True)\n",
    "GP.fit(finalParams)\n",
    "GP.predict(dC.Xvalid)\n",
    "xif, Xerr, Yerr, prs = GPRutils.getXi(dC.Xvalid, dC.Yvalid-dC.fbar_s)\n",
    "xiferr = np.sqrt(Xerr**2 + Yerr**2)\n",
    "printXi(dC)"
   ]
  },
  {
   "cell_type": "code",
   "execution_count": 10,
   "metadata": {},
   "outputs": [
    {
     "name": "stdout",
     "output_type": "stream",
     "text": [
      "109.1565559    1.5349095      -0.0061141     0.0890528      -0.0355237     \n",
      "xi0: 81.926 ± 4.118 mas^2\n",
      "xif: 12.289 ± 1.523 mas^2\n",
      "Reductin: 6.667\n",
      "\n"
     ]
    }
   ],
   "source": [
    "# Get xi for fitCorr params\n",
    "\n",
    "GP = vK2KGPR.vonKarman2KernelGPR(dC, curl=True)\n",
    "GP.fit(fitCorrParams)\n",
    "GP.predict(dC.Xvalid)\n",
    "xif, Xerr, Yerr, prs = GPRutils.getXi(dC.Xvalid, dC.Yvalid-dC.fbar_s)\n",
    "xiferr = np.sqrt(Xerr**2 + Yerr**2)\n",
    "printXi(dC)"
   ]
  },
  {
   "cell_type": "code",
   "execution_count": 6,
   "metadata": {},
   "outputs": [
    {
     "name": "stdout",
     "output_type": "stream",
     "text": [
      "109.1565559    0.5817545      -0.0084507     0.0122671      -0.030748      \n",
      "xi0: 81.926 ± 4.118 mas^2\n",
      "xif: 8.032 ± 1.338 mas^2\n",
      "Reductin: 10.200\n",
      "\n"
     ]
    }
   ],
   "source": [
    "# Test fitCorr K effect on final params\n",
    "testParams = np.array([\n",
    "    fitCorrParams[0],\n",
    "    finalParams[1],\n",
    "    finalParams[2],\n",
    "    finalParams[3],\n",
    "    finalParams[4]\n",
    "])\n",
    "\n",
    "GP = vK2KGPR.vonKarman2KernelGPR(dC, curl=True)\n",
    "GP.fit(testParams)\n",
    "GP.predict(dC.Xvalid)\n",
    "xif, Xerr, Yerr, prs = GPRutils.getXi(dC.Xvalid, dC.Yvalid-dC.fbar_s)\n",
    "xiferr = np.sqrt(Xerr**2 + Yerr**2)\n",
    "printXi(dC)"
   ]
  },
  {
   "cell_type": "code",
   "execution_count": 8,
   "metadata": {},
   "outputs": [
    {
     "name": "stdout",
     "output_type": "stream",
     "text": [
      "K: 0.000. xif: 81.926 ± 4.118 mas^2\n",
      "K: 18.396. xif: 18.906 ± 1.707 mas^2\n",
      "K: 36.792. xif: 15.204 ± 1.599 mas^2\n",
      "K: 55.188. xif: 13.776 ± 1.559 mas^2\n",
      "K: 73.583. xif: 13.026 ± 1.539 mas^2\n",
      "K: 91.979. xif: 12.572 ± 1.528 mas^2\n",
      "K: 110.375. xif: 12.272 ± 1.522 mas^2\n",
      "K: 128.771. xif: 12.063 ± 1.519 mas^2\n",
      "K: 147.167. xif: 11.912 ± 1.518 mas^2\n",
      "K: 165.563. xif: 11.799 ± 1.517 mas^2\n",
      "K: 183.959. xif: 11.713 ± 1.518 mas^2\n",
      "K: 202.355. xif: 11.647 ± 1.519 mas^2\n",
      "K: 220.750. xif: 11.595 ± 1.520 mas^2\n",
      "K: 239.146. xif: 11.554 ± 1.522 mas^2\n",
      "K: 257.542. xif: 11.522 ± 1.523 mas^2\n",
      "K: 275.938. xif: 11.496 ± 1.525 mas^2\n",
      "K: 294.334. xif: 11.476 ± 1.527 mas^2\n",
      "K: 312.730. xif: 11.461 ± 1.529 mas^2\n",
      "K: 331.126. xif: 11.449 ± 1.531 mas^2\n",
      "K: 349.522. xif: 11.439 ± 1.533 mas^2\n",
      "K: 367.917. xif: 11.433 ± 1.535 mas^2\n",
      "K: 386.313. xif: 11.428 ± 1.538 mas^2\n",
      "K: 404.709. xif: 11.425 ± 1.540 mas^2\n",
      "K: 423.105. xif: 11.424 ± 1.542 mas^2\n",
      "K: 441.501. xif: 11.424 ± 1.544 mas^2\n"
     ]
    }
   ],
   "source": [
    "# Test K effect on fitCorr params\n",
    "K0 = fitCorrParams[0]\n",
    "Kf = finalParams[0]\n",
    "N = 25\n",
    "KList = np.linspace(0, 2*Kf, N)\n",
    "paramList = np.array([fitCorrParams]*N)\n",
    "paramList[:, 0] = KList\n",
    "\n",
    "xiList= []\n",
    "xierrList = []\n",
    "for params in paramList:\n",
    "    GP = vK2KGPR.vonKarman2KernelGPR(dC, curl=True)\n",
    "    try:\n",
    "        GP.fit(params)\n",
    "        GP.predict(dC.Xvalid)\n",
    "    except np.linalg.LinAlgError:\n",
    "        xiList.append(0)\n",
    "        xierrList.append(0)\n",
    "        print(f\"K: {params[0]:.3f}. LinAlgError\")\n",
    "        continue\n",
    "    xi, Xerr, Yerr, prs = GPRutils.getXi(dC.Xvalid, dC.Yvalid-dC.fbar_s)\n",
    "    xierr = np.sqrt(Xerr**2 + Yerr**2)\n",
    "    print(f\"K: {params[0]:.3f}. xif: {xi:.3f} ± {xierr:.3f} mas^2\")\n",
    "\n",
    "    xiList.append(xi)\n",
    "    xierrList.append(xierr)"
   ]
  },
  {
   "cell_type": "code",
   "execution_count": 9,
   "metadata": {},
   "outputs": [
    {
     "data": {
      "text/plain": [
       "[<matplotlib.lines.Line2D at 0x7fd0fcd3eb38>]"
      ]
     },
     "execution_count": 9,
     "metadata": {},
     "output_type": "execute_result"
    },
    {
     "data": {
      "image/png": "[encoded data removed]",
      "text/plain": [
       "<Figure size 432x432 with 1 Axes>"
      ]
     },
     "metadata": {
      "needs_background": "light"
     },
     "output_type": "display_data"
    }
   ],
   "source": [
    "plt.figure(figsize=(6, 6))\n",
    "plt.plot(KList, xiList, \"k.\")\n",
    "plt.plot(finalParams[1], xif, \"rx\")\n",
    "plt.plot(KList[np.argmin(xiList)], np.min(xiList), \"bx\")"
   ]
  },
  {
   "cell_type": "code",
   "execution_count": null,
   "metadata": {},
   "outputs": [],
   "source": [
    "# for params in paramList:\n",
    "#     GP = vK2KGPR.vonKarman2KernelGPR(dC, curl=True)\n",
    "#     dC.JackKnife(GP)\n",
    "#     xi0, xif = dC.JackKnifeXi()"
   ]
  },
  {
   "cell_type": "code",
   "execution_count": null,
   "metadata": {},
   "outputs": [],
   "source": []
  }
 ],
 "metadata": {
  "kernelspec": {
   "display_name": "Python 3",
   "language": "python",
   "name": "python3"
  },
  "language_info": {
   "codemirror_mode": {
    "name": "ipython",
    "version": 3
   },
   "file_extension": ".py",
   "mimetype": "text/x-python",
   "name": "python",
   "nbconvert_exporter": "python",
   "pygments_lexer": "ipython3",
   "version": "3.7.3"
  }
 },
 "nbformat": 4,
 "nbformat_minor": 4
}
