{
 "cells": [
  {
   "cell_type": "code",
   "execution_count": 3,
   "metadata": {},
   "outputs": [
    {
     "name": "stdout",
     "output_type": "stream",
     "text": [
      "Created TAP+ (v1.2.1) - Connection:\n",
      "\tHost: gea.esac.esa.int\n",
      "\tUse HTTPS: True\n",
      "\tPort: 443\n",
      "\tSSL Port: 443\n",
      "Created TAP+ (v1.2.1) - Connection:\n",
      "\tHost: geadata.esac.esa.int\n",
      "\tUse HTTPS: True\n",
      "\tPort: 443\n",
      "\tSSL Port: 443\n"
     ]
    }
   ],
   "source": [
    "import sys\n",
    "import os\n",
    "import shutil\n",
    "import glob\n",
    "import traceback\n",
    "import warnings\n",
    "warnings.filterwarnings(\"ignore\")\n",
    "\n",
    "import GPRutils\n",
    "import vK2KGPR\n",
    "import plotGPR\n",
    "import vonkarmanFT as vk\n",
    "\n",
    "import numpy as np\n",
    "import astropy.units as u\n",
    "\n",
    "import astropy.table as tb\n",
    "import matplotlib.pyplot as plt\n",
    "\n",
    "from astropy.modeling import models, fitting\n",
    "\n",
    "from importlib import reload"
   ]
  },
  {
   "cell_type": "code",
   "execution_count": 4,
   "metadata": {},
   "outputs": [
    {
     "data": {
      "text/plain": [
       "[361580,\n",
       " 367484,\n",
       " 369801,\n",
       " 474262,\n",
       " 474265,\n",
       " 484483,\n",
       " 576863,\n",
       " 579816,\n",
       " 696547,\n",
       " 791229,\n",
       " 791593,\n",
       " 791640]"
      ]
     },
     "execution_count": 4,
     "metadata": {},
     "output_type": "execute_result"
    }
   ],
   "source": [
    "gBand = sorted(np.array([\n",
    "    474262,\n",
    "    361580,\n",
    "    474265,\n",
    "    696547,\n",
    "    484483,\n",
    "    367484,\n",
    "    369801,\n",
    "    576863,\n",
    "    791229,\n",
    "    791593,\n",
    "    791640,\n",
    "    579816\n",
    "]))\n",
    "gBand"
   ]
  },
  {
   "cell_type": "code",
   "execution_count": 5,
   "metadata": {},
   "outputs": [
    {
     "name": "stdout",
     "output_type": "stream",
     "text": [
      "Exposure: 361580\n",
      "Band: g\n",
      "Number of objects: 113789\n",
      "INFO: Query finished. [astroquery.utils.tap.core]\n",
      "There were 12067 matches within 0.5 arcsec.\n"
     ]
    }
   ],
   "source": [
    "dataC = GPRutils.dataContainer()\n",
    "dataC.load(gBand[0], downselect=0.2, useRMS=True)"
   ]
  },
  {
   "cell_type": "code",
   "execution_count": 6,
   "metadata": {},
   "outputs": [
    {
     "data": {
      "text/plain": [
       "<module 'vK2KGPR' from '/home/fortino/DESworkspace/vK2KGPR.py'>"
      ]
     },
     "execution_count": 6,
     "metadata": {},
     "output_type": "execute_result"
    }
   ],
   "source": [
    "reload(GPRutils)\n",
    "reload(vK2KGPR)"
   ]
  },
  {
   "cell_type": "code",
   "execution_count": 7,
   "metadata": {},
   "outputs": [],
   "source": [
    "GP = vK2KGPR.vonKarman2KernelGPR(dataC, printing=True)\n",
    "dataC.fitCorrParams = np.array([-126.612853, 1.526458, 0.0611427, 0.0041458, 0.0928878])"
   ]
  },
  {
   "cell_type": "code",
   "execution_count": 8,
   "metadata": {},
   "outputs": [],
   "source": [
    "GP.fit(dataC.fitCorrParams)"
   ]
  },
  {
   "cell_type": "code",
   "execution_count": 9,
   "metadata": {},
   "outputs": [],
   "source": [
    "dataC.postFitCorr_sigmaClip(GP)"
   ]
  },
  {
   "cell_type": "code",
   "execution_count": null,
   "metadata": {},
   "outputs": [],
   "source": [
    "GP.optimize(v0=dataC.fitCorrParams)"
   ]
  },
  {
   "cell_type": "code",
   "execution_count": 13,
   "metadata": {},
   "outputs": [],
   "source": [
    "dataC.JackKnife(GP)"
   ]
  },
  {
   "cell_type": "code",
   "execution_count": 17,
   "metadata": {},
   "outputs": [],
   "source": [
    "dataC.saveFITS(\".\")"
   ]
  },
  {
   "cell_type": "code",
   "execution_count": 36,
   "metadata": {},
   "outputs": [],
   "source": [
    "reload(GPRutils)\n",
    "dC = GPRutils.loadFITS(\"../thesis/361580/DES361580_g.fits\")"
   ]
  },
  {
   "cell_type": "code",
   "execution_count": 37,
   "metadata": {},
   "outputs": [
    {
     "name": "stdout",
     "output_type": "stream",
     "text": [
      "Exposure: 361580\n",
      "Band: g\n",
      "Angle Averaged 2pt Correlation Function of Residual Field\n",
      "--All pairs with separations less than 0.02 degrees included in calculation.\n",
      "--All stars included according to maxDESErr and minDESErr\n",
      "    keyword arguments, as well as all stars that make it through\n",
      "    the first round of sigma clipping in the load method.\n",
      "xi = 134.277 ± 3.164 mas^2\n",
      "\n",
      "Kernel Parameters from 2d Correlation Fitting\n",
      "K Variance     Outer Scale    Diameter       Wind X         Wind Y         \n",
      "132.5047788    2.1517388      0.0159165      0.0069692      0.2088401      \n",
      "\n",
      "Kernel Parameters from GPR Optimization\n",
      "K Variance     Outer Scale    Diameter       Wind X         Wind Y         \n",
      "361.8140984    -0.0158836     0.166029       -0.0008799     0.0018358      \n",
      "\n",
      "Jackknifed xi+ (Inter-set pairs excluded)\n",
      "xi0: 138.661 ± 6.606 mas^2\n",
      "xif: 31.695 ± 5.847 mas^2\n",
      "Reduction: 4.375\n",
      "\n"
     ]
    }
   ],
   "source": [
    "dC.summarize()"
   ]
  },
  {
   "cell_type": "code",
   "execution_count": null,
   "metadata": {},
   "outputs": [],
   "source": []
  }
 ],
 "metadata": {
  "kernelspec": {
   "display_name": "Python 3",
   "language": "python",
   "name": "python3"
  },
  "language_info": {
   "codemirror_mode": {
    "name": "ipython",
    "version": 3
   },
   "file_extension": ".py",
   "mimetype": "text/x-python",
   "name": "python",
   "nbconvert_exporter": "python",
   "pygments_lexer": "ipython3",
   "version": "3.7.3"
  }
 },
 "nbformat": 4,
 "nbformat_minor": 4
}
