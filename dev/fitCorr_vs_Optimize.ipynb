{
 "cells": [
  {
   "cell_type": "code",
   "execution_count": 1,
   "metadata": {},
   "outputs": [
    {
     "name": "stdout",
     "output_type": "stream",
     "text": [
      "Created TAP+ (v1.2.1) - Connection:\n",
      "\tHost: gea.esac.esa.int\n",
      "\tUse HTTPS: True\n",
      "\tPort: 443\n",
      "\tSSL Port: 443\n",
      "Created TAP+ (v1.2.1) - Connection:\n",
      "\tHost: geadata.esac.esa.int\n",
      "\tUse HTTPS: True\n",
      "\tPort: 443\n",
      "\tSSL Port: 443\n"
     ]
    }
   ],
   "source": [
    "import os\n",
    "\n",
    "import GPRutils\n",
    "import DESutils\n",
    "import vK2KGPR\n",
    "\n",
    "import numpy as np\n",
    "\n",
    "import warnings\n",
    "warnings.filterwarnings(\"ignore\")"
   ]
  },
  {
   "cell_type": "markdown",
   "metadata": {},
   "source": [
    "Compare how well the model does with the fitCorr params vs with the final parameters from the GP optimization."
   ]
  },
  {
   "cell_type": "code",
   "execution_count": 2,
   "metadata": {},
   "outputs": [],
   "source": [
    "def compareParamsBeforeAfter(directory, expNum, useRMS, curl, file):\n",
    "    ext = \"\"\n",
    "    if useRMS:\n",
    "        ext += \"R\"\n",
    "    if curl:\n",
    "        ext += \"C\"\n",
    "    dataC = GPRutils.loadFITS(os.path.join(directory, f\"{expNum}\", f\"GPR.{expNum}.?{ext}.fits\"))\n",
    "    \n",
    "    dC1 = GPRutils.dataContainer()\n",
    "    dC1.load(expNum, useRMS=useRMS)\n",
    "    GP1 = vK2KGPR.vonKarman2KernelGPR(dC1, curl=curl, printing=True)\n",
    "    GP1.fit(dataC.fitCorrParams)\n",
    "    dC1.postFitCorr_sigmaClip(GP1)\n",
    "    dC1.JackKnife(GP1)\n",
    "\n",
    "    dC2 = GPRutils.dataContainer()\n",
    "    dC2.load(expNum, useRMS=useRMS)\n",
    "    GP2 = vK2KGPR.vonKarman2KernelGPR(dC2, curl=curl, printing=True)\n",
    "    GP2.fit(dataC.params)\n",
    "    dC2.postFitCorr_sigmaClip(GP2)\n",
    "    dC2.JackKnife(GP2)\n",
    "\n",
    "    line = \"----------fitCorr Params----------\"\n",
    "    xi0, xif = dC1.JackKnifeXi()\n",
    "    xi0, Xerr, Yerr = xi0\n",
    "    line += f\"\\nxi0: {xi0:.3f} ± {np.sqrt(Xerr**2 + Yerr**2):.3f} mas^2\"\n",
    "    xif, Xerr, Yerr = xif\n",
    "    line += f\"\\nxif: {xif:.3f} ± {np.sqrt(Xerr**2 + Yerr**2):.3f} mas^2\"\n",
    "    line += f\"\\nReduction: {xi0/xif:.3f}\\n\"\n",
    "    with open(file, mode=\"a+\") as f:\n",
    "        f.write(line)\n",
    "    GPRutils.printParams(dataC.fitCorrParams, header=True, file=file)\n",
    "    GPRutils.printParams(dataC.fitCorrParams, file=file)\n",
    "    \n",
    "    line = \"----------Optimize Params----------\"\n",
    "    xi0, xif = dC2.JackKnifeXi()\n",
    "    xi0, Xerr, Yerr = xi0\n",
    "    line += f\"\\nxi0: {xi0:.3f} ± {np.sqrt(Xerr**2 + Yerr**2):.3f} mas^2\"\n",
    "    xif, Xerr, Yerr = xif\n",
    "    line += f\"\\nxif: {xif:.3f} ± {np.sqrt(Xerr**2 + Yerr**2):.3f} mas^2\"\n",
    "    line += f\"\\nReduction: {xi0/xif:.3f}\\n\"\n",
    "    with open(file, mode=\"a+\") as f:\n",
    "        f.write(line)\n",
    "    GPRutils.printParams(dataC.params, header=True, file=file)\n",
    "    GPRutils.printParams(dataC.params, file=file)\n",
    "    with open(file, mode=\"a+\") as f:\n",
    "        f.write(\"\\n\\n\\n\")\n",
    "    \n",
    "exps = DESutils.findExpNums()"
   ]
  },
  {
   "cell_type": "code",
   "execution_count": null,
   "metadata": {},
   "outputs": [
    {
     "name": "stdout",
     "output_type": "stream",
     "text": [
      "Exposure: 348819\n",
      "Band: z\n",
      "Number of objects: 116592\n",
      "INFO: Query finished. [astroquery.utils.tap.core]\n",
      "There were 10207 matches within 0.5 arcsec.\n",
      "Exposure: 348819\n",
      "Band: z\n",
      "Number of objects: 116592\n",
      "INFO: Query finished. [astroquery.utils.tap.core]\n",
      "There were 10207 matches within 0.5 arcsec.\n",
      "K Variance     Outer Scale    Diameter       Wind X         Wind Y         \n",
      "109.1565559    1.5349095      -0.0061141     0.0890528      -0.0355237     \n",
      "K Variance     Outer Scale    Diameter       Wind X         Wind Y         \n",
      "124.0552915    2.0130231      -0.0090629     -0.0091152     -0.0138322     \n",
      "Exposure: 355303\n",
      "Band: z\n",
      "Number of objects: 107591\n",
      "INFO: Query finished. [astroquery.utils.tap.core]\n",
      "There were 11829 matches within 0.5 arcsec.\n",
      "Exposure: 355303\n",
      "Band: z\n",
      "Number of objects: 107591\n",
      "INFO: Query finished. [astroquery.utils.tap.core]\n",
      "There were 11829 matches within 0.5 arcsec.\n",
      "K Variance     Outer Scale    Diameter       Wind X         Wind Y         \n",
      "118.5280309    1.5684838      0.0192712      0.1188995      -0.1052292     \n",
      "K Variance     Outer Scale    Diameter       Wind X         Wind Y         \n",
      "47.8727402     2.7054339      0.0143327      0.0843192      -0.0834606     \n",
      "Exposure: 361577\n",
      "Band: r\n",
      "Number of objects: 130859\n",
      "INFO: Query finished. [astroquery.utils.tap.core]\n",
      "There were 11218 matches within 0.5 arcsec.\n",
      "Exposure: 361577\n",
      "Band: r\n",
      "Number of objects: 130859\n",
      "INFO: Query finished. [astroquery.utils.tap.core]\n",
      "There were 11218 matches within 0.5 arcsec.\n",
      "K Variance     Outer Scale    Diameter       Wind X         Wind Y         \n",
      "333.1964567    1.268003       0.0176018      -0.0159193     0.1369686      \n",
      "K Variance     Outer Scale    Diameter       Wind X         Wind Y         \n",
      "1947.8676466   0.8516766      0.0190496      -0.0176733     0.1746063      \n",
      "Exposure: 361580\n",
      "Band: g\n",
      "Number of objects: 113789\n",
      "INFO: Query finished. [astroquery.utils.tap.core]\n",
      "There were 12067 matches within 0.5 arcsec.\n",
      "Exposure: 361580\n",
      "Band: g\n",
      "Number of objects: 113789\n",
      "INFO: Query finished. [astroquery.utils.tap.core]\n",
      "There were 12067 matches within 0.5 arcsec.\n",
      "K Variance     Outer Scale    Diameter       Wind X         Wind Y         \n",
      "129.2500893    0.099968       0.2194539      0.0144594      0.2540325      \n",
      "K Variance     Outer Scale    Diameter       Wind X         Wind Y         \n",
      "162.5356088    4.88e-05       0.3043783      0.0195387      0.2696269      \n",
      "Exposure: 361582\n",
      "Band: i\n",
      "Number of objects: 138145\n",
      "INFO: Query finished. [astroquery.utils.tap.core]\n",
      "There were 10983 matches within 0.5 arcsec.\n",
      "Exposure: 361582\n",
      "Band: i\n",
      "Number of objects: 138145\n",
      "INFO: Query finished. [astroquery.utils.tap.core]\n",
      "There were 10983 matches within 0.5 arcsec.\n"
     ]
    }
   ],
   "source": [
    "directory = \"/home/fortino/test_N\"\n",
    "for exp in exps[:5]:\n",
    "    try:\n",
    "        compareParamsBeforeAfter(directory, exp, False, False, os.path.join(directory, \"Ncompare.out\"))\n",
    "    except np.linalg.LinAlgError:\n",
    "         continue"
   ]
  },
  {
   "cell_type": "code",
   "execution_count": null,
   "metadata": {},
   "outputs": [],
   "source": [
    "directory = \"/home/fortino/test_R\"\n",
    "for exp in exps[:5]:\n",
    "    try:\n",
    "        compareParamsBeforeAfter(directory, exp, True, False, os.path.join(directory, \"Rcompare.out\"))\n",
    "    except np.linalg.LinAlgError:\n",
    "         continue"
   ]
  },
  {
   "cell_type": "code",
   "execution_count": null,
   "metadata": {},
   "outputs": [],
   "source": [
    "directory = \"/home/fortino/test_R\"\n",
    "for exp in exps[:5]:\n",
    "    try:\n",
    "        compareParamsBeforeAfter(directory, exp, False, False, os.path.join(directory, \"Rcompare.out\"))\n",
    "    except np.linalg.LinAlgError:\n",
    "         continue"
   ]
  },
  {
   "cell_type": "code",
   "execution_count": null,
   "metadata": {},
   "outputs": [],
   "source": [
    "directory = \"/home/fortino/test_C\"\n",
    "for exp in exps[:5]:\n",
    "    try:\n",
    "        compareParamsBeforeAfter(directory, exp, False, True, os.path.join(directory, \"Ccompare.out\"))\n",
    "    except np.linalg.LinAlgError:\n",
    "         continue"
   ]
  },
  {
   "cell_type": "code",
   "execution_count": null,
   "metadata": {},
   "outputs": [],
   "source": [
    "directory = \"/home/fortino/test_RC\"\n",
    "for exp in exps[:5]:\n",
    "    try:\n",
    "        compareParamsBeforeAfter(directory, exp, True, True, os.path.join(directory, \"RCcompare.out\"))\n",
    "    except np.linalg.LinAlgError:\n",
    "         continue"
   ]
  },
  {
   "cell_type": "code",
   "execution_count": null,
   "metadata": {},
   "outputs": [],
   "source": []
  }
 ],
 "metadata": {
  "kernelspec": {
   "display_name": "Python 3",
   "language": "python",
   "name": "python3"
  },
  "language_info": {
   "codemirror_mode": {
    "name": "ipython",
    "version": 3
   },
   "file_extension": ".py",
   "mimetype": "text/x-python",
   "name": "python",
   "nbconvert_exporter": "python",
   "pygments_lexer": "ipython3",
   "version": "3.7.3"
  }
 },
 "nbformat": 4,
 "nbformat_minor": 4
}
