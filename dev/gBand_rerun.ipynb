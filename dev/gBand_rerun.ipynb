{
 "cells": [
  {
   "cell_type": "markdown",
   "metadata": {},
   "source": [
    "Rerun the g band exposures.\n",
    "\n",
    "Remove detections with estimated variance of greater than 1000 mas^2 and less than 100 mas^2. These detections seem to have mis-estimated error according to gBandTest.ipynb"
   ]
  },
  {
   "cell_type": "code",
   "execution_count": 1,
   "metadata": {},
   "outputs": [
    {
     "name": "stdout",
     "output_type": "stream",
     "text": [
      "Created TAP+ (v1.2.1) - Connection:\n",
      "\tHost: gea.esac.esa.int\n",
      "\tUse HTTPS: True\n",
      "\tPort: 443\n",
      "\tSSL Port: 443\n",
      "Created TAP+ (v1.2.1) - Connection:\n",
      "\tHost: geadata.esac.esa.int\n",
      "\tUse HTTPS: True\n",
      "\tPort: 443\n",
      "\tSSL Port: 443\n"
     ]
    }
   ],
   "source": [
    "import sys\n",
    "import os\n",
    "import shutil\n",
    "import glob\n",
    "import traceback\n",
    "import warnings\n",
    "warnings.filterwarnings(\"ignore\")\n",
    "\n",
    "import GPRutils\n",
    "import vK2KGPR\n",
    "import plotGPR\n",
    "import vonkarmanFT as vk\n",
    "\n",
    "import numpy as np\n",
    "import astropy.units as u\n",
    "import matplotlib.pyplot as plt\n",
    "\n",
    "from astropy.modeling import models, fitting\n",
    "\n",
    "from importlib import reload"
   ]
  },
  {
   "cell_type": "code",
   "execution_count": 2,
   "metadata": {},
   "outputs": [
    {
     "data": {
      "text/plain": [
       "[361580,\n",
       " 367484,\n",
       " 369801,\n",
       " 474262,\n",
       " 474265,\n",
       " 484483,\n",
       " 576863,\n",
       " 579816,\n",
       " 696547,\n",
       " 791229,\n",
       " 791593,\n",
       " 791640]"
      ]
     },
     "execution_count": 2,
     "metadata": {},
     "output_type": "execute_result"
    }
   ],
   "source": [
    "gBand = sorted(np.array([\n",
    "    474262,\n",
    "    361580,\n",
    "    474265,\n",
    "    696547,\n",
    "    484483,\n",
    "    367484,\n",
    "    369801,\n",
    "    576863,\n",
    "    791229,\n",
    "    791593,\n",
    "    791640,\n",
    "    579816\n",
    "]))\n",
    "gBand"
   ]
  },
  {
   "cell_type": "code",
   "execution_count": null,
   "metadata": {},
   "outputs": [],
   "source": [
    "for expNum in gBand[:3]:\n",
    "    \n",
    "    expFile = os.path.join(\"/home/fortino/gBand_useRMS\", str(expNum))\n",
    "    try:\n",
    "        os.mkdir(expFile)\n",
    "    except FileExistsError:\n",
    "        shutil.rmtree(expFile)\n",
    "        os.mkdir(expFile)\n",
    "\n",
    "    sys.stderr = open(os.path.join(expFile, \"err.err\"), \"a+\")\n",
    "    sys.stdout = open(os.path.join(expFile, \"out.out\"), \"a+\")\n",
    "    \n",
    "    try:\n",
    "        dataC = GPRutils.dataContainer()\n",
    "\n",
    "        dataC.load(expNum, downselect=0.5, useRMS=True)\n",
    "\n",
    "        GP = vK2KGPR.vonKarman2KernelGPR(dataC, printing=True, outDir=expFile)\n",
    "        GP.fitCorr()\n",
    "        GP.fit(dataC.fitCorrParams)\n",
    "        dataC.postFitCorr_sigmaClip(GP)\n",
    "        GP.optimize(v0=dataC.fitCorrParams)\n",
    "        dataC.JackKnife(GP)\n",
    "        dataC.saveFITS(expFile)\n",
    "    except:\n",
    "        traceback.print_exc()"
   ]
  },
  {
   "cell_type": "code",
   "execution_count": null,
   "metadata": {},
   "outputs": [],
   "source": [
    "# for expNum in gBand[:3]:\n",
    "    \n",
    "#     expFile = os.path.join(\"/home/fortino/gBand_useCov\", str(expNum))\n",
    "#     try:\n",
    "#         os.mkdir(expFile)\n",
    "#     except FileExistsError:\n",
    "#         shutil.rmtree(expFile)\n",
    "#         os.mkdir(expFile)\n",
    "\n",
    "#     sys.stderr = open(os.path.join(expFile, \"err.err\"), \"a+\")\n",
    "#     sys.stdout = open(os.path.join(expFile, \"out.out\"), \"a+\")\n",
    "    \n",
    "#     try:\n",
    "#         dataC = GPRutils.dataContainer()\n",
    "\n",
    "#         dataC.load(expNum, downselect=0.5, useRMS=True, useCov=True)\n",
    "\n",
    "#         GP = vK2KGPR.vonKarman2KernelGPR(dataC, printing=True, outDir=expFile)\n",
    "#         GP.fitCorr()\n",
    "#         GP.fit(dataC.fitCorrParams)\n",
    "#         dataC.postFitCorr_sigmaClip(GP)\n",
    "#         GP.optimize(v0=dataC.fitCorrParams)\n",
    "#         dataC.JackKnife(GP)\n",
    "#         dataC.saveFITS(expFile)\n",
    "#     except:\n",
    "#         traceback.print_exc()"
   ]
  },
  {
   "cell_type": "code",
   "execution_count": null,
   "metadata": {},
   "outputs": [],
   "source": [
    "for expNum in gBand[:3]:\n",
    "    \n",
    "    expFile = os.path.join(\"/home/fortino/gBand_minmaxErr\", str(expNum))\n",
    "    try:\n",
    "        os.mkdir(expFile)\n",
    "    except FileExistsError:\n",
    "        shutil.rmtree(expFile)\n",
    "        os.mkdir(expFile)\n",
    "\n",
    "    sys.stderr = open(os.path.join(expFile, \"err.err\"), \"a+\")\n",
    "    sys.stdout = open(os.path.join(expFile, \"out.out\"), \"a+\")\n",
    "    \n",
    "    try:\n",
    "        dataC = GPRutils.dataContainer()\n",
    "\n",
    "        dataC.load(expNum, downselect=0.5, minDESErr=1*u.mas**2, maxDESErr=1000*u.mas**2)\n",
    "\n",
    "        GP = vK2KGPR.vonKarman2KernelGPR(dataC, printing=True, outDir=expFile)\n",
    "        GP.fitCorr()\n",
    "        GP.fit(dataC.fitCorrParams)\n",
    "        dataC.postFitCorr_sigmaClip(GP)\n",
    "        GP.optimize(v0=dataC.fitCorrParams)\n",
    "        dataC.JackKnife(GP)\n",
    "        dataC.saveFITS(expFile)\n",
    "    except:\n",
    "        traceback.print_exc()"
   ]
  }
 ],
 "metadata": {
  "kernelspec": {
   "display_name": "Python 3",
   "language": "python",
   "name": "python3"
  },
  "language_info": {
   "codemirror_mode": {
    "name": "ipython",
    "version": 3
   },
   "file_extension": ".py",
   "mimetype": "text/x-python",
   "name": "python",
   "nbconvert_exporter": "python",
   "pygments_lexer": "ipython3",
   "version": "3.7.3"
  }
 },
 "nbformat": 4,
 "nbformat_minor": 4
}
