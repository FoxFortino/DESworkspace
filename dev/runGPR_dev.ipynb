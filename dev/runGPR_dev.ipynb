{
 "cells": [
  {
   "cell_type": "code",
   "execution_count": 22,
   "metadata": {},
   "outputs": [],
   "source": [
    "import os\n",
    "import glob\n",
    "import time\n",
    "\n",
    "import GPRutils\n",
    "import DESutils\n",
    "import vK2KGPR\n",
    "import vonkarmanFT as vk\n",
    "\n",
    "import scipy.linalg\n",
    "import numpy as np\n",
    "import astropy.units as u\n",
    "import matplotlib.pyplot as plt\n",
    "import scipy.optimize as opt\n",
    "\n",
    "import warnings\n",
    "warnings.filterwarnings(\"ignore\")\n",
    "\n",
    "from importlib import reload\n",
    "\n",
    "exps = DESutils.findExpNums()\n",
    "gband = DESutils.bandDict[\"g\"]\n",
    "rband = DESutils.bandDict[\"r\"]\n",
    "iband = DESutils.bandDict[\"i\"]\n",
    "zband = DESutils.bandDict[\"z\"]"
   ]
  },
  {
   "cell_type": "code",
   "execution_count": 29,
   "metadata": {},
   "outputs": [],
   "source": [
    "expNum = zband[0]\n",
    "expFile = \"/home/fortino/GPRSolutions\"\n",
    "useRMS = True\n",
    "curl = False\n",
    "downselect = 1\n",
    "minDESErr = -np.inf\n",
    "maxDESErr = np.inf\n",
    "vSet = \"Subset A\"\n",
    "dualOpt = True\n",
    "altOpt = False"
   ]
  },
  {
   "cell_type": "code",
   "execution_count": 30,
   "metadata": {},
   "outputs": [
    {
     "name": "stdout",
     "output_type": "stream",
     "text": [
      "Exposure: 348819\n",
      "Band: z\n",
      "Number of objects: 116592\n",
      "INFO: Query finished. [astroquery.utils.tap.core]\n",
      "There were 10207 matches within 0.5 arcsec.\n"
     ]
    }
   ],
   "source": [
    "reload(GPRutils)\n",
    "t0 = time.time()*u.s\n",
    "dataC = GPRutils.dataContainer()\n",
    "dataC.load(expNum, downselect=downselect, minDESErr=minDESErr*u.mas**2, maxDESErr=maxDESErr*u.mas**2, useRMS=useRMS, vSet=vSet)\n",
    "t1 = time.time()*u.s"
   ]
  },
  {
   "cell_type": "code",
   "execution_count": 31,
   "metadata": {},
   "outputs": [],
   "source": [
    "reload(vK2KGPR)\n",
    "GP = vK2KGPR.vonKarman2KernelGPR(dataC, printing=True, outDir=expFile, curl=curl)\n",
    "# GP.fitCorr()\n",
    "dataC.fitCorrParams = np.array([\n",
    "    109.1565559,\n",
    "    1.5349095,\n",
    "    -0.0061141,\n",
    "    0.0890528,\n",
    "    -0.0355237  \n",
    "])\n",
    "t2 = time.time()*u.s"
   ]
  },
  {
   "cell_type": "code",
   "execution_count": 32,
   "metadata": {},
   "outputs": [],
   "source": [
    "params = dataC.fitCorrParams"
   ]
  },
  {
   "cell_type": "code",
   "execution_count": 38,
   "metadata": {},
   "outputs": [
    {
     "name": "stdout",
     "output_type": "stream",
     "text": [
      "10.1 s ± 18.7 ms per loop (mean ± std. dev. of 7 runs, 1 loop each)\n"
     ]
    }
   ],
   "source": [
    "%%timeit\n",
    "# Initialize a von Karman TurbulentLayer object. This is the object\n",
    "# that you can use to input a set of parameters and get out a\n",
    "# covariance function (the kernel function).\n",
    "GP.ttt = vk.TurbulentLayer(\n",
    "    variance=params[0],\n",
    "    outerScale=params[1],\n",
    "    diameter=params[2],\n",
    "    wind=(params[3], params[4]))"
   ]
  },
  {
   "cell_type": "code",
   "execution_count": 40,
   "metadata": {},
   "outputs": [
    {
     "name": "stdout",
     "output_type": "stream",
     "text": [
      "47.9 s ± 177 ms per loop (mean ± std. dev. of 7 runs, 1 loop each)\n"
     ]
    }
   ],
   "source": [
    "%%timeit\n",
    "# Calculate the covariance function of the von Karman model on this\n",
    "# grid of points. This grid will represent all pairs of points within\n",
    "# the training set.\n",
    "du, dv = GPRutils.getGrid(GP.dC.Xtrain, GP.dC.Xtrain)\n",
    "C = GP.ttt.getCuv(du, dv)"
   ]
  },
  {
   "cell_type": "code",
   "execution_count": 41,
   "metadata": {},
   "outputs": [
    {
     "name": "stdout",
     "output_type": "stream",
     "text": [
      "1.84 s ± 4.03 ms per loop (mean ± std. dev. of 7 runs, 1 loop each)\n"
     ]
    }
   ],
   "source": [
    "%%timeit\n",
    "# Reshape the covariance matrix from (N, N, 2, 2) to (2N, 2N).\n",
    "n1, n2 = C.shape[0], C.shape[1]\n",
    "K = np.swapaxes(C, 1, 2).reshape(2*n1, 2*n2)"
   ]
  },
  {
   "cell_type": "code",
   "execution_count": 42,
   "metadata": {},
   "outputs": [
    {
     "name": "stdout",
     "output_type": "stream",
     "text": [
      "4.34 s ± 55.5 ms per loop (mean ± std. dev. of 7 runs, 1 loop each)\n"
     ]
    }
   ],
   "source": [
    "%%timeit\n",
    "# Calculate the White kernels.\n",
    "W_GAIA, W_DES = GPRutils.makeW(\n",
    "    GP.dC.Etrain_GAIA, GP.dC.Etrain_DES,\n",
    "    useRMS=GP.dC.useRMS, curl=True)"
   ]
  },
  {
   "cell_type": "code",
   "execution_count": 35,
   "metadata": {},
   "outputs": [
    {
     "name": "stdout",
     "output_type": "stream",
     "text": [
      "1min 20s ± 1.57 s per loop (mean ± std. dev. of 7 runs, 1 loop each)\n"
     ]
    }
   ],
   "source": [
    "%%timeit\n",
    "L = np.linalg.cholesky(K + W_GAIA + W_DES)\n",
    "\n",
    "alpha = np.linalg.solve(L, GPRutils.flat(GP.dC.Ytrain))\n",
    "alpha = np.linalg.solve(L.T, alpha)"
   ]
  },
  {
   "cell_type": "code",
   "execution_count": 36,
   "metadata": {},
   "outputs": [
    {
     "name": "stdout",
     "output_type": "stream",
     "text": [
      "26 s ± 449 ms per loop (mean ± std. dev. of 7 runs, 1 loop each)\n"
     ]
    }
   ],
   "source": [
    "%%timeit\n",
    "# Try using cho_factor and cho_solve.\n",
    "cho_factor = scipy.linalg.cho_factor(K + W_GAIA + W_DES)\n",
    "alphanew = scipy.linalg.cho_solve(cho_factor, GPRutils.flat(GP.dC.Ytrain))"
   ]
  },
  {
   "cell_type": "code",
   "execution_count": 37,
   "metadata": {},
   "outputs": [
    {
     "data": {
      "text/plain": [
       "True"
      ]
     },
     "execution_count": 37,
     "metadata": {},
     "output_type": "execute_result"
    }
   ],
   "source": [
    "np.all(np.isclose(alpha, alphanew))"
   ]
  },
  {
   "cell_type": "code",
   "execution_count": null,
   "metadata": {},
   "outputs": [],
   "source": [
    "dataC.JackKnife(GP, dataC.fitCorrParams, fC=True)\n",
    "t3 = time.time()*u.s"
   ]
  },
  {
   "cell_type": "code",
   "execution_count": null,
   "metadata": {},
   "outputs": [],
   "source": [
    "# Wrapper function for keeping K and OS the same while leaving d, Wx, and Wy available as inputs.\n",
    "# K and OS will be the fitCorr params.\n",
    "FoM = lambda p: GP.figureOfMerit(np.array([*dataC.fitCorrParams[:2], *p]))\n",
    "\n",
    "# Initial guess will be d, Wx, and Wy from fitCorr.\n",
    "v0 = dataC.fitCorrParams[2:]\n",
    "\n",
    "# Call the GP optimize method with the different figure of merit function\n",
    "GP.optimize(v0=v0, func=FoM, ftol=0.05, maxfun=50)\n",
    "d_Wx_Wy = GP.opt_result_GP[0].copy()"
   ]
  },
  {
   "cell_type": "code",
   "execution_count": null,
   "metadata": {},
   "outputs": [],
   "source": [
    "# Wrapper function for keeping d, Wx, and Wy the same while leaving K and OS available as inputs.\n",
    "# d, Wx, and Wy will be the values from the first stage of optimization.\n",
    "FoM = lambda p: GP.figureOfMerit(np.array([*p, *d_Wx_Wy]))\n",
    "\n",
    "# Initial guess will be K and OS from fitCorr.\n",
    "v0 = dataC.fitCorrParams[:2]\n",
    "\n",
    "# Call the GP optimize method with the different figure of merit function\n",
    "GP.optimize(v0=v0, func=FoM, ftol=0.05, maxfun=50)\n",
    "K_oS = GP.opt_result_GP[0].copy()\n",
    "\n",
    "dataC.params = np.array([*K_oS, *d_Wx_Wy])"
   ]
  },
  {
   "cell_type": "code",
   "execution_count": null,
   "metadata": {},
   "outputs": [],
   "source": [
    "dataC.JackKnife(GP, dataC.params)\n",
    "t5 = time.time()*u.s"
   ]
  },
  {
   "cell_type": "code",
   "execution_count": null,
   "metadata": {},
   "outputs": [],
   "source": [
    "dataC.saveFITS(expFile)\n",
    "tf = time.time()*u.s"
   ]
  },
  {
   "cell_type": "code",
   "execution_count": null,
   "metadata": {},
   "outputs": [],
   "source": [
    "total_time = tf - t0\n",
    "load_time = t1 - t0\n",
    "fC_time = t2 - t1\n",
    "fC_jackknife_time = t3 - t2\n",
    "opt_time = t5 - t4\n",
    "opt_jackknife_time = t6 - t7\n",
    "\n",
    "with open(GP.paramFile, mode=\"a+\") as file:\n",
    "    file.write(f\"Total Time                          : {total_time.to(u.hr):.3f}\")\n",
    "    file.write(f\"Load Time                           : {load_time.to(u.min):.3f}\")\n",
    "    file.write(f\"Correlation Fitting Time            : {fC_time.to(u.min):.3f}\")\n",
    "    file.write(f\"Correlating Fitting Jackknife Time  : {fC_jackknife_time.to(u.min):.3f}\")\n",
    "    file.write(f\"Optimization Time                   : {opt_time.to(u.hr):.3f}\")\n",
    "    file.write(f\"Optimization Jackknife Time         : {opt_jackknife_time.to(u.min):.3f}\")"
   ]
  }
 ],
 "metadata": {
  "kernelspec": {
   "display_name": "Python 3",
   "language": "python",
   "name": "python3"
  },
  "language_info": {
   "codemirror_mode": {
    "name": "ipython",
    "version": 3
   },
   "file_extension": ".py",
   "mimetype": "text/x-python",
   "name": "python",
   "nbconvert_exporter": "python",
   "pygments_lexer": "ipython3",
   "version": "3.7.3"
  }
 },
 "nbformat": 4,
 "nbformat_minor": 4
}
