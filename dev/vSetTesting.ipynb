{
 "cells": [
  {
   "cell_type": "code",
   "execution_count": 1,
   "metadata": {},
   "outputs": [
    {
     "name": "stdout",
     "output_type": "stream",
     "text": [
      "Created TAP+ (v1.2.1) - Connection:\n",
      "\tHost: gea.esac.esa.int\n",
      "\tUse HTTPS: True\n",
      "\tPort: 443\n",
      "\tSSL Port: 443\n",
      "Created TAP+ (v1.2.1) - Connection:\n",
      "\tHost: geadata.esac.esa.int\n",
      "\tUse HTTPS: True\n",
      "\tPort: 443\n",
      "\tSSL Port: 443\n"
     ]
    }
   ],
   "source": [
    "import GPRutils\n",
    "import DESutils\n",
    "import vK2KGPR\n",
    "\n",
    "import numpy as np\n",
    "\n",
    "import warnings\n",
    "warnings.filterwarnings(\"ignore\")"
   ]
  },
  {
   "cell_type": "markdown",
   "metadata": {},
   "source": [
    "This script compares the final xi_0.02 reduction between 5 different methods where each thing is the same except the vSet. The aim of this is to get a feel for how different the xi reduction could be based on a different vSet."
   ]
  },
  {
   "cell_type": "code",
   "execution_count": 2,
   "metadata": {},
   "outputs": [
    {
     "name": "stdout",
     "output_type": "stream",
     "text": [
      "348819, z\n",
      "Subset         xi0            xif            Reduction      K Variance     Outer Scale    Diameter       Wind X         Wind Y         \n",
      "SubsetA        83.03 ± 1.69   6.92 ± 0.51    12.01          394.0468822    0.6892833      0.0164337      0.0033909      0.0150839      \n",
      "SubsetB        83.14 ± 1.70   6.27 ± 0.51    13.27          343.5696686    2.0847728      0.0140524      0.0225401      0.0766756      \n",
      "SubsetC        82.74 ± 1.70   8.37 ± 0.58    9.89           230.4135755    0.0997051      0.2147944      0.007314       0.0190643      \n",
      "SubsetD        83.10 ± 1.69   6.60 ± 0.51    12.60          241.6606293    0.6584053      0.032042       0.0206944      0.0768055      \n",
      "SubsetE        82.83 ± 1.70   6.31 ± 0.52    13.14          195.2661154    0.9888955      0.0283501      0.0083721      0.0344247      \n",
      "\n",
      "355303, z\n",
      "Subset         xi0            xif            Reduction      K Variance     Outer Scale    Diameter       Wind X         Wind Y         \n",
      "SubsetA        101.47 ± 2.28  7.31 ± 1.13    13.88          397.3360274    0.4684909      0.0211201      0.1071094      0.1441368      \n",
      "SubsetB        101.00 ± 2.28  7.24 ± 1.15    13.96          420.7975186    1.974405       0.0074721      0.0797749      0.0896129      \n",
      "SubsetC        102.19 ± 2.31  8.81 ± 1.21    11.60          234.1082101    0.0116917      0.2146794      0.1073967      0.155557       \n",
      "SubsetD        101.79 ± 2.29  7.67 ± 1.20    13.27          595.5735556    0.3205352      0.0026113      0.1335835      0.1973946      \n",
      "SubsetE        101.70 ± 2.31  8.54 ± 1.18    11.91          235.2285421    0.0287541      0.5230361      0.1166054      0.1973753      \n",
      "\n",
      "361580, g\n",
      "Subset         xi0            xif            Reduction      K Variance     Outer Scale    Diameter       Wind X         Wind Y         \n",
      "SubsetA        133.78 ± 6.62  34.37 ± 5.65   3.89           554.1683547    0.0220344      0.3007051      0.0179597      0.2461412      \n",
      "SubsetB        136.11 ± 6.58  24.23 ± 5.44   5.62           109.3081619    0.4254294      0.0451962      0.0149477      0.0118204      \n",
      "SubsetC        136.54 ± 6.58  20.11 ± 5.40   6.79           113.1434267    1.0196995      0.015833       0.1057533      0.0258086      \n",
      "SubsetD        137.84 ± 6.73  24.00 ± 5.57   5.74           281.8399994    0.7095426      0.0137063      0.0191977      0.0124637      \n",
      "SubsetE        134.75 ± 6.56  18.08 ± 5.35   7.45           97.9738259     0.3551296      0.0321222      0.1347678      0.0230723      \n",
      "\n"
     ]
    }
   ],
   "source": [
    "exps = DESutils.findExpNums()\n",
    "for expNum in [348819, 355303, 361580]:\n",
    "    dataContainers = {\n",
    "        \"SubsetA\": GPRutils.loadFITS(f\"/home/fortino/vSetTesting/SubsetA/GPR.{expNum}.*.fits\"),\n",
    "        \"SubsetB\": GPRutils.loadFITS(f\"/home/fortino/vSetTesting/SubsetB/GPR.{expNum}.*.fits\"),\n",
    "        \"SubsetC\": GPRutils.loadFITS(f\"/home/fortino/vSetTesting/SubsetC/GPR.{expNum}.*.fits\"),\n",
    "        \"SubsetD\": GPRutils.loadFITS(f\"/home/fortino/vSetTesting/SubsetD/GPR.{expNum}.*.fits\"),\n",
    "        \"SubsetE\": GPRutils.loadFITS(f\"/home/fortino/vSetTesting/SubsetE/GPR.{expNum}.*.fits\")\n",
    "    }\n",
    "\n",
    "    print(f\"{expNum}, {dataContainers['SubsetA'].band}\")\n",
    "    names = [\"Subset\", \"xi0\", \"xif\", \"Reduction\", \"K Variance\", \"Outer Scale\", \"Diameter\", \"Wind X\", \"Wind Y\"]\n",
    "    header = \"\".join([f\"{name:<15}\" for name in names])\n",
    "    print(header)\n",
    "    for method, dC in dataContainers.items():\n",
    "        vals = [method]\n",
    "        \n",
    "        xi0 = dC.header[\"xi0\"]\n",
    "        Xerr = dC.header[\"xi0_Xerr\"]\n",
    "        Yerr = dC.header[\"xi0_Yerr\"]\n",
    "        xi0err = np.sqrt(Xerr**2 + Yerr**2)\n",
    "        vals.append(f\"{xi0:.2f} ± {xi0err:.2f}\")\n",
    "        \n",
    "        xif = dC.header[\"xif\"]\n",
    "        Xerr = dC.header[\"xif_Xerr\"]\n",
    "        Yerr = dC.header[\"xif_Yerr\"]\n",
    "        xiferr = np.sqrt(Xerr**2 + Yerr**2)\n",
    "        vals.append(f\"{xif:.2f} ± {xiferr:.2f}\")\n",
    "        \n",
    "        vals.append(f\"{xi0/xif:.2f}\")\n",
    "        \n",
    "        vals.extend(np.abs(np.around(dC.params, 7)))\n",
    "\n",
    "        line = \"\".join([f\"{param:<15}\" for param in vals])\n",
    "        print(line)\n",
    "    print()"
   ]
  },
  {
   "cell_type": "code",
   "execution_count": null,
   "metadata": {},
   "outputs": [],
   "source": []
  }
 ],
 "metadata": {
  "kernelspec": {
   "display_name": "Python 3",
   "language": "python",
   "name": "python3"
  },
  "language_info": {
   "codemirror_mode": {
    "name": "ipython",
    "version": 3
   },
   "file_extension": ".py",
   "mimetype": "text/x-python",
   "name": "python",
   "nbconvert_exporter": "python",
   "pygments_lexer": "ipython3",
   "version": "3.7.3"
  }
 },
 "nbformat": 4,
 "nbformat_minor": 4
}
