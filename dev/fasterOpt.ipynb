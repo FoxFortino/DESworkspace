{
 "cells": [
  {
   "cell_type": "code",
   "execution_count": 16,
   "metadata": {},
   "outputs": [],
   "source": [
    "import os\n",
    "import glob\n",
    "\n",
    "import GPRutils\n",
    "import DESutils\n",
    "import vK2KGPR\n",
    "\n",
    "import numpy as np\n",
    "import astropy.units as u\n",
    "import matplotlib.pyplot as plt\n",
    "\n",
    "from importlib import reload\n",
    "reload(GPRutils)\n",
    "reload(vK2KGPR)\n",
    "\n",
    "import warnings\n",
    "warnings.filterwarnings(\"ignore\")\n",
    "\n",
    "exps = DESutils.findExpNums()\n",
    "gband = DESutils.bandDict[\"g\"]\n",
    "rband = DESutils.bandDict[\"r\"]\n",
    "iband = DESutils.bandDict[\"i\"]\n",
    "zband = DESutils.bandDict[\"z\"]"
   ]
  },
  {
   "cell_type": "code",
   "execution_count": 2,
   "metadata": {},
   "outputs": [],
   "source": [
    "def printXi(dC):\n",
    "    GPRutils.printParams(dC.params)\n",
    "    xi0, Xerr, Yerr, prs = GPRutils.getXi(dC.Xvalid, dC.Yvalid)\n",
    "    xierr = np.sqrt(Xerr**2 + Yerr**2)\n",
    "    print(f\"xi0: {xi0:.3f} ± {xierr:.3f} mas^2\")\n",
    "    \n",
    "    xif, Xerr, Yerr, prs = GPRutils.getXi(dC.Xvalid, dC.Yvalid-dC.fbar_s)\n",
    "    xierr = np.sqrt(Xerr**2 + Yerr**2)\n",
    "    print(f\"xif: {xif:.3f} ± {xierr:.3f} mas^2\")\n",
    "    print(f\"Reduction: {xi0/xif:.3f}\")\n",
    "    print()"
   ]
  },
  {
   "cell_type": "code",
   "execution_count": 3,
   "metadata": {},
   "outputs": [],
   "source": [
    "expNum = exps[0]"
   ]
  },
  {
   "cell_type": "code",
   "execution_count": 4,
   "metadata": {},
   "outputs": [
    {
     "name": "stdout",
     "output_type": "stream",
     "text": [
      "Exposure: 348819\n",
      "Band: z\n",
      "Kernel Parameters from 2d Correlation Fitting\n",
      "K Variance     Outer Scale    Diameter       Wind X         Wind Y         \n",
      "109.1565559    1.5349095      -0.0061141     0.0890528      -0.0355237     \n",
      "\n",
      "Kernel Parameters from GPR Optimization\n",
      "K Variance     Outer Scale    Diameter       Wind X         Wind Y         \n",
      "124.0552915    2.0130231      -0.0090629     -0.0091152     -0.0138322     \n",
      "\n",
      "Jackknifed xi+ (Inter-set pairs excluded)\n",
      "xi0: 83.406 ± 1.692 mas^2\n",
      "xif: 5.783 ± 0.488 mas^2\n",
      "Reduction: 14.424\n",
      "\n"
     ]
    }
   ],
   "source": [
    "dC = GPRutils.loadFITS(f\"/home/fortino/GPRSolutions/simple/GPR.{expNum}.?.fits\")\n",
    "dC.summarize(noplots=True)\n",
    "\n",
    "fitCorrParams = dC.fitCorrParams.copy()\n",
    "finalParams = dC.params.copy()"
   ]
  },
  {
   "cell_type": "code",
   "execution_count": 17,
   "metadata": {},
   "outputs": [
    {
     "name": "stdout",
     "output_type": "stream",
     "text": [
      "xi +           K Variance     Outer Scale    Diameter       Wind X         Wind Y         \n",
      "11.5902096     109.1565559    1.5349095      -0.0061141     0.0890528      -0.0355237     \n",
      "11.6733133     109.1565559    1.5349095      -0.0070312     0.0890528      -0.0355237     \n",
      "10.9454725     109.1565559    1.5349095      -0.0061141     0.1024107      -0.0355237     \n",
      "11.6372782     109.1565559    1.5349095      -0.0061141     0.0890528      -0.0408523     \n",
      "11.0041888     109.1565559    1.5349095      -0.005197      0.0979581      -0.0390761     \n",
      "11.1064331     109.1565559    1.5349095      -0.0055027     0.103895       -0.0325634     \n",
      "10.8151882     109.1565559    1.5349095      -0.0050951     0.1137897      -0.0359184     \n",
      "11.2875214     109.1565559    1.5349095      -0.0045855     0.1261582      -0.0361158     \n",
      "10.5301034     109.1565559    1.5349095      -0.0054347     0.1055441      -0.0411154     \n",
      "10.3344106     109.1565559    1.5349095      -0.0054008     0.1063687      -0.0453914     \n",
      "10.7581079     109.1565559    1.5349095      -0.0058763     0.117088       -0.038813      \n",
      "10.4600819     109.1565559    1.5349095      -0.0048007     0.1224201      -0.0445581     \n",
      "9.9157363      109.1565559    1.5349095      -0.0056234     0.1167948      -0.0499232     \n",
      "9.7649549      109.1565559    1.5349095      -0.0058876     0.1182973      -0.0569257     \n",
      "9.7767307      109.1565559    1.5349095      -0.0048497     0.1143028      -0.0591039     \n",
      "9.9032479      109.1565559    1.5349095      -0.0059581     0.103559       -0.0630558     \n",
      "9.3467669      109.1565559    1.5349095      -0.0057295     0.1177374      -0.0739988     \n",
      "9.4721395      109.1565559    1.5349095      -0.0058939     0.1234218      -0.0883025     \n",
      "9.8959595      109.1565559    1.5349095      -0.0050198     0.1299993      -0.0636297     \n",
      "9.7062625      109.1565559    1.5349095      -0.0052544     0.1233893      -0.0634863     \n",
      "9.6953634      109.1565559    1.5349095      -0.006398      0.1253132      -0.0705033     \n",
      "9.7576247      109.1565559    1.5349095      -0.0057003     0.125996       -0.0817332     \n",
      "9.6259349      109.1565559    1.5349095      -0.0057471     0.1240713      -0.0755313     \n",
      "9.4245148      109.1565559    1.5349095      -0.006662      0.1213587      -0.0832027     \n",
      "9.0305523      109.1565559    1.5349095      -0.0056945     0.1167984      -0.084652      \n",
      "9.1303889      109.1565559    1.5349095      -0.0053427     0.112541       -0.0917263     \n",
      "8.9611023      109.1565559    1.5349095      -0.0063102     0.1131918      -0.0857043     \n",
      "9.5142037      109.1565559    1.5349095      -0.0065917     0.107752       -0.0907908     \n",
      "8.960822       109.1565559    1.5349095      -0.0051608     0.1104597      -0.0797007     \n",
      "9.2467134      109.1565559    1.5349095      -0.0044102     0.1050101      -0.0779497     \n",
      "9.5353258      109.1565559    1.5349095      -0.0057141     0.1092291      -0.0927058     \n",
      "9.1112615      109.1565559    1.5349095      -0.0057257     0.1156104      -0.0786756     \n",
      "9.023616       109.1565559    1.5349095      -0.005718      0.1113562      -0.0880291     \n",
      "9.2647611      109.1565559    1.5349095      -0.0057648     0.10654        -0.0843041     \n",
      "8.9462968      109.1565559    1.5349095      -0.0057121     0.1142338      -0.084565      \n",
      "9.0421044      109.1565559    1.5349095      -0.0057374     0.1139006      -0.0786176     \n",
      "8.9568667      109.1565559    1.5349095      -0.0057228     0.1119923      -0.0856762     \n",
      "Optimization terminated successfully.\n",
      "         Current function value: 8.946297\n",
      "         Iterations: 22\n",
      "         Function evaluations: 37\n"
     ]
    }
   ],
   "source": [
    "# Using the fitCorr params as starting point, only optimize for D, Wx, and Wy,\n",
    "# holding K and oS constant.\n",
    "GP = vK2KGPR.vonKarman2KernelGPR(dC)\n",
    "\n",
    "# Wrapper function so that I don't have to change any code.\n",
    "# First two params, K and oS, will stay the same and the\n",
    "# optimizer will think there are only three params, D, Wx, and Wy.\n",
    "FoM = lambda p: GP.figureOfMerit(np.array([*fitCorrParams[:2], *p]))\n",
    "\n",
    "# Limit to 50 function evals and lower the ftol.\n",
    "GP.optimize(v0=fitCorrParams[2:], func=FoM, ftol=0.1, maxfun=50)\n",
    "ThreeParamOpt = GP.opt_result_GP[0].copy()"
   ]
  },
  {
   "cell_type": "code",
   "execution_count": 22,
   "metadata": {},
   "outputs": [],
   "source": [
    "ThreeParamOpt = np.array([\n",
    "    109.1565559,\n",
    "    1.5349095,\n",
    "    -0.0057121,\n",
    "    0.1142338,\n",
    "    -0.084565\n",
    "])"
   ]
  },
  {
   "cell_type": "code",
   "execution_count": 23,
   "metadata": {},
   "outputs": [
    {
     "name": "stdout",
     "output_type": "stream",
     "text": [
      "xi +           K Variance     Outer Scale    Diameter       Wind X         Wind Y         \n",
      "8.9462977      109.1565559    1.5349095      -0.0057121     0.1142338      -0.084565      \n",
      "8.825819       125.5300393    1.5349095      -0.0057121     0.1142338      -0.084565      \n",
      "8.9938211      109.1565559    1.7651459      -0.0057121     0.1142338      -0.084565      \n",
      "8.7733143      125.5300393    1.3046731      -0.0057121     0.1142338      -0.084565      \n",
      "8.6632481      133.716781     1.0744367      -0.0057121     0.1142338      -0.084565      \n",
      "8.5911498      150.0902644    1.0744367      -0.0057121     0.1142338      -0.084565      \n",
      "8.4585362      170.5571186    0.8442002      -0.0057121     0.1142338      -0.084565      \n",
      "8.2483189      178.7438603    0.3837274      -0.0057121     0.1142338      -0.084565      \n",
      "9.2485051      205.3507708    -0.1918637     -0.0057121     0.1142338      -0.084565      \n",
      "10.9395902     215.5841979    0.153491       -0.0057121     0.1142338      -0.084565      \n",
      "8.503426       154.1836352    0.8442002      -0.0057121     0.1142338      -0.084565      \n",
      "8.2416075      195.1173437    0.3837274      -0.0057121     0.1142338      -0.084565      \n",
      "10.9395902     215.5841979    0.153491       -0.0057121     0.1142338      -0.084565      \n",
      "29.5726996     203.3040854    -0.0767455     -0.0057121     0.1142338      -0.084565      \n",
      "8.3547315      178.7438603    0.6139638      -0.0057121     0.1142338      -0.084565      \n",
      "10.9799878     195.1173437    0.153491       -0.0057121     0.1142338      -0.084565      \n",
      "8.2948615      182.8372311    0.4988456      -0.0057121     0.1142338      -0.084565      \n",
      "8.3677224      191.0239728    0.2686092      -0.0057121     0.1142338      -0.084565      \n",
      "8.2654569      184.8839166    0.4412865      -0.0057121     0.1142338      -0.084565      \n",
      "8.2533606      188.9772874    0.3261683      -0.0057121     0.1142338      -0.084565      \n",
      "8.2422518      187.9539447    0.3549478      -0.0057121     0.1142338      -0.084565      \n",
      "8.2406244      204.3274281    0.3549478      -0.0057121     0.1142338      -0.084565      \n",
      "8.2477532      217.119212     0.340558       -0.0057121     0.1142338      -0.084565      \n",
      "8.2409554      211.4908271    0.3837274      -0.0057121     0.1142338      -0.084565      \n",
      "8.2442304      220.7009115    0.3549478      -0.0057121     0.1142338      -0.084565      \n",
      "8.2398629      201.5132356    0.3765325      -0.0057121     0.1142338      -0.084565      \n",
      "8.242351       194.3498367    0.3477529      -0.0057121     0.1142338      -0.084565      \n",
      "8.2397953      207.2055795    0.3747338      -0.0057121     0.1142338      -0.084565      \n",
      "8.2428864      204.391387     0.3963184      -0.0057121     0.1142338      -0.084565      \n",
      "8.239555       204.3434178    0.3652905      -0.0057121     0.1142338      -0.084565      \n",
      "8.2402236      210.0357617    0.3634918      -0.0057121     0.1142338      -0.084565      \n",
      "8.2395925      203.6438671    0.3732723      -0.0057121     0.1142338      -0.084565      \n",
      "8.2395809      200.7817055    0.363829       -0.0057121     0.1142338      -0.084565      \n",
      "8.2403521      201.4812562    0.3558472      -0.0057121     0.1142338      -0.084565      \n",
      "8.2394668      203.1032144    0.368916       -0.0057121     0.1142338      -0.084565      \n",
      "Optimization terminated successfully.\n",
      "         Current function value: 8.239467\n",
      "         Iterations: 18\n",
      "         Function evaluations: 35\n"
     ]
    }
   ],
   "source": [
    "# Using the final parameters for D, Wx, and Wy from the above cell,\n",
    "# Now fit K and oS holding the other three constant.\n",
    "GP = vK2KGPR.vonKarman2KernelGPR(dC)\n",
    "v0 = np.array([\n",
    "    fitCorrParams[0],\n",
    "    fitCorrParams[1],\n",
    "    ThreeParamOpt[2],\n",
    "    ThreeParamOpt[3],\n",
    "    ThreeParamOpt[4],\n",
    "])\n",
    "\n",
    "FoM = lambda p: GP.figureOfMerit(np.array([*p, *v0[2:]]))\n",
    "\n",
    "# Limit to 50 function evals.\n",
    "FinalThreeParamOpt = GP.optimize(v0=v0[:2], func=FoM, ftol=0.025, maxfun=50)"
   ]
  },
  {
   "cell_type": "code",
   "execution_count": 24,
   "metadata": {},
   "outputs": [],
   "source": [
    "FinalThreeParamOpt = GP.opt_result_GP[0].copy()"
   ]
  },
  {
   "cell_type": "code",
   "execution_count": 29,
   "metadata": {},
   "outputs": [
    {
     "data": {
      "text/plain": [
       "array([ 2.03103214e+02,  3.68916027e-01, -5.71210000e-03,  1.14233800e-01,\n",
       "       -8.45650000e-02])"
      ]
     },
     "execution_count": 29,
     "metadata": {},
     "output_type": "execute_result"
    }
   ],
   "source": [
    "np.array([*FinalThreeParamOpt, *ThreeParamOpt[2:]])"
   ]
  },
  {
   "cell_type": "code",
   "execution_count": 26,
   "metadata": {},
   "outputs": [
    {
     "name": "stdout",
     "output_type": "stream",
     "text": [
      "xi +           K Variance     Outer Scale    Diameter       Wind X         Wind Y         \n",
      "8.2394668      203.1032144    0.368916       -0.0057121     0.1142338      -0.084565      \n",
      "8.2476505      233.5686966    0.368916       -0.0057121     0.1142338      -0.084565      \n",
      "8.2511574      203.1032144    0.4242534      -0.0057121     0.1142338      -0.084565      \n",
      "8.2883211      203.1032144    0.368916       -0.0065689     0.1142338      -0.084565      \n",
      "9.5749394      203.1032144    0.368916       -0.0057121     0.1313689      -0.084565      \n",
      "9.18136        203.1032144    0.368916       -0.0057121     0.1142338      -0.0972498     \n",
      "10.7023994     215.2894073    0.391051       -0.0060548     0.0970987      -0.0896389     \n",
      "8.7745547      206.1497626    0.3744498      -0.0057978     0.1228013      -0.0858335     \n",
      "9.0627653      216.5080265    0.3932645      -0.0060891     0.1176608      -0.0723876     \n",
      "8.5779246      213.1568235    0.3871774      -0.0059948     0.1168041      -0.0786032     \n",
      "8.5458476      216.2643027    0.3928218      -0.0060822     0.1066944      -0.0809118     \n",
      "8.8069807      210.5002335    0.3823519      -0.0059201     0.1086478      -0.0890655     \n",
      "8.2216587      212.492676     0.385971       -0.0059762     0.114765       -0.0812188     \n",
      "8.6963118      205.8841036    0.3739672      -0.0057903     0.1219857      -0.0868797     \n",
      "8.2892096      213.6692529    0.3881081      -0.0060093     0.1105172      -0.0824038     \n",
      "8.3860645      208.4791534    0.3786809      -0.0058633     0.1181629      -0.0853877     \n",
      "8.2300696      212.371728     0.3857513      -0.0059728     0.1124286      -0.0831498     \n",
      "8.1471645      222.7525974    0.4046071      -0.0050652     0.1137242      -0.0826604     \n",
      "8.1344126      232.5772888    0.4224526      -0.0043133     0.1134694      -0.0817081     \n",
      "8.1261432      234.5422271    0.3485494      -0.0053625     0.1134184      -0.0815177     \n",
      "8.1575512      250.2617335    0.3106974      -0.0051877     0.1130108      -0.079994      \n",
      "8.1478479      204.4661572    0.3957401      -0.0052226     0.1130923      -0.0802987     \n",
      "8.2159698      235.4768165    0.4064698      -0.0050268     0.1126357      -0.0785922     \n",
      "8.3972517      235.4503382    0.3979219      -0.0043878     0.1145237      -0.0781844     \n",
      "8.1505374      218.1413806    0.388794       -0.0055765     0.1129524      -0.0819084     \n",
      "8.1434043      237.5888721    0.3988313      -0.0042246     0.1114623      -0.0803913     \n",
      "8.2013565      215.4495539    0.3752772      -0.004853      0.1131222      -0.0837375     \n",
      "8.1421335      220.4563695    0.3830753      -0.0048964     0.1130006      -0.0824512     \n",
      "8.1402956      233.7109853    0.3906656      -0.0040312     0.1128248      -0.0806383     \n",
      "8.2156507      259.08414      0.3816896      -0.0039086     0.1125779      -0.0823839     \n",
      "8.1161348      218.1206529    0.3922275      -0.0048941     0.1129637      -0.08082       \n"
     ]
    },
    {
     "name": "stderr",
     "output_type": "stream",
     "text": [
      "ERROR:root:Internal Python error in the inspect module.\n",
      "Below is the traceback from this internal error.\n",
      "\n"
     ]
    },
    {
     "name": "stdout",
     "output_type": "stream",
     "text": [
      "Traceback (most recent call last):\n",
      "  File \"/home/fortino/DESworkspace/utils/vonkarmanFT.py\", line 130, in getCuv\n",
      "    tmp= list(executor.map(self._cuv,xchunks,ychunks))\n",
      "  File \"/home/fortino/anaconda3/lib/python3.7/concurrent/futures/_base.py\", line 586, in result_iterator\n",
      "    yield fs.pop().result()\n",
      "  File \"/home/fortino/anaconda3/lib/python3.7/concurrent/futures/_base.py\", line 427, in result\n",
      "    self._condition.wait(timeout)\n",
      "  File \"/home/fortino/anaconda3/lib/python3.7/threading.py\", line 296, in wait\n",
      "    waiter.acquire()\n",
      "KeyboardInterrupt\n",
      "\n",
      "During handling of the above exception, another exception occurred:\n",
      "\n",
      "Traceback (most recent call last):\n",
      "  File \"/home/fortino/anaconda3/lib/python3.7/site-packages/IPython/core/interactiveshell.py\", line 3343, in run_code\n",
      "    exec(code_obj, self.user_global_ns, self.user_ns)\n",
      "  File \"<ipython-input-26-147bc1ad0468>\", line 15, in <module>\n",
      "    FinalThreeParamOpt = GP.optimize(v0=v0, func=None, maxfun=50)\n",
      "  File \"/home/fortino/DESworkspace/utils/vK2KGPR.py\", line 458, in optimize\n",
      "    initial_simplex=simplex0\n",
      "  File \"/home/fortino/anaconda3/lib/python3.7/site-packages/scipy/optimize/optimize.py\", line 543, in fmin\n",
      "    res = _minimize_neldermead(func, x0, args, callback=callback, **opts)\n",
      "  File \"/home/fortino/anaconda3/lib/python3.7/site-packages/scipy/optimize/optimize.py\", line 705, in _minimize_neldermead\n",
      "    fxr = func(xr)\n",
      "  File \"/home/fortino/anaconda3/lib/python3.7/site-packages/scipy/optimize/optimize.py\", line 427, in function_wrapper\n",
      "    return function(*(wrapper_args + args))\n",
      "  File \"/home/fortino/DESworkspace/utils/vK2KGPR.py\", line 371, in figureOfMerit\n",
      "    self.predict(self.dC.Xvalid)\n",
      "  File \"/home/fortino/DESworkspace/utils/vK2KGPR.py\", line 319, in predict\n",
      "    Cs = self.ttt.getCuv(du, dv)\n",
      "  File \"/home/fortino/DESworkspace/utils/vonkarmanFT.py\", line 130, in getCuv\n",
      "    tmp= list(executor.map(self._cuv,xchunks,ychunks))\n",
      "  File \"/home/fortino/anaconda3/lib/python3.7/concurrent/futures/_base.py\", line 611, in __exit__\n",
      "    self.shutdown(wait=True)\n",
      "  File \"/home/fortino/anaconda3/lib/python3.7/concurrent/futures/thread.py\", line 204, in shutdown\n",
      "    t.join()\n",
      "  File \"/home/fortino/anaconda3/lib/python3.7/threading.py\", line 1032, in join\n",
      "    self._wait_for_tstate_lock()\n",
      "  File \"/home/fortino/anaconda3/lib/python3.7/threading.py\", line 1048, in _wait_for_tstate_lock\n",
      "    elif lock.acquire(block, timeout):\n",
      "KeyboardInterrupt\n",
      "\n",
      "During handling of the above exception, another exception occurred:\n",
      "\n",
      "Traceback (most recent call last):\n",
      "  File \"/home/fortino/anaconda3/lib/python3.7/site-packages/IPython/core/interactiveshell.py\", line 2044, in showtraceback\n",
      "    stb = value._render_traceback_()\n",
      "AttributeError: 'KeyboardInterrupt' object has no attribute '_render_traceback_'\n",
      "\n",
      "During handling of the above exception, another exception occurred:\n",
      "\n",
      "Traceback (most recent call last):\n",
      "  File \"/home/fortino/anaconda3/lib/python3.7/site-packages/IPython/core/ultratb.py\", line 1169, in get_records\n",
      "    return _fixed_getinnerframes(etb, number_of_lines_of_context, tb_offset)\n",
      "  File \"/home/fortino/anaconda3/lib/python3.7/site-packages/IPython/core/ultratb.py\", line 316, in wrapped\n",
      "    return f(*args, **kwargs)\n",
      "  File \"/home/fortino/anaconda3/lib/python3.7/site-packages/IPython/core/ultratb.py\", line 350, in _fixed_getinnerframes\n",
      "    records = fix_frame_records_filenames(inspect.getinnerframes(etb, context))\n",
      "  File \"/home/fortino/anaconda3/lib/python3.7/inspect.py\", line 1502, in getinnerframes\n",
      "    frameinfo = (tb.tb_frame,) + getframeinfo(tb, context)\n",
      "  File \"/home/fortino/anaconda3/lib/python3.7/inspect.py\", line 1464, in getframeinfo\n",
      "    lines, lnum = findsource(frame)\n",
      "  File \"/home/fortino/anaconda3/lib/python3.7/site-packages/IPython/core/ultratb.py\", line 170, in findsource\n",
      "    file = getsourcefile(object) or getfile(object)\n",
      "  File \"/home/fortino/anaconda3/lib/python3.7/inspect.py\", line 696, in getsourcefile\n",
      "    if getattr(getmodule(object, filename), '__loader__', None) is not None:\n",
      "  File \"/home/fortino/anaconda3/lib/python3.7/inspect.py\", line 735, in getmodule\n",
      "    if f == _filesbymodname.get(modname, None):\n",
      "KeyboardInterrupt\n"
     ]
    },
    {
     "ename": "TypeError",
     "evalue": "object of type 'NoneType' has no len()",
     "output_type": "error",
     "traceback": [
      "\u001b[0;31m---------------------------------------------------------------------------\u001b[0m",
      "\u001b[0;31mKeyboardInterrupt\u001b[0m                         Traceback (most recent call last)",
      "\u001b[0;32m~/DESworkspace/utils/vonkarmanFT.py\u001b[0m in \u001b[0;36mgetCuv\u001b[0;34m(self, x, y, workers)\u001b[0m\n\u001b[1;32m    129\u001b[0m         \u001b[0;32mwith\u001b[0m \u001b[0mconcurrent\u001b[0m\u001b[0;34m.\u001b[0m\u001b[0mfutures\u001b[0m\u001b[0;34m.\u001b[0m\u001b[0mThreadPoolExecutor\u001b[0m\u001b[0;34m(\u001b[0m\u001b[0mmax_workers\u001b[0m\u001b[0;34m=\u001b[0m\u001b[0mworkers\u001b[0m\u001b[0;34m)\u001b[0m \u001b[0;32mas\u001b[0m \u001b[0mexecutor\u001b[0m\u001b[0;34m:\u001b[0m\u001b[0;34m\u001b[0m\u001b[0;34m\u001b[0m\u001b[0m\n\u001b[0;32m--> 130\u001b[0;31m             \u001b[0mtmp\u001b[0m\u001b[0;34m=\u001b[0m \u001b[0mlist\u001b[0m\u001b[0;34m(\u001b[0m\u001b[0mexecutor\u001b[0m\u001b[0;34m.\u001b[0m\u001b[0mmap\u001b[0m\u001b[0;34m(\u001b[0m\u001b[0mself\u001b[0m\u001b[0;34m.\u001b[0m\u001b[0m_cuv\u001b[0m\u001b[0;34m,\u001b[0m\u001b[0mxchunks\u001b[0m\u001b[0;34m,\u001b[0m\u001b[0mychunks\u001b[0m\u001b[0;34m)\u001b[0m\u001b[0;34m)\u001b[0m\u001b[0;34m\u001b[0m\u001b[0;34m\u001b[0m\u001b[0m\n\u001b[0m\u001b[1;32m    131\u001b[0m         \u001b[0mout\u001b[0m\u001b[0;34m[\u001b[0m\u001b[0;34m...\u001b[0m\u001b[0;34m,\u001b[0m\u001b[0;36m0\u001b[0m\u001b[0;34m,\u001b[0m\u001b[0;36m0\u001b[0m\u001b[0;34m]\u001b[0m \u001b[0;34m=\u001b[0m \u001b[0mnp\u001b[0m\u001b[0;34m.\u001b[0m\u001b[0mconcatenate\u001b[0m\u001b[0;34m(\u001b[0m\u001b[0;34m[\u001b[0m\u001b[0mi\u001b[0m\u001b[0;34m[\u001b[0m\u001b[0;36m0\u001b[0m\u001b[0;34m]\u001b[0m \u001b[0;32mfor\u001b[0m \u001b[0mi\u001b[0m \u001b[0;32min\u001b[0m \u001b[0mtmp\u001b[0m\u001b[0;34m]\u001b[0m\u001b[0;34m)\u001b[0m\u001b[0;34m.\u001b[0m\u001b[0mreshape\u001b[0m\u001b[0;34m(\u001b[0m\u001b[0ms\u001b[0m\u001b[0;34m)\u001b[0m\u001b[0;34m\u001b[0m\u001b[0;34m\u001b[0m\u001b[0m\n",
      "\u001b[0;32m~/anaconda3/lib/python3.7/concurrent/futures/_base.py\u001b[0m in \u001b[0;36mresult_iterator\u001b[0;34m()\u001b[0m\n\u001b[1;32m    585\u001b[0m                     \u001b[0;32mif\u001b[0m \u001b[0mtimeout\u001b[0m \u001b[0;32mis\u001b[0m \u001b[0;32mNone\u001b[0m\u001b[0;34m:\u001b[0m\u001b[0;34m\u001b[0m\u001b[0;34m\u001b[0m\u001b[0m\n\u001b[0;32m--> 586\u001b[0;31m                         \u001b[0;32myield\u001b[0m \u001b[0mfs\u001b[0m\u001b[0;34m.\u001b[0m\u001b[0mpop\u001b[0m\u001b[0;34m(\u001b[0m\u001b[0;34m)\u001b[0m\u001b[0;34m.\u001b[0m\u001b[0mresult\u001b[0m\u001b[0;34m(\u001b[0m\u001b[0;34m)\u001b[0m\u001b[0;34m\u001b[0m\u001b[0;34m\u001b[0m\u001b[0m\n\u001b[0m\u001b[1;32m    587\u001b[0m                     \u001b[0;32melse\u001b[0m\u001b[0;34m:\u001b[0m\u001b[0;34m\u001b[0m\u001b[0;34m\u001b[0m\u001b[0m\n",
      "\u001b[0;32m~/anaconda3/lib/python3.7/concurrent/futures/_base.py\u001b[0m in \u001b[0;36mresult\u001b[0;34m(self, timeout)\u001b[0m\n\u001b[1;32m    426\u001b[0m \u001b[0;34m\u001b[0m\u001b[0m\n\u001b[0;32m--> 427\u001b[0;31m             \u001b[0mself\u001b[0m\u001b[0;34m.\u001b[0m\u001b[0m_condition\u001b[0m\u001b[0;34m.\u001b[0m\u001b[0mwait\u001b[0m\u001b[0;34m(\u001b[0m\u001b[0mtimeout\u001b[0m\u001b[0;34m)\u001b[0m\u001b[0;34m\u001b[0m\u001b[0;34m\u001b[0m\u001b[0m\n\u001b[0m\u001b[1;32m    428\u001b[0m \u001b[0;34m\u001b[0m\u001b[0m\n",
      "\u001b[0;32m~/anaconda3/lib/python3.7/threading.py\u001b[0m in \u001b[0;36mwait\u001b[0;34m(self, timeout)\u001b[0m\n\u001b[1;32m    295\u001b[0m             \u001b[0;32mif\u001b[0m \u001b[0mtimeout\u001b[0m \u001b[0;32mis\u001b[0m \u001b[0;32mNone\u001b[0m\u001b[0;34m:\u001b[0m\u001b[0;34m\u001b[0m\u001b[0;34m\u001b[0m\u001b[0m\n\u001b[0;32m--> 296\u001b[0;31m                 \u001b[0mwaiter\u001b[0m\u001b[0;34m.\u001b[0m\u001b[0macquire\u001b[0m\u001b[0;34m(\u001b[0m\u001b[0;34m)\u001b[0m\u001b[0;34m\u001b[0m\u001b[0;34m\u001b[0m\u001b[0m\n\u001b[0m\u001b[1;32m    297\u001b[0m                 \u001b[0mgotit\u001b[0m \u001b[0;34m=\u001b[0m \u001b[0;32mTrue\u001b[0m\u001b[0;34m\u001b[0m\u001b[0;34m\u001b[0m\u001b[0m\n",
      "\u001b[0;31mKeyboardInterrupt\u001b[0m: ",
      "\nDuring handling of the above exception, another exception occurred:\n",
      "\u001b[0;31mKeyboardInterrupt\u001b[0m                         Traceback (most recent call last)",
      "    \u001b[0;31m[... skipping hidden 1 frame]\u001b[0m\n",
      "\u001b[0;32m<ipython-input-26-147bc1ad0468>\u001b[0m in \u001b[0;36m<module>\u001b[0;34m\u001b[0m\n\u001b[1;32m     14\u001b[0m \u001b[0;31m# Limit to 50 function evals.\u001b[0m\u001b[0;34m\u001b[0m\u001b[0;34m\u001b[0m\u001b[0;34m\u001b[0m\u001b[0m\n\u001b[0;32m---> 15\u001b[0;31m \u001b[0mFinalThreeParamOpt\u001b[0m \u001b[0;34m=\u001b[0m \u001b[0mGP\u001b[0m\u001b[0;34m.\u001b[0m\u001b[0moptimize\u001b[0m\u001b[0;34m(\u001b[0m\u001b[0mv0\u001b[0m\u001b[0;34m=\u001b[0m\u001b[0mv0\u001b[0m\u001b[0;34m,\u001b[0m \u001b[0mfunc\u001b[0m\u001b[0;34m=\u001b[0m\u001b[0;32mNone\u001b[0m\u001b[0;34m,\u001b[0m \u001b[0mmaxfun\u001b[0m\u001b[0;34m=\u001b[0m\u001b[0;36m50\u001b[0m\u001b[0;34m)\u001b[0m\u001b[0;34m\u001b[0m\u001b[0;34m\u001b[0m\u001b[0m\n\u001b[0m",
      "\u001b[0;32m~/DESworkspace/utils/vK2KGPR.py\u001b[0m in \u001b[0;36moptimize\u001b[0;34m(self, v0, xtol, ftol, maxfun, func)\u001b[0m\n\u001b[1;32m    457\u001b[0m             \u001b[0mretall\u001b[0m\u001b[0;34m=\u001b[0m\u001b[0;32mTrue\u001b[0m\u001b[0;34m,\u001b[0m\u001b[0;34m\u001b[0m\u001b[0;34m\u001b[0m\u001b[0m\n\u001b[0;32m--> 458\u001b[0;31m             \u001b[0minitial_simplex\u001b[0m\u001b[0;34m=\u001b[0m\u001b[0msimplex0\u001b[0m\u001b[0;34m\u001b[0m\u001b[0;34m\u001b[0m\u001b[0m\n\u001b[0m\u001b[1;32m    459\u001b[0m         )\n",
      "\u001b[0;32m~/anaconda3/lib/python3.7/site-packages/scipy/optimize/optimize.py\u001b[0m in \u001b[0;36mfmin\u001b[0;34m(func, x0, args, xtol, ftol, maxiter, maxfun, full_output, disp, retall, callback, initial_simplex)\u001b[0m\n\u001b[1;32m    542\u001b[0m \u001b[0;34m\u001b[0m\u001b[0m\n\u001b[0;32m--> 543\u001b[0;31m     \u001b[0mres\u001b[0m \u001b[0;34m=\u001b[0m \u001b[0m_minimize_neldermead\u001b[0m\u001b[0;34m(\u001b[0m\u001b[0mfunc\u001b[0m\u001b[0;34m,\u001b[0m \u001b[0mx0\u001b[0m\u001b[0;34m,\u001b[0m \u001b[0margs\u001b[0m\u001b[0;34m,\u001b[0m \u001b[0mcallback\u001b[0m\u001b[0;34m=\u001b[0m\u001b[0mcallback\u001b[0m\u001b[0;34m,\u001b[0m \u001b[0;34m**\u001b[0m\u001b[0mopts\u001b[0m\u001b[0;34m)\u001b[0m\u001b[0;34m\u001b[0m\u001b[0;34m\u001b[0m\u001b[0m\n\u001b[0m\u001b[1;32m    544\u001b[0m     \u001b[0;32mif\u001b[0m \u001b[0mfull_output\u001b[0m\u001b[0;34m:\u001b[0m\u001b[0;34m\u001b[0m\u001b[0;34m\u001b[0m\u001b[0m\n",
      "\u001b[0;32m~/anaconda3/lib/python3.7/site-packages/scipy/optimize/optimize.py\u001b[0m in \u001b[0;36m_minimize_neldermead\u001b[0;34m(func, x0, args, callback, maxiter, maxfev, disp, return_all, initial_simplex, xatol, fatol, adaptive, **unknown_options)\u001b[0m\n\u001b[1;32m    704\u001b[0m         \u001b[0mxr\u001b[0m \u001b[0;34m=\u001b[0m \u001b[0;34m(\u001b[0m\u001b[0;36m1\u001b[0m \u001b[0;34m+\u001b[0m \u001b[0mrho\u001b[0m\u001b[0;34m)\u001b[0m \u001b[0;34m*\u001b[0m \u001b[0mxbar\u001b[0m \u001b[0;34m-\u001b[0m \u001b[0mrho\u001b[0m \u001b[0;34m*\u001b[0m \u001b[0msim\u001b[0m\u001b[0;34m[\u001b[0m\u001b[0;34m-\u001b[0m\u001b[0;36m1\u001b[0m\u001b[0;34m]\u001b[0m\u001b[0;34m\u001b[0m\u001b[0;34m\u001b[0m\u001b[0m\n\u001b[0;32m--> 705\u001b[0;31m         \u001b[0mfxr\u001b[0m \u001b[0;34m=\u001b[0m \u001b[0mfunc\u001b[0m\u001b[0;34m(\u001b[0m\u001b[0mxr\u001b[0m\u001b[0;34m)\u001b[0m\u001b[0;34m\u001b[0m\u001b[0;34m\u001b[0m\u001b[0m\n\u001b[0m\u001b[1;32m    706\u001b[0m         \u001b[0mdoshrink\u001b[0m \u001b[0;34m=\u001b[0m \u001b[0;36m0\u001b[0m\u001b[0;34m\u001b[0m\u001b[0;34m\u001b[0m\u001b[0m\n",
      "\u001b[0;32m~/anaconda3/lib/python3.7/site-packages/scipy/optimize/optimize.py\u001b[0m in \u001b[0;36mfunction_wrapper\u001b[0;34m(*wrapper_args)\u001b[0m\n\u001b[1;32m    426\u001b[0m         \u001b[0mncalls\u001b[0m\u001b[0;34m[\u001b[0m\u001b[0;36m0\u001b[0m\u001b[0;34m]\u001b[0m \u001b[0;34m+=\u001b[0m \u001b[0;36m1\u001b[0m\u001b[0;34m\u001b[0m\u001b[0;34m\u001b[0m\u001b[0m\n\u001b[0;32m--> 427\u001b[0;31m         \u001b[0;32mreturn\u001b[0m \u001b[0mfunction\u001b[0m\u001b[0;34m(\u001b[0m\u001b[0;34m*\u001b[0m\u001b[0;34m(\u001b[0m\u001b[0mwrapper_args\u001b[0m \u001b[0;34m+\u001b[0m \u001b[0margs\u001b[0m\u001b[0;34m)\u001b[0m\u001b[0;34m)\u001b[0m\u001b[0;34m\u001b[0m\u001b[0;34m\u001b[0m\u001b[0m\n\u001b[0m\u001b[1;32m    428\u001b[0m \u001b[0;34m\u001b[0m\u001b[0m\n",
      "\u001b[0;32m~/DESworkspace/utils/vK2KGPR.py\u001b[0m in \u001b[0;36mfigureOfMerit\u001b[0;34m(self, params)\u001b[0m\n\u001b[1;32m    370\u001b[0m         \u001b[0mself\u001b[0m\u001b[0;34m.\u001b[0m\u001b[0mfit\u001b[0m\u001b[0;34m(\u001b[0m\u001b[0mparams\u001b[0m\u001b[0;34m)\u001b[0m\u001b[0;34m\u001b[0m\u001b[0;34m\u001b[0m\u001b[0m\n\u001b[0;32m--> 371\u001b[0;31m         \u001b[0mself\u001b[0m\u001b[0;34m.\u001b[0m\u001b[0mpredict\u001b[0m\u001b[0;34m(\u001b[0m\u001b[0mself\u001b[0m\u001b[0;34m.\u001b[0m\u001b[0mdC\u001b[0m\u001b[0;34m.\u001b[0m\u001b[0mXvalid\u001b[0m\u001b[0;34m)\u001b[0m\u001b[0;34m\u001b[0m\u001b[0;34m\u001b[0m\u001b[0m\n\u001b[0m\u001b[1;32m    372\u001b[0m \u001b[0;34m\u001b[0m\u001b[0m\n",
      "\u001b[0;32m~/DESworkspace/utils/vK2KGPR.py\u001b[0m in \u001b[0;36mpredict\u001b[0;34m(self, X)\u001b[0m\n\u001b[1;32m    318\u001b[0m         \u001b[0mdu\u001b[0m\u001b[0;34m,\u001b[0m \u001b[0mdv\u001b[0m \u001b[0;34m=\u001b[0m \u001b[0mGPRutils\u001b[0m\u001b[0;34m.\u001b[0m\u001b[0mgetGrid\u001b[0m\u001b[0;34m(\u001b[0m\u001b[0mX\u001b[0m\u001b[0;34m,\u001b[0m \u001b[0mself\u001b[0m\u001b[0;34m.\u001b[0m\u001b[0mdC\u001b[0m\u001b[0;34m.\u001b[0m\u001b[0mXtrain\u001b[0m\u001b[0;34m)\u001b[0m\u001b[0;34m\u001b[0m\u001b[0;34m\u001b[0m\u001b[0m\n\u001b[0;32m--> 319\u001b[0;31m         \u001b[0mCs\u001b[0m \u001b[0;34m=\u001b[0m \u001b[0mself\u001b[0m\u001b[0;34m.\u001b[0m\u001b[0mttt\u001b[0m\u001b[0;34m.\u001b[0m\u001b[0mgetCuv\u001b[0m\u001b[0;34m(\u001b[0m\u001b[0mdu\u001b[0m\u001b[0;34m,\u001b[0m \u001b[0mdv\u001b[0m\u001b[0;34m)\u001b[0m\u001b[0;34m\u001b[0m\u001b[0;34m\u001b[0m\u001b[0m\n\u001b[0m\u001b[1;32m    320\u001b[0m \u001b[0;34m\u001b[0m\u001b[0m\n",
      "\u001b[0;32m~/DESworkspace/utils/vonkarmanFT.py\u001b[0m in \u001b[0;36mgetCuv\u001b[0;34m(self, x, y, workers)\u001b[0m\n\u001b[1;32m    129\u001b[0m         \u001b[0;32mwith\u001b[0m \u001b[0mconcurrent\u001b[0m\u001b[0;34m.\u001b[0m\u001b[0mfutures\u001b[0m\u001b[0;34m.\u001b[0m\u001b[0mThreadPoolExecutor\u001b[0m\u001b[0;34m(\u001b[0m\u001b[0mmax_workers\u001b[0m\u001b[0;34m=\u001b[0m\u001b[0mworkers\u001b[0m\u001b[0;34m)\u001b[0m \u001b[0;32mas\u001b[0m \u001b[0mexecutor\u001b[0m\u001b[0;34m:\u001b[0m\u001b[0;34m\u001b[0m\u001b[0;34m\u001b[0m\u001b[0m\n\u001b[0;32m--> 130\u001b[0;31m             \u001b[0mtmp\u001b[0m\u001b[0;34m=\u001b[0m \u001b[0mlist\u001b[0m\u001b[0;34m(\u001b[0m\u001b[0mexecutor\u001b[0m\u001b[0;34m.\u001b[0m\u001b[0mmap\u001b[0m\u001b[0;34m(\u001b[0m\u001b[0mself\u001b[0m\u001b[0;34m.\u001b[0m\u001b[0m_cuv\u001b[0m\u001b[0;34m,\u001b[0m\u001b[0mxchunks\u001b[0m\u001b[0;34m,\u001b[0m\u001b[0mychunks\u001b[0m\u001b[0;34m)\u001b[0m\u001b[0;34m)\u001b[0m\u001b[0;34m\u001b[0m\u001b[0;34m\u001b[0m\u001b[0m\n\u001b[0m\u001b[1;32m    131\u001b[0m         \u001b[0mout\u001b[0m\u001b[0;34m[\u001b[0m\u001b[0;34m...\u001b[0m\u001b[0;34m,\u001b[0m\u001b[0;36m0\u001b[0m\u001b[0;34m,\u001b[0m\u001b[0;36m0\u001b[0m\u001b[0;34m]\u001b[0m \u001b[0;34m=\u001b[0m \u001b[0mnp\u001b[0m\u001b[0;34m.\u001b[0m\u001b[0mconcatenate\u001b[0m\u001b[0;34m(\u001b[0m\u001b[0;34m[\u001b[0m\u001b[0mi\u001b[0m\u001b[0;34m[\u001b[0m\u001b[0;36m0\u001b[0m\u001b[0;34m]\u001b[0m \u001b[0;32mfor\u001b[0m \u001b[0mi\u001b[0m \u001b[0;32min\u001b[0m \u001b[0mtmp\u001b[0m\u001b[0;34m]\u001b[0m\u001b[0;34m)\u001b[0m\u001b[0;34m.\u001b[0m\u001b[0mreshape\u001b[0m\u001b[0;34m(\u001b[0m\u001b[0ms\u001b[0m\u001b[0;34m)\u001b[0m\u001b[0;34m\u001b[0m\u001b[0;34m\u001b[0m\u001b[0m\n",
      "\u001b[0;32m~/anaconda3/lib/python3.7/concurrent/futures/_base.py\u001b[0m in \u001b[0;36m__exit__\u001b[0;34m(self, exc_type, exc_val, exc_tb)\u001b[0m\n\u001b[1;32m    610\u001b[0m     \u001b[0;32mdef\u001b[0m \u001b[0m__exit__\u001b[0m\u001b[0;34m(\u001b[0m\u001b[0mself\u001b[0m\u001b[0;34m,\u001b[0m \u001b[0mexc_type\u001b[0m\u001b[0;34m,\u001b[0m \u001b[0mexc_val\u001b[0m\u001b[0;34m,\u001b[0m \u001b[0mexc_tb\u001b[0m\u001b[0;34m)\u001b[0m\u001b[0;34m:\u001b[0m\u001b[0;34m\u001b[0m\u001b[0;34m\u001b[0m\u001b[0m\n\u001b[0;32m--> 611\u001b[0;31m         \u001b[0mself\u001b[0m\u001b[0;34m.\u001b[0m\u001b[0mshutdown\u001b[0m\u001b[0;34m(\u001b[0m\u001b[0mwait\u001b[0m\u001b[0;34m=\u001b[0m\u001b[0;32mTrue\u001b[0m\u001b[0;34m)\u001b[0m\u001b[0;34m\u001b[0m\u001b[0;34m\u001b[0m\u001b[0m\n\u001b[0m\u001b[1;32m    612\u001b[0m         \u001b[0;32mreturn\u001b[0m \u001b[0;32mFalse\u001b[0m\u001b[0;34m\u001b[0m\u001b[0;34m\u001b[0m\u001b[0m\n",
      "\u001b[0;32m~/anaconda3/lib/python3.7/concurrent/futures/thread.py\u001b[0m in \u001b[0;36mshutdown\u001b[0;34m(self, wait)\u001b[0m\n\u001b[1;32m    203\u001b[0m             \u001b[0;32mfor\u001b[0m \u001b[0mt\u001b[0m \u001b[0;32min\u001b[0m \u001b[0mself\u001b[0m\u001b[0;34m.\u001b[0m\u001b[0m_threads\u001b[0m\u001b[0;34m:\u001b[0m\u001b[0;34m\u001b[0m\u001b[0;34m\u001b[0m\u001b[0m\n\u001b[0;32m--> 204\u001b[0;31m                 \u001b[0mt\u001b[0m\u001b[0;34m.\u001b[0m\u001b[0mjoin\u001b[0m\u001b[0;34m(\u001b[0m\u001b[0;34m)\u001b[0m\u001b[0;34m\u001b[0m\u001b[0;34m\u001b[0m\u001b[0m\n\u001b[0m\u001b[1;32m    205\u001b[0m     \u001b[0mshutdown\u001b[0m\u001b[0;34m.\u001b[0m\u001b[0m__doc__\u001b[0m \u001b[0;34m=\u001b[0m \u001b[0m_base\u001b[0m\u001b[0;34m.\u001b[0m\u001b[0mExecutor\u001b[0m\u001b[0;34m.\u001b[0m\u001b[0mshutdown\u001b[0m\u001b[0;34m.\u001b[0m\u001b[0m__doc__\u001b[0m\u001b[0;34m\u001b[0m\u001b[0;34m\u001b[0m\u001b[0m\n",
      "\u001b[0;32m~/anaconda3/lib/python3.7/threading.py\u001b[0m in \u001b[0;36mjoin\u001b[0;34m(self, timeout)\u001b[0m\n\u001b[1;32m   1031\u001b[0m         \u001b[0;32mif\u001b[0m \u001b[0mtimeout\u001b[0m \u001b[0;32mis\u001b[0m \u001b[0;32mNone\u001b[0m\u001b[0;34m:\u001b[0m\u001b[0;34m\u001b[0m\u001b[0;34m\u001b[0m\u001b[0m\n\u001b[0;32m-> 1032\u001b[0;31m             \u001b[0mself\u001b[0m\u001b[0;34m.\u001b[0m\u001b[0m_wait_for_tstate_lock\u001b[0m\u001b[0;34m(\u001b[0m\u001b[0;34m)\u001b[0m\u001b[0;34m\u001b[0m\u001b[0;34m\u001b[0m\u001b[0m\n\u001b[0m\u001b[1;32m   1033\u001b[0m         \u001b[0;32melse\u001b[0m\u001b[0;34m:\u001b[0m\u001b[0;34m\u001b[0m\u001b[0;34m\u001b[0m\u001b[0m\n",
      "\u001b[0;32m~/anaconda3/lib/python3.7/threading.py\u001b[0m in \u001b[0;36m_wait_for_tstate_lock\u001b[0;34m(self, block, timeout)\u001b[0m\n\u001b[1;32m   1047\u001b[0m             \u001b[0;32massert\u001b[0m \u001b[0mself\u001b[0m\u001b[0;34m.\u001b[0m\u001b[0m_is_stopped\u001b[0m\u001b[0;34m\u001b[0m\u001b[0;34m\u001b[0m\u001b[0m\n\u001b[0;32m-> 1048\u001b[0;31m         \u001b[0;32melif\u001b[0m \u001b[0mlock\u001b[0m\u001b[0;34m.\u001b[0m\u001b[0macquire\u001b[0m\u001b[0;34m(\u001b[0m\u001b[0mblock\u001b[0m\u001b[0;34m,\u001b[0m \u001b[0mtimeout\u001b[0m\u001b[0;34m)\u001b[0m\u001b[0;34m:\u001b[0m\u001b[0;34m\u001b[0m\u001b[0;34m\u001b[0m\u001b[0m\n\u001b[0m\u001b[1;32m   1049\u001b[0m             \u001b[0mlock\u001b[0m\u001b[0;34m.\u001b[0m\u001b[0mrelease\u001b[0m\u001b[0;34m(\u001b[0m\u001b[0;34m)\u001b[0m\u001b[0;34m\u001b[0m\u001b[0;34m\u001b[0m\u001b[0m\n",
      "\u001b[0;31mKeyboardInterrupt\u001b[0m: ",
      "\nDuring handling of the above exception, another exception occurred:\n",
      "\u001b[0;31mAttributeError\u001b[0m                            Traceback (most recent call last)",
      "\u001b[0;32m~/anaconda3/lib/python3.7/site-packages/IPython/core/interactiveshell.py\u001b[0m in \u001b[0;36mshowtraceback\u001b[0;34m(self, exc_tuple, filename, tb_offset, exception_only, running_compiled_code)\u001b[0m\n\u001b[1;32m   2043\u001b[0m                         \u001b[0;31m# in the engines. This should return a list of strings.\u001b[0m\u001b[0;34m\u001b[0m\u001b[0;34m\u001b[0m\u001b[0;34m\u001b[0m\u001b[0m\n\u001b[0;32m-> 2044\u001b[0;31m                         \u001b[0mstb\u001b[0m \u001b[0;34m=\u001b[0m \u001b[0mvalue\u001b[0m\u001b[0;34m.\u001b[0m\u001b[0m_render_traceback_\u001b[0m\u001b[0;34m(\u001b[0m\u001b[0;34m)\u001b[0m\u001b[0;34m\u001b[0m\u001b[0;34m\u001b[0m\u001b[0m\n\u001b[0m\u001b[1;32m   2045\u001b[0m                     \u001b[0;32mexcept\u001b[0m \u001b[0mException\u001b[0m\u001b[0;34m:\u001b[0m\u001b[0;34m\u001b[0m\u001b[0;34m\u001b[0m\u001b[0m\n",
      "\u001b[0;31mAttributeError\u001b[0m: 'KeyboardInterrupt' object has no attribute '_render_traceback_'",
      "\nDuring handling of the above exception, another exception occurred:\n",
      "\u001b[0;31mTypeError\u001b[0m                                 Traceback (most recent call last)",
      "    \u001b[0;31m[... skipping hidden 1 frame]\u001b[0m\n",
      "\u001b[0;32m~/anaconda3/lib/python3.7/site-packages/IPython/core/interactiveshell.py\u001b[0m in \u001b[0;36mshowtraceback\u001b[0;34m(self, exc_tuple, filename, tb_offset, exception_only, running_compiled_code)\u001b[0m\n\u001b[1;32m   2045\u001b[0m                     \u001b[0;32mexcept\u001b[0m \u001b[0mException\u001b[0m\u001b[0;34m:\u001b[0m\u001b[0;34m\u001b[0m\u001b[0;34m\u001b[0m\u001b[0m\n\u001b[1;32m   2046\u001b[0m                         stb = self.InteractiveTB.structured_traceback(etype,\n\u001b[0;32m-> 2047\u001b[0;31m                                             value, tb, tb_offset=tb_offset)\n\u001b[0m\u001b[1;32m   2048\u001b[0m \u001b[0;34m\u001b[0m\u001b[0m\n\u001b[1;32m   2049\u001b[0m                     \u001b[0mself\u001b[0m\u001b[0;34m.\u001b[0m\u001b[0m_showtraceback\u001b[0m\u001b[0;34m(\u001b[0m\u001b[0metype\u001b[0m\u001b[0;34m,\u001b[0m \u001b[0mvalue\u001b[0m\u001b[0;34m,\u001b[0m \u001b[0mstb\u001b[0m\u001b[0;34m)\u001b[0m\u001b[0;34m\u001b[0m\u001b[0;34m\u001b[0m\u001b[0m\n",
      "\u001b[0;32m~/anaconda3/lib/python3.7/site-packages/IPython/core/ultratb.py\u001b[0m in \u001b[0;36mstructured_traceback\u001b[0;34m(self, etype, value, tb, tb_offset, number_of_lines_of_context)\u001b[0m\n\u001b[1;32m   1434\u001b[0m             \u001b[0mself\u001b[0m\u001b[0;34m.\u001b[0m\u001b[0mtb\u001b[0m \u001b[0;34m=\u001b[0m \u001b[0mtb\u001b[0m\u001b[0;34m\u001b[0m\u001b[0;34m\u001b[0m\u001b[0m\n\u001b[1;32m   1435\u001b[0m         return FormattedTB.structured_traceback(\n\u001b[0;32m-> 1436\u001b[0;31m             self, etype, value, tb, tb_offset, number_of_lines_of_context)\n\u001b[0m\u001b[1;32m   1437\u001b[0m \u001b[0;34m\u001b[0m\u001b[0m\n\u001b[1;32m   1438\u001b[0m \u001b[0;34m\u001b[0m\u001b[0m\n",
      "\u001b[0;32m~/anaconda3/lib/python3.7/site-packages/IPython/core/ultratb.py\u001b[0m in \u001b[0;36mstructured_traceback\u001b[0;34m(self, etype, value, tb, tb_offset, number_of_lines_of_context)\u001b[0m\n\u001b[1;32m   1334\u001b[0m             \u001b[0;31m# Verbose modes need a full traceback\u001b[0m\u001b[0;34m\u001b[0m\u001b[0;34m\u001b[0m\u001b[0;34m\u001b[0m\u001b[0m\n\u001b[1;32m   1335\u001b[0m             return VerboseTB.structured_traceback(\n\u001b[0;32m-> 1336\u001b[0;31m                 \u001b[0mself\u001b[0m\u001b[0;34m,\u001b[0m \u001b[0metype\u001b[0m\u001b[0;34m,\u001b[0m \u001b[0mvalue\u001b[0m\u001b[0;34m,\u001b[0m \u001b[0mtb\u001b[0m\u001b[0;34m,\u001b[0m \u001b[0mtb_offset\u001b[0m\u001b[0;34m,\u001b[0m \u001b[0mnumber_of_lines_of_context\u001b[0m\u001b[0;34m\u001b[0m\u001b[0;34m\u001b[0m\u001b[0m\n\u001b[0m\u001b[1;32m   1337\u001b[0m             )\n\u001b[1;32m   1338\u001b[0m         \u001b[0;32melif\u001b[0m \u001b[0mmode\u001b[0m \u001b[0;34m==\u001b[0m \u001b[0;34m'Minimal'\u001b[0m\u001b[0;34m:\u001b[0m\u001b[0;34m\u001b[0m\u001b[0;34m\u001b[0m\u001b[0m\n",
      "\u001b[0;32m~/anaconda3/lib/python3.7/site-packages/IPython/core/ultratb.py\u001b[0m in \u001b[0;36mstructured_traceback\u001b[0;34m(self, etype, evalue, etb, tb_offset, number_of_lines_of_context)\u001b[0m\n\u001b[1;32m   1191\u001b[0m \u001b[0;34m\u001b[0m\u001b[0m\n\u001b[1;32m   1192\u001b[0m         formatted_exception = self.format_exception_as_a_whole(etype, evalue, etb, number_of_lines_of_context,\n\u001b[0;32m-> 1193\u001b[0;31m                                                                tb_offset)\n\u001b[0m\u001b[1;32m   1194\u001b[0m \u001b[0;34m\u001b[0m\u001b[0m\n\u001b[1;32m   1195\u001b[0m         \u001b[0mcolors\u001b[0m \u001b[0;34m=\u001b[0m \u001b[0mself\u001b[0m\u001b[0;34m.\u001b[0m\u001b[0mColors\u001b[0m  \u001b[0;31m# just a shorthand + quicker name lookup\u001b[0m\u001b[0;34m\u001b[0m\u001b[0;34m\u001b[0m\u001b[0m\n",
      "\u001b[0;32m~/anaconda3/lib/python3.7/site-packages/IPython/core/ultratb.py\u001b[0m in \u001b[0;36mformat_exception_as_a_whole\u001b[0;34m(self, etype, evalue, etb, number_of_lines_of_context, tb_offset)\u001b[0m\n\u001b[1;32m   1148\u001b[0m \u001b[0;34m\u001b[0m\u001b[0m\n\u001b[1;32m   1149\u001b[0m \u001b[0;34m\u001b[0m\u001b[0m\n\u001b[0;32m-> 1150\u001b[0;31m         \u001b[0mlast_unique\u001b[0m\u001b[0;34m,\u001b[0m \u001b[0mrecursion_repeat\u001b[0m \u001b[0;34m=\u001b[0m \u001b[0mfind_recursion\u001b[0m\u001b[0;34m(\u001b[0m\u001b[0morig_etype\u001b[0m\u001b[0;34m,\u001b[0m \u001b[0mevalue\u001b[0m\u001b[0;34m,\u001b[0m \u001b[0mrecords\u001b[0m\u001b[0;34m)\u001b[0m\u001b[0;34m\u001b[0m\u001b[0;34m\u001b[0m\u001b[0m\n\u001b[0m\u001b[1;32m   1151\u001b[0m \u001b[0;34m\u001b[0m\u001b[0m\n\u001b[1;32m   1152\u001b[0m         \u001b[0mframes\u001b[0m \u001b[0;34m=\u001b[0m \u001b[0mself\u001b[0m\u001b[0;34m.\u001b[0m\u001b[0mformat_records\u001b[0m\u001b[0;34m(\u001b[0m\u001b[0mrecords\u001b[0m\u001b[0;34m,\u001b[0m \u001b[0mlast_unique\u001b[0m\u001b[0;34m,\u001b[0m \u001b[0mrecursion_repeat\u001b[0m\u001b[0;34m)\u001b[0m\u001b[0;34m\u001b[0m\u001b[0;34m\u001b[0m\u001b[0m\n",
      "\u001b[0;32m~/anaconda3/lib/python3.7/site-packages/IPython/core/ultratb.py\u001b[0m in \u001b[0;36mfind_recursion\u001b[0;34m(etype, value, records)\u001b[0m\n\u001b[1;32m    449\u001b[0m     \u001b[0;31m# first frame (from in to out) that looks different.\u001b[0m\u001b[0;34m\u001b[0m\u001b[0;34m\u001b[0m\u001b[0;34m\u001b[0m\u001b[0m\n\u001b[1;32m    450\u001b[0m     \u001b[0;32mif\u001b[0m \u001b[0;32mnot\u001b[0m \u001b[0mis_recursion_error\u001b[0m\u001b[0;34m(\u001b[0m\u001b[0metype\u001b[0m\u001b[0;34m,\u001b[0m \u001b[0mvalue\u001b[0m\u001b[0;34m,\u001b[0m \u001b[0mrecords\u001b[0m\u001b[0;34m)\u001b[0m\u001b[0;34m:\u001b[0m\u001b[0;34m\u001b[0m\u001b[0;34m\u001b[0m\u001b[0m\n\u001b[0;32m--> 451\u001b[0;31m         \u001b[0;32mreturn\u001b[0m \u001b[0mlen\u001b[0m\u001b[0;34m(\u001b[0m\u001b[0mrecords\u001b[0m\u001b[0;34m)\u001b[0m\u001b[0;34m,\u001b[0m \u001b[0;36m0\u001b[0m\u001b[0;34m\u001b[0m\u001b[0;34m\u001b[0m\u001b[0m\n\u001b[0m\u001b[1;32m    452\u001b[0m \u001b[0;34m\u001b[0m\u001b[0m\n\u001b[1;32m    453\u001b[0m     \u001b[0;31m# Select filename, lineno, func_name to track frames with\u001b[0m\u001b[0;34m\u001b[0m\u001b[0;34m\u001b[0m\u001b[0;34m\u001b[0m\u001b[0m\n",
      "\u001b[0;31mTypeError\u001b[0m: object of type 'NoneType' has no len()"
     ]
    }
   ],
   "source": [
    "# Using the final parameters for D, Wx, and Wy from the above cell,\n",
    "# Now fit K and oS holding the other three constant.\n",
    "GP = vK2KGPR.vonKarman2KernelGPR(dC)\n",
    "v0 = np.array([\n",
    "    FinalThreeParamOpt[0],\n",
    "    FinalThreeParamOpt[1],\n",
    "    ThreeParamOpt[2],\n",
    "    ThreeParamOpt[3],\n",
    "    ThreeParamOpt[4],\n",
    "])\n",
    "\n",
    "FoM = lambda p: GP.figureOfMerit(np.array([*p, *v0[2:]]))\n",
    "\n",
    "# Limit to 50 function evals.\n",
    "FinalThreeParamOpt = GP.optimize(v0=v0, func=None, maxfun=50)"
   ]
  },
  {
   "cell_type": "code",
   "execution_count": null,
   "metadata": {},
   "outputs": [],
   "source": [
    "# Get xi for final params\n",
    "\n",
    "GP = vK2KGPR.vonKarman2KernelGPR(dC, curl=True)\n",
    "GP.fit(finalParams)\n",
    "GP.predict(dC.Xvalid)\n",
    "xif, Xerr, Yerr, prs = GPRutils.getXi(dC.Xvalid, dC.Yvalid-dC.fbar_s)\n",
    "xiferr = np.sqrt(Xerr**2 + Yerr**2)\n",
    "printXi(dC)"
   ]
  }
 ],
 "metadata": {
  "kernelspec": {
   "display_name": "Python 3",
   "language": "python",
   "name": "python3"
  },
  "language_info": {
   "codemirror_mode": {
    "name": "ipython",
    "version": 3
   },
   "file_extension": ".py",
   "mimetype": "text/x-python",
   "name": "python",
   "nbconvert_exporter": "python",
   "pygments_lexer": "ipython3",
   "version": "3.7.3"
  }
 },
 "nbformat": 4,
 "nbformat_minor": 4
}
