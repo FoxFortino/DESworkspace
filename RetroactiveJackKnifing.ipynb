{
 "cells": [
  {
   "cell_type": "code",
   "execution_count": 1,
   "metadata": {},
   "outputs": [
    {
     "name": "stdout",
     "output_type": "stream",
     "text": [
      "Created TAP+ (v1.2.1) - Connection:\n",
      "\tHost: gea.esac.esa.int\n",
      "\tUse HTTPS: True\n",
      "\tPort: 443\n",
      "\tSSL Port: 443\n",
      "Created TAP+ (v1.2.1) - Connection:\n",
      "\tHost: geadata.esac.esa.int\n",
      "\tUse HTTPS: True\n",
      "\tPort: 443\n",
      "\tSSL Port: 443\n"
     ]
    }
   ],
   "source": [
    "# Standard modules\n",
    "import sys\n",
    "import os\n",
    "import shutil\n",
    "import glob\n",
    "\n",
    "# Willow Fox Fortino's modules\n",
    "import GPRutils\n",
    "import vK2KGPR\n",
    "import plotGPR\n",
    "\n",
    "# Professor Gary Bernstein's modules\n",
    "import getGaiaDR2 as gaia\n",
    "import gbutil\n",
    "\n",
    "# Science modules\n",
    "import numpy as np\n",
    "import astropy.units as u\n",
    "import astropy.constants as c\n",
    "import astropy.coordinates as co\n",
    "import astropy.table as tb\n",
    "import astropy.io.fits as fits\n",
    "import astropy.stats as stats\n",
    "from astropy.time import Time\n",
    "from scipy.spatial.ckdtree import cKDTree\n",
    "\n",
    "from IPython import embed\n",
    "from importlib import reload"
   ]
  },
  {
   "cell_type": "code",
   "execution_count": 2,
   "metadata": {},
   "outputs": [],
   "source": [
    "def JackKnifeOld(npz, file):\n",
    "    print(f\"Jack knifing file {npz}\")\n",
    "    dC0 = GPRutils.loadNPZ(npz)\n",
    "    dCf = GPRutils.dataContainer()\n",
    "    dCf.load(dC0.expNum)\n",
    "    GP = vK2KGPR.vonKarman2KernelGPR(dCf)\n",
    "    GP.fitCorr()\n",
    "    GP.fit(GP.opt_result[0])\n",
    "    dCf.postFitCorr_sigmaClip(GP)\n",
    "    dCf.params = dC0.params\n",
    "    dCf.JackKnife(GP)\n",
    "    dCf.saveFITS(file)"
   ]
  },
  {
   "cell_type": "code",
   "execution_count": 3,
   "metadata": {},
   "outputs": [],
   "source": [
    "files = sorted(glob.glob(\"/home/fortino/thesis/??????\"))"
   ]
  },
  {
   "cell_type": "code",
   "execution_count": 4,
   "metadata": {},
   "outputs": [],
   "source": [
    "# Remove files that have already been done for some reason\n",
    "for i, file in enumerate(files.copy()):\n",
    "    fits = glob.glob(os.path.join(file, \"*.fits\"))\n",
    "    if fits:\n",
    "        files.remove(file)"
   ]
  },
  {
   "cell_type": "code",
   "execution_count": 5,
   "metadata": {},
   "outputs": [],
   "source": [
    "sys.stderr = open(\"../thesis/err.err\", \"a+\")\n",
    "sys.stdout = open(\"../thesis/out.out\", \"a+\")"
   ]
  },
  {
   "cell_type": "code",
   "execution_count": null,
   "metadata": {},
   "outputs": [],
   "source": [
    "for file in files:\n",
    "    path, exp = os.path.split(file)\n",
    "    npz = os.path.join(file, exp+\".npz\")\n",
    "    if not os.path.isfile(npz):\n",
    "        continue\n",
    "        \n",
    "    try:\n",
    "        JackKnifeOld(npz, file)\n",
    "    except:\n",
    "        traceback.print_exc()"
   ]
  },
  {
   "cell_type": "code",
   "execution_count": null,
   "metadata": {},
   "outputs": [],
   "source": []
  }
 ],
 "metadata": {
  "kernelspec": {
   "display_name": "Python 3",
   "language": "python",
   "name": "python3"
  },
  "language_info": {
   "codemirror_mode": {
    "name": "ipython",
    "version": 3
   },
   "file_extension": ".py",
   "mimetype": "text/x-python",
   "name": "python",
   "nbconvert_exporter": "python",
   "pygments_lexer": "ipython3",
   "version": "3.7.3"
  }
 },
 "nbformat": 4,
 "nbformat_minor": 4
}
