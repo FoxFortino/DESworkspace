{
 "cells": [
  {
   "cell_type": "code",
   "execution_count": 1,
   "metadata": {},
   "outputs": [
    {
     "name": "stderr",
     "output_type": "stream",
     "text": [
      "WARNING: AstropyDeprecationWarning: astropy.extern.six will be removed in 4.0, use the six module directly if it is still needed [astropy.extern.six]\n"
     ]
    }
   ],
   "source": [
    "import os\n",
    "from importlib import reload\n",
    "\n",
    "import gpr\n",
    "import cfGPR\n",
    "import vonkarman as vk\n",
    "import plotGPR\n",
    "\n",
    "import gbutil\n",
    "\n",
    "import numpy as np\n",
    "import matplotlib.pyplot as plt\n",
    "import astropy.units as u\n",
    "import astropy.constants as c"
   ]
  },
  {
   "cell_type": "markdown",
   "metadata": {},
   "source": [
    "# ToDo\n",
    "\n",
    "1. Check that correlation functions are positive definite\n",
    "\n",
    "2. Clean up DESworkspace directory\n",
    "\n",
    "3. Use ckdtree to get all pairs to quickly get the average xiplus we want. Be sure to go out a bit farther separation than before. Make sure to use maxErr somehow. To not have too much noise.\n",
    "\n",
    "4. Optimize kernel with respect to this xiplus average\n",
    "\n",
    "5. Use the von Karman covariance function to make simulated data (draw from a Guassian with a von Karman covariance function with known parameters). Use this to check that it is doing what we want it to do.\n",
    "\n",
    "6. Try just flipping the sign of the uv term in the covariance matrix because, who knows, maybe somewhere along the way we made a mistake.\n",
    "\n",
    "7. For some exposure, look at the u and v kernel from the 2 Kernel method and compare them to the Cuu and Cuv kernels from the von Karman method\n",
    "\n",
    "8. Use the von Karman covariance function to make a 2 Kernel model. Use the Cuu part to make a kernel for u, and use the Cvv part to make a kernel for v.\n",
    "\n",
    "9. Two Layers: Fit a von karman with a big window (30 arcmin or so?); this should pay attention to the outer structure. Subtract that from the correlation function (that you just fitted). Then, fit the residuals with another von Karman (on a smaller scale (5 arcmin or so). When applying this to the GPR algorithm, K_big + K_small and Ks_big and Ks_small should just add together since they should be uncorrelated if they are from different turbulent layers.\n",
    "\n",
    "10. write vKcfGPR.py\n",
    "\n",
    "11. write a separate script that just has the functions for opening, sigma clipping, that sort of thing. Maybe also separate out the functions for synthetic data generation. Also separate the functions for saving and loading from npz?\n",
    "\n",
    "12. Code in an alert if an optimizer seemed to get stuck at a bound\n",
    "\n",
    "\n",
    "# plotGPR.py\n",
    "\n",
    "1. Look at moving the titles on AstrometricError and DivCurl plots\n",
    "\n",
    "2. Add more optional info onto the plot. Exposure number, number of data points. For 2d plots, convert from bins to angle separation\n",
    "\n",
    "3. Write code to make nice comparison plots to compare two different methods\n",
    "\n",
    "4. Finish commenting plotGPR.py\n",
    "\n",
    "5. Move calc functions into a new script, utils.py\n",
    "\n",
    "6. Consider specifying some rcparams at the top of plotGPR.py"
   ]
  },
  {
   "cell_type": "code",
   "execution_count": 23,
   "metadata": {},
   "outputs": [],
   "source": [
    "# reload(plotGPR)\n",
    "\n",
    "# exposures = np.arange(450, 500)\n",
    "# for exposure in exposures:\n",
    "#     GP = gpr.GPR('dxdy', npz=f\"../exposures/{exposure}/{exposure}.npz\")\n",
    "    \n",
    "#     x = GP.Xtest[:, 0]*u.deg\n",
    "#     y = GP.Xtest[:, 1]*u.deg\n",
    "#     dx = GP.Ytest[:, 0]*u.mas\n",
    "#     dy = GP.Ytest[:, 1]*u.mas\n",
    "#     err = GP.Etest*u.mas\n",
    "#     x2 = GP.Xtest[:, 0]*u.deg\n",
    "#     y2 = GP.Xtest[:, 1]*u.deg\n",
    "#     dx2 = GP.Ytest[:, 0]*u.mas - GP.fbar_s[:, 0]*u.mas\n",
    "#     dy2 = GP.Ytest[:, 1]*u.mas - GP.fbar_s[:, 1]*u.mas\n",
    "#     err2 = GP.Etest*u.mas\n",
    "    \n",
    "#     plotGPR.AstrometricResiduals(\n",
    "#         x, y, dx, dy, err,\n",
    "#         x2=x2, y2=y2, dx2=dx2, dy2=dy2, err2=err2,\n",
    "#         savePath=f\"../exposures/{exposure}/\",\n",
    "#         saveExt=f\"{exposure}\",\n",
    "#         plotShow=False)\n",
    "\n",
    "#     plotGPR.DivCurl(\n",
    "#         x, y, dx, dy, err,\n",
    "#         x2=x2, y2=y2, dx2=dx2, dy2=dy2, err2=err2,\n",
    "#         savePath=f\"../exposures/{exposure}/\",\n",
    "#         saveExt=f\"{exposure}\",\n",
    "#         plotShow=False)\n",
    "\n",
    "#     plotGPR.Correlation(\n",
    "#         x, y, dx, dy,\n",
    "#         x2=x2, y2=y2, dx2=dx2, dy2=dy2,\n",
    "#         savePath=f\"../exposures/{exposure}/\",\n",
    "#         saveExt=f\"{exposure}\",\n",
    "#         printFile=\"corr.out\",\n",
    "#         plotShow=False)\n",
    "\n",
    "#     plotGPR.Correlation2D(\n",
    "#         x, y, dx, dy,\n",
    "#         x2=x2, y2=y2, dx2=dx2, dy2=dy2,\n",
    "#         savePath=f\"../exposures/{exposure}/\",\n",
    "#         saveExt=f\"{exposure}\",\n",
    "#         plotShow=False)"
   ]
  },
  {
   "cell_type": "code",
   "execution_count": null,
   "metadata": {},
   "outputs": [],
   "source": []
  }
 ],
 "metadata": {
  "kernelspec": {
   "display_name": "Python 3",
   "language": "python",
   "name": "python3"
  },
  "language_info": {
   "codemirror_mode": {
    "name": "ipython",
    "version": 3
   },
   "file_extension": ".py",
   "mimetype": "text/x-python",
   "name": "python",
   "nbconvert_exporter": "python",
   "pygments_lexer": "ipython3",
   "version": "3.7.3"
  }
 },
 "nbformat": 4,
 "nbformat_minor": 4
}
