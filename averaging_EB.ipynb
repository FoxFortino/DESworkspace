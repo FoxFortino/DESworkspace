{
 "cells": [
  {
   "cell_type": "code",
   "execution_count": 6,
   "metadata": {},
   "outputs": [],
   "source": [
    "import os\n",
    "import glob\n",
    "\n",
    "import cfGPR\n",
    "\n",
    "import numpy as np\n",
    "import astropy.units as u\n",
    "import astropy.constants as c\n",
    "import matplotlib.pyplot as plt"
   ]
  },
  {
   "cell_type": "code",
   "execution_count": 5,
   "metadata": {},
   "outputs": [],
   "source": [
    "path = '../cfexposures'"
   ]
  },
  {
   "cell_type": "code",
   "execution_count": 24,
   "metadata": {},
   "outputs": [],
   "source": [
    "files = glob.glob('../cfexposures/*/*npz')"
   ]
  },
  {
   "cell_type": "code",
   "execution_count": 27,
   "metadata": {},
   "outputs": [
    {
     "data": {
      "text/plain": [
       "['../cfexposures/450/450.npz',\n",
       " '../cfexposures/451/451.npz',\n",
       " '../cfexposures/452/452.npz',\n",
       " '../cfexposures/453/453.npz',\n",
       " '../cfexposures/454/454.npz',\n",
       " '../cfexposures/455/455.npz',\n",
       " '../cfexposures/456/456.npz',\n",
       " '../cfexposures/457/457.npz',\n",
       " '../cfexposures/458/458.npz',\n",
       " '../cfexposures/459/459.npz',\n",
       " '../cfexposures/460/460.npz',\n",
       " '../cfexposures/461/461.npz',\n",
       " '../cfexposures/462/462.npz',\n",
       " '../cfexposures/463/463.npz',\n",
       " '../cfexposures/464/464.npz',\n",
       " '../cfexposures/465/465.npz',\n",
       " '../cfexposures/466/466.npz',\n",
       " '../cfexposures/467/467.npz',\n",
       " '../cfexposures/468/468.npz']"
      ]
     },
     "execution_count": 27,
     "metadata": {},
     "output_type": "execute_result"
    }
   ],
   "source": [
    "files.sort()\n",
    "files"
   ]
  },
  {
   "cell_type": "code",
   "execution_count": 31,
   "metadata": {},
   "outputs": [],
   "source": [
    "for file in files:\n",
    "    GP_data = np.load(file, allow_pickle=True)\n",
    "    \n",
    "        # Solve for weighted and pixelized residuals, as well as angle averaged correlation function.\n",
    "        u, v, dx, dy = GP.Xtest[:, 0], GP_data['Xtest'][:, 1], GP_data['Ytest'][:, 0], GP_data['Ytest'][:, 1]\n",
    "        logr, xiplus, ximinus, xicross, xiz2 = cfGPR.vcorr(u, v, dx, dy)\n",
    "        \n",
    "        # Calculate xiE and xiB\n",
    "        dlogr = np.zeros_like(logr)\n",
    "        dlogr[1:-1] = 0.5 * (logr[2:] - logr[:-2])\n",
    "        tmp = np.array(ximinus) * dlogr\n",
    "        integral = np.cumsum(tmp[::-1])[::-1]\n",
    "        xiB = 0.5 * (xiplus - ximinus) + integral\n",
    "        xiE = xiplus - xiB"
   ]
  },
  {
   "cell_type": "code",
   "execution_count": 32,
   "metadata": {},
   "outputs": [
    {
     "data": {
      "text/plain": [
       "{'_files': ['fbar_s.npy',\n",
       "  'nLML.npy',\n",
       "  'chisq.npy',\n",
       "  'theta.npy',\n",
       "  'theta0.npy',\n",
       "  'random_state.npy',\n",
       "  'nExposure.npy',\n",
       "  'nTrain.npy',\n",
       "  'nTest.npy',\n",
       "  'nData.npy',\n",
       "  'nParams.npy',\n",
       "  'X.npy',\n",
       "  'Xtrain.npy',\n",
       "  'Xtest.npy',\n",
       "  'Y.npy',\n",
       "  'Ytrain.npy',\n",
       "  'Ytest.npy',\n",
       "  'E.npy',\n",
       "  'Etrain.npy',\n",
       "  'Etest.npy'],\n",
       " 'files': ['fbar_s',\n",
       "  'nLML',\n",
       "  'chisq',\n",
       "  'theta',\n",
       "  'theta0',\n",
       "  'random_state',\n",
       "  'nExposure',\n",
       "  'nTrain',\n",
       "  'nTest',\n",
       "  'nData',\n",
       "  'nParams',\n",
       "  'X',\n",
       "  'Xtrain',\n",
       "  'Xtest',\n",
       "  'Y',\n",
       "  'Ytrain',\n",
       "  'Ytest',\n",
       "  'E',\n",
       "  'Etrain',\n",
       "  'Etest'],\n",
       " 'allow_pickle': True,\n",
       " 'pickle_kwargs': {'encoding': 'ASCII', 'fix_imports': True},\n",
       " 'zip': <zipfile.ZipFile file=<_io.BufferedReader name='../cfexposures/468/468.npz'> mode='r'>,\n",
       " 'f': <numpy.lib.npyio.BagObj at 0x7f84eb5cefd0>,\n",
       " 'fid': <_io.BufferedReader name='../cfexposures/468/468.npz'>}"
      ]
     },
     "execution_count": 32,
     "metadata": {},
     "output_type": "execute_result"
    }
   ],
   "source": [
    "GP_data.__dict__"
   ]
  },
  {
   "cell_type": "code",
   "execution_count": null,
   "metadata": {},
   "outputs": [],
   "source": []
  }
 ],
 "metadata": {
  "kernelspec": {
   "display_name": "Python 3",
   "language": "python",
   "name": "python3"
  },
  "language_info": {
   "codemirror_mode": {
    "name": "ipython",
    "version": 3
   },
   "file_extension": ".py",
   "mimetype": "text/x-python",
   "name": "python",
   "nbconvert_exporter": "python",
   "pygments_lexer": "ipython3",
   "version": "3.7.3"
  }
 },
 "nbformat": 4,
 "nbformat_minor": 4
}
