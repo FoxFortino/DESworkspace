{
 "cells": [
  {
   "cell_type": "code",
   "execution_count": 1,
   "metadata": {},
   "outputs": [
    {
     "name": "stderr",
     "output_type": "stream",
     "text": [
      "WARNING: AstropyDeprecationWarning: astropy.extern.six will be removed in 4.0, use the six module directly if it is still needed [astropy.extern.six]\n"
     ]
    }
   ],
   "source": [
    "from time import time\n",
    "import numpy as np\n",
    "import astropy.units as u\n",
    "import astropy.constants as c\n",
    "import astropy.io.fits as pf\n",
    "import matplotlib.pyplot as plt\n",
    "from sklearn.model_selection import train_test_split\n",
    "\n",
    "import gpr\n",
    "import mcmc\n",
    "import forAustin as fa"
   ]
  },
  {
   "cell_type": "code",
   "execution_count": 7,
   "metadata": {},
   "outputs": [],
   "source": [
    "# sample = np.array([-0.2, 0, 0, 0.2])\n",
    "sample = None\n",
    "GP = gpr.GPR(\n",
    "    '/data4/paper/fox/DES/austinFull.fits',\n",
    "    500,\n",
    "    sample=sample,\n",
    "    verbose=False,\n",
    "    eps=0,\n",
    "    test_size=0.2,\n",
    "    random_state=0)"
   ]
  },
  {
   "cell_type": "code",
   "execution_count": 8,
   "metadata": {},
   "outputs": [],
   "source": [
    "def LML(GP, theta):\n",
    "    GP.fit(theta)\n",
    "    LML = GP.get_LML()\n",
    "    return LML"
   ]
  },
  {
   "cell_type": "code",
   "execution_count": 9,
   "metadata": {},
   "outputs": [],
   "source": [
    "var_s = 460\n",
    "sigma_x = 0.00175\n",
    "sigma_y = 0.025\n",
    "phi = (0 * u.deg).to(u.rad).value\n",
    "theta0 = np.array([var_s, sigma_x, sigma_y, phi])\n",
    "step_size = np.array([5, 5e-4, 5e-4, 1e-7])\n",
    "names = np.array(['var_s', 'sigma_x', 'sigma_y', 'phi'])"
   ]
  },
  {
   "cell_type": "code",
   "execution_count": 10,
   "metadata": {},
   "outputs": [
    {
     "name": "stdout",
     "output_type": "stream",
     "text": [
      "-115706.66928938404\n",
      "CPU times: user 12h 30min 55s, sys: 3min 52s, total: 12h 34min 47s\n",
      "Wall time: 1h 3min 17s\n"
     ]
    }
   ],
   "source": [
    "%%time\n",
    "estimator = mcmc.MCMC(LML, GP, theta0, step_size, names=names, seed=0)\n",
    "print(estimator.current_nll)"
   ]
  },
  {
   "cell_type": "code",
   "execution_count": null,
   "metadata": {},
   "outputs": [],
   "source": [
    "%%time\n",
    "estimator.run(10)\n",
    "print(estimator.accept_fraction())\n",
    "print(estimator.current_nll)\n",
    "estimator.plot_samples()\n",
    "estimator.plot_hist()"
   ]
  },
  {
   "cell_type": "code",
   "execution_count": null,
   "metadata": {},
   "outputs": [],
   "source": [
    "%%time\n",
    "estimator.run(100)\n",
    "print(estimator.accept_fraction())\n",
    "print(estimator.current_nll)\n",
    "estimator.plot_samples()\n",
    "estimator.plot_hist()"
   ]
  },
  {
   "cell_type": "code",
   "execution_count": null,
   "metadata": {},
   "outputs": [],
   "source": [
    "%%time\n",
    "estimator.run(500)\n",
    "print(estimator.accept_fraction())\n",
    "print(estimator.current_nll)\n",
    "estimator.plot_samples()\n",
    "estimator.plot_hist()"
   ]
  },
  {
   "cell_type": "code",
   "execution_count": null,
   "metadata": {},
   "outputs": [],
   "source": [
    "%%time\n",
    "estimator.run(1000)\n",
    "print(estimator.accept_fraction())\n",
    "print(estimator.current_nll)\n",
    "estimator.plot_samples()\n",
    "estimator.plot_hist()"
   ]
  },
  {
   "cell_type": "code",
   "execution_count": null,
   "metadata": {},
   "outputs": [],
   "source": [
    "# GP = gpr.GPR(\n",
    "#     '/data4/paper/fox/DES/austinFull.fits',\n",
    "#     500,\n",
    "#     sample=sample,\n",
    "#     verbose=False,\n",
    "#     eps=0,\n",
    "#     test_size=0.2,\n",
    "#     random_state=0)\n",
    "# GP.fit(estimator.calculate_mean())\n",
    "# GP.summary()"
   ]
  }
 ],
 "metadata": {
  "kernelspec": {
   "display_name": "Python 3",
   "language": "python",
   "name": "python3"
  },
  "language_info": {
   "codemirror_mode": {
    "name": "ipython",
    "version": 3
   },
   "file_extension": ".py",
   "mimetype": "text/x-python",
   "name": "python",
   "nbconvert_exporter": "python",
   "pygments_lexer": "ipython3",
   "version": "3.7.3"
  }
 },
 "nbformat": 4,
 "nbformat_minor": 2
}
