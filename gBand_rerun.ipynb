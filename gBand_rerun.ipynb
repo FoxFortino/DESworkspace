{
 "cells": [
  {
   "cell_type": "code",
   "execution_count": 1,
   "metadata": {},
   "outputs": [
    {
     "name": "stdout",
     "output_type": "stream",
     "text": [
      "Created TAP+ (v1.2.1) - Connection:\n",
      "\tHost: gea.esac.esa.int\n",
      "\tUse HTTPS: True\n",
      "\tPort: 443\n",
      "\tSSL Port: 443\n",
      "Created TAP+ (v1.2.1) - Connection:\n",
      "\tHost: geadata.esac.esa.int\n",
      "\tUse HTTPS: True\n",
      "\tPort: 443\n",
      "\tSSL Port: 443\n"
     ]
    }
   ],
   "source": [
    "import sys\n",
    "import os\n",
    "import shutil\n",
    "import glob\n",
    "\n",
    "import GPRutils\n",
    "import vK2KGPR\n",
    "import plotGPR\n",
    "import vonkarmanFT as vk\n",
    "\n",
    "import numpy as np\n",
    "import astropy.units as u\n",
    "import matplotlib.pyplot as plt\n",
    "\n",
    "from astropy.modeling import models, fitting"
   ]
  },
  {
   "cell_type": "code",
   "execution_count": 2,
   "metadata": {},
   "outputs": [
    {
     "data": {
      "text/plain": [
       "[361580,\n",
       " 367484,\n",
       " 369801,\n",
       " 474262,\n",
       " 474265,\n",
       " 484483,\n",
       " 576863,\n",
       " 579816,\n",
       " 696547,\n",
       " 791229,\n",
       " 791593,\n",
       " 791640]"
      ]
     },
     "execution_count": 2,
     "metadata": {},
     "output_type": "execute_result"
    }
   ],
   "source": [
    "gBand = sorted(np.array([\n",
    "    474262,\n",
    "    361580,\n",
    "    474265,\n",
    "    696547,\n",
    "    484483,\n",
    "    367484,\n",
    "    369801,\n",
    "    576863,\n",
    "    791229,\n",
    "    791593,\n",
    "    791640,\n",
    "    579816\n",
    "]))\n",
    "gBand"
   ]
  },
  {
   "cell_type": "code",
   "execution_count": null,
   "metadata": {},
   "outputs": [],
   "source": [
    "for exp in gBand:\n",
    "    expFile = os.path.join(\"/home/fortino/gBand_rerun\", str(exp))\n",
    "    try:\n",
    "        os.mkdir(expFile)\n",
    "    except FileExistsError:\n",
    "        shutil.rmtree(expFile)\n",
    "        os.mkdir(expFile)\n",
    "        \n",
    "    sys.stderr = open(os.path.join(expFile, \"err.err\"), \"a+\")\n",
    "    sys.stdout = open(os.path.join(expFile, \"out.out\"), \"a+\")\n",
    "    \n",
    "    dataC = GPRutils.dataContainer()\n",
    "    dataC.load(exp)\n",
    "    \n",
    "    GP = vK2KGPR.vonKarman2KernelGPR(dataC)\n",
    "    GP.fitCorr()\n",
    "    GP.fit(GP.opt_result[0])\n",
    "    dataC.postFitCorr_sigmaClip(GP)\n",
    "    GP.optimize()\n",
    "    dataC.JackKnife(GP)\n",
    "    dataC.saveFITS(expFile)"
   ]
  },
  {
   "cell_type": "code",
   "execution_count": null,
   "metadata": {},
   "outputs": [],
   "source": []
  }
 ],
 "metadata": {
  "kernelspec": {
   "display_name": "Python 3",
   "language": "python",
   "name": "python3"
  },
  "language_info": {
   "codemirror_mode": {
    "name": "ipython",
    "version": 3
   },
   "file_extension": ".py",
   "mimetype": "text/x-python",
   "name": "python",
   "nbconvert_exporter": "python",
   "pygments_lexer": "ipython3",
   "version": "3.7.3"
  }
 },
 "nbformat": 4,
 "nbformat_minor": 4
}
