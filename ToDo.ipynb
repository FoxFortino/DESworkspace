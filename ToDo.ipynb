{
 "cells": [
  {
   "cell_type": "markdown",
   "metadata": {},
   "source": [
    "# To Do\n",
    "> Function that takes nSample random data points from the full exposure, rather than a patch.\n",
    "\n",
    "> Be able to write a covariance function to npz (for K, Kss, Ks, W, Wss, and C).\n",
    "\n",
    "> Be able to read in covariance functions from npz\n",
    "\n",
    "> Convert to Tensorflow operations\n",
    "\n",
    "> Set max iterations for scipy.optimize.minimize\n",
    "\n",
    "> scipy.optimize.minimize seems to have trouble finding var_s. Could be the random state. Try switching to sigma_s (sqrt(var_s)) maybe that would make a difference\n",
    "\n",
    "> Check to see if kernel becomes no-pos-def because there are nans in the matrix\n",
    "\n",
    "> Write clear function for GPR that clears values\n",
    "\n",
    "> Eventually you need one kernel with one set of parameters (that intakes u and v) to predict for each dx and dy\n",
    "\n",
    "\n",
    "# Done\n",
    "> Add scale parameter to white noise covariance function to help prevent optimizers from having to be weird and add to diagonal of EBF\n",
    "\n",
    "> Exclude residuals beyond 16th and 84th percentiles\n",
    "\n",
    "> Square measurement error on the diagonal\n",
    "\n",
    "> More synth points, more appropriate length scale values\n"
   ]
  },
  {
   "cell_type": "markdown",
   "metadata": {},
   "source": [
    "# Notes\n",
    "> Smaller values of sigma_x and sigma_y _definitely_ slow down the calculation of the posterior.\n",
    "\n",
    "> ADded scale parameter for white noise covariance function seems to add degeneracies"
   ]
  },
  {
   "cell_type": "code",
   "execution_count": null,
   "metadata": {},
   "outputs": [],
   "source": []
  }
 ],
 "metadata": {
  "kernelspec": {
   "display_name": "Python 3",
   "language": "python",
   "name": "python3"
  },
  "language_info": {
   "codemirror_mode": {
    "name": "ipython",
    "version": 3
   },
   "file_extension": ".py",
   "mimetype": "text/x-python",
   "name": "python",
   "nbconvert_exporter": "python",
   "pygments_lexer": "ipython3",
   "version": "3.7.3"
  }
 },
 "nbformat": 4,
 "nbformat_minor": 2
}
