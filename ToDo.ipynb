{
 "cells": [
  {
   "cell_type": "markdown",
   "metadata": {},
   "source": [
    "# To Do\n",
    "1. Exclude residuals beyond 16th and 84th percentiles //\n",
    "2. Square measurement error on the diagonal //\n",
    "3. Check to see if kernel becomes no-pos-def because there are nans in the matrix //\n",
    "4. Convert to Tensorflow operations //\n",
    "5. More synth points, more appropriate length scale values //\n",
    "6. Add scale parameter to white noise covariance function to help prevent optimizers from having to be weird and add to diagonal of EBF //\n",
    "7. Write clear function for GPR that clears values //\n",
    "8. Eventually you need one kernel with one set of parameters (that intakes u and v) to predict for each dx and dy //"
   ]
  },
  {
   "cell_type": "markdown",
   "metadata": {},
   "source": [
    "# Notes\n",
    "1. Smaller values of sigma_x and sigma_y _definitely_ slow down the calculation of the posterior. \\\\"
   ]
  },
  {
   "cell_type": "code",
   "execution_count": null,
   "metadata": {},
   "outputs": [],
   "source": []
  }
 ],
 "metadata": {
  "kernelspec": {
   "display_name": "Python 3",
   "language": "python",
   "name": "python3"
  },
  "language_info": {
   "codemirror_mode": {
    "name": "ipython",
    "version": 3
   },
   "file_extension": ".py",
   "mimetype": "text/x-python",
   "name": "python",
   "nbconvert_exporter": "python",
   "pygments_lexer": "ipython3",
   "version": "3.7.3"
  }
 },
 "nbformat": 4,
 "nbformat_minor": 2
}
