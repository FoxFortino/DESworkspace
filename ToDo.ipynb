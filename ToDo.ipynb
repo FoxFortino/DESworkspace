{
 "cells": [
  {
   "cell_type": "markdown",
   "metadata": {},
   "source": [
    "# To Do From Gary\n",
    "> Look into that chisq thing that he did on the board.\n",
    "\n",
    "> Get my GPR stuff up and running for a hundred exposures or so.\n",
    "\n",
    ">> Make sure to save data like fbar_s, sigma. Look for what else should be saved as well."
   ]
  },
  {
   "cell_type": "markdown",
   "metadata": {},
   "source": [
    "# To Do\n",
    "> use subplots to make diagnostic plots more readable\n",
    "\n",
    "> Is there a joint log marginal likelihood for dx and dy to run the optimizer once\n",
    "\n",
    "> Function that takes nSample random data points from the full exposure, rather than a patch.\n",
    "\n",
    "> Convert to Tensorflow operations\n",
    "\n",
    "> Check to see if kernel becomes no-pos-def because there are nans in the matrix\n",
    "\n",
    "> Write clear function for GPR that clears values"
   ]
  },
  {
   "cell_type": "markdown",
   "metadata": {},
   "source": [
    "# Done\n",
    "> Note only a kernel for each dx and dy, but an optimizer for each dx and dy\n",
    "\n",
    "> Two kernels for each dx and dy\n",
    "\n",
    "> Set max iterations for scipy.optimize.minimize\n",
    "\n",
    "> Add scale parameter to white noise covariance function to help prevent optimizers from having to be weird and add to diagonal of EBF\n",
    "\n",
    "> Exclude residuals beyond 16th and 84th percentiles\n",
    "\n",
    "> Square measurement error on the diagonal\n",
    "\n",
    "> More synth points, more appropriate length scale values"
   ]
  },
  {
   "cell_type": "markdown",
   "metadata": {},
   "source": [
    "# Notes\n",
    "> Smaller values of sigma_x and sigma_y _definitely_ slow down the calculation of the posterior.\n",
    "\n",
    "> Added scale parameter for white noise covariance function seems to add degeneracies."
   ]
  }
 ],
 "metadata": {
  "kernelspec": {
   "display_name": "Python 3",
   "language": "python",
   "name": "python3"
  },
  "language_info": {
   "codemirror_mode": {
    "name": "ipython",
    "version": 3
   },
   "file_extension": ".py",
   "mimetype": "text/x-python",
   "name": "python",
   "nbconvert_exporter": "python",
   "pygments_lexer": "ipython3",
   "version": "3.7.3"
  }
 },
 "nbformat": 4,
 "nbformat_minor": 2
}
