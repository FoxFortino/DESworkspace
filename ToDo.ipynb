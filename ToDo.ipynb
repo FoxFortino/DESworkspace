{
 "cells": [
  {
   "cell_type": "markdown",
   "metadata": {},
   "source": [
    "# To Do\n",
    "> Convert to Tensorflow operations\n",
    "\n",
    "> Check to see if kernel becomes no-pos-def because there are nans in the matrix\n",
    "\n",
    "> Add scale parameter to white noise covariance function to help prevent optimizers from having to be weird and add to diagonal of EBF\n",
    "\n",
    "> Write clear function for GPR that clears values\n",
    "\n",
    "> Eventually you need one kernel with one set of parameters (that intakes u and v) to predict for each dx and dy\n",
    "\n",
    "\n",
    "# Done\n",
    "> Exclude residuals beyond 16th and 84th percentiles\n",
    "\n",
    "> Square measurement error on the diagonal\n",
    "\n",
    "> More synth points, more appropriate length scale values\n"
   ]
  },
  {
   "cell_type": "markdown",
   "metadata": {},
   "source": [
    "# Notes\n",
    "> Smaller values of sigma_x and sigma_y _definitely_ slow down the calculation of the posterior. \\\\"
   ]
  },
  {
   "cell_type": "code",
   "execution_count": null,
   "metadata": {},
   "outputs": [],
   "source": []
  }
 ],
 "metadata": {
  "kernelspec": {
   "display_name": "Python 3",
   "language": "python",
   "name": "python3"
  },
  "language_info": {
   "codemirror_mode": {
    "name": "ipython",
    "version": 3
   },
   "file_extension": ".py",
   "mimetype": "text/x-python",
   "name": "python",
   "nbconvert_exporter": "python",
   "pygments_lexer": "ipython3",
   "version": "3.7.3"
  }
 },
 "nbformat": 4,
 "nbformat_minor": 2
}
