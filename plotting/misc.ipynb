{
 "cells": [
  {
   "cell_type": "code",
   "execution_count": 1,
   "metadata": {},
   "outputs": [
    {
     "name": "stdout",
     "output_type": "stream",
     "text": [
      "Created TAP+ (v1.2.1) - Connection:\n",
      "\tHost: gea.esac.esa.int\n",
      "\tUse HTTPS: True\n",
      "\tPort: 443\n",
      "\tSSL Port: 443\n",
      "Created TAP+ (v1.2.1) - Connection:\n",
      "\tHost: geadata.esac.esa.int\n",
      "\tUse HTTPS: True\n",
      "\tPort: 443\n",
      "\tSSL Port: 443\n"
     ]
    }
   ],
   "source": [
    "import os\n",
    "import glob\n",
    "\n",
    "import DESutils\n",
    "import GPRutils\n",
    "import vK2KGPR\n",
    "import plotGPR\n",
    "import vK2KGPR\n",
    "import vonkarmanFT as vk\n",
    "\n",
    "import numpy as np\n",
    "import astropy.units as u\n",
    "import astropy.table as tb\n",
    "from astropy.time import Time\n",
    "import matplotlib.pyplot as plt\n",
    "plt.style.use('~/GitHub/custom-matplotlib/custom.mplstyle')\n",
    "import astropy.stats as stats\n",
    "from scipy.signal import savgol_filter\n",
    "\n",
    "from IPython import embed\n",
    "from importlib import reload\n",
    "import warnings\n",
    "warnings.filterwarnings(\"ignore\")"
   ]
  },
  {
   "cell_type": "code",
   "execution_count": 2,
   "metadata": {},
   "outputs": [
    {
     "name": "stdout",
     "output_type": "stream",
     "text": [
      "343\n"
     ]
    }
   ],
   "source": [
    "FITSfiles = sorted(glob.glob(f\"/home/fortino/GPRSolutions/zone134/GPR.??????.?RC.fits\"))\n",
    "FITSfiles += sorted(glob.glob(f\"/home/fortino/GPRSolutions/zone133/GPR.??????.?RC.fits\"))\n",
    "FITSfiles += sorted(glob.glob(f\"/home/fortino/GPRSolutions/zone132/GPR.??????.?RC.fits\"))\n",
    "FITSfiles += sorted(glob.glob(f\"/home/fortino/GPRSolutions/eris/GPR.??????.?RC.fits\"))\n",
    "print(len(FITSfiles))"
   ]
  },
  {
   "cell_type": "code",
   "execution_count": 3,
   "metadata": {},
   "outputs": [
    {
     "name": "stdout",
     "output_type": "stream",
     "text": [
      "CPU times: user 3min 5s, sys: 8.69 s, total: 3min 14s\n",
      "Wall time: 3min 15s\n"
     ]
    }
   ],
   "source": [
    "%%time\n",
    "AP = plotGPR.AggregatePlots(FITSfiles)\n",
    "AP.calcVals()"
   ]
  },
  {
   "cell_type": "code",
   "execution_count": 4,
   "metadata": {},
   "outputs": [],
   "source": [
    "def printStat(arr):\n",
    "    mean = np.mean(arr)\n",
    "    std = np.std(arr)\n",
    "    perc25, perc50, perc75 = np.percentile(arr, (25, 50, 75))\n",
    "    print(f\"{mean:.4f} ± {std:.4f} ({perc25:.4f}, {perc50:.4f}, {perc75:.4f})\")"
   ]
  },
  {
   "cell_type": "code",
   "execution_count": 5,
   "metadata": {},
   "outputs": [],
   "source": [
    "xi0_raw = []\n",
    "xi0_GPR_fC = []\n",
    "xi0_GPR = []\n",
    "\n",
    "RMS_raw = []\n",
    "RMS_GPR_fC = []\n",
    "RMS_GPR = []\n",
    "\n",
    "red = []\n",
    "red_fC = []\n",
    "\n",
    "for band in [\"r\", \"i\", \"z\"]:\n",
    "    xi0_raw.extend(AP.xi0_raw[band])\n",
    "    xi0_GPR_fC.extend(AP.xi0_GPR_fC[band])\n",
    "    xi0_GPR.extend(AP.xi0_GPR[band])\n",
    "    \n",
    "    RMS_raw.extend(AP.RMS_raw[band])\n",
    "    RMS_GPR_fC.extend(AP.RMS_GPR_fC[band])\n",
    "    RMS_GPR.extend(AP.RMS_GPR[band])\n",
    "\n",
    "    red.extend(AP.red[band])\n",
    "    red_fC.extend(AP.red_fC[band])"
   ]
  },
  {
   "cell_type": "code",
   "execution_count": 6,
   "metadata": {},
   "outputs": [
    {
     "name": "stdout",
     "output_type": "stream",
     "text": [
      "125.0111 ± 126.0278 (52.7755, 79.0094, 145.4569)\n",
      "19.4813 ± 16.0442 (8.6543, 15.1201, 24.9066)\n",
      "11.9657 ± 11.3459 (5.4507, 8.2430, 14.8901)\n"
     ]
    }
   ],
   "source": [
    "printStat(xi0_raw)\n",
    "printStat(xi0_GPR_fC)\n",
    "printStat(xi0_GPR)"
   ]
  },
  {
   "cell_type": "code",
   "execution_count": 7,
   "metadata": {},
   "outputs": [
    {
     "name": "stdout",
     "output_type": "stream",
     "text": [
      "7.2637 ± 3.1216 (5.1369, 6.2852, 8.5280)\n",
      "2.9184 ± 1.1063 (2.0802, 2.7495, 3.5289)\n",
      "2.2650 ± 0.9234 (1.6509, 2.0301, 2.7286)\n"
     ]
    }
   ],
   "source": [
    "printStat(RMS_raw)\n",
    "printStat(RMS_GPR_fC)\n",
    "printStat(RMS_GPR)"
   ]
  },
  {
   "cell_type": "code",
   "execution_count": 8,
   "metadata": {},
   "outputs": [
    {
     "name": "stdout",
     "output_type": "stream",
     "text": [
      "12.0173 ± 7.0324 (7.1628, 10.2450, 15.1713)\n",
      "6.6940 ± 3.2299 (4.5693, 5.6363, 7.9260)\n"
     ]
    }
   ],
   "source": [
    "printStat(red)\n",
    "printStat(red_fC)"
   ]
  },
  {
   "cell_type": "code",
   "execution_count": 12,
   "metadata": {},
   "outputs": [
    {
     "name": "stdout",
     "output_type": "stream",
     "text": [
      "0.9469 ± 0.3353 (0.8185, 1.0064, 1.2396)\n",
      "10226.0408 ± 3620.8619 (8839.5000, 10869.0000, 13387.5000)\n"
     ]
    },
    {
     "data": {
      "text/plain": [
       "(2045.2081632653062, 8180.832653061225)"
      ]
     },
     "execution_count": 12,
     "metadata": {},
     "output_type": "execute_result"
    }
   ],
   "source": [
    "starDensity = []\n",
    "for band in plotGPR.DES_PASSBANDS:\n",
    "    starDensity.extend(AP.starDensity[band])\n",
    "\n",
    "printStat(u.Quantity(starDensity).value)\n",
    "\n",
    "N = (u.Quantity(starDensity).value*3*u.deg**2 * u.arcmin**-2).decompose().value\n",
    "printStat(N)\n",
    "np.mean(N)*0.2, np.mean(N)*0.8"
   ]
  },
  {
   "cell_type": "code",
   "execution_count": 13,
   "metadata": {},
   "outputs": [
    {
     "name": "stdout",
     "output_type": "stream",
     "text": [
      "106.1137 ± 60.6904 (61.5000, 87.0000, 133.0000)\n"
     ]
    }
   ],
   "source": [
    "nStepsGP = []\n",
    "for band in plotGPR.DES_PASSBANDS:\n",
    "    nStepsGP.extend(AP.nStepsGP[band])\n",
    "printStat(nStepsGP)"
   ]
  },
  {
   "cell_type": "code",
   "execution_count": 14,
   "metadata": {},
   "outputs": [
    {
     "name": "stdout",
     "output_type": "stream",
     "text": [
      "73.5160 ± 48.7065 (40.0000, 56.0000, 96.0000)\n"
     ]
    }
   ],
   "source": [
    "nSteps1 = []\n",
    "for band in plotGPR.DES_PASSBANDS:\n",
    "    nSteps1.extend(AP.nSteps1[band])\n",
    "printStat(nSteps1)"
   ]
  },
  {
   "cell_type": "code",
   "execution_count": 15,
   "metadata": {},
   "outputs": [
    {
     "name": "stdout",
     "output_type": "stream",
     "text": [
      "32.5977 ± 30.2143 (15.0000, 24.0000, 33.0000)\n"
     ]
    }
   ],
   "source": [
    "nSteps2 = []\n",
    "for band in plotGPR.DES_PASSBANDS:\n",
    "    nSteps2.extend(AP.nSteps2[band])\n",
    "printStat(nSteps2)"
   ]
  },
  {
   "cell_type": "code",
   "execution_count": 14,
   "metadata": {},
   "outputs": [
    {
     "data": {
      "text/plain": [
       "(0, 76, 70, 64, 72, 61)"
      ]
     },
     "execution_count": 14,
     "metadata": {},
     "output_type": "execute_result"
    }
   ],
   "source": [
    "len(AP.expNums[\"u\"]), len(AP.expNums[\"g\"]), len(AP.expNums[\"r\"]), len(AP.expNums[\"i\"]), len(AP.expNums[\"z\"]), len(AP.expNums[\"Y\"])"
   ]
  },
  {
   "cell_type": "code",
   "execution_count": 15,
   "metadata": {},
   "outputs": [
    {
     "data": {
      "text/plain": [
       "343"
      ]
     },
     "execution_count": 15,
     "metadata": {},
     "output_type": "execute_result"
    }
   ],
   "source": [
    "len(FITSfiles)"
   ]
  },
  {
   "cell_type": "code",
   "execution_count": 17,
   "metadata": {},
   "outputs": [
    {
     "data": {
      "text/plain": [
       "(119.20116618075802, array([ 91., 150., 150.]), 38.66892890655189)"
      ]
     },
     "execution_count": 17,
     "metadata": {},
     "output_type": "execute_result"
    }
   ],
   "source": [
    "s = []\n",
    "for band in plotGPR.DES_PASSBANDS:\n",
    "    s.extend(AP.nStepsfC[band])\n",
    "np.mean(s), np.percentile(s, (25, 50, 75)), np.std(s)"
   ]
  },
  {
   "cell_type": "code",
   "execution_count": null,
   "metadata": {},
   "outputs": [],
   "source": [
    "# for band in plotGPR.DES_PASSBANDS:\n",
    "# #     assert band in DES_PASSBANDS\n",
    "# #     if len(self.expNums[band]) == 0:\n",
    "# #         return\n",
    "    \n",
    "#     plt.hist(\n",
    "#         AP.RMS_raw[band],\n",
    "#         bins=50, range=(0, 25),\n",
    "# #         histtype=\"step\",\n",
    "#         color=plotGPR.DES_COLORS[band],\n",
    "#         label=f\"{band}\")\n",
    "\n",
    "# plt.legend()\n",
    "# plt.show()\n",
    "\n",
    "# for band in plotGPR.DES_PASSBANDS:\n",
    "# #     assert band in DES_PASSBANDS\n",
    "# #     if len(self.expNums[band]) == 0:\n",
    "# #         return\n",
    "    \n",
    "#     plt.hist(\n",
    "#         AP.RMS_GPR[band],\n",
    "#         bins=50, range=(0, 25),\n",
    "# #         histtype=\"step\",\n",
    "#         color=plotGPR.DES_COLORS[band],\n",
    "#         label=f\"{band}\")\n",
    "\n",
    "# plt.legend()\n",
    "# plt.show()\n",
    "\n",
    "for band in plotGPR.DES_PASSBANDS:\n",
    "    \n",
    "    # If there are no exposures for that band in AP, then skip it.\n",
    "    if len(AP.expNums[band]) == 0:\n",
    "        continue\n",
    "    \n",
    "    densities = u.Quantity(AP.starDensity[band]).value\n",
    "    plt.hist(densities, color=plotGPR.DES_COLORS[band], label=band)\n",
    "    \n",
    "plt.legend()\n",
    "plt.show()"
   ]
  },
  {
   "cell_type": "code",
   "execution_count": null,
   "metadata": {},
   "outputs": [],
   "source": [
    "times = np.array([])\n",
    "GPtimes = np.array([])\n",
    "nOpt1 = np.array([])\n",
    "nOpt2 = np.array([])\n",
    "nGP = np.array([])\n",
    "for outfile in outfiles:\n",
    "    parseOut = DESutils.parseOutfile(outfile)\n",
    "    if parseOut.finished:\n",
    "        times = np.append(times, parseOut.totalTime.value)\n",
    "        GPtimes = np.append(GPtimes, parseOut.avgGPTime.value)\n",
    "        nOpt1 = np.append(nOpt1, parseOut.nOpt1)\n",
    "        nOpt2 = np.append(nOpt2, parseOut.nOpt2)\n",
    "        nGP = np.append(nGP, parseOut.nGP)\n",
    "    else:\n",
    "        if parseOut.LinAlgErr:\n",
    "            print(outfile)\n",
    "            print(parseOut.LinAlgErr_params)"
   ]
  },
  {
   "cell_type": "code",
   "execution_count": null,
   "metadata": {},
   "outputs": [],
   "source": [
    "plt.figure(figsize=(20, 10))\n",
    "plt.hist(GPtimes, bins=20, range=(0, 10))\n",
    "\n",
    "percs = np.percentile(GPtimes, (25, 50, 75))\n",
    "plt.axvline(x=np.mean(GPtimes), c=\"tab:red\", linewidth=2, ls=\"-\", label=f\"{np.round(np.mean(GPtimes), 2)} mins (Mean)\")\n",
    "plt.axvline(x=percs[0], c=\"black\", linewidth=2, ls=\":\", label=f\"{np.round(percs[0], 2)} mins \\n(25th Percentile)\")\n",
    "plt.axvline(x=percs[1], c=\"black\", linewidth=2, ls=\"--\", label=f\"{np.round(percs[1], 2)} mins \\n(50th Percentile)\")\n",
    "plt.axvline(x=percs[2], c=\"black\", linewidth=2, ls=\":\", label=f\"{np.round(percs[2], 2)} mins \\n(75th Percentile)\")\n",
    "plt.legend(loc=\"upper right\", framealpha=0.75)\n",
    "\n",
    "plt.xlim((0, 10))\n",
    "plt.ylim((0, None))\n",
    "\n",
    "plt.xlabel(\"Mean GP Calculation Time [min]\")\n",
    "plt.ylabel(\"Number of Exposures [counts]\")\n",
    "\n",
    "plt.grid(which=\"minor\", axis=\"x\")\n",
    "plt.grid()\n",
    "\n",
    "plt.show()"
   ]
  },
  {
   "cell_type": "code",
   "execution_count": null,
   "metadata": {},
   "outputs": [],
   "source": [
    "plt.figure(figsize=(20, 10))\n",
    "plt.hist(times, bins=80, range=(0, 40))\n",
    "\n",
    "percs = np.percentile(times, (25, 50, 75))\n",
    "plt.axvline(x=np.mean(times), c=\"tab:red\", linewidth=2, ls=\"-\", label=f\"{np.round(np.mean(times), 2)} hours (Mean)\")\n",
    "plt.axvline(x=percs[0], c=\"black\", linewidth=2, ls=\":\", label=f\"{np.round(percs[0], 2)} hours \\n(25th Percentile)\")\n",
    "plt.axvline(x=percs[1], c=\"black\", linewidth=2, ls=\"--\", label=f\"{np.round(percs[1], 2)} hours \\n(50th Percentile)\")\n",
    "plt.axvline(x=percs[2], c=\"black\", linewidth=2, ls=\":\", label=f\"{np.round(percs[2], 2)} hours \\n(75th Percentile)\")\n",
    "plt.legend(loc=\"upper right\", framealpha=0.75)\n",
    "\n",
    "plt.xlim((0, 24))\n",
    "plt.ylim((0, None))\n",
    "\n",
    "plt.xlabel(\"Total Time [hours]\")\n",
    "plt.ylabel(\"Number of Exposures [counts]\")\n",
    "\n",
    "plt.grid(which=\"minor\", axis=\"x\")\n",
    "plt.grid()\n",
    "\n",
    "plt.show()"
   ]
  },
  {
   "cell_type": "code",
   "execution_count": null,
   "metadata": {},
   "outputs": [],
   "source": [
    "fig, axes = plt.subplots(nrows=1, ncols=3, sharex=True, sharey=True, figsize=(20, 10))\n",
    "fig.subplots_adjust(wspace=0)\n",
    "\n",
    "histrange = (0, 150)\n",
    "nBins = 25\n",
    "\n",
    "axes[0].axvline(x=np.mean(nOpt1), c=\"tab:red\", linewidth=2, ls=\"-\", label=f\"{np.mean(nOpt1):.2f} Steps\\nMean Opt1\")\n",
    "axes[0].hist(nOpt1, color=\"tab:red\", histtype=\"stepfilled\", range=histrange, bins=nBins)\n",
    "axes[0].legend(loc=\"upper right\")\n",
    "axes[0].grid()\n",
    "\n",
    "axes[1].axvline(x=np.mean(nOpt2), c=\"tab:blue\", linewidth=2, ls=\"-\", label=f\"{np.mean(nOpt2):.2f} Steps\\nMean Opt2\")\n",
    "axes[1].hist(nOpt2, color=\"tab:blue\", histtype=\"stepfilled\", range=histrange, bins=nBins)\n",
    "axes[1].legend(loc=\"upper right\")\n",
    "axes[1].grid()\n",
    "\n",
    "axes[2].axvline(x=np.mean(nOpt1+nOpt2), c=\"black\", linewidth=2, ls=\"-\", label=f\"{np.mean(nOpt1+nOpt2):.2f} Steps\\nMean Total\")\n",
    "axes[2].hist(nOpt1+nOpt2, color=\"black\", histtype=\"stepfilled\", range=histrange, bins=nBins)\n",
    "axes[2].legend(loc=\"upper right\")\n",
    "axes[2].grid()\n",
    "        \n",
    "\n",
    "plt.show()"
   ]
  },
  {
   "cell_type": "code",
   "execution_count": null,
   "metadata": {},
   "outputs": [],
   "source": []
  }
 ],
 "metadata": {
  "kernelspec": {
   "display_name": "Python 3",
   "language": "python",
   "name": "python3"
  },
  "language_info": {
   "codemirror_mode": {
    "name": "ipython",
    "version": 3
   },
   "file_extension": ".py",
   "mimetype": "text/x-python",
   "name": "python",
   "nbconvert_exporter": "python",
   "pygments_lexer": "ipython3",
   "version": "3.7.3"
  }
 },
 "nbformat": 4,
 "nbformat_minor": 4
}
