{
 "cells": [
  {
   "cell_type": "code",
   "execution_count": 1,
   "metadata": {},
   "outputs": [
    {
     "name": "stdout",
     "output_type": "stream",
     "text": [
      "Created TAP+ (v1.2.1) - Connection:\n",
      "\tHost: gea.esac.esa.int\n",
      "\tUse HTTPS: True\n",
      "\tPort: 443\n",
      "\tSSL Port: 443\n",
      "Created TAP+ (v1.2.1) - Connection:\n",
      "\tHost: geadata.esac.esa.int\n",
      "\tUse HTTPS: True\n",
      "\tPort: 443\n",
      "\tSSL Port: 443\n"
     ]
    }
   ],
   "source": [
    "import os\n",
    "import glob\n",
    "\n",
    "import DESutils\n",
    "import GPRutils\n",
    "import vK2KGPR\n",
    "import plotGPR\n",
    "import vK2KGPR\n",
    "import vonkarmanFT as vk\n",
    "\n",
    "import numpy as np\n",
    "import astropy.units as u\n",
    "import astropy.table as tb\n",
    "from astropy.time import Time\n",
    "import matplotlib.pyplot as plt\n",
    "# plt.style.use('~/GitHub/custom-matplotlib/custom.mplstyle')\n",
    "\n",
    "from IPython import embed\n",
    "from importlib import reload\n",
    "import warnings\n",
    "warnings.filterwarnings(\"ignore\")"
   ]
  },
  {
   "cell_type": "code",
   "execution_count": 2,
   "metadata": {},
   "outputs": [
    {
     "name": "stdout",
     "output_type": "stream",
     "text": [
      "343\n"
     ]
    }
   ],
   "source": [
    "# OUTfiles = sorted(glob.glob(\"/home/fortino/GPRSolutions/dualOpt_NMmax/GPR.??????.?RC.out\"))\n",
    "# FITSfiles = sorted(glob.glob(\"/home/fortino/GPRSolutions/dualOpt_NMmax/GPR.??????.?RC.fits\"))\n",
    "\n",
    "# OUTfiles = sorted(glob.glob(\"/home/fortino/GPRSolutions/L_BFGS_B_max/GPR.??????.?RC.out\"))\n",
    "# FITSfiles = sorted(glob.glob(\"/home/fortino/GPRSolutions/L_BFGS_B_max/GPR.??????.?RC.fits\"))\n",
    "\n",
    "# OUTfiles = sorted(glob.glob(\"/home/fortino/GPRSolutions/L_BFGS_B_max2/GPR.??????.?RC.out\"))\n",
    "# FITSfiles = sorted(glob.glob(\"/home/fortino/GPRSolutions/L_BFGS_B_max2/GPR.??????.?RC.fits\"))\n",
    "\n",
    "FITSfiles = sorted(glob.glob(f\"/home/fortino/GPRSolutions/zone134/GPR.??????.?RC.fits\"))\n",
    "FITSfiles += sorted(glob.glob(f\"/home/fortino/GPRSolutions/zone133/GPR.??????.?RC.fits\"))\n",
    "FITSfiles += sorted(glob.glob(f\"/home/fortino/GPRSolutions/zone132/GPR.??????.?RC.fits\"))\n",
    "FITSfiles += sorted(glob.glob(f\"/home/fortino/GPRSolutions/eris/GPR.??????.?RC.fits\"))\n",
    "print(len(FITSfiles))"
   ]
  },
  {
   "cell_type": "code",
   "execution_count": 13,
   "metadata": {},
   "outputs": [
    {
     "name": "stdout",
     "output_type": "stream",
     "text": [
      "#####------361582 i------#####\n",
      "Total Time: 3.715 h\n",
      "Average GP Calculation Tmie: 3.151 min\n",
      "\n",
      "xi0 Raw       : 101.526 ± 2.039\n",
      "xi0 Fitted    : 14.906 ± 0.817\n",
      "  Fitted Reduction    : 6.811 ± 0.398\n",
      "xi0 Optimized : 7.218 ± 0.703\n",
      "  Optimized Reduction: 14.065 ± 1.398\n",
      "\n",
      "Fitted von Kármán kernel parameters:\n",
      "K Variance     Outer Scale    Diameter       Wind X         Wind Y         \n",
      "110.6607377    1.6261553      0.0359941      -0.0212567     0.0963493      \n",
      "  Correlation Fitting Time: 53.527 min, 151 steps\n",
      "  Star Density: 0.994 1 / arcmin2\n",
      "\n",
      "Optimized von Kármán kernel parameters:\n",
      "K Variance     Outer Scale    Diameter       Wind X         Wind Y         \n",
      "215.8798051    1.5231584      0.0234323      -0.0213215     0.0080798      \n",
      "  Optmization Time: 2.258 h, 43 (28 15) steps\n",
      "  Star Density: 0.994 1 / arcmin2\n",
      "\n"
     ]
    }
   ],
   "source": [
    "reload(GPRutils)\n",
    "expNum = DESutils.createBandDict(\"/data3/garyb/tno/y6/zone134\")[1][\"i\"][0]\n",
    "dC = GPRutils.loadFITS(f\"/home/fortino/GPRSolutions/zone134/GPR.{expNum}.?RC.fits\")\n",
    "dC.summarize(plot=False)"
   ]
  },
  {
   "cell_type": "code",
   "execution_count": null,
   "metadata": {},
   "outputs": [],
   "source": []
  }
 ],
 "metadata": {
  "kernelspec": {
   "display_name": "Python 3",
   "language": "python",
   "name": "python3"
  },
  "language_info": {
   "codemirror_mode": {
    "name": "ipython",
    "version": 3
   },
   "file_extension": ".py",
   "mimetype": "text/x-python",
   "name": "python",
   "nbconvert_exporter": "python",
   "pygments_lexer": "ipython3",
   "version": "3.7.3"
  }
 },
 "nbformat": 4,
 "nbformat_minor": 4
}
