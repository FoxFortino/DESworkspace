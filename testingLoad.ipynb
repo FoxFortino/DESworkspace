{
 "cells": [
  {
   "cell_type": "code",
   "execution_count": 1,
   "metadata": {},
   "outputs": [
    {
     "name": "stdout",
     "output_type": "stream",
     "text": [
      "Created TAP+ (v1.2.1) - Connection:\n",
      "\tHost: gea.esac.esa.int\n",
      "\tUse HTTPS: True\n",
      "\tPort: 443\n",
      "\tSSL Port: 443\n",
      "Created TAP+ (v1.2.1) - Connection:\n",
      "\tHost: geadata.esac.esa.int\n",
      "\tUse HTTPS: True\n",
      "\tPort: 443\n",
      "\tSSL Port: 443\n"
     ]
    }
   ],
   "source": [
    "# Standard modules\n",
    "import os\n",
    "import shutil\n",
    "from importlib import reload\n",
    "\n",
    "# Willow Fox Fortino's modules\n",
    "import GPRutils\n",
    "import vK2KGPR\n",
    "import plotGPR\n",
    "\n",
    "# Professor Gary Bernstein's modules\n",
    "import getGaiaDR2 as gaia\n",
    "import gbutil\n",
    "\n",
    "# Science modules\n",
    "import numpy as np\n",
    "import astropy.units as u\n",
    "import astropy.constants as c\n",
    "import astropy.table as tb\n",
    "import astropy.coordinates as co\n",
    "import astropy.io.fits as fits\n",
    "import astropy.stats as stats\n",
    "from astropy.time import Time\n",
    "from scipy.spatial.ckdtree import cKDTree\n",
    "from sklearn.model_selection import train_test_split\n",
    "import matplotlib.pyplot as plt\n",
    "\n",
    "from IPython import embed"
   ]
  },
  {
   "cell_type": "code",
   "execution_count": 2,
   "metadata": {},
   "outputs": [],
   "source": [
    "expNum=364215\n",
    "zoneDir=\"/data3/garyb/tno/y6/zone134\"\n",
    "tile0=\"DES2203-4623_final.fits\"\n",
    "earthRef=\"/home/fortino/y6a1.exposures.positions.fits.gz\"\n",
    "tileRef=\"/home/fortino/expnum_tile.fits.gz\"\n",
    "tol=0.5*u.arcsec"
   ]
  },
  {
   "cell_type": "code",
   "execution_count": 3,
   "metadata": {},
   "outputs": [],
   "source": [
    "# Load in data from a reference tile (tile0). This tile is arbitrary.\n",
    "# At the time of implementation, I do not have access to a reference\n",
    "# file relating tiles to zones, and exposures to tiles. I only have a\n",
    "# reference file (tileRef) that relates exposures to tiles. Therefore,\n",
    "# this block of code opens a tile (tile0) that is actually in our\n",
    "# (arbitrary) zone of interest for this thesis (zone 134). From this\n",
    "# tile I can pick one of its constituent exposures. This way I have\n",
    "# chosen an exposure that I know is in zone 134 (the zone I have\n",
    "# access to).\n",
    "file0 = os.path.join(zoneDir, tile0)\n",
    "tab0 = tb.Table.read(file0)\n",
    "if expNum is None:\n",
    "    expNum = np.unique(tab0[\"EXPNUM\"])[10]"
   ]
  },
  {
   "cell_type": "code",
   "execution_count": 4,
   "metadata": {},
   "outputs": [],
   "source": [
    "# Use earthRef to find the center (ra, dec) of the exposure as well as\n",
    "# the MJD of the exposure.\n",
    "pos_tab = tb.Table.read(earthRef, hdu=1)\n",
    "pos_tab = pos_tab[pos_tab[\"expnum\"] == expNum]\n",
    "ra0 = pos_tab[\"ra\"][0]*u.deg\n",
    "dec0 = pos_tab[\"dec\"][0]*u.deg\n",
    "DES_obs = Time(pos_tab[\"mjd_mid\"][0], format=\"mjd\")"
   ]
  },
  {
   "cell_type": "code",
   "execution_count": 5,
   "metadata": {},
   "outputs": [],
   "source": [
    "# Use tileRef to find all of the tiles that our exposure is a part of.\n",
    "tiles_tab = tb.Table.read(tileRef)\n",
    "tiles = tiles_tab[tiles_tab[\"EXPNUM\"] == expNum][\"TILENAME\"]"
   ]
  },
  {
   "cell_type": "code",
   "execution_count": 6,
   "metadata": {},
   "outputs": [
    {
     "name": "stdout",
     "output_type": "stream",
     "text": [
      "Exposure: 364215\n",
      "Band: z\n",
      "Number of objects: 110646\n"
     ]
    }
   ],
   "source": [
    "# Create an empty astropy table with all of the necessary columns.\n",
    "DES_tab = tab0.copy()\n",
    "DES_tab.remove_rows(np.arange(len(DES_tab)))\n",
    "\n",
    "# Loop through each tile, open the table, and append (with tv.vstack)\n",
    "# the data to our empty table. Also check if the selected exposure is\n",
    "# in the Y band because we do not want to use those.\n",
    "for tile in tiles:\n",
    "    try:\n",
    "        tile = str(tile) + \"_final.fits\"\n",
    "        file = os.path.join(zoneDir, tile)\n",
    "        tab = tb.Table.read(file)\n",
    "        tab = tab[tab[\"EXPNUM\"] == expNum]\n",
    "        band = np.unique(tab[\"BAND\"])[0]\n",
    "        assert band != \"y\", \"This exposure is in the y band. No.\"\n",
    "        DES_tab = tb.vstack([DES_tab, tab])\n",
    "    except FileNotFoundError:\n",
    "        # print(f\"File not found: {file}, continuing without it\")\n",
    "        # continue\n",
    "        print(f\"File not found: {file}, quitting...\")\n",
    "        quit()\n",
    "\n",
    "print(f\"Exposure: {expNum}\")\n",
    "print(f\"Band: {np.unique(DES_tab['BAND'])[0]}\")\n",
    "print(f\"Number of objects: {len(DES_tab)}\")\n",
    "\n",
    "# Initialize variables for the relevant columns.\n",
    "DES_ra = np.array(DES_tab[\"NEW_RA\"])*u.deg\n",
    "DES_dec = np.array(DES_tab[\"NEW_DEC\"])*u.deg\n",
    "DES_err = np.array(DES_tab[\"ERRAWIN_WORLD\"])*u.deg"
   ]
  },
  {
   "cell_type": "code",
   "execution_count": 7,
   "metadata": {},
   "outputs": [
    {
     "name": "stderr",
     "output_type": "stream",
     "text": [
      "WARNING: W35: None:5:0: W35: 'value' attribute required for INFO elements [astropy.io.votable.tree]\n",
      "WARNING: W35: None:6:0: W35: 'value' attribute required for INFO elements [astropy.io.votable.tree]\n",
      "WARNING: W35: None:7:0: W35: 'value' attribute required for INFO elements [astropy.io.votable.tree]\n",
      "WARNING: W35: None:8:0: W35: 'value' attribute required for INFO elements [astropy.io.votable.tree]\n",
      "WARNING: W35: None:10:0: W35: 'value' attribute required for INFO elements [astropy.io.votable.tree]\n",
      "WARNING: W50: None:35:0: W50: Invalid unit string 'mas.yr**-1' [astropy.io.votable.tree]\n",
      "WARNING: W50: None:38:0: W50: Invalid unit string 'mas.yr**-1' [astropy.io.votable.tree]\n",
      "WARNING: W50: None:41:0: W50: Invalid unit string 'mas.yr**-1' [astropy.io.votable.tree]\n",
      "WARNING: W50: None:44:0: W50: Invalid unit string 'mas.yr**-1' [astropy.io.votable.tree]\n",
      "WARNING: W06: None:80:0: W06: Invalid UCD 'arith.ratio': Secondary word 'arith.ratio' is not valid as a primary word [astropy.io.votable.tree]\n"
     ]
    },
    {
     "name": "stdout",
     "output_type": "stream",
     "text": [
      "INFO: Query finished. [astroquery.utils.tap.core]\n"
     ]
    }
   ],
   "source": [
    "# Retrieve Gaia data and initialize variables for the relevant\n",
    "# columns.\n",
    "GAIA_tab = gaia.getGaiaCat(ra0.value, dec0.value, 2.5, 2.5)"
   ]
  },
  {
   "cell_type": "code",
   "execution_count": 8,
   "metadata": {},
   "outputs": [],
   "source": [
    "GAIA_obs = Time(\"J2015.5\", format=\"jyear_str\", scale=\"tcb\")\n",
    "\n",
    "# Adjust Gaia RA values to be between -180 and 180\n",
    "GAIA_ra = np.array(GAIA_tab[\"ra\"])*u.deg\n",
    "GAIA_ra[GAIA_ra > 180*u.deg] -= 360*u.deg\n",
    "\n",
    "GAIA_dec = np.array(GAIA_tab[\"dec\"])*u.deg\n",
    "\n",
    "GAIA_pmra_cosdec = np.array(GAIA_tab[\"pmra\"])*u.mas/u.yr\n",
    "GAIA_pmdec = np.array(GAIA_tab[\"pmdec\"])*u.mas/u.yr\n",
    "GAIA_parallax = np.array(GAIA_tab[\"parallax\"])*u.mas\n",
    "\n",
    "# Circular error approximation\n",
    "GAIA_err = np.array(GAIA_tab[\"error\"])*u.deg\n",
    "\n",
    "# Full covariance matrix\n",
    "GAIA_cov = np.array(GAIA_tab[\"cov\"])*u.mas\n",
    "GAIA_cov = np.reshape(GAIA_cov, (GAIA_cov.shape[0], 5, 5))"
   ]
  },
  {
   "cell_type": "code",
   "execution_count": 9,
   "metadata": {},
   "outputs": [
    {
     "name": "stdout",
     "output_type": "stream",
     "text": [
      "There were 10847 matches within 0.5 arcsec.\n"
     ]
    }
   ],
   "source": [
    "# Initialize astropy SkyCoord objects to take advantage of astropy's\n",
    "# `match_coordinates_sky`.\n",
    "X_DES = co.SkyCoord(DES_ra, DES_dec)\n",
    "X_GAIA = co.SkyCoord(GAIA_ra, GAIA_dec)\n",
    "\n",
    "# Match DES objects with Gaia counterparts based on how close together\n",
    "# they are on the sky. \n",
    "idx, sep2d, dist3d = co.match_coordinates_sky(X_GAIA, X_DES)\n",
    "\n",
    "# slice that can index the Gaia catalog for only the stars that have a\n",
    "# match\n",
    "ind_GAIA = np.where(sep2d < tol)[0]\n",
    "\n",
    "# slice that can index the DES catalog for only the stars that have a\n",
    "# match. Will be in the same order as ind_GAIA\n",
    "ind_DES = idx[ind_GAIA]\n",
    "\n",
    "print(f\"There were {ind_GAIA.size} matches within {tol}.\")"
   ]
  },
  {
   "cell_type": "code",
   "execution_count": 10,
   "metadata": {},
   "outputs": [],
   "source": [
    "M = np.array([\n",
    "[-np.sin(ra0), np.cos(ra0), 0],\n",
    "[-np.cos(ra0)*np.sin(dec0), -np.sin(ra0)*np.sin(dec0), np.cos(dec0)],\n",
    "[np.cos(ra0)*np.cos(dec0), np.sin(ra0)*np.cos(dec0), np.sin(dec0)]\n",
    "])\n",
    "\n",
    "\n",
    "X_ICRS_DES = np.array([\n",
    "    np.cos(DES_dec) * np.cos(DES_ra),\n",
    "    np.cos(DES_dec) * np.sin(DES_ra),\n",
    "    np.sin(DES_dec)\n",
    "])\n",
    "X_ICRS_GAIA = np.array([\n",
    "    np.cos(GAIA_dec) * np.cos(GAIA_ra),\n",
    "    np.cos(GAIA_dec) * np.sin(GAIA_ra),\n",
    "    np.sin(GAIA_dec)\n",
    "])\n",
    "\n",
    "xproj, yproj, zproj = np.dot(M, X_ICRS_DES)\n",
    "X_gn_DES = ((xproj/zproj, yproj/zproj)*u.rad).to(u.deg).T\n",
    "\n",
    "xproj, yproj, zproj = np.dot(M, X_ICRS_GAIA)\n",
    "X_gn_GAIA = ((xproj/zproj, yproj/zproj)*u.rad).to(u.deg).T"
   ]
  },
  {
   "cell_type": "code",
   "execution_count": 11,
   "metadata": {},
   "outputs": [],
   "source": [
    "# Calculate gnomonic projection of the observatory coordinates\n",
    "X_E = pos_tab[\"observatory\"][0]\n",
    "X_gn_E = np.dot(M, X_E)\n",
    "\n",
    "# Calculate time difference between DES and Gaia observations.\n",
    "dt = DES_obs - GAIA_obs\n",
    "dt = dt.sec\n",
    "dt = (dt*u.s).to(u.yr).value\n",
    "\n",
    "# Calculate coefficient matrix in appropriate units.\n",
    "A = np.array([\n",
    "    [1, 0, dt, 0, X_gn_E[0]],\n",
    "    [0, 1, 0, dt, X_gn_E[1]]\n",
    "])\n",
    "\n",
    "# Calculate the variable array\n",
    "X = np.vstack([\n",
    "    X_gn_GAIA[:, 0].value,\n",
    "    X_gn_GAIA[:, 1].value,\n",
    "    GAIA_pmra_cosdec.to(u.deg/u.yr).value,\n",
    "    GAIA_pmdec.to(u.deg/u.yr).value,\n",
    "    GAIA_parallax.to(u.deg).value\n",
    "])\n",
    "\n",
    "# Perform epoch transformation\n",
    "X_gn_transf_GAIA = np.dot(A, X).T*u.deg"
   ]
  },
  {
   "cell_type": "code",
   "execution_count": 12,
   "metadata": {},
   "outputs": [],
   "source": [
    "# Find covariance matrix for X_gn_transf_GAIA.\n",
    "cov = np.dot(A, np.dot(GAIA_cov, A.T))\n",
    "\n",
    "# Swap axes to make the shape of the array more natural to humans.\n",
    "cov = np.swapaxes(cov, 1, 0)"
   ]
  },
  {
   "cell_type": "code",
   "execution_count": 13,
   "metadata": {},
   "outputs": [],
   "source": [
    "# Declare attribute for the full X array (DES star positions). This array will be split into the training, validation, and prediction sets.\n",
    "X = X_gn_DES\n",
    "\n",
    "# This line performs the subtraction between Gaia stars (indexed by\n",
    "# ind_GAIA which takes only the Gaia stars that have DES counterparts)\n",
    "# and DES stars (indexed by ind_DES which takes only the DES stars\n",
    "# that have DES counterparts). This creates the astrometric residuals\n",
    "# between the \"true\" star positions (Gaia) and the \"observed\" star\n",
    "# positions (DES).\n",
    "Y = X_gn_transf_GAIA[ind_GAIA] - X_gn_DES[ind_DES]\n",
    "\n",
    "# This is an array of (2, 2) covariance matrices. This line selects\n",
    "# only the covariance matrices for Gaia stars that have a DES\n",
    "# counterpart.\n",
    "E_GAIA = cov[ind_GAIA, :, :]\n",
    "\n",
    "# Declare attribute for circular measurement error for DES stars.\n",
    "# There is not a (2, 2) covariance matrix for each detection because\n",
    "# DES only provides circular measurement errors (to my knowledge as a\n",
    "# lowly undergraduate).\n",
    "E_DES = DES_err"
   ]
  },
  {
   "cell_type": "code",
   "execution_count": 14,
   "metadata": {},
   "outputs": [],
   "source": [
    "nSigma = 4\n",
    "train_size = 0.80\n",
    "subSample = 1.0\n",
    "random_state = 0"
   ]
  },
  {
   "cell_type": "code",
   "execution_count": 15,
   "metadata": {},
   "outputs": [],
   "source": [
    "rng = np.random.RandomState(random_state)\n",
    "\n",
    "# Sigma clip on the residuals, hopefully removing a few outliers.\n",
    "mask = stats.sigma_clip(Y, sigma=nSigma, axis=0).mask\n",
    "mask = ~np.logical_or(*mask.T)\n",
    "\n",
    "# Make intermediate `tv` arrays (training/validation). These arrays\n",
    "# will be split into the training and validation sets and are not used\n",
    "# directly. Also apply the sigma clipping mask.\n",
    "# The sigma clipping mask is not applied to the attributes\n",
    "# dataContainer.X, dataContainer.Y, etc., because I want to save the\n",
    "# full array when I save all of this data to an npz file that way I\n",
    "# can just run this method again and recreate the training,\n",
    "# validation, and prediction sets (and sigma clipping won't happen\n",
    "# twice). Having to run this method again when loading in npz data is\n",
    "# not a bad thing because it means I don't have to save those arrays\n",
    "# in the npz file.\n",
    "X_tv = X[ind_DES][mask]\n",
    "Y_tv = Y[mask]\n",
    "E_tv_GAIA = E_GAIA[mask, :, :]\n",
    "E_tv_DES = E_DES[ind_DES][mask]\n",
    "\n",
    "# Generate an array of numbers from 0 to nTV-1.\n",
    "nTV = X_tv.shape[0]\n",
    "tv_mask = np.arange(nTV)\n",
    "\n",
    "# Shuffle these numbers. Now I can take the first X% of these and have a\n",
    "# random slice of the data. If I were to simply  take the first X% of the data\n",
    "# arrays I would not have a random subset because the arrays are ordered.\n",
    "rng.shuffle(tv_mask)\n",
    "\n",
    "# Figure out the number of data points that should be included based on\n",
    "# subSample\n",
    "nSubSample = int(np.ceil(nTV*subSample))\n",
    "\n",
    "# Take only the first nSubSample data points from the mask. Now I can take the\n",
    "# first X% of these and have a random slice of (subSample)% of the full\n",
    "# dataset.\n",
    "tv_mask = tv_mask[:nSubSample]\n",
    "\n",
    "# Redefine nTV based on subSample because nTrain and nValid are calculated\n",
    "# from it.\n",
    "nTV = int(np.ceil(nTV*subSample))\n",
    "nTrain = int(np.floor(nTV*train_size))\n",
    "nValid = nTV - nTrain\n",
    "\n",
    "# Get the training set and validation set slices. When used to index the data\n",
    "# arrays, these will retrieve random subsets of the data.\n",
    "train_mask = tv_mask[:nTrain]\n",
    "valid_mask = tv_mask[nTrain:]\n",
    "\n",
    "# Get the training and validation sets from the slices.\n",
    "Xtrain, Xvalid = X_tv[train_mask, :], X_tv[valid_mask, :]\n",
    "Ytrain, Yvalid = Y_tv[train_mask, :], Y_tv[valid_mask, :]\n",
    "Etrain_GAIA, Evalid_GAIA = E_tv_GAIA[train_mask,...],E_tv_GAIA[valid_mask,...]\n",
    "Etrain_DES, Evalid_DES = E_tv_DES[train_mask], E_tv_DES[valid_mask]\n",
    "\n",
    "# From the datasets (length nData) for X (astrometric position) and\n",
    "# E_DES (measurement error), remove the elements that have a Gaia\n",
    "# counterpart (these are already accounted for in the training\n",
    "# validation sets).\n",
    "Xpred = np.delete(X, ind_DES, axis=0)\n",
    "Epred = np.delete(E_DES, ind_DES, axis=0)"
   ]
  },
  {
   "cell_type": "code",
   "execution_count": 54,
   "metadata": {},
   "outputs": [
    {
     "data": {
      "text/latex": [
       "$[[-1.9604484,~0.56078614],~\n",
       " [-8.9133191,~1.0603024],~\n",
       " [3.9155837,~13.853599],~\n",
       " \\dots,~\n",
       " [-5.650743,~-9.9140046],~\n",
       " [2.2352193,~4.8741046],~\n",
       " [-23.523073,~-16.135474]] \\; \\mathrm{mas}$"
      ],
      "text/plain": [
       "<Quantity [[ -1.9604484 ,   0.56078614],\n",
       "           [ -8.91331912,   1.06030237],\n",
       "           [  3.91558373,  13.85359899],\n",
       "           ...,\n",
       "           [ -5.65074296,  -9.91400461],\n",
       "           [  2.23521928,   4.87410465],\n",
       "           [-23.52307331, -16.13547439]] mas>"
      ]
     },
     "execution_count": 54,
     "metadata": {},
     "output_type": "execute_result"
    }
   ],
   "source": [
    "Y.to(u.mas)"
   ]
  },
  {
   "cell_type": "code",
   "execution_count": 27,
   "metadata": {},
   "outputs": [],
   "source": [
    "N = Etrain_GAIA.shape[0]\n",
    "out = np.zeros((N, N, 2, 2))\n",
    "out[:, :, 0, 0] = np.diag(Etrain_GAIA[:, 0, 0])\n",
    "out[:, :, 1, 1] = np.diag(Etrain_GAIA[:, 1, 1])\n",
    "out[:, :, 1, 0] = np.diag(Etrain_GAIA[:, 1, 0])\n",
    "out[:, :, 0, 1] = np.diag(Etrain_GAIA[:, 0, 1])\n",
    "W_GAIA = np.swapaxes(out, 1, 2).reshape((2*N, 2*N))\n",
    "\n",
    "E_DES = np.vstack([Etrain_DES, Etrain_DES]).T\n",
    "W_DES = np.diag(GPRutils.flat(E_DES)**2)"
   ]
  },
  {
   "cell_type": "code",
   "execution_count": 49,
   "metadata": {},
   "outputs": [
    {
     "data": {
      "text/plain": [
       "array([[0.07859015, 0.06450855, 0.        , 0.        ],\n",
       "       [0.06450855, 0.181577  , 0.        , 0.        ],\n",
       "       [0.        , 0.        , 0.02815337, 0.01862602],\n",
       "       [0.        , 0.        , 0.01862602, 0.03858054]])"
      ]
     },
     "execution_count": 49,
     "metadata": {},
     "output_type": "execute_result"
    }
   ],
   "source": [
    "W_GAIA[:4, :4]"
   ]
  },
  {
   "cell_type": "code",
   "execution_count": 50,
   "metadata": {},
   "outputs": [
    {
     "data": {
      "text/plain": [
       "array([[2.37702103e-13, 0.00000000e+00, 0.00000000e+00, 0.00000000e+00],\n",
       "       [0.00000000e+00, 2.37702103e-13, 0.00000000e+00, 0.00000000e+00],\n",
       "       [0.00000000e+00, 0.00000000e+00, 9.26660588e-14, 0.00000000e+00],\n",
       "       [0.00000000e+00, 0.00000000e+00, 0.00000000e+00, 9.26660588e-14]])"
      ]
     },
     "execution_count": 50,
     "metadata": {},
     "output_type": "execute_result"
    }
   ],
   "source": [
    "W_DES[:4, :4]"
   ]
  },
  {
   "cell_type": "code",
   "execution_count": 51,
   "metadata": {},
   "outputs": [],
   "source": [
    "W = W_GAIA**2 + W_DES**2"
   ]
  },
  {
   "cell_type": "code",
   "execution_count": 52,
   "metadata": {},
   "outputs": [
    {
     "data": {
      "text/plain": [
       "array([[0.00617641, 0.00416135, 0.        , 0.        ],\n",
       "       [0.00416135, 0.03297021, 0.        , 0.        ],\n",
       "       [0.        , 0.        , 0.00079261, 0.00034693],\n",
       "       [0.        , 0.        , 0.00034693, 0.00148846]])"
      ]
     },
     "execution_count": 52,
     "metadata": {},
     "output_type": "execute_result"
    }
   ],
   "source": [
    "W[:4, :4]"
   ]
  },
  {
   "cell_type": "code",
   "execution_count": null,
   "metadata": {},
   "outputs": [],
   "source": []
  }
 ],
 "metadata": {
  "kernelspec": {
   "display_name": "Python 3",
   "language": "python",
   "name": "python3"
  },
  "language_info": {
   "codemirror_mode": {
    "name": "ipython",
    "version": 3
   },
   "file_extension": ".py",
   "mimetype": "text/x-python",
   "name": "python",
   "nbconvert_exporter": "python",
   "pygments_lexer": "ipython3",
   "version": "3.7.3"
  }
 },
 "nbformat": 4,
 "nbformat_minor": 4
}
