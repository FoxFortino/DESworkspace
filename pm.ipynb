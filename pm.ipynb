{
 "cells": [
  {
   "cell_type": "code",
   "execution_count": 1,
   "metadata": {},
   "outputs": [
    {
     "name": "stdout",
     "output_type": "stream",
     "text": [
      "Created TAP+ (v1.2.1) - Connection:\n",
      "\tHost: gea.esac.esa.int\n",
      "\tUse HTTPS: True\n",
      "\tPort: 443\n",
      "\tSSL Port: 443\n",
      "Created TAP+ (v1.2.1) - Connection:\n",
      "\tHost: geadata.esac.esa.int\n",
      "\tUse HTTPS: True\n",
      "\tPort: 443\n",
      "\tSSL Port: 443\n"
     ]
    }
   ],
   "source": [
    "import os\n",
    "import glob\n",
    "\n",
    "import DESutils\n",
    "import GPRutils\n",
    "import vK2KGPR\n",
    "import plotGPR\n",
    "import vK2KGPR\n",
    "import vonkarmanFT as vk\n",
    "\n",
    "import numpy as np\n",
    "import astropy.units as u\n",
    "import astropy.table as tb\n",
    "from astropy.time import Time\n",
    "import matplotlib.pyplot as plt\n",
    "plt.style.use('~/GitHub/custom-matplotlib/custom.mplstyle')\n",
    "import astropy.stats as stats\n",
    "from scipy.signal import savgol_filter\n",
    "import scipy.linalg\n",
    "import astropy.coordinates as co\n",
    "\n",
    "from IPython import embed\n",
    "from importlib import reload\n",
    "import warnings\n",
    "warnings.filterwarnings(\"ignore\")"
   ]
  },
  {
   "cell_type": "code",
   "execution_count": 2,
   "metadata": {},
   "outputs": [],
   "source": [
    "tab = tb.Table.read(\"/home/fortino/PM/GPR_DES2155-4414_final.fits\")"
   ]
  },
  {
   "cell_type": "code",
   "execution_count": 3,
   "metadata": {},
   "outputs": [
    {
     "name": "stdout",
     "output_type": "stream",
     "text": [
      "<Table length=61>\n",
      "       name        dtype  shape  unit                                                description                                                \n",
      "----------------- ------- ------ ---- ----------------------------------------------------------------------------------------------------------\n",
      "               RA float64                                                                                                                       \n",
      "              DEC float64                                                                                                                       \n",
      "    ERRAWIN_WORLD float64                                                                                                                       \n",
      "       XWIN_IMAGE float64                                                                                                                       \n",
      "       YWIN_IMAGE float64                                                                                                                       \n",
      "        FLUX_AUTO float64                                                                                                                       \n",
      "     FLUXERR_AUTO float64                                                                                                                       \n",
      "     IMAFLAGS_ISO   int32                                                                                                                       \n",
      "           EXPNUM   int64                                                                                                                       \n",
      "           CCDNUM   int16                                                                                                                       \n",
      "             BAND  bytes5                                                                                                                       \n",
      "          MJD_OBS float64                                                                                                                       \n",
      "         MAG_ZERO float64                                                                                                                       \n",
      "          VERSION  bytes5                                                                                                                       \n",
      "           X_GNOM float64                                                                                                                       \n",
      "           Y_GNOM float64                                                                                                                       \n",
      "       MAG_AUTO_G float64                                                                                                                       \n",
      "       MAG_AUTO_R float64                                                                                                                       \n",
      "       MAG_AUTO_I float64                                                                                                                       \n",
      "       MAG_AUTO_Z float64                                                                                                                       \n",
      "       MAG_AUTO_Y float64                                                                                                                       \n",
      "  COADD_OBJECT_ID   int64                                                                                                                       \n",
      "      FLUX_AUTO_G float64                                                                                                                       \n",
      "      FLUX_AUTO_R float64                                                                                                                       \n",
      "      FLUX_AUTO_I float64                                                                                                                       \n",
      "      FLUX_AUTO_Z float64                                                                                                                       \n",
      "      FLUX_AUTO_Y float64                                                                                                                       \n",
      "    MAGERR_AUTO_G float64                                                                                                                       \n",
      "    MAGERR_AUTO_R float64                                                                                                                       \n",
      "    MAGERR_AUTO_I float64                                                                                                                       \n",
      "    MAGERR_AUTO_Z float64                                                                                                                       \n",
      "    MAGERR_AUTO_Y float64                                                                                                                       \n",
      "   FLUXERR_AUTO_G float64                                                                                                                       \n",
      "   FLUXERR_AUTO_R float64                                                                                                                       \n",
      "   FLUXERR_AUTO_I float64                                                                                                                       \n",
      "   FLUXERR_AUTO_Z float64                                                                                                                       \n",
      "   FLUXERR_AUTO_Y float64                                                                                                                       \n",
      "   SPREAD_MODEL_I float64                                                                                                                       \n",
      "SPREADERR_MODEL_I float64                                                                                                                       \n",
      "         MATCH_ID   int64                                                                                                                       \n",
      "            COLOR float64                                                                                                                       \n",
      "           NEW_RA float64                                                                                                                       \n",
      "          NEW_DEC float64                                                                                                                       \n",
      "              RA0 float64                                                                                                                       \n",
      "             DEC0 float64                                                                                                                       \n",
      "       X_GNOM_NEW float64                                                                                                                       \n",
      "       Y_GNOM_NEW float64                                                                                                                       \n",
      "               dX float64         mas                                                           First component of GP posterior predictive mean.\n",
      "               dY float64         mas                                                          Second component of GP posterior predictive mean.\n",
      "                V float64 (2, 2) mas2                           2x2 posterior predictive covariance for the posterior predictive mean, (dX, dY).\n",
      "      xi0_002_raw float64        mas2                                    All-pairs angle-averaged jackknifed xi+(r < 0.02 deg) for the raw data.\n",
      "      xi0_002_fit float64        mas2      All-pairs angle-averaged jackknifed xi+(r < 0.02 deg) for the raw data with the fitted model removed.\n",
      "      xi0_002_GPR float64        mas2   All-pairs angle-averaged jackknifed xi+(r < 0.02 deg) for the raw data with the final GPR model removed.\n",
      "       xi0_05_raw float64        mas2                                  All-pairs angle-averaged jackknifed xi+(r < 0.5 arcmin) for the raw data.\n",
      "       xi0_05_fit float64        mas2    All-pairs angle-averaged jackknifed xi+(r < 0.5 arcmin) for the raw data with the fitted model removed.\n",
      "       xi0_05_GPR float64        mas2 All-pairs angle-averaged jackknifed xi+(r < 0.5 arcmin) for the raw data with the final GPR model removed.\n"
     ]
    }
   ],
   "source": [
    "tab.info()"
   ]
  },
  {
   "cell_type": "code",
   "execution_count": 5,
   "metadata": {},
   "outputs": [
    {
     "data": {
      "text/html": [
       "<i>Table length=61</i>\n",
       "<table id=\"table139829835474816\" class=\"table-striped table-bordered table-condensed\">\n",
       "<thead><tr><th>RA</th><th>DEC</th><th>ERRAWIN_WORLD</th><th>XWIN_IMAGE</th><th>YWIN_IMAGE</th><th>FLUX_AUTO</th><th>FLUXERR_AUTO</th><th>IMAFLAGS_ISO</th><th>EXPNUM</th><th>CCDNUM</th><th>BAND</th><th>MJD_OBS</th><th>MAG_ZERO</th><th>VERSION</th><th>X_GNOM</th><th>Y_GNOM</th><th>MAG_AUTO_G</th><th>MAG_AUTO_R</th><th>MAG_AUTO_I</th><th>MAG_AUTO_Z</th><th>MAG_AUTO_Y</th><th>COADD_OBJECT_ID</th><th>FLUX_AUTO_G</th><th>FLUX_AUTO_R</th><th>FLUX_AUTO_I</th><th>FLUX_AUTO_Z</th><th>FLUX_AUTO_Y</th><th>MAGERR_AUTO_G</th><th>MAGERR_AUTO_R</th><th>MAGERR_AUTO_I</th><th>MAGERR_AUTO_Z</th><th>MAGERR_AUTO_Y</th><th>FLUXERR_AUTO_G</th><th>FLUXERR_AUTO_R</th><th>FLUXERR_AUTO_I</th><th>FLUXERR_AUTO_Z</th><th>FLUXERR_AUTO_Y</th><th>SPREAD_MODEL_I</th><th>SPREADERR_MODEL_I</th><th>MATCH_ID</th><th>COLOR</th><th>NEW_RA</th><th>NEW_DEC</th><th>RA0</th><th>DEC0</th><th>X_GNOM_NEW</th><th>Y_GNOM_NEW</th><th>dX</th><th>dY</th><th>V [2,2]</th><th>xi0_002_raw</th><th>xi0_002_fit</th><th>xi0_002_GPR</th><th>xi0_05_raw</th><th>xi0_05_fit</th><th>xi0_05_GPR</th></tr></thead>\n",
       "<thead><tr><th></th><th></th><th></th><th></th><th></th><th></th><th></th><th></th><th></th><th></th><th></th><th></th><th></th><th></th><th></th><th></th><th></th><th></th><th></th><th></th><th></th><th></th><th></th><th></th><th></th><th></th><th></th><th></th><th></th><th></th><th></th><th></th><th></th><th></th><th></th><th></th><th></th><th></th><th></th><th></th><th></th><th></th><th></th><th></th><th></th><th></th><th></th><th>mas</th><th>mas</th><th>mas2</th><th>mas2</th><th>mas2</th><th>mas2</th><th>mas2</th><th>mas2</th><th>mas2</th></tr></thead>\n",
       "<thead><tr><th>float64</th><th>float64</th><th>float64</th><th>float64</th><th>float64</th><th>float64</th><th>float64</th><th>int32</th><th>int64</th><th>int16</th><th>bytes5</th><th>float64</th><th>float64</th><th>bytes5</th><th>float64</th><th>float64</th><th>float64</th><th>float64</th><th>float64</th><th>float64</th><th>float64</th><th>int64</th><th>float64</th><th>float64</th><th>float64</th><th>float64</th><th>float64</th><th>float64</th><th>float64</th><th>float64</th><th>float64</th><th>float64</th><th>float64</th><th>float64</th><th>float64</th><th>float64</th><th>float64</th><th>float64</th><th>float64</th><th>int64</th><th>float64</th><th>float64</th><th>float64</th><th>float64</th><th>float64</th><th>float64</th><th>float64</th><th>float64</th><th>float64</th><th>float64</th><th>float64</th><th>float64</th><th>float64</th><th>float64</th><th>float64</th><th>float64</th></tr></thead>\n",
       "<tr><td>-31.077795999999978</td><td>-43.939275</td><td>8.058070307015441e-06</td><td>1888.322998046875</td><td>4030.907470703125</td><td>19996.0</td><td>978.7559814453125</td><td>0</td><td>689611</td><td>5</td><td>i</td><td>58048.022497537575</td><td>31.64158821105957</td><td>SE</td><td>0.07857067622282354</td><td>0.3039456511591426</td><td>1e+20</td><td>1e+20</td><td>1e+20</td><td>1e+20</td><td>1e+20</td><td>999999</td><td>1e+20</td><td>1e+20</td><td>1e+20</td><td>1e+20</td><td>1e+20</td><td>1e+20</td><td>1e+20</td><td>1e+20</td><td>1e+20</td><td>1e+20</td><td>1e+20</td><td>1e+20</td><td>1e+20</td><td>1e+20</td><td>1e+20</td><td>1e+20</td><td>1e+20</td><td>236</td><td>1.3729896545410156</td><td>-31.077883019548096</td><td>-43.93931578735452</td><td>328.9342482033295</td><td>-44.61671028512443</td><td>-0.008736002549595525</td><td>0.6774254193107093</td><td>-7.56012161600352</td><td>-1.663964469889224</td><td>40.62093808484596 .. 42.13199896162193</td><td>86.5262434908611</td><td>6.585629447958843</td><td>4.577754549806481</td><td>92.24826924232794</td><td>7.280440110328972</td><td>4.758075890218235</td></tr>\n",
       "<tr><td>-31.07750900000002</td><td>-43.939164</td><td>2.697849959076848e-05</td><td>1715.57958984375</td><td>1573.7939453125</td><td>4238.16015625</td><td>374.9200134277344</td><td>0</td><td>579816</td><td>5</td><td>g</td><td>57663.075375857574</td><td>31.495832443237305</td><td>SE</td><td>0.07888238118832644</td><td>0.3041195483411507</td><td>1e+20</td><td>1e+20</td><td>1e+20</td><td>1e+20</td><td>1e+20</td><td>999999</td><td>1e+20</td><td>1e+20</td><td>1e+20</td><td>1e+20</td><td>1e+20</td><td>1e+20</td><td>1e+20</td><td>1e+20</td><td>1e+20</td><td>1e+20</td><td>1e+20</td><td>1e+20</td><td>1e+20</td><td>1e+20</td><td>1e+20</td><td>1e+20</td><td>1e+20</td><td>236</td><td>1.3729896545410156</td><td>-31.077450470593703</td><td>-43.93914148267767</td><td>329.1838799679866</td><td>-44.62979677705688</td><td>-0.18819212598646742</td><td>0.6903909208807354</td><td>4.74444541023877</td><td>2.3493787016485226</td><td>31.809868600955614 .. 32.94525959228732</td><td>112.77338897442984</td><td>32.116889815084015</td><td>27.95186307843756</td><td>121.83043312517138</td><td>30.76864701793075</td><td>26.384980560220065</td></tr>\n",
       "<tr><td>-31.07787400000001</td><td>-43.939351</td><td>4.4387499656295404e-05</td><td>75.66284942626953</td><td>1149.1668701171875</td><td>5622.7900390625</td><td>973.6220092773438</td><td>0</td><td>355302</td><td>24</td><td>Y</td><td>56904.14947429093</td><td>29.5213623046875</td><td>SE</td><td>0.0785577739608349</td><td>0.30392347313661666</td><td>1e+20</td><td>1e+20</td><td>1e+20</td><td>1e+20</td><td>1e+20</td><td>999999</td><td>1e+20</td><td>1e+20</td><td>1e+20</td><td>1e+20</td><td>1e+20</td><td>1e+20</td><td>1e+20</td><td>1e+20</td><td>1e+20</td><td>1e+20</td><td>1e+20</td><td>1e+20</td><td>1e+20</td><td>1e+20</td><td>1e+20</td><td>1e+20</td><td>1e+20</td><td>236</td><td>1.3729896545410156</td><td>-31.077900896269057</td><td>-43.9393379817605</td><td>327.933427196647</td><td>-44.25775604745703</td><td>0.7119481199312092</td><td>0.3141588868052828</td><td>19.054360490608378</td><td>5.132512383190093</td><td>280.87220246435635 .. 254.25205370444536</td><td>272.6683055292293</td><td>45.451554481729474</td><td>34.42246722532119</td><td>261.68802240092145</td><td>34.0090172655716</td><td>22.630163320078452</td></tr>\n",
       "<tr><td>-31.077901999999995</td><td>-43.939278</td><td>1.240619985765079e-05</td><td>1696.51513671875</td><td>1561.006103515625</td><td>5570.919921875</td><td>767.3779907226562</td><td>0</td><td>573796</td><td>5</td><td>Y</td><td>57643.119406047575</td><td>30.34269905090332</td><td>SE</td><td>0.07856962404820966</td><td>0.3039734731440539</td><td>1e+20</td><td>1e+20</td><td>1e+20</td><td>1e+20</td><td>1e+20</td><td>999999</td><td>1e+20</td><td>1e+20</td><td>1e+20</td><td>1e+20</td><td>1e+20</td><td>1e+20</td><td>1e+20</td><td>1e+20</td><td>1e+20</td><td>1e+20</td><td>1e+20</td><td>1e+20</td><td>1e+20</td><td>1e+20</td><td>1e+20</td><td>1e+20</td><td>1e+20</td><td>236</td><td>1.3729896545410156</td><td>-31.07788453206092</td><td>-43.93928796759368</td><td>329.1847024634864</td><td>-44.63133014977888</td><td>-0.18909660422155108</td><td>0.6917751394146842</td><td>-0.30408498301700604</td><td>-8.969626816816003</td><td>552.1467809622397 .. 844.5658617623283</td><td>69.67152678808472</td><td>11.644143835291706</td><td>5.058611339446069</td><td>69.83820232616165</td><td>15.225151322121429</td><td>6.244248400845106</td></tr>\n",
       "<tr><td>-31.077621000000022</td><td>-43.939237</td><td>1.5799099855939858e-05</td><td>1718.916748046875</td><td>1584.39990234375</td><td>16056.7998046875</td><td>997.5089721679688</td><td>0</td><td>579815</td><td>5</td><td>r</td><td>57663.073995847575</td><td>31.677570343017578</td><td>SE</td><td>0.07871050687505651</td><td>0.30402263502479526</td><td>1e+20</td><td>1e+20</td><td>1e+20</td><td>1e+20</td><td>1e+20</td><td>999999</td><td>1e+20</td><td>1e+20</td><td>1e+20</td><td>1e+20</td><td>1e+20</td><td>1e+20</td><td>1e+20</td><td>1e+20</td><td>1e+20</td><td>1e+20</td><td>1e+20</td><td>1e+20</td><td>1e+20</td><td>1e+20</td><td>1e+20</td><td>1e+20</td><td>1e+20</td><td>236</td><td>1.3729896545410156</td><td>-31.077688976144884</td><td>-43.93923862085694</td><td>329.1825473293261</td><td>-44.62965152257578</td><td>-0.18740388827526824</td><td>0.6901509816630697</td><td>2.6109403236235904</td><td>11.2720330107501</td><td>225.6657297861192 .. 367.0962956087808</td><td>114.73554754268885</td><td>22.639513266416245</td><td>10.202868925547195</td><td>117.18553977370988</td><td>21.139625619355254</td><td>4.171909017852307</td></tr>\n",
       "<tr><td>-31.077785000000006</td><td>-43.939275</td><td>8.552179679099936e-06</td><td>1882.6431884765625</td><td>4038.817626953125</td><td>20034.80078125</td><td>1435.3800048828125</td><td>0</td><td>689613</td><td>5</td><td>z</td><td>58048.02526363757</td><td>31.413461685180664</td><td>SE</td><td>0.07857422925458554</td><td>0.30395527521046245</td><td>1e+20</td><td>1e+20</td><td>1e+20</td><td>1e+20</td><td>1e+20</td><td>999999</td><td>1e+20</td><td>1e+20</td><td>1e+20</td><td>1e+20</td><td>1e+20</td><td>1e+20</td><td>1e+20</td><td>1e+20</td><td>1e+20</td><td>1e+20</td><td>1e+20</td><td>1e+20</td><td>1e+20</td><td>1e+20</td><td>1e+20</td><td>1e+20</td><td>1e+20</td><td>236</td><td>1.3729896545410156</td><td>-31.077878103138744</td><td>-43.93930615889642</td><td>328.9334343968344</td><td>-44.61709571288512</td><td>-0.008146421314307003</td><td>0.6778206144904053</td><td>-6.508290101949292</td><td>-5.34632060612401</td><td>45.61314992625463 .. 58.3745891040078</td><td>84.51911293007785</td><td>7.983289672433849</td><td>4.679329135863421</td><td>86.5453755727716</td><td>9.688553310543663</td><td>6.934017583612657</td></tr>\n",
       "<tr><td>-31.077754000000027</td><td>-43.939245</td><td>6.5940898821281735e-06</td><td>1136.4117431640625</td><td>1127.9501953125</td><td>18542.400390625</td><td>888.3480224609375</td><td>0</td><td>362365</td><td>25</td><td>i</td><td>56926.09467322758</td><td>31.665420532226562</td><td>SE</td><td>0.07857238417432691</td><td>0.3039798972235676</td><td>1e+20</td><td>1e+20</td><td>1e+20</td><td>1e+20</td><td>1e+20</td><td>999999</td><td>1e+20</td><td>1e+20</td><td>1e+20</td><td>1e+20</td><td>1e+20</td><td>1e+20</td><td>1e+20</td><td>1e+20</td><td>1e+20</td><td>1e+20</td><td>1e+20</td><td>1e+20</td><td>1e+20</td><td>1e+20</td><td>1e+20</td><td>1e+20</td><td>1e+20</td><td>236</td><td>1.3729896545410156</td><td>-31.07788071087265</td><td>-43.9392815400594</td><td>330.3087226503706</td><td>-44.02395451189374</td><td>-0.9985142012189933</td><td>0.07628867738217035</td><td>0.8097773349750672</td><td>7.693193576315459</td><td>20.577978003467948 .. 28.990993682636816</td><td>41.59697333906254</td><td>4.076279448428614</td><td>1.981599835791074</td><td>41.390227937825806</td><td>4.518739165970872</td><td>2.544207423264215</td></tr>\n",
       "<tr><td>-31.077901999999995</td><td>-43.93927</td><td>5.790199793409556e-06</td><td>1068.6466064453125</td><td>1146.21240234375</td><td>16131.2998046875</td><td>1011.5900268554688</td><td>0</td><td>348819</td><td>25</td><td>z</td><td>56886.21563869758</td><td>31.407590866088867</td><td>SE</td><td>0.07856176347536793</td><td>0.3039856633933522</td><td>1e+20</td><td>1e+20</td><td>1e+20</td><td>1e+20</td><td>1e+20</td><td>999999</td><td>1e+20</td><td>1e+20</td><td>1e+20</td><td>1e+20</td><td>1e+20</td><td>1e+20</td><td>1e+20</td><td>1e+20</td><td>1e+20</td><td>1e+20</td><td>1e+20</td><td>1e+20</td><td>1e+20</td><td>1e+20</td><td>1e+20</td><td>1e+20</td><td>1e+20</td><td>236</td><td>1.3729896545410156</td><td>-31.07789547068603</td><td>-43.93927578809618</td><td>330.306853771662</td><td>-44.02891695701939</td><td>-0.9971790934202441</td><td>0.08127929379095533</td><td>0.6193456080852551</td><td>-1.9274645957103151</td><td>87.71937252641125 .. 72.74682999463347</td><td>82.56270467832489</td><td>12.208379429337043</td><td>5.123636289718239</td><td>90.78604370827934</td><td>20.27224844388559</td><td>10.219200944736526</td></tr>\n",
       "<tr><td>-31.077184999999986</td><td>-43.939095</td><td>3.60806989192497e-05</td><td>1065.803466796875</td><td>1152.8670654296875</td><td>5603.77001953125</td><td>1152.2099609375</td><td>0</td><td>348819</td><td>25</td><td>z</td><td>56886.21563869758</td><td>31.407590866088867</td><td>SE</td><td>0.07905027697133048</td><td>0.3041835801826226</td><td>1e+20</td><td>1e+20</td><td>1e+20</td><td>1e+20</td><td>1e+20</td><td>999999</td><td>1e+20</td><td>1e+20</td><td>1e+20</td><td>1e+20</td><td>1e+20</td><td>1e+20</td><td>1e+20</td><td>1e+20</td><td>1e+20</td><td>1e+20</td><td>1e+20</td><td>1e+20</td><td>1e+20</td><td>1e+20</td><td>1e+20</td><td>1e+20</td><td>1e+20</td><td>236</td><td>1.3729896545410156</td><td>-31.07721742982693</td><td>-43.93907722978171</td><td>330.306853771662</td><td>-44.02891695701939</td><td>-0.996694107635889</td><td>0.0814860423129543</td><td>0.7720533434739094</td><td>-1.9368621483932287</td><td>87.71984294919913 .. 72.74571356323204</td><td>82.56270467832489</td><td>12.208379429337043</td><td>5.123636289718239</td><td>90.78604370827934</td><td>20.27224844388559</td><td>10.219200944736526</td></tr>\n",
       "<tr><td>...</td><td>...</td><td>...</td><td>...</td><td>...</td><td>...</td><td>...</td><td>...</td><td>...</td><td>...</td><td>...</td><td>...</td><td>...</td><td>...</td><td>...</td><td>...</td><td>...</td><td>...</td><td>...</td><td>...</td><td>...</td><td>...</td><td>...</td><td>...</td><td>...</td><td>...</td><td>...</td><td>...</td><td>...</td><td>...</td><td>...</td><td>...</td><td>...</td><td>...</td><td>...</td><td>...</td><td>...</td><td>...</td><td>...</td><td>...</td><td>...</td><td>...</td><td>...</td><td>...</td><td>...</td><td>...</td><td>...</td><td>...</td><td>...</td><td>...</td><td>...</td><td>...</td><td>...</td><td>...</td><td>...</td><td>...</td></tr>\n",
       "<tr><td>-31.077222000000006</td><td>-43.939095</td><td>1.2681800399150234e-05</td><td>1070.3297119140625</td><td>1131.5140380859375</td><td>5848.72998046875</td><td>463.14898681640625</td><td>0</td><td>370602</td><td>25</td><td>r</td><td>56953.15689154757</td><td>31.637073516845703</td><td>SE</td><td>0.0790535850622769</td><td>0.3041698060398401</td><td>1e+20</td><td>1e+20</td><td>1e+20</td><td>1e+20</td><td>1e+20</td><td>999999</td><td>1e+20</td><td>1e+20</td><td>1e+20</td><td>1e+20</td><td>1e+20</td><td>1e+20</td><td>1e+20</td><td>1e+20</td><td>1e+20</td><td>1e+20</td><td>1e+20</td><td>1e+20</td><td>1e+20</td><td>1e+20</td><td>1e+20</td><td>1e+20</td><td>1e+20</td><td>236</td><td>1.3729896545410156</td><td>-31.077212810259596</td><td>-43.93909099911274</td><td>330.3091990029379</td><td>-44.02842229021869</td><td>-0.9983795614582606</td><td>0.08094932402471174</td><td>-23.730218500254836</td><td>-4.043394932485899</td><td>645.3122278753515 .. 578.9620818415157</td><td>526.8431543252242</td><td>46.748347422325374</td><td>16.29015256450664</td><td>552.2473128272908</td><td>64.13745202164667</td><td>27.7811838500083</td></tr>\n",
       "<tr><td>-31.077898000000005</td><td>-43.93929</td><td>5.467380105983466e-06</td><td>1398.6966552734375</td><td>2863.288330078125</td><td>14932.2001953125</td><td>968.3690185546875</td><td>0</td><td>370199</td><td>38</td><td>i</td><td>56952.15259809758</td><td>31.662046432495117</td><td>SE</td><td>0.07855787648743956</td><td>0.3039706707579934</td><td>1e+20</td><td>1e+20</td><td>1e+20</td><td>1e+20</td><td>1e+20</td><td>999999</td><td>1e+20</td><td>1e+20</td><td>1e+20</td><td>1e+20</td><td>1e+20</td><td>1e+20</td><td>1e+20</td><td>1e+20</td><td>1e+20</td><td>1e+20</td><td>1e+20</td><td>1e+20</td><td>1e+20</td><td>1e+20</td><td>1e+20</td><td>1e+20</td><td>1e+20</td><td>236</td><td>1.3729896545410156</td><td>-31.077900840962798</td><td>-43.93929078541786</td><td>327.546368073546</td><td>-43.83550086331979</td><td>0.9906849329143027</td><td>-0.11204342451180853</td><td>-5.494485614575849</td><td>0.22040022371226087</td><td>180.71248289485655 .. 109.75724286244203</td><td>137.17669067035067</td><td>18.7046393529252</td><td>6.343337383870172</td><td>142.36748591765425</td><td>24.23023602645851</td><td>9.03056406679272</td></tr>\n",
       "<tr><td>-31.077871000000016</td><td>-43.939283</td><td>6.921310159668792e-06</td><td>1073.121337890625</td><td>1124.9276123046875</td><td>8575.75</td><td>479.6610107421875</td><td>0</td><td>370602</td><td>25</td><td>r</td><td>56953.15689154757</td><td>31.637073516845703</td><td>SE</td><td>0.07857055535861233</td><td>0.3039755380672022</td><td>1e+20</td><td>1e+20</td><td>1e+20</td><td>1e+20</td><td>1e+20</td><td>999999</td><td>1e+20</td><td>1e+20</td><td>1e+20</td><td>1e+20</td><td>1e+20</td><td>1e+20</td><td>1e+20</td><td>1e+20</td><td>1e+20</td><td>1e+20</td><td>1e+20</td><td>1e+20</td><td>1e+20</td><td>1e+20</td><td>1e+20</td><td>1e+20</td><td>1e+20</td><td>236</td><td>1.3729896545410156</td><td>-31.07788324254176</td><td>-43.93928590150177</td><td>330.3091990029379</td><td>-44.02842229021869</td><td>-0.9988591236623097</td><td>0.08074630967944299</td><td>-23.71946743296467</td><td>-4.169236706092677</td><td>645.3100707274996 .. 578.9621688904627</td><td>526.8431543252242</td><td>46.748347422325374</td><td>16.29015256450664</td><td>552.2473128272908</td><td>64.13745202164667</td><td>27.7811838500083</td></tr>\n",
       "<tr><td>-31.077882999999986</td><td>-43.939291</td><td>5.29927001480246e-06</td><td>967.1620483398438</td><td>177.0138702392578</td><td>14810.5</td><td>1234.8499755859375</td><td>0</td><td>374797</td><td>1</td><td>z</td><td>56965.02921093757</td><td>31.393756866455078</td><td>SE</td><td>0.07856906571270592</td><td>0.30398301491109064</td><td>1e+20</td><td>1e+20</td><td>1e+20</td><td>1e+20</td><td>1e+20</td><td>999999</td><td>1e+20</td><td>1e+20</td><td>1e+20</td><td>1e+20</td><td>1e+20</td><td>1e+20</td><td>1e+20</td><td>1e+20</td><td>1e+20</td><td>1e+20</td><td>1e+20</td><td>1e+20</td><td>1e+20</td><td>1e+20</td><td>1e+20</td><td>1e+20</td><td>1e+20</td><td>236</td><td>1.3729896545410156</td><td>-31.077885325038608</td><td>-43.93927842685039</td><td>329.5398746703841</td><td>-44.84990295101898</td><td>-0.44489466432180114</td><td>0.909036730413366</td><td>0.27966960800777096</td><td>-6.788830822602765</td><td>18.865699238266746 .. 25.531832162432742</td><td>22.614807920924292</td><td>4.974861631695386</td><td>3.724287135994344</td><td>24.51045940181923</td><td>7.766052622149912</td><td>6.062529080841453</td></tr>\n",
       "<tr><td>-31.077724999999987</td><td>-43.93922</td><td>9.327260158897843e-06</td><td>1697.99560546875</td><td>1594.171142578125</td><td>17476.69921875</td><td>1004.72998046875</td><td>0</td><td>586534</td><td>5</td><td>i</td><td>57688.02585571758</td><td>31.648828506469727</td><td>SE</td><td>0.07858853320045443</td><td>0.3039861560653085</td><td>1e+20</td><td>1e+20</td><td>1e+20</td><td>1e+20</td><td>1e+20</td><td>999999</td><td>1e+20</td><td>1e+20</td><td>1e+20</td><td>1e+20</td><td>1e+20</td><td>1e+20</td><td>1e+20</td><td>1e+20</td><td>1e+20</td><td>1e+20</td><td>1e+20</td><td>1e+20</td><td>1e+20</td><td>1e+20</td><td>1e+20</td><td>1e+20</td><td>1e+20</td><td>236</td><td>1.3729896545410156</td><td>-31.077858295951785</td><td>-43.93927526006293</td><td>329.1814901112424</td><td>-44.63115479850018</td><td>-0.18676442657627473</td><td>0.6916198435134737</td><td>-5.997962463206504</td><td>-7.057631361424943</td><td>110.82973141466056 .. 82.81342917048792</td><td>139.73118689557782</td><td>12.134920924124746</td><td>5.382348895716347</td><td>136.5160387870584</td><td>11.104013419951023</td><td>3.953397958610691</td></tr>\n",
       "<tr><td>-31.077195000000017</td><td>-43.939121</td><td>1.9626799257821403e-05</td><td>957.32373046875</td><td>182.18638610839844</td><td>3004.929931640625</td><td>312.30999755859375</td><td>0</td><td>370204</td><td>1</td><td>g</td><td>56952.15960481758</td><td>31.495031356811523</td><td>SE</td><td>0.07907860052852589</td><td>0.3041433348747457</td><td>1e+20</td><td>1e+20</td><td>1e+20</td><td>1e+20</td><td>1e+20</td><td>999999</td><td>1e+20</td><td>1e+20</td><td>1e+20</td><td>1e+20</td><td>1e+20</td><td>1e+20</td><td>1e+20</td><td>1e+20</td><td>1e+20</td><td>1e+20</td><td>1e+20</td><td>1e+20</td><td>1e+20</td><td>1e+20</td><td>1e+20</td><td>1e+20</td><td>1e+20</td><td>236</td><td>1.3729896545410156</td><td>-31.077178021739712</td><td>-43.939117436218865</td><td>329.540270279382</td><td>-44.8505021732796</td><td>-0.4446714833131798</td><td>0.9097988144244314</td><td>-2.3038158335766195</td><td>1.4003676505202156</td><td>98.31570460200662 .. 68.19363856613839</td><td>168.0877754907022</td><td>45.70532496049541</td><td>26.17644166759778</td><td>241.71656916292494</td><td>101.33004558006087</td><td>74.78000346123487</td></tr>\n",
       "<tr><td>-31.077899000000002</td><td>-43.939286</td><td>7.03073010299704e-06</td><td>50.785255432128906</td><td>1206.3546142578125</td><td>13640.7001953125</td><td>1093.6400146484375</td><td>0</td><td>372437</td><td>24</td><td>z</td><td>56959.029031507576</td><td>31.36440086364746</td><td>SE</td><td>0.07855986728980292</td><td>0.30397018992023006</td><td>1e+20</td><td>1e+20</td><td>1e+20</td><td>1e+20</td><td>1e+20</td><td>999999</td><td>1e+20</td><td>1e+20</td><td>1e+20</td><td>1e+20</td><td>1e+20</td><td>1e+20</td><td>1e+20</td><td>1e+20</td><td>1e+20</td><td>1e+20</td><td>1e+20</td><td>1e+20</td><td>1e+20</td><td>1e+20</td><td>1e+20</td><td>1e+20</td><td>1e+20</td><td>236</td><td>1.3729896545410156</td><td>-31.077898075408598</td><td>-43.93929126361092</td><td>327.9278097670763</td><td>-44.2596886523343</td><td>0.7159962138085869</td><td>0.31608966853546483</td><td>-1.109843311614632</td><td>1.2544484528366278</td><td>18.814935852600414 .. 26.634901120022242</td><td>31.79274006785665</td><td>5.989640495127656</td><td>3.085051226839666</td><td>34.83424332317554</td><td>8.526945251087904</td><td>5.465025852185127</td></tr>\n",
       "<tr><td>-31.077157999999997</td><td>-43.939139</td><td>1.7075299183488823e-05</td><td>1507.28125</td><td>2329.55615234375</td><td>4182.14990234375</td><td>649.739013671875</td><td>0</td><td>686457</td><td>19</td><td>i</td><td>58039.104153827575</td><td>31.668603897094727</td><td>SE</td><td>0.07910180158118559</td><td>0.3041232529787257</td><td>1e+20</td><td>1e+20</td><td>1e+20</td><td>1e+20</td><td>1e+20</td><td>999999</td><td>1e+20</td><td>1e+20</td><td>1e+20</td><td>1e+20</td><td>1e+20</td><td>1e+20</td><td>1e+20</td><td>1e+20</td><td>1e+20</td><td>1e+20</td><td>1e+20</td><td>1e+20</td><td>1e+20</td><td>1e+20</td><td>1e+20</td><td>1e+20</td><td>1e+20</td><td>236</td><td>1.3729896545410156</td><td>-31.07714576476394</td><td>-43.93913748665108</td><td>329.9721078515977</td><td>-44.15720639423905</td><td>-0.7555723998131648</td><td>0.21326917553737865</td><td>3.546303486776645</td><td>-0.08168832479689847</td><td>69.11369764084817 .. 59.64863173518046</td><td>142.0707090641941</td><td>11.784752856021182</td><td>6.333902136924724</td><td>151.0277699236886</td><td>13.628508550930844</td><td>7.249426328129969</td></tr>\n",
       "<tr><td>-31.077489000000014</td><td>-43.939186</td><td>2.4712000595172867e-05</td><td>1496.0799560546875</td><td>2345.68017578125</td><td>4276.669921875</td><td>451.093994140625</td><td>0</td><td>676792</td><td>19</td><td>g</td><td>58008.132173977574</td><td>31.436386108398438</td><td>SE</td><td>0.07883354345399542</td><td>0.3040833734503377</td><td>1e+20</td><td>1e+20</td><td>1e+20</td><td>1e+20</td><td>1e+20</td><td>999999</td><td>1e+20</td><td>1e+20</td><td>1e+20</td><td>1e+20</td><td>1e+20</td><td>1e+20</td><td>1e+20</td><td>1e+20</td><td>1e+20</td><td>1e+20</td><td>1e+20</td><td>1e+20</td><td>1e+20</td><td>1e+20</td><td>1e+20</td><td>1e+20</td><td>1e+20</td><td>236</td><td>1.3729896545410156</td><td>-31.077518225387507</td><td>-43.93917772125388</td><td>329.9700702984635</td><td>-44.15817388277068</td><td>-0.7543728204188892</td><td>0.21421166794717403</td><td>4.769727279936053</td><td>3.5786423598493</td><td>24.541739025391312 .. 26.24340265734768</td><td>83.20746445507177</td><td>21.6425707243697</td><td>20.85500832655792</td><td>91.8262435234017</td><td>19.29425777076075</td><td>18.783431327009957</td></tr>\n",
       "<tr><td>-31.077612999999985</td><td>-43.939225</td><td>1.4062399714021012e-05</td><td>1493.4998779296875</td><td>2359.2353515625</td><td>12579.0</td><td>612.1729736328125</td><td>0</td><td>676791</td><td>19</td><td>r</td><td>58008.13077256757</td><td>31.6283016204834</td><td>SE</td><td>0.07871457479860249</td><td>0.3040171633205672</td><td>1e+20</td><td>1e+20</td><td>1e+20</td><td>1e+20</td><td>1e+20</td><td>999999</td><td>1e+20</td><td>1e+20</td><td>1e+20</td><td>1e+20</td><td>1e+20</td><td>1e+20</td><td>1e+20</td><td>1e+20</td><td>1e+20</td><td>1e+20</td><td>1e+20</td><td>1e+20</td><td>1e+20</td><td>1e+20</td><td>1e+20</td><td>1e+20</td><td>1e+20</td><td>236</td><td>1.3729896545410156</td><td>-31.077683316828256</td><td>-43.93924408701197</td><td>329.9685390875637</td><td>-44.1584321581302</td><td>-0.753388180373751</td><td>0.21441605374010023</td><td>-5.842189950828903</td><td>-5.3059340391330245</td><td>67.89801855570146 .. 75.90886217830266</td><td>110.36600975944707</td><td>18.874653482761072</td><td>14.399556799868186</td><td>102.96328250561064</td><td>20.790285707142687</td><td>14.368590362531148</td></tr>\n",
       "</table>"
      ],
      "text/plain": [
       "<Table length=61>\n",
       "         RA            DEC     ...     xi0_05_fit         xi0_05_GPR    \n",
       "                               ...        mas2               mas2       \n",
       "      float64        float64   ...      float64            float64      \n",
       "------------------- ---------- ... ------------------ ------------------\n",
       "-31.077795999999978 -43.939275 ...  7.280440110328972  4.758075890218235\n",
       " -31.07750900000002 -43.939164 ...  30.76864701793075 26.384980560220065\n",
       " -31.07787400000001 -43.939351 ...   34.0090172655716 22.630163320078452\n",
       "-31.077901999999995 -43.939278 ... 15.225151322121429  6.244248400845106\n",
       "-31.077621000000022 -43.939237 ... 21.139625619355254  4.171909017852307\n",
       "-31.077785000000006 -43.939275 ...  9.688553310543663  6.934017583612657\n",
       "-31.077754000000027 -43.939245 ...  4.518739165970872  2.544207423264215\n",
       "-31.077901999999995  -43.93927 ...  20.27224844388559 10.219200944736526\n",
       "-31.077184999999986 -43.939095 ...  20.27224844388559 10.219200944736526\n",
       "                ...        ... ...                ...                ...\n",
       "-31.077222000000006 -43.939095 ...  64.13745202164667   27.7811838500083\n",
       "-31.077898000000005  -43.93929 ...  24.23023602645851   9.03056406679272\n",
       "-31.077871000000016 -43.939283 ...  64.13745202164667   27.7811838500083\n",
       "-31.077882999999986 -43.939291 ...  7.766052622149912  6.062529080841453\n",
       "-31.077724999999987  -43.93922 ... 11.104013419951023  3.953397958610691\n",
       "-31.077195000000017 -43.939121 ... 101.33004558006087  74.78000346123487\n",
       "-31.077899000000002 -43.939286 ...  8.526945251087904  5.465025852185127\n",
       "-31.077157999999997 -43.939139 ... 13.628508550930844  7.249426328129969\n",
       "-31.077489000000014 -43.939186 ...  19.29425777076075 18.783431327009957\n",
       "-31.077612999999985 -43.939225 ... 20.790285707142687 14.368590362531148"
      ]
     },
     "execution_count": 5,
     "metadata": {},
     "output_type": "execute_result"
    }
   ],
   "source": [
    "# ra0, dec0?\n",
    "tab"
   ]
  },
  {
   "cell_type": "code",
   "execution_count": null,
   "metadata": {},
   "outputs": [],
   "source": []
  }
 ],
 "metadata": {
  "kernelspec": {
   "display_name": "Python 3",
   "language": "python",
   "name": "python3"
  },
  "language_info": {
   "codemirror_mode": {
    "name": "ipython",
    "version": 3
   },
   "file_extension": ".py",
   "mimetype": "text/x-python",
   "name": "python",
   "nbconvert_exporter": "python",
   "pygments_lexer": "ipython3",
   "version": "3.7.3"
  }
 },
 "nbformat": 4,
 "nbformat_minor": 4
}
