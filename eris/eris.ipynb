{
 "cells": [
  {
   "cell_type": "code",
   "execution_count": 3,
   "metadata": {},
   "outputs": [
    {
     "data": {
      "text/plain": [
       "(21, 21, 23, 22)"
      ]
     },
     "execution_count": 3,
     "metadata": {},
     "output_type": "execute_result"
    }
   ],
   "source": [
    "import os\n",
    "import glob\n",
    "\n",
    "import DESutils\n",
    "import GPRutils\n",
    "import vK2KGPR\n",
    "import plotGPR\n",
    "import vK2KGPR\n",
    "import vonkarmanFT as vk\n",
    "\n",
    "import numpy as np\n",
    "import astropy.units as u\n",
    "import astropy.table as tb\n",
    "from astropy.time import Time\n",
    "import matplotlib.pyplot as plt\n",
    "plt.style.use('~/GitHub/custom-matplotlib/custom.mplstyle')\n",
    "\n",
    "from IPython import embed\n",
    "from importlib import reload\n",
    "import warnings\n",
    "warnings.filterwarnings(\"ignore\")"
   ]
  },
  {
   "cell_type": "code",
   "execution_count": null,
   "metadata": {},
   "outputs": [],
   "source": []
  }
 ],
 "metadata": {
  "kernelspec": {
   "display_name": "Python 3",
   "language": "python",
   "name": "python3"
  },
  "language_info": {
   "codemirror_mode": {
    "name": "ipython",
    "version": 3
   },
   "file_extension": ".py",
   "mimetype": "text/x-python",
   "name": "python",
   "nbconvert_exporter": "python",
   "pygments_lexer": "ipython3",
   "version": "3.7.3"
  }
 },
 "nbformat": 4,
 "nbformat_minor": 4
}
