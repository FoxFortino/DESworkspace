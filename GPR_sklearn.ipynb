{
 "cells": [
  {
   "cell_type": "code",
   "execution_count": null,
   "metadata": {},
   "outputs": [],
   "source": [
    "import numpy as np\n",
    "import astropy.io.fits as pf\n",
    "import matplotlib.pyplot as plt\n",
    "from sklearn.model_selection import train_test_split\n",
    "from sklearn.gaussian_process import GaussianProcessRegressor\n",
    "import sklearn.gaussian_process.kernels as kernels\n",
    "import forAustin as fa\n",
    "%matplotlib inline"
   ]
  },
  {
   "cell_type": "code",
   "execution_count": null,
   "metadata": {},
   "outputs": [],
   "source": [
    "fits = pf.open('/data4/paper/fox/DES/austinFull.fits')\n",
    "fits.info()\n",
    "nExposure = 432\n",
    "exposure = fa.getExposure(fits, nExposure, polyOrder=3)"
   ]
  },
  {
   "cell_type": "code",
   "execution_count": null,
   "metadata": {},
   "outputs": [],
   "source": [
    "ind = np.where(exposure['hasGaia'])[0]\n",
    "u = np.take(exposure['u'], ind)\n",
    "v = np.take(exposure['v'], ind)\n",
    "dx = np.take(exposure['dx'], ind)\n",
    "dy = np.take(exposure['dy'], ind)\n",
    "E = np.take(exposure['measErr'], ind)\n",
    "\n",
    "X = np.vstack((u, v)).T\n",
    "Y = np.vstack((dx, dy)).T\n",
    "\n",
    "Xtrain, Xtest, Ytrain, Ytest, Etrain, Etest= train_test_split(X, Y, E, test_size=0.10, random_state=1)"
   ]
  },
  {
   "cell_type": "code",
   "execution_count": null,
   "metadata": {},
   "outputs": [],
   "source": [
    "kernel = kernels.RBF(np.array([5, 5])) + kernels.WhiteKernel(Etrain.mean())"
   ]
  },
  {
   "cell_type": "code",
   "execution_count": null,
   "metadata": {},
   "outputs": [],
   "source": [
    "GP = GaussianProcessRegressor(kernel=kernel, n_restarts_optimizer=10)\n",
    "GP.fit(Xtrain, Ytrain)"
   ]
  },
  {
   "cell_type": "code",
   "execution_count": null,
   "metadata": {},
   "outputs": [],
   "source": [
    "Ypred, cov = GP.predict(Xtest, return_cov=True)"
   ]
  },
  {
   "cell_type": "code",
   "execution_count": null,
   "metadata": {},
   "outputs": [],
   "source": [
    "variance = np.diag(cov)\n",
    "sigma = np.sqrt(variance)"
   ]
  },
  {
   "cell_type": "code",
   "execution_count": null,
   "metadata": {},
   "outputs": [],
   "source": [
    "plt.figure(figsize=(14, 7))\n",
    "plt.title(\"Testing Residuals vs Predicted Residuals\")\n",
    "# plt.xlim((-300, 300))\n",
    "# plt.ylim((-100, 100))\n",
    "\n",
    "plt.scatter(Ypred[1, 0], Ypred[1, 1], label=\"Predicted Set\")\n",
    "plt.scatter(Ytest[1, 0], Ytest[1, 1], label=\"Test Set\")\n",
    "plt.legend()\n",
    "plt.show()"
   ]
  },
  {
   "cell_type": "code",
   "execution_count": null,
   "metadata": {},
   "outputs": [],
   "source": [
    "plt.figure(figsize=(8, 8))\n",
    "plt.title(\"Vector Field of Predicted Set\")\n",
    "plt.quiver(Xtest[:, 0], Xtest[:, 1], Ypred[:, 0], Ypred[:, 1])"
   ]
  },
  {
   "cell_type": "code",
   "execution_count": null,
   "metadata": {},
   "outputs": [],
   "source": [
    "plt.figure(figsize=(8, 8))\n",
    "plt.title(\"Vector Field of Test Set\")\n",
    "plt.quiver(Xtest[:, 0], Xtest[:, 1], Ytest[:, 0], Ytest[:, 1])"
   ]
  }
 ],
 "metadata": {
  "kernelspec": {
   "display_name": "Python 3",
   "language": "python",
   "name": "python3"
  },
  "language_info": {
   "codemirror_mode": {
    "name": "ipython",
    "version": 3
   },
   "file_extension": ".py",
   "mimetype": "text/x-python",
   "name": "python",
   "nbconvert_exporter": "python",
   "pygments_lexer": "ipython3",
   "version": "3.7.3"
  }
 },
 "nbformat": 4,
 "nbformat_minor": 2
}
