{
 "cells": [
  {
   "cell_type": "code",
   "execution_count": 1,
   "metadata": {},
   "outputs": [
    {
     "name": "stdout",
     "output_type": "stream",
     "text": [
      "Created TAP+ (v1.2.1) - Connection:\n",
      "\tHost: gea.esac.esa.int\n",
      "\tUse HTTPS: True\n",
      "\tPort: 443\n",
      "\tSSL Port: 443\n",
      "Created TAP+ (v1.2.1) - Connection:\n",
      "\tHost: geadata.esac.esa.int\n",
      "\tUse HTTPS: True\n",
      "\tPort: 443\n",
      "\tSSL Port: 443\n"
     ]
    }
   ],
   "source": [
    "from time import time\n",
    "import os\n",
    "import shutil\n",
    "import sys\n",
    "import traceback\n",
    "\n",
    "import GPRutils\n",
    "import vK2KGPR\n",
    "\n",
    "import numpy as np\n",
    "import astropy.units as u"
   ]
  },
  {
   "cell_type": "code",
   "execution_count": 2,
   "metadata": {},
   "outputs": [],
   "source": [
    "def main(expNum, expFile):\n",
    "    t0 = time()*u.s\n",
    "\n",
    "    dataC = GPRutils.dataContainer()\n",
    "    dataC.load(expNum=expNum)\n",
    "    dataC.splitData()\n",
    "\n",
    "    GP = vK2KGPR.vonKarman2KernelGPR(dataC, printing=True, outDir=expFile)\n",
    "    GP.fitCorr()\n",
    "    GP.fit(GP.opt_result[0])\n",
    "    dataC.makeMasks(GP)\n",
    "    GP.fitCorr(v0=GP.opt_result[0])\n",
    "    \n",
    "    t1 = time()*u.s\n",
    "    print(f\"Time until optimization: {(t1-t0).to(u.hr)}\")\n",
    "    \n",
    "    try:\n",
    "        GP.optimize()\n",
    "    except np.linalg.LinAlgError:\n",
    "        with open(GP.paramFile, mode=\"a+\") as file:\n",
    "            file.write(\"LinAlgError:\" + \"\\n\")\n",
    "            file.write(str(GP.dC.params) + \"\\n\")\n",
    "    finally:\n",
    "        t2 = time()*u.s\n",
    "        print(f\"Time of optimization: {(t2-t1).to(u.hr)}\")\n",
    "        \n",
    "    GP.fit(GP.opt_result_GP[0])\n",
    "    GP.predict(dataC.Xvalid)\n",
    "\n",
    "    dataC.saveNPZ(expFile)\n",
    "    tf = time()*u.s\n",
    "    print(f\"Total modeling time: {(tf-t0).to(u.hr)}\")"
   ]
  },
  {
   "cell_type": "code",
   "execution_count": 3,
   "metadata": {},
   "outputs": [],
   "source": [
    "exps = np.array([\n",
    "#     248717, 348819, 355303, 361577, 361580, 361582, 362365, 362366,\n",
    "#     364209, 364210, 364213, 364215, 367482,\n",
    "#     367483, 367484,\n",
    "#     367488,\n",
    "#     369801, 369802, \n",
    "#     369804,\n",
    "#     370199, 370200, 370204, \n",
    "    370601, 370602,\n",
    "    370609, 371367, 371368, 371369, 372006, 372064, 372437, 372522,\n",
    "    373245, 374797, 474260, 474261, 474262, 474263, 474264, 474265,\n",
    "    476846, 484481, 484482, 484483, 484490, 484491, 484499, 573396,\n",
    "    573398, 576861, 576862, 576863, 576864, 576865, 576866, 579815,\n",
    "    579816, 586534, 592152, 674340, 675645, 676791, 676792, 676799,\n",
    "    676800, 676801, 680497, 681166, 686427, 686457, 686459, 689611,\n",
    "    689612, 689613, 691478, 696547, 696552, 784503, 788112, 788113,\n",
    "    788116, 788117, 791184, 791186, 791215, 791229, 791593, 791640\n",
    "])"
   ]
  },
  {
   "cell_type": "code",
   "execution_count": null,
   "metadata": {},
   "outputs": [],
   "source": [
    "for expNum in exps:    \n",
    "    expFile = os.path.join(\"../thesis\", str(expNum))\n",
    "    try:\n",
    "        os.mkdir(expFile)\n",
    "    except FileExistsError:\n",
    "        shutil.rmtree(expFile)\n",
    "        os.mkdir(expFile)\n",
    "        \n",
    "    sys.stderr = open(os.path.join(expFile, \"err.err\"), \"a+\")\n",
    "    sys.stdout = open(os.path.join(expFile, \"out.out\"), \"a+\")\n",
    "    \n",
    "    try:\n",
    "        main(expNum, expFile)\n",
    "    except:\n",
    "        traceback.print_exc()"
   ]
  },
  {
   "cell_type": "code",
   "execution_count": null,
   "metadata": {},
   "outputs": [],
   "source": []
  }
 ],
 "metadata": {
  "kernelspec": {
   "display_name": "Python 3",
   "language": "python",
   "name": "python3"
  },
  "language_info": {
   "codemirror_mode": {
    "name": "ipython",
    "version": 3
   },
   "file_extension": ".py",
   "mimetype": "text/x-python",
   "name": "python",
   "nbconvert_exporter": "python",
   "pygments_lexer": "ipython3",
   "version": "3.7.3"
  }
 },
 "nbformat": 4,
 "nbformat_minor": 4
}
