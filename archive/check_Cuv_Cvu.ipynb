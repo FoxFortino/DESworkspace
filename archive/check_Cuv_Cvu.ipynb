{
 "cells": [
  {
   "cell_type": "code",
   "execution_count": 1,
   "metadata": {},
   "outputs": [
    {
     "name": "stderr",
     "output_type": "stream",
     "text": [
      "WARNING: AstropyDeprecationWarning: astropy.extern.six will be removed in 4.0, use the six module directly if it is still needed [astropy.extern.six]\n"
     ]
    }
   ],
   "source": [
    "import vonkarmanFT as vk\n",
    "import vK2KGPR\n",
    "import GPRutils\n",
    "\n",
    "import numpy as np\n",
    "import matplotlib.pyplot as plt\n",
    "import astropy.units as u\n",
    "import scipy.optimize as opt\n",
    "from scipy.spatial.ckdtree import cKDTree"
   ]
  },
  {
   "cell_type": "code",
   "execution_count": 2,
   "metadata": {},
   "outputs": [
    {
     "data": {
      "text/plain": [
       "'Code used to extract, calculate the GP, and then save it in an NPZ'"
      ]
     },
     "execution_count": 2,
     "metadata": {},
     "output_type": "execute_result"
    }
   ],
   "source": [
    "\"\"\"Code used to extract, calculate the GP, and then save it in an NPZ\"\"\"\n",
    "# dataC = GPRutils.dataContainer(\"folio2\", 465)\n",
    "# dataC.loadFITS()\n",
    "# dataC.extractData()\n",
    "# dataC.sigmaClip()\n",
    "# dataC.splitData()\n",
    "# GP = vK2KGPR.vonKarman2KernelGPR(dataC, printing=True)\n",
    "\n",
    "# # Really good parameters for exposure 465 from FoM A\n",
    "# params = np.array([\n",
    "#     206.400264,\n",
    "#     17.376640,\n",
    "#     -0.000061,\n",
    "#     0.017663,\n",
    "#     0.036065,\n",
    "#     1\n",
    "# ])\n",
    "\n",
    "# GP.fit(params)\n",
    "# GP.predict(dataC.Xtest)\n",
    "\n",
    "# dataC.saveNPZ(\"forProf\")"
   ]
  },
  {
   "cell_type": "code",
   "execution_count": 3,
   "metadata": {},
   "outputs": [],
   "source": [
    "\"\"\"Load data from npz file\"\"\"\n",
    "pathToData = \"465.npz\"\n",
    "dataC = GPRutils.loadNPZ(pathToData)"
   ]
  },
  {
   "cell_type": "code",
   "execution_count": 14,
   "metadata": {},
   "outputs": [
    {
     "data": {
      "text/plain": [
       "array([[-10.93171023,   6.98464864],\n",
       "       [  4.67918777,   3.45967709],\n",
       "       [ 19.15431965,  -5.29753775],\n",
       "       ...,\n",
       "       [ 19.36033955,   0.11071888],\n",
       "       [ 12.84685666,  -4.93530497],\n",
       "       [ 12.17754574,   5.15527327]])"
      ]
     },
     "execution_count": 14,
     "metadata": {},
     "output_type": "execute_result"
    }
   ],
   "source": [
    "\"\"\"Here are all of the attributes of the dataContainer object:\"\"\"\n",
    "# exposure number from austinFull.fits\n",
    "dataC.expNum\n",
    "\n",
    "# (N, 2) array of star positions (u, v)\n",
    "dataC.X, dataC.Xtrain, dataC.Xtest\n",
    "\n",
    "# (N, 2) array of residuals (dx, dy)\n",
    "dataC.Y, dataC.Ytrain, dataC.Ytest\n",
    "\n",
    "# (N, 2) array of shot noise error. Both columns are identical\n",
    "dataC.E, dataC.Etrain, dataC.Etest\n",
    "\n",
    "# fraction of data that is used for training\n",
    "dataC.train_size\n",
    "\n",
    "# fraction of data used for creating plots and calculating figure of merit\n",
    "dataC.test_size\n",
    "\n",
    "# total number of stars used\n",
    "dataC.nData\n",
    "\n",
    "# total number of stars in the training set\n",
    "dataC.nTrain\n",
    "\n",
    "# total number of stars in the test set\n",
    "dataC.nTest\n",
    "\n",
    "# (5,) array of parameters: variance, outerScale, diameter, wind_x, wind_y, \n",
    "# and white_noise_variance.\n",
    "dataC.params\n",
    "\n",
    "# (nTest, 2) array of posterior predictive mean of residuals\n",
    "dataC.fbar_s"
   ]
  },
  {
   "cell_type": "code",
   "execution_count": 16,
   "metadata": {},
   "outputs": [],
   "source": [
    "\"\"\"\n",
    "This is how the fitting is done in vonKarman2KernelGPR.fit from vK2KGPR.py.\n",
    "\n",
    "Note that GPRutils.flat is a function that simply flattens (N, 2) arrays into \n",
    "(2N,) arrays because this is the shape needed to do this linear algebra.\n",
    "\"\"\"\n",
    "\n",
    "ttt = vk.TurbulentLayer(\n",
    "    variance=dataC.params[0],\n",
    "    outerScale=dataC.params[1],\n",
    "    diameter=dataC.params[2],\n",
    "    wind=(dataC.params[3], dataC.params[4]))\n",
    "\n",
    "du, dv = GPRutils.getGrid(dataC.Xtrain, dataC.Xtrain)\n",
    "Cuv = ttt.getCuv(du, dv)\n",
    "Cuv[:, :, 0, 1] *= 0 # set Cuv to 0\n",
    "Cuv[:, :, 1, 0] *= 0 # set Cvu to 0\n",
    "n1, n2 = Cuv.shape[0], Cuv.shape[1]\n",
    "\n",
    "K = np.swapaxes(Cuv, 1, 2).reshape(2*n1, 2*n2)\n",
    "W = np.diag(GPRutils.flat(dataC.Etrain)**2) * dataC.params[5]\n",
    "L = np.linalg.cholesky(K + W)\n",
    "\n",
    "alpha = np.linalg.solve(L, GPRutils.flat(dataC.Ytrain))\n",
    "alpha = np.linalg.solve(L.T, alpha)"
   ]
  },
  {
   "cell_type": "code",
   "execution_count": 17,
   "metadata": {},
   "outputs": [],
   "source": [
    "\"\"\"\n",
    "Now that the model is trained on a particular set of parameters, we can use \n",
    "this code to predict residuals for a set of new star positions, X. In this \n",
    "case, we use the testing set.\n",
    "\n",
    "Note that GPRutils.unflat just makes a (2N,) array into a (N, 2) array since (N, 2) is a more sensible shape when plotting.\n",
    "\"\"\"\n",
    "X = dataC.Xtest\n",
    "\n",
    "du, dv = GPRutils.getGrid(X, dataC.Xtrain)\n",
    "Cuv = ttt.getCuv(du, dv)\n",
    "Cuv[:, :, 0, 1] *= 0 # set Cuv to 0\n",
    "Cuv[:, :, 1, 0] *= 0 # set Cvu to 0\n",
    "n1, n2 = Cuv.shape[0], Cuv.shape[1]\n",
    "\n",
    "Ks = np.swapaxes(Cuv, 1, 2).reshape(2*n1, 2*n2)\n",
    "\n",
    "fbar_s = GPRutils.unflat(np.dot(Ks.T, alpha))\n",
    "# This fbar_s will be the same as dataC.fbar_s"
   ]
  }
 ],
 "metadata": {
  "kernelspec": {
   "display_name": "Python 3",
   "language": "python",
   "name": "python3"
  },
  "language_info": {
   "codemirror_mode": {
    "name": "ipython",
    "version": 3
   },
   "file_extension": ".py",
   "mimetype": "text/x-python",
   "name": "python",
   "nbconvert_exporter": "python",
   "pygments_lexer": "ipython3",
   "version": "3.7.3"
  }
 },
 "nbformat": 4,
 "nbformat_minor": 4
}
