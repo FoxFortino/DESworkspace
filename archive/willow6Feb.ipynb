{
 "cells": [
  {
   "cell_type": "code",
   "execution_count": 7,
   "metadata": {},
   "outputs": [],
   "source": [
    "import vonkarman as vk\n",
    "import numpy as np"
   ]
  },
  {
   "cell_type": "code",
   "execution_count": 8,
   "metadata": {},
   "outputs": [
    {
     "data": {
      "text/plain": [
       "'This is the code I used to save the npz file'"
      ]
     },
     "execution_count": 8,
     "metadata": {},
     "output_type": "execute_result"
    }
   ],
   "source": [
    "\"\"\"This is the code I used to save the npz file\"\"\"\n",
    "\n",
    "# import cfGPR\n",
    "# exposure = 465\n",
    "# GP = cfGPR.CurlFreeGPR()\n",
    "# GP.load_fits(\"folio2\")\n",
    "# GP.extract_data(exposure)\n",
    "# GP.sigma_clip()\n",
    "# GP.split_data(train_size=0.50)\n",
    "\n",
    "# X = GP.X # Star positions (deg)\n",
    "# Y = GP.Y # Astrometric residuals (mas)\n",
    "\n",
    "# np.savez(\"stars.npz\", X=X, Y=Y)"
   ]
  },
  {
   "cell_type": "code",
   "execution_count": 9,
   "metadata": {},
   "outputs": [],
   "source": [
    "def getGrid(X1, X2):\n",
    "    u1, u2 = X1[:, 0], X2[:, 0]\n",
    "    v1, v2 = X1[:, 1], X2[:, 1]\n",
    "    uu1, uu2 = np.meshgrid(u1, u2)\n",
    "    vv1, vv2 = np.meshgrid(v1, v2)\n",
    "    \n",
    "    return uu1 - uu2, vv1 - vv2"
   ]
  },
  {
   "cell_type": "code",
   "execution_count": 10,
   "metadata": {},
   "outputs": [
    {
     "data": {
      "text/plain": [
       "((8138, 2), (8138, 2))"
      ]
     },
     "execution_count": 10,
     "metadata": {},
     "output_type": "execute_result"
    }
   ],
   "source": [
    "stars = np.load(\"stars.npz\")\n",
    "X = stars['X']\n",
    "Y = stars['Y']\n",
    "X.shape, Y.shape"
   ]
  },
  {
   "cell_type": "code",
   "execution_count": 11,
   "metadata": {},
   "outputs": [],
   "source": [
    "# For this exposure, this is what the optimizer found the parameters to be\n",
    "p0 = np.array([\n",
    "    409.29434,\n",
    "    4.19736,\n",
    "    0.05170,\n",
    "    -0.04572,\n",
    "    -0.08203\n",
    "])\n",
    "\n",
    "ttt = vk.TurbulentLayer(\n",
    "    variance=p0[0],\n",
    "    outerScale=p0[1],\n",
    "    diameter=p0[2],\n",
    "    wind=(p0[3], p0[4]),\n",
    "    dWind = p0[2]/5.)"
   ]
  },
  {
   "cell_type": "code",
   "execution_count": 12,
   "metadata": {},
   "outputs": [],
   "source": [
    "#xx,yy = getGrid(X[::2,:],X[::2,:])\n",
    "xx,yy = getGrid(X,X)"
   ]
  },
  {
   "cell_type": "code",
   "execution_count": 13,
   "metadata": {},
   "outputs": [
    {
     "name": "stderr",
     "output_type": "stream",
     "text": [
      "/home/fortino/DESworkspace/vonkarman.py:187: RuntimeWarning: divide by zero encountered in log\n",
      "  return  self.interpolator(np.log(r))\n"
     ]
    },
    {
     "name": "stdout",
     "output_type": "stream",
     "text": [
      "CPU times: user 58min 31s, sys: 4min 35s, total: 1h 3min 6s\n",
      "Wall time: 5min 23s\n"
     ]
    }
   ],
   "source": [
    "%%time\n",
    "cov = ttt.getCuv(xx,yy)"
   ]
  },
  {
   "cell_type": "code",
   "execution_count": 14,
   "metadata": {},
   "outputs": [],
   "source": [
    "n = cov.shape[0]\n",
    "c22 = np.swapaxes(cov,1,2).reshape(2*n,2*n)"
   ]
  },
  {
   "cell_type": "code",
   "execution_count": 15,
   "metadata": {},
   "outputs": [
    {
     "name": "stdout",
     "output_type": "stream",
     "text": [
      "[9.99697212e-01 9.99791716e-01 9.99856780e-01 ... 9.22249097e+04\n",
      " 9.28224249e+04 1.13894148e+05]\n"
     ]
    }
   ],
   "source": [
    "e=np.linalg.eigvalsh(c22+np.eye(c22.shape[0]))\n",
    "print(e)"
   ]
  },
  {
   "cell_type": "code",
   "execution_count": 16,
   "metadata": {},
   "outputs": [],
   "source": [
    "L = np.linalg.cholesky(c22+np.eye(c22.shape[0]))"
   ]
  },
  {
   "cell_type": "code",
   "execution_count": null,
   "metadata": {},
   "outputs": [],
   "source": []
  }
 ],
 "metadata": {
  "kernelspec": {
   "display_name": "Python 3",
   "language": "python",
   "name": "python3"
  },
  "language_info": {
   "codemirror_mode": {
    "name": "ipython",
    "version": 3
   },
   "file_extension": ".py",
   "mimetype": "text/x-python",
   "name": "python",
   "nbconvert_exporter": "python",
   "pygments_lexer": "ipython3",
   "version": "3.7.3"
  }
 },
 "nbformat": 4,
 "nbformat_minor": 4
}
