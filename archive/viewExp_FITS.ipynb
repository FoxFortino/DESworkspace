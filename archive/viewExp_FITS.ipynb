{
 "cells": [
  {
   "cell_type": "code",
   "execution_count": 1,
   "metadata": {},
   "outputs": [
    {
     "name": "stdout",
     "output_type": "stream",
     "text": [
      "Created TAP+ (v1.2.1) - Connection:\n",
      "\tHost: gea.esac.esa.int\n",
      "\tUse HTTPS: True\n",
      "\tPort: 443\n",
      "\tSSL Port: 443\n",
      "Created TAP+ (v1.2.1) - Connection:\n",
      "\tHost: geadata.esac.esa.int\n",
      "\tUse HTTPS: True\n",
      "\tPort: 443\n",
      "\tSSL Port: 443\n"
     ]
    }
   ],
   "source": [
    "import os\n",
    "import glob\n",
    "\n",
    "import DESutils\n",
    "import GPRutils\n",
    "import vK2KGPR\n",
    "import plotGPR\n",
    "import vK2KGPR\n",
    "import vonkarmanFT as vk\n",
    "\n",
    "import numpy as np\n",
    "import astropy.units as u\n",
    "import astropy.table as tb\n",
    "from astropy.time import Time\n",
    "import matplotlib.pyplot as plt\n",
    "# plt.style.use('~/GitHub/custom-matplotlib/custom.mplstyle')\n",
    "\n",
    "from IPython import embed\n",
    "from importlib import reload\n",
    "import warnings\n",
    "warnings.filterwarnings(\"ignore\")"
   ]
  },
  {
   "cell_type": "code",
   "execution_count": 6,
   "metadata": {},
   "outputs": [
    {
     "data": {
      "text/plain": [
       "77"
      ]
     },
     "execution_count": 6,
     "metadata": {},
     "output_type": "execute_result"
    }
   ],
   "source": [
    "# OUTfiles = sorted(glob.glob(\"/home/fortino/GPRSolutions/dualOpt_NMmax/GPR.??????.?RC.out\"))\n",
    "# FITSfiles = sorted(glob.glob(\"/home/fortino/GPRSolutions/dualOpt_NMmax/GPR.??????.?RC.fits\"))\n",
    "\n",
    "# OUTfiles = sorted(glob.glob(\"/home/fortino/GPRSolutions/L_BFGS_B_max/GPR.??????.?RC.out\"))\n",
    "# FITSfiles = sorted(glob.glob(\"/home/fortino/GPRSolutions/L_BFGS_B_max/GPR.??????.?RC.fits\"))\n",
    "\n",
    "# OUTfiles = sorted(glob.glob(\"/home/fortino/GPRSolutions/L_BFGS_B_max2/GPR.??????.?RC.out\"))\n",
    "# FITSfiles = sorted(glob.glob(\"/home/fortino/GPRSolutions/L_BFGS_B_max2/GPR.??????.?RC.fits\"))\n",
    "\n",
    "FITSfiles = sorted(glob.glob(\"/home/fortino/GPRSolutions/eris/GPR.??????.?RC.fits\"))\n",
    "\n",
    "FITSfiles = sorted(glob.glob(\"/home/fortino/GPRSolutions/zone134/GPR.??????.?RC.fits\"))\n",
    "\n",
    "FITSfiles = sorted(glob.glob(\"/home/fortino/GPRSolutions/zone133/GPR.??????.?RC.fits\"))\n",
    "\n",
    "FITSfiles = sorted(glob.glob(\"/home/fortino/GPRSolutions/zone132/GPR.??????.?RC.fits\"))\n",
    "len(FITSfiles)"
   ]
  },
  {
   "cell_type": "code",
   "execution_count": null,
   "metadata": {},
   "outputs": [],
   "source": [
    "# dC = GPRutils.loadFITS(FITSfiles[2])\n",
    "# dC.summarize(plot=False)"
   ]
  },
  {
   "cell_type": "code",
   "execution_count": null,
   "metadata": {},
   "outputs": [],
   "source": []
  }
 ],
 "metadata": {
  "kernelspec": {
   "display_name": "Python 3",
   "language": "python",
   "name": "python3"
  },
  "language_info": {
   "codemirror_mode": {
    "name": "ipython",
    "version": 3
   },
   "file_extension": ".py",
   "mimetype": "text/x-python",
   "name": "python",
   "nbconvert_exporter": "python",
   "pygments_lexer": "ipython3",
   "version": "3.7.3"
  }
 },
 "nbformat": 4,
 "nbformat_minor": 4
}
