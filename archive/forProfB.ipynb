{
 "cells": [
  {
   "cell_type": "code",
   "execution_count": 1,
   "metadata": {},
   "outputs": [],
   "source": [
    "import vonkarman as vk\n",
    "\n",
    "import numpy as np"
   ]
  },
  {
   "cell_type": "code",
   "execution_count": 9,
   "metadata": {},
   "outputs": [
    {
     "data": {
      "text/plain": [
       "'This is the code I used to save the npz file'"
      ]
     },
     "execution_count": 9,
     "metadata": {},
     "output_type": "execute_result"
    }
   ],
   "source": [
    "\"\"\"This is the code I used to save the npz file\"\"\"\n",
    "\n",
    "# import cfGPR\n",
    "# exposure = 465\n",
    "# GP = cfGPR.CurlFreeGPR()\n",
    "# GP.load_fits(\"folio2\")\n",
    "# GP.extract_data(exposure)\n",
    "# GP.sigma_clip()\n",
    "# GP.split_data(train_size=0.50)\n",
    "\n",
    "# X = GP.X # Star positions (deg)\n",
    "# Y = GP.Y # Astrometric residuals (mas)\n",
    "\n",
    "# np.savez(\"stars.npz\", X=X, Y=Y)"
   ]
  },
  {
   "cell_type": "code",
   "execution_count": null,
   "metadata": {},
   "outputs": [],
   "source": [
    "def getGrid(X1, X2):\n",
    "    u1, u2 = X1[:, 0], X2[:, 0]\n",
    "    v1, v2 = X1[:, 1], X2[:, 1]\n",
    "    uu1, uu2 = np.meshgrid(u1, u2)\n",
    "    vv1, vv2 = np.meshgrid(v1, v2)\n",
    "    \n",
    "    return uu1 - uu2, vv1 - vv2"
   ]
  },
  {
   "cell_type": "code",
   "execution_count": 12,
   "metadata": {},
   "outputs": [
    {
     "data": {
      "text/plain": [
       "((8138, 2), (8138, 2))"
      ]
     },
     "execution_count": 12,
     "metadata": {},
     "output_type": "execute_result"
    }
   ],
   "source": [
    "stars = np.load(\"stars.npz\")\n",
    "X = stars['X']\n",
    "Y = stars['Y']\n",
    "X.shape, Y.shape"
   ]
  },
  {
   "cell_type": "code",
   "execution_count": 11,
   "metadata": {},
   "outputs": [],
   "source": [
    "# For this exposure, this is what the optimizer found the parameters to be\n",
    "p0 = np.array([\n",
    "    409.29434,\n",
    "    4.19736,\n",
    "    0.05170,\n",
    "    -0.04572,\n",
    "    -0.08203\n",
    "])\n",
    "\n",
    "ttt = vk.TurbulentLayer(\n",
    "    variance=p0[0],\n",
    "    outerScale=p0[1],\n",
    "    diameter=p0[2],\n",
    "    wind=(p0[3], p0[4]))"
   ]
  },
  {
   "cell_type": "code",
   "execution_count": null,
   "metadata": {},
   "outputs": [],
   "source": []
  }
 ],
 "metadata": {
  "kernelspec": {
   "display_name": "Python 3",
   "language": "python",
   "name": "python3"
  },
  "language_info": {
   "codemirror_mode": {
    "name": "ipython",
    "version": 3
   },
   "file_extension": ".py",
   "mimetype": "text/x-python",
   "name": "python",
   "nbconvert_exporter": "python",
   "pygments_lexer": "ipython3",
   "version": "3.7.3"
  }
 },
 "nbformat": 4,
 "nbformat_minor": 4
}
