{
 "cells": [
  {
   "cell_type": "markdown",
   "metadata": {},
   "source": [
    "# Todo\n",
    "\n",
    "> Extract only a portion of each exposure\n",
    "\n",
    ">> Must write a function that takes only data from a particular region in u,v\n",
    "\n",
    "> Figure out how to decompose data into cross/along wind components\n",
    "\n",
    "> Write a kernel that isn't isotropic and set independent length scales for cross/along wind component\n",
    "\n",
    "> See Tiwari (2018) for faster methods of drawing from posterior/prior distribution.\n",
    "\n",
    "Todo for Gary:\n",
    "\n",
    "> Continue with MCMC to tune parameters\n",
    "\n",
    "> Use kernel that looks like:\n",
    "\n",
    "\\begin{equation}\n",
    "K(\\vec{x_1}, \\vec{x_2}) = \\sigma_{signal} * exp(-(\\frac{(x_1^1 - x_2^1)^2}{l_{xx}} + \\frac{(x_1^2 - x_2^2)^2}{l_{yy}} + \\frac{(x_1^1 - x_2^1)(x_1^2 - x_2^2)}{l_{xy}}))\n",
    "\\end{equation}\n",
    "\n",
    "for\n",
    "\n",
    "\\begin{equation}\n",
    "\\vec{x_{\\alpha}} = (x_{\\alpha}^1, x_{\\alpha}^2)\n",
    "\\end{equation}\n",
    "\n",
    "> Try using only dx (instead of both dx and dy) just to test things out\n",
    "\n",
    "> Make a summary function in GPR that makes all the plots and prints all the relevant info"
   ]
  },
  {
   "cell_type": "code",
   "execution_count": 1,
   "metadata": {},
   "outputs": [
    {
     "name": "stderr",
     "output_type": "stream",
     "text": [
      "WARNING: AstropyDeprecationWarning: astropy.extern.six will be removed in 4.0, use the six module directly if it is still needed [astropy.extern.six]\n"
     ]
    }
   ],
   "source": [
    "from time import time\n",
    "import numpy as np\n",
    "import astropy.units as u\n",
    "import astropy.constants as c\n",
    "import astropy.io.fits as pf\n",
    "import matplotlib.pyplot as plt\n",
    "from sklearn.model_selection import train_test_split\n",
    "\n",
    "import gpr\n",
    "import mcmc\n",
    "import forAustin as fa"
   ]
  },
  {
   "cell_type": "code",
   "execution_count": 10,
   "metadata": {},
   "outputs": [
    {
     "name": "stdout",
     "output_type": "stream",
     "text": [
      "Extracting exposure from fits file...\n",
      "Filename: /data4/paper/fox/DES/austinFull.fits\n",
      "No.    Name      Ver    Type      Cards   Dimensions   Format\n",
      "  0  PRIMARY       1 PrimaryHDU       4   ()      \n",
      "  1  Exposures     1 BinTableHDU     47   2820R x 19C   [1D, 1D, 4A, 1D, 8A, 1D, 1J, 1J, 1D, 1D, 8A, 1D, 1D, 1D, 1D, 1D, 1D, 1D, 1D]   \n",
      "  2  RESIDUALS     1 BinTableHDU     25   73818788R x 8C   [I, J, D, D, D, D, D, L]   \n",
      "\n",
      "Extracting exposure data...\n",
      "Splitting data into training and testing sets...\n",
      "Generating white noise covariance function...\n"
     ]
    }
   ],
   "source": [
    "datafile = '/data4/paper/fox/DES/austinFull.fits'\n",
    "nExposure = 500\n",
    "# sample = np.array([-1, 1, 0, 1])\n",
    "sample = None\n",
    "GP = gpr.GPR(datafile, nExposure, sample=sample, verbose=True, random_state=0)"
   ]
  },
  {
   "cell_type": "code",
   "execution_count": null,
   "metadata": {},
   "outputs": [
    {
     "name": "stdout",
     "output_type": "stream",
     "text": [
      "Generating elliptical covariance function...\n",
      "Solving for posterior...\n"
     ]
    }
   ],
   "source": [
    "var_s = 460\n",
    "sigma_x = 0.00175\n",
    "sigma_y = 0.025\n",
    "phi = (0 * u.deg).to(u.rad).value\n",
    "theta = (var_s, sigma_x, sigma_y, phi)\n",
    "GP.fit(theta)\n",
    "GP.summary()"
   ]
  },
  {
   "cell_type": "code",
   "execution_count": null,
   "metadata": {},
   "outputs": [],
   "source": []
  }
 ],
 "metadata": {
  "kernelspec": {
   "display_name": "Python 3",
   "language": "python",
   "name": "python3"
  },
  "language_info": {
   "codemirror_mode": {
    "name": "ipython",
    "version": 3
   },
   "file_extension": ".py",
   "mimetype": "text/x-python",
   "name": "python",
   "nbconvert_exporter": "python",
   "pygments_lexer": "ipython3",
   "version": "3.7.3"
  }
 },
 "nbformat": 4,
 "nbformat_minor": 2
}
