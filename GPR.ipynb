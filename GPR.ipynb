{
 "cells": [
  {
   "cell_type": "code",
   "execution_count": 4,
   "metadata": {},
   "outputs": [],
   "source": [
    "# exposures = np.arange(432, 440)\n",
    "\n",
    "# GP2D.batch(exposures, sample, nSigma, test_frac, datafile, utheta0, vtheta0, bounds)"
   ]
  },
  {
   "cell_type": "code",
   "execution_count": 1,
   "metadata": {},
   "outputs": [
    {
     "name": "stderr",
     "output_type": "stream",
     "text": [
      "WARNING: AstropyDeprecationWarning: astropy.extern.six will be removed in 4.0, use the six module directly if it is still needed [astropy.extern.six]\n"
     ]
    }
   ],
   "source": [
    "import gpr\n",
    "\n",
    "import numpy as np"
   ]
  },
  {
   "cell_type": "code",
   "execution_count": 2,
   "metadata": {},
   "outputs": [],
   "source": [
    "utheta0 = np.array([50, .1, .1, 0, 1.4])\n",
    "vtheta0 = np.array([50, .1, .1, 0, 1.4])\n",
    "bounds = np.array([(1e-4, 1e5), (1e-4, 100), (1e-4, 100), (-4*np.pi, 4*np.pi), (1e-5, 100)])\n",
    "\n",
    "exposures = np.arange(400, 500)\n",
    "sample = np.array([-0.3, 0.3, -0.3, 0.3])\n",
    "# sample = np.array([-0.3, 0, 0, 0.3])\n",
    "# sample = None\n",
    "nSigma = 4\n",
    "test_frac = 0.50\n",
    "datafile = 'hoid'\n",
    "nExposure = 500"
   ]
  },
  {
   "cell_type": "code",
   "execution_count": 3,
   "metadata": {},
   "outputs": [],
   "source": [
    "GP2D = gpr.calcGPR(nLML_print=False)\n",
    "GP2D.genGPR()\n",
    "GP2D.load(sample, nSigma, test_frac, datafile=datafile, nExposure=nExposure)\n",
    "GP2D.solve2d(utheta0, vtheta0, bounds, verbose=False)\n",
    "GP = GP2D.fit2d(GP2D.u_result.x, GP2D.v_result.x)"
   ]
  },
  {
   "cell_type": "code",
   "execution_count": 21,
   "metadata": {},
   "outputs": [
    {
     "data": {
      "text/plain": [
       "dict_keys(['coord', 'verbose', 'nLML_factor', 'nLML_print', 'random_state', 'rng', 'eps', 'synth', 'datafile', 'nExposure', 'fits', 'exposure', 'sample', 'X', 'Y', 'E', 'Xtrain', 'Xtest', 'Ytrain', 'Ytest', 'Etrain', 'Etest', 'nTrain', 'nTest', 'nParams', 'u_theta', 'u_K', 'u_Kss', 'u_Ks', 'u_W', 'u_L', 'u_alpha', 'u_fbar_s', 'u_v', 'u_V_s', 'u_sigma', 'u_nLML', 'fbar_s', 'sigma', 'nLML', 'v_theta', 'RSS', 'chisq', 'red_chisq'])"
      ]
     },
     "execution_count": 21,
     "metadata": {},
     "output_type": "execute_result"
    }
   ],
   "source": [
    "import astropy.io.fits as fits\n",
    "GP.__dict__.keys()"
   ]
  },
  {
   "cell_type": "code",
   "execution_count": 25,
   "metadata": {},
   "outputs": [
    {
     "data": {
      "text/plain": [
       "array(<mtrand.RandomState object at 0x7f59b3480c18>, dtype=object)"
      ]
     },
     "execution_count": 25,
     "metadata": {},
     "output_type": "execute_result"
    }
   ],
   "source": [
    "GP.random_state\n",
    "GP.eps\n",
    "Gp.datafile\n",
    "GP.nExposure\n",
    "GP.sample\n",
    "GP.X, GP.Xtrain, GP.Xtest\n",
    "GP.Y, GP.Ytrain, GP.Ytest\n",
    "GP.E, GP.Etrain, GP.Etest\n",
    "GP.nTrain\n",
    "GP.nTest\n",
    "\n",
    "GP.fbar_s\n",
    "GP.sigma\n",
    "\n",
    "GP.u_theta\n",
    "\n",
    "\n",
    "\n",
    "GP.u_nLML\n",
    "\n",
    "GP.v_theta\n",
    "GP.v_fbar_s\n",
    "GP.v_V_s\n",
    "GP.v_sigma\n",
    "GP.v_nLML\n",
    "\n",
    "GP.RSS\n",
    "GP.chisq\n",
    "GP.red_chisq"
   ]
  },
  {
   "cell_type": "code",
   "execution_count": 28,
   "metadata": {},
   "outputs": [
    {
     "data": {
      "text/plain": [
       "array(<mtrand.RandomState object at 0x7f59b3480c18>, dtype=object)"
      ]
     },
     "execution_count": 28,
     "metadata": {},
     "output_type": "execute_result"
    }
   ],
   "source": [
    "np.array(GP.rng)"
   ]
  },
  {
   "cell_type": "code",
   "execution_count": null,
   "metadata": {},
   "outputs": [],
   "source": []
  }
 ],
 "metadata": {
  "kernelspec": {
   "display_name": "Python 3",
   "language": "python",
   "name": "python3"
  },
  "language_info": {
   "codemirror_mode": {
    "name": "ipython",
    "version": 3
   },
   "file_extension": ".py",
   "mimetype": "text/x-python",
   "name": "python",
   "nbconvert_exporter": "python",
   "pygments_lexer": "ipython3",
   "version": "3.7.3"
  }
 },
 "nbformat": 4,
 "nbformat_minor": 2
}
