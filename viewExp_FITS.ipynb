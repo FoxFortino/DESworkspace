{
 "cells": [
  {
   "cell_type": "code",
   "execution_count": 1,
   "metadata": {},
   "outputs": [
    {
     "name": "stdout",
     "output_type": "stream",
     "text": [
      "Created TAP+ (v1.2.1) - Connection:\n",
      "\tHost: gea.esac.esa.int\n",
      "\tUse HTTPS: True\n",
      "\tPort: 443\n",
      "\tSSL Port: 443\n",
      "Created TAP+ (v1.2.1) - Connection:\n",
      "\tHost: geadata.esac.esa.int\n",
      "\tUse HTTPS: True\n",
      "\tPort: 443\n",
      "\tSSL Port: 443\n"
     ]
    }
   ],
   "source": [
    "import os\n",
    "import glob\n",
    "\n",
    "import DESutils\n",
    "import GPRutils\n",
    "import vK2KGPR\n",
    "import plotGPR\n",
    "import vK2KGPR\n",
    "import vonkarmanFT as vk\n",
    "\n",
    "import numpy as np\n",
    "import astropy.units as u\n",
    "import astropy.table as tb\n",
    "from astropy.time import Time\n",
    "import matplotlib.pyplot as plt\n",
    "plt.style.use('~/GitHub/custom-matplotlib/custom.mplstyle')\n",
    "\n",
    "from IPython import embed\n",
    "from importlib import reload\n",
    "import warnings\n",
    "warnings.filterwarnings(\"ignore\")"
   ]
  },
  {
   "cell_type": "code",
   "execution_count": 10,
   "metadata": {},
   "outputs": [],
   "source": [
    "OUTfiles = sorted(glob.glob(\"/home/fortino/GPRSolutions/dualOpt_NMmax/GPR.??????.?RC.out\"))\n",
    "OUTfiles = sorted(glob.glob(\"/home/fortino/GPRSolutions/L_BFGS_B_max/GPR.??????.?RC.out\"))\n",
    "# OUTfiles = sorted(glob.glob(\"/home/fortino/GPRSolutions/L_BFGS_B_max2/GPR.??????.?RC.out\"))"
   ]
  },
  {
   "cell_type": "code",
   "execution_count": 11,
   "metadata": {},
   "outputs": [
    {
     "name": "stdout",
     "output_type": "stream",
     "text": [
      "2.399784084855252 min\n",
      "3.0714285714285716 h\n"
     ]
    }
   ],
   "source": [
    "DESutils.get_LinAlgErrors(OUTfiles)\n",
    "print(DESutils.get_expAvg_avgOptTime(OUTfiles, returnPercs=False))\n",
    "print(DESutils.get_expAvg_optTime(OUTfiles, returnList=False))\n",
    "\n",
    "nOpt1 = np.array([])\n",
    "nOpt2 = np.array([])\n",
    "for OUTfile in OUTfiles:\n",
    "    parseOut = DESutils.parseOutfile(OUTfile)\n",
    "    if not parseOut.finished:\n",
    "        continue\n",
    "    else:\n",
    "        nOpt1 = np.append(nOpt1, parseOut.nOpt1)\n",
    "        nOpt2 = np.append(nOpt2, parseOut.nOpt2)\n",
    "# plt.hist(nOpt1, histtype=\"step\", range=(0, 150), bins=25)\n",
    "# plt.hist(nOpt2, histtype=\"step\", range=(0, 150), bins=25)\n",
    "# plt.show()"
   ]
  },
  {
   "cell_type": "code",
   "execution_count": null,
   "metadata": {},
   "outputs": [],
   "source": [
    "expNum = 372006\n",
    "dC = GPRutils.loadFITS(f\"/home/fortino/GPRSolutions/dualOpt_NMmax/GPR.{expNum}.?RC.fits\")\n",
    "dC.summarize(noplots=True)\n",
    "\n",
    "dC = GPRutils.loadFITS(f\"/home/fortino/GPRSolutions/L_BFGS_B_max/GPR.{expNum}.?RC.fits\")\n",
    "dC.summarize(noplots=True)"
   ]
  },
  {
   "cell_type": "code",
   "execution_count": null,
   "metadata": {},
   "outputs": [],
   "source": []
  }
 ],
 "metadata": {
  "kernelspec": {
   "display_name": "Python 3",
   "language": "python",
   "name": "python3"
  },
  "language_info": {
   "codemirror_mode": {
    "name": "ipython",
    "version": 3
   },
   "file_extension": ".py",
   "mimetype": "text/x-python",
   "name": "python",
   "nbconvert_exporter": "python",
   "pygments_lexer": "ipython3",
   "version": "3.7.3"
  }
 },
 "nbformat": 4,
 "nbformat_minor": 4
}
