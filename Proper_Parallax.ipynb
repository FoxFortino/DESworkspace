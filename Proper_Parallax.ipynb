{
 "cells": [
  {
   "cell_type": "markdown",
   "metadata": {},
   "source": [
    "#### Let's try to measure parallax in DES proper motions."
   ]
  },
  {
   "cell_type": "markdown",
   "metadata": {},
   "source": [
    "After we go into a Gnomonic projection for RA and DEC (center of tile should be enough), we are going to minimize the following model:\n",
    "$$ \\boldsymbol\\theta = \\boldsymbol\\theta_0 + \\boldsymbol\\mu (t - t_0) - \\varpi \\mathbf{x}_{\\mathrm{E}}(t). $$\n",
    "\n",
    "Let us linearize this:\n",
    "$$\\mathbf{Y} = \\mathbf{A} \\mathbf{X} $$\n",
    "where \n",
    "$$ \\mathbf{A} = \\begin{pmatrix} 1 & 0 & t - t_0 & 0 &  -x_\\mathrm{E} \\\\ 0 & 1 & 0 & t - t_0 & -y_\\mathrm{E} \\end{pmatrix}, $$\n",
    "$$ \\mathbf{X} = \\begin{pmatrix} \\theta_x \\\\ \\theta_y \\\\ \\mu_x \\\\ \\mu_y \\\\ \\varpi \\end{pmatrix}. $$\n",
    "\n",
    "So the minimization to this model is \n",
    "$$ \\mathbf{X}= [\\mathbf{A}^\\top \\mathbf{C}^{-1} \\mathbf{A}]^{-1} [\\mathbf{A}^\\top \\mathbf{C}^{-1} \\mathbf{Y}], $$\n",
    "with uncertainties\n",
    "$$ \\Sigma = [\\mathbf{A}^\\top \\mathbf{C}^{-1} \\mathbf{A}]^{-1}. $$\n",
    "\n",
    "We're also adding a prior for the parallax term, so the fit is actually for\n",
    "$$\\chi^2 = (\\mathbf{Y} - \\mathbf{A} \\mathbf{X})^\\top \\mathbf{C}^{-1} (\\mathbf{Y} - \\mathbf{A} \\mathbf{X}) + \\frac{\\varpi^2}{\\sigma_\\varpi^2}.$$"
   ]
  },
  {
   "cell_type": "code",
   "execution_count": 9,
   "metadata": {},
   "outputs": [],
   "source": [
    "import data_management as dm\n",
    "import proper as pr\n",
    "import numpy as np \n",
    "import astropy.table as tb\n",
    "from scipy.linalg import block_diag\n",
    "from scipy.linalg import solve\n",
    "pl.style.use('../des.mplstyle')"
   ]
  },
  {
   "cell_type": "code",
   "execution_count": 2,
   "metadata": {},
   "outputs": [],
   "source": [
    "exposures = tb.Table.read('y4a1.exposure.positions.fits')"
   ]
  },
  {
   "cell_type": "code",
   "execution_count": 3,
   "metadata": {},
   "outputs": [],
   "source": [
    "def make_matrices(data, maps, exposures, t0, RA_0, DEC_0, mu=0, sigma = 0.01, parallax = True, prior = True):\n",
    "    '''\n",
    "    Builds the matrices required for the proper motion fit (as defined above), including parallax\n",
    "    '''\n",
    "    #data, sigma, sigma_inv = get_data(group, maps)\n",
    "    A = []\n",
    "    Y = []\n",
    "    C = []\n",
    "    \n",
    "    \n",
    "    R_bl = np.array([[-np.sin(RA_0), np.cos(RA_0), 0],[-np.cos(RA_0)*np.sin(DEC_0), -np.sin(RA_0)*np.sin(DEC_0), np.cos(RA_0)],[np.cos(RA_0)*np.cos(DEC_0), np.sin(RA_0)*np.cos(DEC_0), np.sin(RA_0)]])\n",
    "\n",
    "    for i in data:\n",
    "        exp = exposures[exposures['expnum'] == i['EXPNUM']]\n",
    "        if not exp['covwarn'] and len(exp) > 0:\n",
    "            if parallax:\n",
    "                obs = R_bl.dot(exp['observatory'][0].T)\n",
    "                A.append([1, 0, (exp['mjd_mid'] - t0)/365.25, 0, -obs[0]])\n",
    "                A.append([0, 1, 0, (exp['mjd_mid'] - t0)/365.25, -obs[1]])\n",
    "            else:\n",
    "                obs = [0, 0]\n",
    "                A.append([1, 0, (exp['mjd_mid'] - t0)/365.25, 0])\n",
    "                A.append([0, 1, 0, (exp['mjd_mid'] - t0)/365.25])\n",
    "            \n",
    "            C.append(np.linalg.inv(np.array([[i['ERRAWIN_WORLD']**2, 0],[0, i['ERRAWIN_WORLD']**2]]) + maps.getCovariance(i['EXPNUM'])/(1000.*3600.)**2))\n",
    "            Y.append(i['THETA_X'])\n",
    "            Y.append(i['THETA_Y'])\n",
    "    \n",
    "    #parallax prior\n",
    "    if prior:\n",
    "        A.append([0,0,0,0,1])\n",
    "        Y.append(mu/3600.)\n",
    "        C.append([(1./(sigma/3600.))**2])\n",
    "    \n",
    "    \n",
    "    #transform matrices into something usable\n",
    "    A = np.array(A)\n",
    "    Y = np.array(Y)\n",
    "    C = block_diag(*C)\n",
    "    return A, Y, C  \n",
    "\n"
   ]
  },
  {
   "cell_type": "code",
   "execution_count": 4,
   "metadata": {},
   "outputs": [],
   "source": [
    "def solve_proper(group, maps, exposure, t0, RA_0, DEC_0, mu=0, sigma=0.01, parallax = True, prior = True):\n",
    "    A, Y, C_inv = make_matrices(group, maps, exposures, t0, RA_0 * np.pi/180., DEC_0 * np.pi/180., mu, sigma, parallax, prior)\n",
    "    n_dof = 5 if parallax else 4\n",
    "    B = np.linalg.multi_dot([A.T, C_inv, A])\n",
    "    \n",
    "    D = np.linalg.multi_dot([A.T, C_inv, Y])\n",
    "    \n",
    "    \n",
    "    Sigma = np.linalg.inv(B)\n",
    "    X = solve(B, D, check_finite=False)\n",
    "    \n",
    "    Delta = (Y - A.dot(X))\n",
    "    chisq = np.linalg.multi_dot([Delta.T, C_inv, Delta])\n",
    "    if parallax:\n",
    "        X[4] = 3600*X[4]\n",
    "\n",
    "    return X, Sigma, chisq/(2*len(group) - n_dof), Delta\n",
    "\n",
    "\n",
    "\n"
   ]
  },
  {
   "cell_type": "code",
   "execution_count": 6,
   "metadata": {
    "scrolled": true
   },
   "outputs": [],
   "source": [
    "a = tb.Table.read('DES0146-0707_final.fits')\n"
   ]
  },
  {
   "cell_type": "code",
   "execution_count": 7,
   "metadata": {},
   "outputs": [],
   "source": [
    "b = a[a['MATCH_ID'] == 12405]"
   ]
  },
  {
   "cell_type": "code",
   "execution_count": 7,
   "metadata": {},
   "outputs": [
    {
     "data": {
      "text/html": [
       "&lt;Table length=25&gt;\n",
       "<table id=\"table4725926608-648573\" class=\"table-striped table-bordered table-condensed\">\n",
       "<thead><tr><th>idx</th><th>RA</th><th>DEC</th><th>ERRAWIN_WORLD</th><th>XWIN_IMAGE</th><th>YWIN_IMAGE</th><th>SPREAD_MODEL</th><th>SPREADERR_MODEL</th><th>FLUX_AUTO</th><th>FLUXERR_AUTO</th><th>EXPNUM</th><th>IMAFLAGS_ISO</th><th>ERRBWIN_WORLD</th><th>A_IMAGE</th><th>ERRA_IMAGE</th><th>B_IMAGE</th><th>ERRB_IMAGE</th><th>THETA_IMAGE</th><th>ERRTHETAWIN_J2000</th><th>CHI2_MODEL</th><th>CHI2_PSF</th><th>CCDNUM</th><th>BAND</th><th>MJD_OBS</th><th>EXPTIME</th><th>MAG_ZERO</th><th>VERSION</th><th>X_GNOM</th><th>Y_GNOM</th><th>MAG_AUTO_G</th><th>MAG_AUTO_R</th><th>MAG_AUTO_I</th><th>MAG_AUTO_Z</th><th>MAG_AUTO_Y</th><th>COADD_OBJECT_ID</th><th>ALPHAWIN_J2000</th><th>DELTAWIN_J2000</th><th>FLUX_AUTO_G</th><th>FLUX_AUTO_R</th><th>FLUX_AUTO_I</th><th>FLUX_AUTO_Z</th><th>FLUX_AUTO_Y</th><th>MAGERR_AUTO_G</th><th>MAGERR_AUTO_R</th><th>MAGERR_AUTO_I</th><th>MAGERR_AUTO_Z</th><th>MAGERR_AUTO_Y</th><th>FLUXERR_AUTO_G</th><th>FLUXERR_AUTO_R</th><th>FLUXERR_AUTO_I</th><th>FLUXERR_AUTO_Y</th><th>SPREAD_MODEL_I</th><th>SPREADERR_MODEL_I</th><th>MATCH_ID</th><th>COLOR</th><th>NEW_RA</th><th>NEW_DEC</th></tr></thead>\n",
       "<tr><td>0</td><td>26.149065</td><td>-7.2714479999999995</td><td>7.577049814244674e-07</td><td>1009.0833740234375</td><td>2110.8173828125</td><td>-0.0007688810001127422</td><td>0.00018401800480205566</td><td>142054.0</td><td>954.3099975585938</td><td>379928</td><td>0</td><td>7.538570230281039e-07</td><td>1.945770025253296</td><td>-9999.0</td><td>1.8717600107192993</td><td>-9999.0</td><td>-81.06849670410156</td><td>72.97530364990234</td><td>-9999.0</td><td>8.764780147865227e-15</td><td>39</td><td>i</td><td>56982.08944841</td><td>90.0</td><td>31.680870056152344</td><td>y4a1_v1.5</td><td>-0.361186508943138</td><td>-0.14953330871196568</td><td>1e+20</td><td>1e+20</td><td>1e+20</td><td>1e+20</td><td>1e+20</td><td>999999</td><td>1e+20</td><td>1e+20</td><td>1e+20</td><td>1e+20</td><td>1e+20</td><td>1e+20</td><td>1e+20</td><td>1e+20</td><td>1e+20</td><td>1e+20</td><td>1e+20</td><td>1e+20</td><td>1e+20</td><td>1e+20</td><td>1e+20</td><td>1e+20</td><td>1e+20</td><td>1e+20</td><td>12405.0</td><td>0.61</td><td>26.149113658263907</td><td>-7.271464710250534</td></tr>\n",
       "<tr><td>1</td><td>26.149297999999998</td><td>-7.271561999999999</td><td>4.428480224305531e-06</td><td>48.63876724243164</td><td>1206.640869140625</td><td>-0.001956090098246932</td><td>0.0010168800363317132</td><td>13267.900390625</td><td>468.42999267578125</td><td>588992</td><td>0</td><td>4.386999989947071e-06</td><td>1.9229799509048462</td><td>-9999.0</td><td>1.746840000152588</td><td>-9999.0</td><td>-61.747501373291016</td><td>29.564899444580078</td><td>-9999.0</td><td>3.5123199921410775e-12</td><td>44</td><td>r</td><td>57695.24678389</td><td>90.0</td><td>31.650196075439453</td><td>y4a1_v1.5</td><td>-0.360998724661448</td><td>-0.14962731604032345</td><td>1e+20</td><td>1e+20</td><td>1e+20</td><td>1e+20</td><td>1e+20</td><td>999999</td><td>1e+20</td><td>1e+20</td><td>1e+20</td><td>1e+20</td><td>1e+20</td><td>1e+20</td><td>1e+20</td><td>1e+20</td><td>1e+20</td><td>1e+20</td><td>1e+20</td><td>1e+20</td><td>1e+20</td><td>1e+20</td><td>1e+20</td><td>1e+20</td><td>1e+20</td><td>1e+20</td><td>12405.0</td><td>0.61</td><td>26.14930288217313</td><td>-7.271558866042413</td></tr>\n",
       "<tr><td>2</td><td>26.149067</td><td>-7.2714479999999995</td><td>4.150080030740355e-07</td><td>1687.9866943359375</td><td>1064.04296875</td><td>-8.722829807084054e-05</td><td>0.00010837899753823876</td><td>392896.0</td><td>1393.68994140625</td><td>381808</td><td>0</td><td>4.1241600001740153e-07</td><td>2.228559970855713</td><td>-9999.0</td><td>2.1479198932647705</td><td>-9999.0</td><td>-17.078500747680664</td><td>-88.0447006225586</td><td>-9999.0</td><td>7.407109894347764e-16</td><td>58</td><td>z</td><td>56988.07358833</td><td>90.0</td><td>31.042695999145508</td><td>y4a1_v1.5</td><td>-0.3611883723593617</td><td>-0.14953686967278088</td><td>1e+20</td><td>1e+20</td><td>1e+20</td><td>1e+20</td><td>1e+20</td><td>999999</td><td>1e+20</td><td>1e+20</td><td>1e+20</td><td>1e+20</td><td>1e+20</td><td>1e+20</td><td>1e+20</td><td>1e+20</td><td>1e+20</td><td>1e+20</td><td>1e+20</td><td>1e+20</td><td>1e+20</td><td>1e+20</td><td>1e+20</td><td>1e+20</td><td>1e+20</td><td>1e+20</td><td>12405.0</td><td>0.61</td><td>26.149111776993124</td><td>-7.271468269616451</td></tr>\n",
       "<tr><td>3</td><td>26.149171</td><td>-7.271477</td><td>5.241839971859008e-06</td><td>327.3446960449219</td><td>3811.388916015625</td><td>-0.0028418300207704306</td><td>0.0010566100245341659</td><td>13598.599609375</td><td>490.7560119628906</td><td>464911</td><td>0</td><td>5.226109806244494e-06</td><td>2.0262200832366943</td><td>-9999.0</td><td>1.8243800401687622</td><td>-9999.0</td><td>5.130770206451416</td><td>-17.17650032043457</td><td>-9999.0</td><td>3.0652299275180095e-12</td><td>15</td><td>r</td><td>57252.40858821</td><td>90.0</td><td>31.61612319946289</td><td>y4a1_v1.5</td><td>-0.3611296162540023</td><td>-0.14954555303556427</td><td>1e+20</td><td>1e+20</td><td>1e+20</td><td>1e+20</td><td>1e+20</td><td>999999</td><td>1e+20</td><td>1e+20</td><td>1e+20</td><td>1e+20</td><td>1e+20</td><td>1e+20</td><td>1e+20</td><td>1e+20</td><td>1e+20</td><td>1e+20</td><td>1e+20</td><td>1e+20</td><td>1e+20</td><td>1e+20</td><td>1e+20</td><td>1e+20</td><td>1e+20</td><td>1e+20</td><td>12405.0</td><td>0.61</td><td>26.149171</td><td>-7.271477</td></tr>\n",
       "<tr><td>4</td><td>26.149171</td><td>-7.271506</td><td>2.743690004081145e-07</td><td>335.17535400390625</td><td>3860.084228515625</td><td>0.00024441300774924457</td><td>7.463640213245526e-05</td><td>514243.0</td><td>1174.8900146484375</td><td>488829</td><td>0</td><td>2.635879923218454e-07</td><td>2.133280038833618</td><td>-9999.0</td><td>2.006119966506958</td><td>-9999.0</td><td>-24.98870086669922</td><td>48.551700592041016</td><td>-9999.0</td><td>8.442279976494677e-16</td><td>15</td><td>z</td><td>57327.2107331</td><td>90.0</td><td>31.334304809570312</td><td>y4a1_v1.5</td><td>-0.36108568600440927</td><td>-0.14958341471732733</td><td>1e+20</td><td>1e+20</td><td>1e+20</td><td>1e+20</td><td>1e+20</td><td>999999</td><td>1e+20</td><td>1e+20</td><td>1e+20</td><td>1e+20</td><td>1e+20</td><td>1e+20</td><td>1e+20</td><td>1e+20</td><td>1e+20</td><td>1e+20</td><td>1e+20</td><td>1e+20</td><td>1e+20</td><td>1e+20</td><td>1e+20</td><td>1e+20</td><td>1e+20</td><td>1e+20</td><td>12405.0</td><td>0.61</td><td>26.149215254431628</td><td>-7.271514895986473</td></tr>\n",
       "<tr><td>5</td><td>26.149051</td><td>-7.271452</td><td>4.0045699734037044e-07</td><td>1577.2899169921875</td><td>2098.398193359375</td><td>-0.00014392699813470244</td><td>0.00010502099758014083</td><td>462197.0</td><td>1503.5699462890625</td><td>367553</td><td>0</td><td>3.976250013693061e-07</td><td>2.487370014190674</td><td>-9999.0</td><td>2.387939929962158</td><td>-9999.0</td><td>61.06340026855469</td><td>-28.22260093688965</td><td>-9999.0</td><td>5.789530016185043e-16</td><td>30</td><td>z</td><td>56944.22687998</td><td>90.0</td><td>31.220067977905273</td><td>y4a1_v1.5</td><td>-0.36118788900172727</td><td>-0.14952652004234282</td><td>1e+20</td><td>1e+20</td><td>1e+20</td><td>1e+20</td><td>1e+20</td><td>999999</td><td>1e+20</td><td>1e+20</td><td>1e+20</td><td>1e+20</td><td>1e+20</td><td>1e+20</td><td>1e+20</td><td>1e+20</td><td>1e+20</td><td>1e+20</td><td>1e+20</td><td>1e+20</td><td>1e+20</td><td>1e+20</td><td>1e+20</td><td>1e+20</td><td>1e+20</td><td>1e+20</td><td>12405.0</td><td>0.61</td><td>26.149112272468873</td><td>-7.271457920654128</td></tr>\n",
       "<tr><td>6</td><td>26.149323</td><td>-7.27157</td><td>3.9476398683291336e-07</td><td>829.34423828125</td><td>2381.199462890625</td><td>-0.00035167898749932647</td><td>9.015399700729176e-05</td><td>544632.0</td><td>1627.6300048828125</td><td>584983</td><td>0</td><td>3.912770125680254e-07</td><td>2.4167399406433105</td><td>-9999.0</td><td>2.3450798988342285</td><td>-9999.0</td><td>-51.66849899291992</td><td>62.4906005859375</td><td>-9999.0</td><td>3.6962000542137545e-16</td><td>7</td><td>z</td><td>57683.29092106</td><td>90.0</td><td>31.37895965576172</td><td>y4a1_v1.5</td><td>-0.36098402345463204</td><td>-0.14963332621120468</td><td>1e+20</td><td>1e+20</td><td>1e+20</td><td>1e+20</td><td>1e+20</td><td>999999</td><td>1e+20</td><td>1e+20</td><td>1e+20</td><td>1e+20</td><td>1e+20</td><td>1e+20</td><td>1e+20</td><td>1e+20</td><td>1e+20</td><td>1e+20</td><td>1e+20</td><td>1e+20</td><td>1e+20</td><td>1e+20</td><td>1e+20</td><td>1e+20</td><td>1e+20</td><td>1e+20</td><td>12405.0</td><td>0.61</td><td>26.14931769715997</td><td>-7.271564887869388</td></tr>\n",
       "<tr><td>7</td><td>26.149055999999998</td><td>-7.271444</td><td>3.2875000215426553e-06</td><td>988.1407470703125</td><td>2115.67333984375</td><td>-0.0004176110087428242</td><td>0.0007890500128269196</td><td>15385.2998046875</td><td>433.0950012207031</td><td>379927</td><td>0</td><td>3.2746199849498225e-06</td><td>1.7707099914550781</td><td>-9999.0</td><td>1.6025199890136719</td><td>-9999.0</td><td>-37.284000396728516</td><td>-5.848780155181885</td><td>-9999.0</td><td>2.3258599907149957e-12</td><td>39</td><td>r</td><td>56982.08806761</td><td>90.0</td><td>31.702817916870117</td><td>y4a1_v1.5</td><td>-0.3611884711759866</td><td>-0.14953006957285636</td><td>1e+20</td><td>1e+20</td><td>1e+20</td><td>1e+20</td><td>1e+20</td><td>999999</td><td>1e+20</td><td>1e+20</td><td>1e+20</td><td>1e+20</td><td>1e+20</td><td>1e+20</td><td>1e+20</td><td>1e+20</td><td>1e+20</td><td>1e+20</td><td>1e+20</td><td>1e+20</td><td>1e+20</td><td>1e+20</td><td>1e+20</td><td>1e+20</td><td>1e+20</td><td>1e+20</td><td>12405.0</td><td>0.61</td><td>26.1491116827808</td><td>-7.271461469620585</td></tr>\n",
       "<tr><td>8</td><td>26.149328999999998</td><td>-7.271573999999999</td><td>4.431329898579861e-07</td><td>61.68864822387695</td><td>1240.3795166015625</td><td>-0.00016650999896228313</td><td>9.860750287771225e-05</td><td>520947.0</td><td>1607.1099853515625</td><td>597581</td><td>0</td><td>4.397149950818857e-07</td><td>2.7736399173736572</td><td>-9999.0</td><td>2.601300001144409</td><td>-9999.0</td><td>58.75709915161133</td><td>-47.403900146484375</td><td>-9999.0</td><td>4.88999002592604e-16</td><td>44</td><td>z</td><td>57721.17233574</td><td>90.0</td><td>31.31824493408203</td><td>y4a1_v1.5</td><td>-0.3609827540543655</td><td>-0.1496379823439115</td><td>1e+20</td><td>1e+20</td><td>1e+20</td><td>1e+20</td><td>1e+20</td><td>999999</td><td>1e+20</td><td>1e+20</td><td>1e+20</td><td>1e+20</td><td>1e+20</td><td>1e+20</td><td>1e+20</td><td>1e+20</td><td>1e+20</td><td>1e+20</td><td>1e+20</td><td>1e+20</td><td>1e+20</td><td>1e+20</td><td>1e+20</td><td>1e+20</td><td>1e+20</td><td>1e+20</td><td>12405.0</td><td>0.61</td><td>26.149318973100605</td><td>-7.271569544896931</td></tr>\n",
       "<tr><td>9</td><td>26.149176999999998</td><td>-7.2715000000000005</td><td>5.32354988536099e-07</td><td>322.60504150390625</td><td>3872.75146484375</td><td>-0.00021651500719599426</td><td>8.424239786108956e-05</td><td>523716.0</td><td>1426.449951171875</td><td>477754</td><td>0</td><td>5.269070015856414e-07</td><td>3.2792999744415283</td><td>-9999.0</td><td>3.19242000579834</td><td>-9999.0</td><td>-33.294898986816406</td><td>46.70109939575195</td><td>-9999.0</td><td>8.965679634053239e-16</td><td>15</td><td>z</td><td>57288.24881493</td><td>90.0</td><td>31.317567825317383</td><td>y4a1_v1.5</td><td>-0.3610806280443473</td><td>-0.14957037639692874</td><td>1e+20</td><td>1e+20</td><td>1e+20</td><td>1e+20</td><td>1e+20</td><td>999999</td><td>1e+20</td><td>1e+20</td><td>1e+20</td><td>1e+20</td><td>1e+20</td><td>1e+20</td><td>1e+20</td><td>1e+20</td><td>1e+20</td><td>1e+20</td><td>1e+20</td><td>1e+20</td><td>1e+20</td><td>1e+20</td><td>1e+20</td><td>1e+20</td><td>1e+20</td><td>1e+20</td><td>12405.0</td><td>0.61</td><td>26.14922036353156</td><td>-7.271501862084957</td></tr>\n",
       "<tr><td>10</td><td>26.149314999999998</td><td>-7.271571</td><td>8.161659934557974e-07</td><td>828.1959228515625</td><td>2373.90966796875</td><td>-0.0002782059891615063</td><td>0.00019668899767566472</td><td>139657.0</td><td>951.8870239257812</td><td>584982</td><td>0</td><td>8.13430006019189e-07</td><td>2.058180093765259</td><td>-9999.0</td><td>1.9598400592803955</td><td>-9999.0</td><td>-52.07270050048828</td><td>55.85390090942383</td><td>-9999.0</td><td>9.603939923874798e-15</td><td>7</td><td>i</td><td>57683.28955643</td><td>90.0</td><td>31.642417907714844</td><td>y4a1_v1.5</td><td>-0.36098667189692757</td><td>-0.14962989258249923</td><td>1e+20</td><td>1e+20</td><td>1e+20</td><td>1e+20</td><td>1e+20</td><td>999999</td><td>1e+20</td><td>1e+20</td><td>1e+20</td><td>1e+20</td><td>1e+20</td><td>1e+20</td><td>1e+20</td><td>1e+20</td><td>1e+20</td><td>1e+20</td><td>1e+20</td><td>1e+20</td><td>1e+20</td><td>1e+20</td><td>1e+20</td><td>1e+20</td><td>1e+20</td><td>1e+20</td><td>12405.0</td><td>0.61</td><td>26.14931503008622</td><td>-7.271561452204275</td></tr>\n",
       "<tr><td>11</td><td>26.149071</td><td>-7.271451</td><td>3.45887002595191e-07</td><td>1033.1719970703125</td><td>2105.650634765625</td><td>-0.0001571710017742589</td><td>8.800210343906656e-05</td><td>551778.0</td><td>1559.0899658203125</td><td>387385</td><td>0</td><td>3.4379300473119656e-07</td><td>2.3646299839019775</td><td>-9999.0</td><td>2.347249984741211</td><td>-9999.0</td><td>-38.717201232910156</td><td>24.345199584960938</td><td>-9999.0</td><td>4.124840018380609e-16</td><td>39</td><td>z</td><td>57005.0482612</td><td>90.0</td><td>31.399778366088867</td><td>y4a1_v1.5</td><td>-0.3611912288962373</td><td>-0.14953549724020415</td><td>1e+20</td><td>1e+20</td><td>1e+20</td><td>1e+20</td><td>1e+20</td><td>999999</td><td>1e+20</td><td>1e+20</td><td>1e+20</td><td>1e+20</td><td>1e+20</td><td>1e+20</td><td>1e+20</td><td>1e+20</td><td>1e+20</td><td>1e+20</td><td>1e+20</td><td>1e+20</td><td>1e+20</td><td>1e+20</td><td>1e+20</td><td>1e+20</td><td>1e+20</td><td>1e+20</td><td>12405.0</td><td>0.61</td><td>26.149108898511827</td><td>-7.271466894923329</td></tr>\n",
       "<tr><td>12</td><td>26.148951</td><td>-7.271382</td><td>7.411870228679618e-07</td><td>1679.82421875</td><td>1047.469970703125</td><td>-0.0002643839980009943</td><td>0.00016253899957519025</td><td>147062.0</td><td>818.0609741210938</td><td>242768</td><td>0</td><td>7.348609756263613e-07</td><td>2.2070701122283936</td><td>-9999.0</td><td>2.180229902267456</td><td>-9999.0</td><td>-1.9991099834442139</td><td>74.04049682617188</td><td>-9999.0</td><td>1.6597900286715976e-14</td><td>58</td><td>i</td><td>56576.2083894</td><td>90.0</td><td>31.694271087646484</td><td>y4a1_v1.5</td><td>-0.36129131519773566</td><td>-0.14947107292474476</td><td>1e+20</td><td>1e+20</td><td>1e+20</td><td>1e+20</td><td>1e+20</td><td>999999</td><td>1e+20</td><td>1e+20</td><td>1e+20</td><td>1e+20</td><td>1e+20</td><td>1e+20</td><td>1e+20</td><td>1e+20</td><td>1e+20</td><td>1e+20</td><td>1e+20</td><td>1e+20</td><td>1e+20</td><td>1e+20</td><td>1e+20</td><td>1e+20</td><td>1e+20</td><td>1e+20</td><td>12405.0</td><td>0.61</td><td>26.14900805632185</td><td>-7.271402391833722</td></tr>\n",
       "<tr><td>13</td><td>26.149054</td><td>-7.271444</td><td>2.5637300495873205e-06</td><td>1595.24267578125</td><td>2138.151611328125</td><td>-0.0008522800053469837</td><td>0.000678897020407021</td><td>15893.400390625</td><td>403.531005859375</td><td>390908</td><td>0</td><td>2.5217500478902366e-06</td><td>1.6284600496292114</td><td>-9999.0</td><td>1.5382100343704224</td><td>-9999.0</td><td>0.5982869863510132</td><td>-4.836009979248047</td><td>-9999.0</td><td>2.196559991188285e-12</td><td>30</td><td>r</td><td>57015.12322274</td><td>90.0</td><td>31.668289184570312</td><td>y4a1_v1.5</td><td>-0.36120334807515075</td><td>-0.1495281392963581</td><td>1e+20</td><td>1e+20</td><td>1e+20</td><td>1e+20</td><td>1e+20</td><td>999999</td><td>1e+20</td><td>1e+20</td><td>1e+20</td><td>1e+20</td><td>1e+20</td><td>1e+20</td><td>1e+20</td><td>1e+20</td><td>1e+20</td><td>1e+20</td><td>1e+20</td><td>1e+20</td><td>1e+20</td><td>1e+20</td><td>1e+20</td><td>1e+20</td><td>1e+20</td><td>1e+20</td><td>12405.0</td><td>0.61</td><td>26.149096687450903</td><td>-7.271459527430108</td></tr>\n",
       "<tr><td>14</td><td>26.149174</td><td>-7.271495</td><td>5.784630161542736e-07</td><td>287.4660339355469</td><td>3849.73876953125</td><td>-0.0006629289709962904</td><td>0.0001553210022393614</td><td>156050.0</td><td>778.5230102539062</td><td>470558</td><td>0</td><td>5.565980245592073e-07</td><td>2.0657401084899902</td><td>-9999.0</td><td>1.9161499738693237</td><td>-9999.0</td><td>-39.46149826049805</td><td>53.05860137939453</td><td>-9999.0</td><td>2.0473599486765803e-14</td><td>15</td><td>Y</td><td>57268.29745112</td><td>45.0</td><td>29.481595993041992</td><td>y4a1_v1.5</td><td>-0.3610824410668474</td><td>-0.14956836104726012</td><td>1e+20</td><td>1e+20</td><td>1e+20</td><td>1e+20</td><td>1e+20</td><td>999999</td><td>1e+20</td><td>1e+20</td><td>1e+20</td><td>1e+20</td><td>1e+20</td><td>1e+20</td><td>1e+20</td><td>1e+20</td><td>1e+20</td><td>1e+20</td><td>1e+20</td><td>1e+20</td><td>1e+20</td><td>1e+20</td><td>1e+20</td><td>1e+20</td><td>1e+20</td><td>1e+20</td><td>12405.0</td><td>0.61</td><td>26.149218537489315</td><td>-7.271499845331835</td></tr>\n",
       "<tr><td>15</td><td>26.149055999999998</td><td>-7.271449</td><td>8.079080089373747e-07</td><td>1665.611328125</td><td>1084.9637451171875</td><td>0.00018811099289450794</td><td>0.0002231840044260025</td><td>140701.0</td><td>860.9149780273438</td><td>367551</td><td>0</td><td>8.041669730118883e-07</td><td>2.404939889907837</td><td>-9999.0</td><td>2.3410398960113525</td><td>-9999.0</td><td>50.53419876098633</td><td>-84.57959747314453</td><td>-9999.0</td><td>1.5343000646567996e-14</td><td>58</td><td>Y</td><td>56944.22466262</td><td>45.0</td><td>29.350528717041016</td><td>y4a1_v1.5</td><td>-0.3611882458501875</td><td>-0.14952848720123324</td><td>1e+20</td><td>1e+20</td><td>1e+20</td><td>1e+20</td><td>1e+20</td><td>999999</td><td>1e+20</td><td>1e+20</td><td>1e+20</td><td>1e+20</td><td>1e+20</td><td>1e+20</td><td>1e+20</td><td>1e+20</td><td>1e+20</td><td>1e+20</td><td>1e+20</td><td>1e+20</td><td>1e+20</td><td>1e+20</td><td>1e+20</td><td>1e+20</td><td>1e+20</td><td>1e+20</td><td>12405.0</td><td>0.61</td><td>26.14911191118041</td><td>-7.271459887472905</td></tr>\n",
       "<tr><td>16</td><td>26.149172999999998</td><td>-7.2714989999999995</td><td>1.0032699719886295e-06</td><td>309.9670104980469</td><td>3861.164306640625</td><td>-0.000539445027243346</td><td>0.0001903079973999411</td><td>130114.0</td><td>890.0339965820312</td><td>484902</td><td>0</td><td>9.88846977634239e-07</td><td>2.362260103225708</td><td>-9999.0</td><td>2.27551007270813</td><td>-9999.0</td><td>-69.127197265625</td><td>62.72460174560547</td><td>-9999.0</td><td>1.8945499533876316e-14</td><td>15</td><td>i</td><td>57312.18325296</td><td>90.0</td><td>31.606304168701172</td><td>y4a1_v1.5</td><td>-0.36108216256894965</td><td>-0.14957617197431153</td><td>1e+20</td><td>1e+20</td><td>1e+20</td><td>1e+20</td><td>1e+20</td><td>999999</td><td>1e+20</td><td>1e+20</td><td>1e+20</td><td>1e+20</td><td>1e+20</td><td>1e+20</td><td>1e+20</td><td>1e+20</td><td>1e+20</td><td>1e+20</td><td>1e+20</td><td>1e+20</td><td>1e+20</td><td>1e+20</td><td>1e+20</td><td>1e+20</td><td>1e+20</td><td>1e+20</td><td>12405.0</td><td>0.61</td><td>26.149218812030803</td><td>-7.271507656272069</td></tr>\n",
       "<tr><td>17</td><td>26.149057</td><td>-7.271445</td><td>7.573029847662838e-07</td><td>1630.273193359375</td><td>2077.345458984375</td><td>-0.0006175860180519521</td><td>0.00018121200264431536</td><td>142056.0</td><td>873.9130249023438</td><td>365085</td><td>0</td><td>7.50576020891458e-07</td><td>2.0854599475860596</td><td>-9999.0</td><td>2.0261199474334717</td><td>-9999.0</td><td>10.597599983215332</td><td>13.200400352478027</td><td>-9999.0</td><td>1.1715399937867795e-14</td><td>30</td><td>i</td><td>56933.25816361</td><td>90.0</td><td>31.680036544799805</td><td>y4a1_v1.5</td><td>-0.3611884463393743</td><td>-0.1495202805493651</td><td>1e+20</td><td>1e+20</td><td>1e+20</td><td>1e+20</td><td>1e+20</td><td>999999</td><td>1e+20</td><td>1e+20</td><td>1e+20</td><td>1e+20</td><td>1e+20</td><td>1e+20</td><td>1e+20</td><td>1e+20</td><td>1e+20</td><td>1e+20</td><td>1e+20</td><td>1e+20</td><td>1e+20</td><td>1e+20</td><td>1e+20</td><td>1e+20</td><td>1e+20</td><td>1e+20</td><td>12405.0</td><td>0.61</td><td>26.149111715592845</td><td>-7.27145168088127</td></tr>\n",
       "<tr><td>18</td><td>26.149327</td><td>-7.2715689999999995</td><td>6.944600272618118e-07</td><td>85.24501037597656</td><td>1203.5084228515625</td><td>-0.0002055280056083575</td><td>0.00018507399363443255</td><td>135980.0</td><td>763.6820068359375</td><td>597180</td><td>0</td><td>6.874270184198394e-07</td><td>2.1096699237823486</td><td>-9999.0</td><td>2.1035499572753906</td><td>-9999.0</td><td>-8.217610359191895</td><td>17.526100158691406</td><td>-9999.0</td><td>2.0846500659596826e-14</td><td>44</td><td>i</td><td>57720.09752679</td><td>90.0</td><td>31.631349563598633</td><td>y4a1_v1.5</td><td>-0.36097985137340166</td><td>-0.14963551703716485</td><td>1e+20</td><td>1e+20</td><td>1e+20</td><td>1e+20</td><td>1e+20</td><td>999999</td><td>1e+20</td><td>1e+20</td><td>1e+20</td><td>1e+20</td><td>1e+20</td><td>1e+20</td><td>1e+20</td><td>1e+20</td><td>1e+20</td><td>1e+20</td><td>1e+20</td><td>1e+20</td><td>1e+20</td><td>1e+20</td><td>1e+20</td><td>1e+20</td><td>1e+20</td><td>1e+20</td><td>12405.0</td><td>0.61</td><td>26.14932190114596</td><td>-7.271567081990078</td></tr>\n",
       "<tr><td>19</td><td>26.149082999999997</td><td>-7.271439999999999</td><td>6.029629844306328e-07</td><td>1067.3807373046875</td><td>2025.461669921875</td><td>-0.00016212600166909397</td><td>0.00015547999646514654</td><td>170623.0</td><td>795.1690063476562</td><td>365084</td><td>0</td><td>5.962430122963269e-07</td><td>2.2599499225616455</td><td>-9999.0</td><td>2.1849000453948975</td><td>-9999.0</td><td>61.53070068359375</td><td>87.6937026977539</td><td>-9999.0</td><td>1.4082700324348323e-14</td><td>39</td><td>Y</td><td>56933.25731437</td><td>45.0</td><td>29.551578521728516</td><td>y4a1_v1.5</td><td>-0.3611800641087587</td><td>-0.14951756944051214</td><td>1e+20</td><td>1e+20</td><td>1e+20</td><td>1e+20</td><td>1e+20</td><td>999999</td><td>1e+20</td><td>1e+20</td><td>1e+20</td><td>1e+20</td><td>1e+20</td><td>1e+20</td><td>1e+20</td><td>1e+20</td><td>1e+20</td><td>1e+20</td><td>1e+20</td><td>1e+20</td><td>1e+20</td><td>1e+20</td><td>1e+20</td><td>1e+20</td><td>1e+20</td><td>1e+20</td><td>12405.0</td><td>0.61</td><td>26.14912016756903</td><td>-7.2714489765875205</td></tr>\n",
       "<tr><td>20</td><td>26.149058</td><td>-7.271456</td><td>7.32381010948302e-07</td><td>1623.759765625</td><td>2144.39794921875</td><td>-0.00048269599210470915</td><td>0.00019002800399903208</td><td>163449.0</td><td>1033.4100341796875</td><td>374554</td><td>0</td><td>7.276220230778563e-07</td><td>2.179949998855591</td><td>-9999.0</td><td>2.1512200832366943</td><td>-9999.0</td><td>-8.033309936523438</td><td>26.640899658203125</td><td>-9999.0</td><td>7.778419598150014e-15</td><td>30</td><td>Y</td><td>56964.25287572</td><td>45.0</td><td>29.51156234741211</td><td>y4a1_v1.5</td><td>-0.361187920445297</td><td>-0.14952622768300372</td><td>1e+20</td><td>1e+20</td><td>1e+20</td><td>1e+20</td><td>1e+20</td><td>999999</td><td>1e+20</td><td>1e+20</td><td>1e+20</td><td>1e+20</td><td>1e+20</td><td>1e+20</td><td>1e+20</td><td>1e+20</td><td>1e+20</td><td>1e+20</td><td>1e+20</td><td>1e+20</td><td>1e+20</td><td>1e+20</td><td>1e+20</td><td>1e+20</td><td>1e+20</td><td>1e+20</td><td>12405.0</td><td>0.61</td><td>26.149112241003962</td><td>-7.27145762827739</td></tr>\n",
       "<tr><td>21</td><td>26.149317999999997</td><td>-7.27157</td><td>3.3543499284860445e-06</td><td>821.4223022460938</td><td>2404.282470703125</td><td>0.00010338099673390388</td><td>0.0007734699756838381</td><td>15009.900390625</td><td>414.9630126953125</td><td>596097</td><td>0</td><td>3.340639977977844e-06</td><td>1.8768199682235718</td><td>-9999.0</td><td>1.7361500263214111</td><td>-9999.0</td><td>35.1234016418457</td><td>83.00599670410156</td><td>-9999.0</td><td>4.5728000379330336e-12</td><td>7</td><td>r</td><td>57717.07296464</td><td>90.0</td><td>31.66455841064453</td><td>y4a1_v1.5</td><td>-0.360978999031921</td><td>-0.14963165447220875</td><td>1e+20</td><td>1e+20</td><td>1e+20</td><td>1e+20</td><td>1e+20</td><td>999999</td><td>1e+20</td><td>1e+20</td><td>1e+20</td><td>1e+20</td><td>1e+20</td><td>1e+20</td><td>1e+20</td><td>1e+20</td><td>1e+20</td><td>1e+20</td><td>1e+20</td><td>1e+20</td><td>1e+20</td><td>1e+20</td><td>1e+20</td><td>1e+20</td><td>1e+20</td><td>1e+20</td><td>12405.0</td><td>0.61</td><td>26.149322763426923</td><td>-7.271563220214492</td></tr>\n",
       "<tr><td>22</td><td>26.149106999999997</td><td>-7.271483</td><td>1e+20</td><td>1e+20</td><td>1e+20</td><td>1e+20</td><td>1e+20</td><td>1e+20</td><td>1e+20</td><td>999999</td><td>999999</td><td>1e+20</td><td>1e+20</td><td>1e+20</td><td>1e+20</td><td>1e+20</td><td>1e+20</td><td>1e+20</td><td>1e+20</td><td>1e+20</td><td>16959</td><td>N/A</td><td>1e+20</td><td>1e+20</td><td>1e+20</td><td>COADD</td><td>-0.3611930995301388</td><td>-0.1495516042562436</td><td>24.88307762145996</td><td>21.191699981689453</td><td>18.770639419555664</td><td>17.04300308227539</td><td>16.444711685180664</td><td>268493828</td><td>26.1491074771209</td><td>-7.27148341031348</td><td>111.37027740478516</td><td>3336.7216796875</td><td>31027.32421875</td><td>152334.578125</td><td>264311.03125</td><td>0.46704787015914917</td><td>0.023029061034321785</td><td>0.004231585189700127</td><td>0.0014980060514062643</td><td>0.003462450811639428</td><td>47.89617919921875</td><td>70.75650787353516</td><td>120.89757537841797</td><td>842.6923828125</td><td>0.004165844991803169</td><td>9.284981206292287e-05</td><td>12405.0</td><td>0.61</td><td>26.149106999999997</td><td>-7.271483</td></tr>\n",
       "<tr><td>23</td><td>26.148961999999997</td><td>-7.271386</td><td>3.760070057978737e-06</td><td>1673.998779296875</td><td>1042.15966796875</td><td>-0.00047351198736578226</td><td>0.0008239020244218409</td><td>14959.099609375</td><td>464.78399658203125</td><td>242767</td><td>0</td><td>3.7332899864850333e-06</td><td>1.83433997631073</td><td>-9999.0</td><td>1.7834999561309814</td><td>-9999.0</td><td>30.74340057373047</td><td>83.20899963378906</td><td>-9999.0</td><td>3.0498099705400517e-12</td><td>58</td><td>r</td><td>56576.20702567</td><td>90.0</td><td>31.727367401123047</td><td>y4a1_v1.5</td><td>-0.36128675287719614</td><td>-0.14946954696070486</td><td>1e+20</td><td>1e+20</td><td>1e+20</td><td>1e+20</td><td>1e+20</td><td>999999</td><td>1e+20</td><td>1e+20</td><td>1e+20</td><td>1e+20</td><td>1e+20</td><td>1e+20</td><td>1e+20</td><td>1e+20</td><td>1e+20</td><td>1e+20</td><td>1e+20</td><td>1e+20</td><td>1e+20</td><td>1e+20</td><td>1e+20</td><td>1e+20</td><td>1e+20</td><td>1e+20</td><td>12405.0</td><td>0.61</td><td>26.14901265664359</td><td>-7.271400869581446</td></tr>\n",
       "<tr><td>24</td><td>26.149334</td><td>-7.271573</td><td>6.998420190029719e-07</td><td>827.4369506835938</td><td>2373.65771484375</td><td>-0.0003309279854875058</td><td>0.00016804499318823218</td><td>170655.0</td><td>920.5700073242188</td><td>584984</td><td>0</td><td>6.8839301547996e-07</td><td>2.3112599849700928</td><td>-9999.0</td><td>2.1840600967407227</td><td>-9999.0</td><td>-38.945098876953125</td><td>69.6697998046875</td><td>-9999.0</td><td>1.0317300060624056e-14</td><td>7</td><td>Y</td><td>57683.29228096</td><td>45.0</td><td>29.54254722595215</td><td>y4a1_v1.5</td><td>-0.3609802364372538</td><td>-0.1496338567323662</td><td>1e+20</td><td>1e+20</td><td>1e+20</td><td>1e+20</td><td>1e+20</td><td>999999</td><td>1e+20</td><td>1e+20</td><td>1e+20</td><td>1e+20</td><td>1e+20</td><td>1e+20</td><td>1e+20</td><td>1e+20</td><td>1e+20</td><td>1e+20</td><td>1e+20</td><td>1e+20</td><td>1e+20</td><td>1e+20</td><td>1e+20</td><td>1e+20</td><td>1e+20</td><td>1e+20</td><td>12405.0</td><td>0.61</td><td>26.149321514294908</td><td>-7.271565421420528</td></tr>\n",
       "</table><style>table.dataTable {clear: both; width: auto !important; margin: 0 !important;}\n",
       ".dataTables_info, .dataTables_length, .dataTables_filter, .dataTables_paginate{\n",
       "display: inline-block; margin-right: 1em; }\n",
       ".paginate_button { margin-right: 5px; }\n",
       "</style>\n",
       "<script>\n",
       "\n",
       "var astropy_sort_num = function(a, b) {\n",
       "    var a_num = parseFloat(a);\n",
       "    var b_num = parseFloat(b);\n",
       "\n",
       "    if (isNaN(a_num) && isNaN(b_num))\n",
       "        return ((a < b) ? -1 : ((a > b) ? 1 : 0));\n",
       "    else if (!isNaN(a_num) && !isNaN(b_num))\n",
       "        return ((a_num < b_num) ? -1 : ((a_num > b_num) ? 1 : 0));\n",
       "    else\n",
       "        return isNaN(a_num) ? -1 : 1;\n",
       "}\n",
       "\n",
       "require.config({paths: {\n",
       "    datatables: 'https://cdn.datatables.net/1.10.12/js/jquery.dataTables.min'\n",
       "}});\n",
       "require([\"datatables\"], function(){\n",
       "    console.log(\"$('#table4725926608-648573').dataTable()\");\n",
       "    \n",
       "jQuery.extend( jQuery.fn.dataTableExt.oSort, {\n",
       "    \"optionalnum-asc\": astropy_sort_num,\n",
       "    \"optionalnum-desc\": function (a,b) { return -astropy_sort_num(a, b); }\n",
       "});\n",
       "\n",
       "    $('#table4725926608-648573').dataTable({\n",
       "        order: [],\n",
       "        pageLength: 50,\n",
       "        lengthMenu: [[10, 25, 50, 100, 500, 1000, -1], [10, 25, 50, 100, 500, 1000, 'All']],\n",
       "        pagingType: \"full_numbers\",\n",
       "        columnDefs: [{targets: [0, 1, 2, 3, 4, 5, 6, 7, 8, 9, 10, 11, 12, 13, 14, 15, 16, 17, 18, 19, 20, 21, 23, 24, 25, 27, 28, 29, 30, 31, 32, 33, 34, 35, 36, 37, 38, 39, 40, 41, 42, 43, 44, 45, 46, 47, 48, 49, 50, 51, 52, 53, 54, 55, 56], type: \"optionalnum\"}]\n",
       "    });\n",
       "});\n",
       "</script>\n"
      ],
      "text/plain": [
       "<IPython.core.display.HTML object>"
      ]
     },
     "execution_count": 7,
     "metadata": {},
     "output_type": "execute_result"
    }
   ],
   "source": [
    "b.show_in_notebook()"
   ]
  },
  {
   "cell_type": "code",
   "execution_count": 10,
   "metadata": {},
   "outputs": [
    {
     "data": {
      "image/png": "[encoded data removed]",
      "text/plain": [
       "<matplotlib.figure.Figure at 0x111465bd0>"
      ]
     },
     "metadata": {},
     "output_type": "display_data"
    }
   ],
   "source": [
    "pl.plot(b['NEW_RA'], b['NEW_DEC'], '.')\n",
    "pl.show()"
   ]
  },
  {
   "cell_type": "code",
   "execution_count": 14,
   "metadata": {},
   "outputs": [],
   "source": [
    "b['THETA_X'], b['THETA_Y'] = dm.radec_to_gnomonic(b['NEW_RA'], b['NEW_DEC'], b['NEW_RA'][0], b['NEW_DEC'][0])\n"
   ]
  },
  {
   "cell_type": "code",
   "execution_count": 12,
   "metadata": {},
   "outputs": [],
   "source": [
    "from pixmappy import DESMaps\n",
    "pmc = DESMaps()"
   ]
  },
  {
   "cell_type": "code",
   "execution_count": 21,
   "metadata": {},
   "outputs": [
    {
     "name": "stderr",
     "output_type": "stream",
     "text": [
      "/Library/Frameworks/Python.framework/Versions/2.7/lib/python2.7/site-packages/ipykernel_launcher.py:15: DeprecationWarning: The truth value of an empty array is ambiguous. Returning False, but in future this will result in an error. Use `array.size > 0` to check that an array is not empty.\n",
      "  from ipykernel import kernelapp as app\n"
     ]
    }
   ],
   "source": [
    "b = b[b['VERSION'] != 'COADD']\n",
    "X, Sigma, chisq, Delta = solve_proper(b, pmc, exposures, 57205, b['NEW_RA'][0], b['NEW_DEC'][0], mu=0, sigma=0.00001, parallax=True, prior=True)\n",
    "\n",
    "\n"
   ]
  },
  {
   "cell_type": "code",
   "execution_count": 30,
   "metadata": {},
   "outputs": [
    {
     "data": {
      "image/png": "[encoded data removed]",
      "text/plain": [
       "<matplotlib.figure.Figure at 0x10e21f2d0>"
      ]
     },
     "metadata": {},
     "output_type": "display_data"
    }
   ],
   "source": [
    "pl.scatter(b['THETA_X'], b['THETA_Y'], c = b['MJD_OBS'])\n",
    "pl.xlim(np.min(b['THETA_X']), np.max(b['THETA_X']))\n",
    "pl.ylim(np.min(b['THETA_Y']), np.max(b['THETA_Y']))\n",
    "\n",
    "pl.show()"
   ]
  },
  {
   "cell_type": "code",
   "execution_count": 22,
   "metadata": {},
   "outputs": [],
   "source": [
    "x_res = []\n",
    "y_res = []\n",
    "\n",
    "for i in range(len(Delta)):\n",
    "    if i%2 == 0:\n",
    "        x_res.append(Delta[i])\n",
    "    else:\n",
    "        y_res.append(Delta[i])\n",
    "\n",
    "\n",
    "\n"
   ]
  },
  {
   "cell_type": "code",
   "execution_count": 25,
   "metadata": {},
   "outputs": [
    {
     "data": {
      "image/png": "[encoded data removed]",
      "text/plain": [
       "<matplotlib.figure.Figure at 0x11b31a110>"
      ]
     },
     "metadata": {},
     "output_type": "display_data"
    }
   ],
   "source": [
    "pl.plot(b['MJD_OBS'][:-1], x_res[:-1], '.')\n",
    "pl.plot(b['MJD_OBS'][:-1], y_res, '.')\n",
    "\n",
    "pl.show()"
   ]
  },
  {
   "cell_type": "code",
   "execution_count": 28,
   "metadata": {},
   "outputs": [
    {
     "data": {
      "image/png": "[encoded data removed]",
      "text/plain": [
       "<matplotlib.figure.Figure at 0x11b716cd0>"
      ]
     },
     "metadata": {},
     "output_type": "display_data"
    }
   ],
   "source": [
    "fig = pl.figure()\n",
    "fig.set_size_inches(12,10)\n",
    "pl.errorbar(b['MJD_OBS'], b['THETA_X'] - X[0] - (b['MJD_OBS'] -57205)/365.25 * X[2], fmt='.', yerr = b['ERRAWIN_WORLD'] + np.array(x_Cov))\n",
    "pl.errorbar(b['MJD_OBS'], b['THETA_Y']  - X[1] - (b['MJD_OBS'] -57205)/365.25 * X[3], fmt='.', yerr = b['ERRAWIN_WORLD'] + np.array(y_Cov))\n",
    "pl.plot(np.linspace(np.min(b['MJD_OBS']), np.max(b['MJD_OBS']),100), 79./1000./3600 * np.sin(2*np.pi*np.linspace(np.min(b['MJD_OBS']), np.max(b['MJD_OBS']),100)/365.25))\n",
    "pl.show()"
   ]
  },
  {
   "cell_type": "code",
   "execution_count": 98,
   "metadata": {},
   "outputs": [
    {
     "data": {
      "text/html": [
       "&lt;Table length=24&gt;\n",
       "<table id=\"table4508721744-64643\" class=\"table-striped table-bordered table-condensed\">\n",
       "<thead><tr><th>idx</th><th>MJD_OBS</th><th>XWIN_IMAGE</th><th>YWIN_IMAGE</th><th>BAND</th><th>EXPNUM</th><th>MAG</th></tr></thead>\n",
       "<tr><td>0</td><td>56576.20702567</td><td>1673.998779296875</td><td>1042.15966796875</td><td>r</td><td>242767</td><td>21.290103765973058</td></tr>\n",
       "<tr><td>1</td><td>56576.2083894</td><td>1679.82421875</td><td>1047.469970703125</td><td>i</td><td>242768</td><td>18.77551991776333</td></tr>\n",
       "<tr><td>2</td><td>56933.25731437</td><td>1067.3807373046875</td><td>2025.461669921875</td><td>Y</td><td>365084</td><td>16.47148458741925</td></tr>\n",
       "<tr><td>3</td><td>56933.25816361</td><td>1630.273193359375</td><td>2077.345458984375</td><td>i</td><td>365085</td><td>18.798887590591157</td></tr>\n",
       "<tr><td>4</td><td>56944.22466262</td><td>1665.611328125</td><td>1084.9637451171875</td><td>Y</td><td>367551</td><td>16.479785756806343</td></tr>\n",
       "<tr><td>5</td><td>56944.22687998</td><td>1577.2899169921875</td><td>2098.398193359375</td><td>z</td><td>367553</td><td>17.058000172254786</td></tr>\n",
       "<tr><td>6</td><td>56964.25287572</td><td>1623.759765625</td><td>2144.39794921875</td><td>Y</td><td>374554</td><td>16.47810667776125</td></tr>\n",
       "<tr><td>7</td><td>56982.08806761</td><td>988.1407470703125</td><td>2115.67333984375</td><td>r</td><td>379927</td><td>21.235053008074274</td></tr>\n",
       "<tr><td>8</td><td>56982.08944841</td><td>1009.0833740234375</td><td>2110.8173828125</td><td>i</td><td>379928</td><td>18.79973638808223</td></tr>\n",
       "<tr><td>9</td><td>56988.07358833</td><td>1687.9866943359375</td><td>1064.04296875</td><td>z</td><td>381808</td><td>17.057001980735045</td></tr>\n",
       "<tr><td>10</td><td>57005.0482612</td><td>1033.1719970703125</td><td>2105.650634765625</td><td>z</td><td>387385</td><td>17.045367414372997</td></tr>\n",
       "<tr><td>11</td><td>57015.12322274</td><td>1595.24267578125</td><td>2138.151611328125</td><td>r</td><td>390908</td><td>21.16524712360095</td></tr>\n",
       "<tr><td>12</td><td>57252.40858821</td><td>327.3446960449219</td><td>3811.388916015625</td><td>r</td><td>464911</td><td>21.282387732440895</td></tr>\n",
       "<tr><td>13</td><td>57268.29745112</td><td>287.4660339355469</td><td>3849.73876953125</td><td>Y</td><td>470558</td><td>16.498436560538615</td></tr>\n",
       "<tr><td>14</td><td>57288.24881493</td><td>322.60504150390625</td><td>3872.75146484375</td><td>z</td><td>477754</td><td>17.019828219828682</td></tr>\n",
       "<tr><td>15</td><td>57312.18325296</td><td>309.9670104980469</td><td>3861.164306640625</td><td>i</td><td>484902</td><td>18.82049409801914</td></tr>\n",
       "<tr><td>16</td><td>57327.2107331</td><td>335.17535400390625</td><td>3860.084228515625</td><td>z</td><td>488829</td><td>17.056383837856444</td></tr>\n",
       "<tr><td>17</td><td>57683.28955643</td><td>828.1959228515625</td><td>2373.90966796875</td><td>i</td><td>584982</td><td>18.779761136118815</td></tr>\n",
       "<tr><td>18</td><td>57683.29092106</td><td>829.34423828125</td><td>2381.199462890625</td><td>z</td><td>584983</td><td>17.038701768654263</td></tr>\n",
       "<tr><td>19</td><td>57683.29228096</td><td>827.4369506835938</td><td>2373.65771484375</td><td>Y</td><td>584984</td><td>16.462249683097042</td></tr>\n",
       "<tr><td>20</td><td>57695.24678389</td><td>48.63876724243164</td><td>1206.640869140625</td><td>r</td><td>588992</td><td>21.343190569504948</td></tr>\n",
       "<tr><td>21</td><td>57717.07296464</td><td>821.4223022460938</td><td>2404.282470703125</td><td>r</td><td>596097</td><td>21.223613885223806</td></tr>\n",
       "<tr><td>22</td><td>57720.09752679</td><td>85.24501037597656</td><td>1203.5084228515625</td><td>i</td><td>597180</td><td>18.797661971503402</td></tr>\n",
       "<tr><td>23</td><td>57721.17233574</td><td>61.68864822387695</td><td>1240.3795166015625</td><td>z</td><td>597581</td><td>17.026261080623918</td></tr>\n",
       "</table><style>table.dataTable {clear: both; width: auto !important; margin: 0 !important;}\n",
       ".dataTables_info, .dataTables_length, .dataTables_filter, .dataTables_paginate{\n",
       "display: inline-block; margin-right: 1em; }\n",
       ".paginate_button { margin-right: 5px; }\n",
       "</style>\n",
       "<script>\n",
       "\n",
       "var astropy_sort_num = function(a, b) {\n",
       "    var a_num = parseFloat(a);\n",
       "    var b_num = parseFloat(b);\n",
       "\n",
       "    if (isNaN(a_num) && isNaN(b_num))\n",
       "        return ((a < b) ? -1 : ((a > b) ? 1 : 0));\n",
       "    else if (!isNaN(a_num) && !isNaN(b_num))\n",
       "        return ((a_num < b_num) ? -1 : ((a_num > b_num) ? 1 : 0));\n",
       "    else\n",
       "        return isNaN(a_num) ? -1 : 1;\n",
       "}\n",
       "\n",
       "require.config({paths: {\n",
       "    datatables: 'https://cdn.datatables.net/1.10.12/js/jquery.dataTables.min'\n",
       "}});\n",
       "require([\"datatables\"], function(){\n",
       "    console.log(\"$('#table4508721744-64643').dataTable()\");\n",
       "    \n",
       "jQuery.extend( jQuery.fn.dataTableExt.oSort, {\n",
       "    \"optionalnum-asc\": astropy_sort_num,\n",
       "    \"optionalnum-desc\": function (a,b) { return -astropy_sort_num(a, b); }\n",
       "});\n",
       "\n",
       "    $('#table4508721744-64643').dataTable({\n",
       "        order: [],\n",
       "        pageLength: 50,\n",
       "        lengthMenu: [[10, 25, 50, 100, 500, 1000, -1], [10, 25, 50, 100, 500, 1000, 'All']],\n",
       "        pagingType: \"full_numbers\",\n",
       "        columnDefs: [{targets: [0, 1, 2, 3, 5, 6], type: \"optionalnum\"}]\n",
       "    });\n",
       "});\n",
       "</script>\n"
      ],
      "text/plain": [
       "<IPython.core.display.HTML object>"
      ]
     },
     "execution_count": 98,
     "metadata": {},
     "output_type": "execute_result"
    }
   ],
   "source": [
    "b.sort('MJD_OBS')\n",
    "b['MAG'] = -2.5*np.log10(b['FLUX_AUTO']) + b['MAG_ZERO']\n",
    "b['MJD_OBS', 'XWIN_IMAGE', 'YWIN_IMAGE', 'BAND', 'EXPNUM', 'MAG'].show_in_notebook()"
   ]
  },
  {
   "cell_type": "code",
   "execution_count": 27,
   "metadata": {},
   "outputs": [],
   "source": [
    "x_Cov = []\n",
    "y_Cov = []\n",
    "\n",
    "for i in b:\n",
    "    cov = pmc.getCovariance(i['EXPNUM'])\n",
    "    x_Cov.append(np.sqrt(cov[0,0]/(1000*3600)**2))\n",
    "    y_Cov.append(np.sqrt(cov[1,1]/(1000*3600)**2))\n",
    "\n"
   ]
  },
  {
   "cell_type": "code",
   "execution_count": 50,
   "metadata": {},
   "outputs": [
    {
     "name": "stdout",
     "output_type": "stream",
     "text": [
      "      ra           dec      \n",
      "------------- --------------\n",
      "26.0670424739 -6.48367385261\n",
      "      ra           dec      \n",
      "------------- --------------\n",
      "26.0667561739 -6.48325902337\n"
     ]
    }
   ],
   "source": [
    "print exposures[exposures['expnum'] == 242767]['ra', 'dec']\n",
    "print exposures[exposures['expnum'] == 242768]['ra', 'dec']"
   ]
  },
  {
   "cell_type": "code",
   "execution_count": 100,
   "metadata": {},
   "outputs": [
    {
     "data": {
      "text/plain": [
       "37.9901628"
      ]
     },
     "execution_count": 100,
     "metadata": {},
     "output_type": "execute_result"
    }
   ],
   "source": [
    "1.0552823e-05 * 3600 *1000"
   ]
  },
  {
   "cell_type": "code",
   "execution_count": 84,
   "metadata": {},
   "outputs": [
    {
     "data": {
      "text/plain": [
       "4.326859813583056"
      ]
     },
     "execution_count": 84,
     "metadata": {},
     "output_type": "execute_result"
    }
   ],
   "source": [
    "np.sqrt( 1.44457684e-12) * 3600 * 1000"
   ]
  },
  {
   "cell_type": "code",
   "execution_count": 103,
   "metadata": {},
   "outputs": [],
   "source": [
    "wcs = pmc.getDESWCS(int(b[0]['EXPNUM']), int(b[0]['CCDNUM']))\n"
   ]
  },
  {
   "cell_type": "code",
   "execution_count": 107,
   "metadata": {},
   "outputs": [
    {
     "data": {
      "text/plain": [
       "array([-6.53312412e-07, -4.35415725e-06])"
      ]
     },
     "execution_count": 107,
     "metadata": {},
     "output_type": "execute_result"
    }
   ],
   "source": [
    "np.array(wcs.toSky(b[0]['XWIN_IMAGE'], b[0]['YWIN_IMAGE'], c = 6)) - np.array(wcs.toSky(b[0]['XWIN_IMAGE'], b[0]['YWIN_IMAGE'], c = 0.61))"
   ]
  },
  {
   "cell_type": "code",
   "execution_count": 105,
   "metadata": {},
   "outputs": [
    {
     "data": {
      "text/plain": [
       "(26.149012003331176, -7.271405223738694)"
      ]
     },
     "execution_count": 105,
     "metadata": {},
     "output_type": "execute_result"
    }
   ],
   "source": [
    "wcs.toSky(b[0]['XWIN_IMAGE'], b[0]['YWIN_IMAGE'], c = 6)"
   ]
  },
  {
   "cell_type": "code",
   "execution_count": 112,
   "metadata": {},
   "outputs": [
    {
     "data": {
      "text/plain": [
       "4.332778575464017"
      ]
     },
     "execution_count": 112,
     "metadata": {},
     "output_type": "execute_result"
    }
   ],
   "source": [
    "np.sqrt( 1.44853165e-12)*3600*1000"
   ]
  },
  {
   "cell_type": "code",
   "execution_count": 17,
   "metadata": {},
   "outputs": [
    {
     "name": "stderr",
     "output_type": "stream",
     "text": [
      "/Library/Frameworks/Python.framework/Versions/2.7/lib/python2.7/site-packages/ipykernel_launcher.py:15: DeprecationWarning: The truth value of an empty array is ambiguous. Returning False, but in future this will result in an error. Use `array.size > 0` to check that an array is not empty.\n",
      "  from ipykernel import kernelapp as app\n"
     ]
    },
    {
     "name": "stdout",
     "output_type": "stream",
     "text": [
      "[ 6.98385249e-05 -2.30220588e-05  1.03190449e-04 -5.18846035e-05\n",
      "  8.05098344e-02]\n",
      "[ 6.97676423e-05 -2.40506296e-05  1.02892125e-04 -5.19166092e-05\n",
      "  6.79210232e-02]\n",
      "[ 6.94175873e-05 -2.91302423e-05  1.01418848e-04 -5.20746698e-05\n",
      "  5.75098624e-03]\n",
      "[ 6.93855542e-05 -2.95950719e-05  1.01284030e-04 -5.20891337e-05\n",
      "  6.18775100e-05]\n",
      "[ 6.93852092e-05 -2.96000770e-05  1.01282578e-04 -5.20892895e-05\n",
      "  6.19245392e-07]\n",
      "[ 6.93852058e-05 -2.96001276e-05  1.01282564e-04 -5.20892910e-05]\n"
     ]
    }
   ],
   "source": [
    "#print solve_proper(b, pmc, exposures, 57205, b['NEW_RA'][0], b['NEW_DEC'][0], 0, 100000000, True, True)[0][4]\n",
    "print solve_proper(b, pmc, exposures, 57205, b['NEW_RA'][0], b['NEW_DEC'][0], 0, 0.1, True, True)[0]\n",
    "\n",
    "print solve_proper(b, pmc, exposures, 57205, b['NEW_RA'][0], b['NEW_DEC'][0], 0, 0.01, True, True)[0]\n",
    "#print solve_proper(b, pmc, exposures, 57205, b['NEW_RA'][0], b['NEW_DEC'][0], 0.005, 0.001, True, True)[0][4]\n",
    "print solve_proper(b, pmc, exposures, 57205, b['NEW_RA'][0], b['NEW_DEC'][0], 0, 0.0012, True, True)[0]\n",
    "print solve_proper(b, pmc, exposures, 57205, b['NEW_RA'][0], b['NEW_DEC'][0], 0, 0.00012, True, True)[0]\n",
    "print solve_proper(b, pmc, exposures, 57205, b['NEW_RA'][0], b['NEW_DEC'][0], 0, 0.000012, True, True)[0]\n",
    "print solve_proper(b, pmc, exposures, 57205, b['NEW_RA'][0], b['NEW_DEC'][0], 0, 0.00012, False, False)[0]\n",
    "\n",
    "\n"
   ]
  },
  {
   "cell_type": "code",
   "execution_count": 19,
   "metadata": {},
   "outputs": [
    {
     "name": "stderr",
     "output_type": "stream",
     "text": [
      "/Library/Frameworks/Python.framework/Versions/2.7/lib/python2.7/site-packages/ipykernel_launcher.py:15: DeprecationWarning: The truth value of an empty array is ambiguous. Returning False, but in future this will result in an error. Use `array.size > 0` to check that an array is not empty.\n",
      "  from ipykernel import kernelapp as app\n"
     ]
    },
    {
     "name": "stdout",
     "output_type": "stream",
     "text": [
      "2.0621396054518635\n",
      "3.1680624930480836\n",
      "9.538629860373504\n",
      "10.107586807194643\n",
      "9.88391653523338\n"
     ]
    }
   ],
   "source": [
    "print solve_proper(b, pmc, exposures, 57205, b['NEW_RA'][0], b['NEW_DEC'][0], 0, 0.1, True, True)[2]\n",
    "print solve_proper(b, pmc, exposures, 57205, b['NEW_RA'][0], b['NEW_DEC'][0], 0.005, 0.01, True, True)[2]\n",
    "print solve_proper(b, pmc, exposures, 57205, b['NEW_RA'][0], b['NEW_DEC'][0], 0, 0.0012, True, True)[2]\n",
    "print solve_proper(b, pmc, exposures, 57205, b['NEW_RA'][0], b['NEW_DEC'][0], 0, 0.00012, True, True)[2]\n",
    "print solve_proper(b, pmc, exposures, 57205, b['NEW_RA'][0], b['NEW_DEC'][0], 0, 0.000012, False, False)[2]\n",
    "\n"
   ]
  },
  {
   "cell_type": "code",
   "execution_count": 57,
   "metadata": {},
   "outputs": [
    {
     "name": "stderr",
     "output_type": "stream",
     "text": [
      "/Library/Frameworks/Python.framework/Versions/2.7/lib/python2.7/site-packages/ipykernel_launcher.py:15: DeprecationWarning: The truth value of an empty array is ambiguous. Returning False, but in future this will result in an error. Use `array.size > 0` to check that an array is not empty.\n",
      "  from ipykernel import kernelapp as app\n"
     ]
    },
    {
     "name": "stdout",
     "output_type": "stream",
     "text": [
      "0.004349717183830952\n",
      "0.004349717183830709\n",
      "0.004349717183830783\n"
     ]
    }
   ],
   "source": [
    "print np.sqrt(solve_proper(b, pmc, exposures, 57205, 24.614, -7.271,0,0.01, True, True)[1][4,4])*3600\n",
    "print np.sqrt(solve_proper(b, pmc, exposures, 57205, 24.614, -7.271,0.005,0.001, True, True)[1][4,4])*3600\n",
    "print np.sqrt(solve_proper(b, pmc, exposures, 57205, 24.614, -7.271,0,0.0012, True, True)[1][4,4])*3600"
   ]
  },
  {
   "cell_type": "code",
   "execution_count": 29,
   "metadata": {},
   "outputs": [
    {
     "data": {
      "text/plain": [
       "26"
      ]
     },
     "execution_count": 29,
     "metadata": {},
     "output_type": "execute_result"
    }
   ],
   "source": [
    "len(b)"
   ]
  },
  {
   "cell_type": "code",
   "execution_count": 49,
   "metadata": {},
   "outputs": [
    {
     "data": {
      "image/png": "[encoded data removed]",
      "text/plain": [
       "<matplotlib.figure.Figure at 0x11fe09290>"
      ]
     },
     "metadata": {},
     "output_type": "display_data"
    }
   ],
   "source": [
    "pl.plot(b['THETA_X'], b['THETA_Y'], '.')\n",
    "pl.show()"
   ]
  },
  {
   "cell_type": "code",
   "execution_count": 55,
   "metadata": {},
   "outputs": [
    {
     "data": {
      "text/plain": [
       "array([0.95072416, 0.27869451, 0.12069822])"
      ]
     },
     "execution_count": 55,
     "metadata": {},
     "output_type": "execute_result"
    }
   ],
   "source": [
    "exposures[exposures['expnum'] == 242767]['observatory'][0]"
   ]
  },
  {
   "cell_type": "code",
   "execution_count": 60,
   "metadata": {},
   "outputs": [],
   "source": [
    "RA_0 = b['NEW_RA'][0]*np.pi/180\n",
    "DEC_0 = b['NEW_DEC'][0]*np.pi/180\n",
    "R_bl = np.array([[-np.sin(RA_0), np.cos(RA_0), 0],[-np.cos(RA_0)*np.sin(DEC_0), -np.sin(RA_0)*np.sin(DEC_0), np.cos(RA_0)],[np.cos(RA_0)*np.cos(DEC_0), np.sin(RA_0)*np.cos(DEC_0), np.sin(RA_0)]])\n",
    "\n"
   ]
  },
  {
   "cell_type": "code",
   "execution_count": 63,
   "metadata": {},
   "outputs": [
    {
     "data": {
      "text/plain": [
       "(array([-0.4961785 ,  0.40517462,  0.88220125]),\n",
       " array([-0.4961785 ,  0.40517462,  0.88220125]))"
      ]
     },
     "execution_count": 63,
     "metadata": {},
     "output_type": "execute_result"
    }
   ],
   "source": [
    "R_bl.dot(exposures[exposures['expnum'] == 242767]['observatory'][0]), R_bl.dot(exposures[exposures['expnum'] == 242767]['observatory'][0].T)"
   ]
  },
  {
   "cell_type": "code",
   "execution_count": 64,
   "metadata": {},
   "outputs": [
    {
     "data": {
      "text/html": [
       "&lt;Column name=&apos;THETA_X&apos; dtype=&apos;float64&apos; length=26&gt;\n",
       "<table>\n",
       "<tr><td>0.0</td></tr>\n",
       "<tr><td>-3.6781690002628274e-07</td></tr>\n",
       "<tr><td>8.578594936620456e-06</td></tr>\n",
       "<tr><td>-8.175742267556163e-06</td></tr>\n",
       "<tr><td>-7.5036305056017725e-06</td></tr>\n",
       "<tr><td>-1.4690758722408355e-05</td></tr>\n",
       "<tr><td>-5.795120955363012e-06</td></tr>\n",
       "<tr><td>-4.2200393380106433e-07</td></tr>\n",
       "<tr><td>-2.436381219313556e-05</td></tr>\n",
       "<tr><td>-6.742194926417913e-06</td></tr>\n",
       "<tr><td>-6.8068552977588195e-06</td></tr>\n",
       "<tr><td>-4.471773752717839e-05</td></tr>\n",
       "<tr><td>...</td></tr>\n",
       "<tr><td>1.401794769642361e-06</td></tr>\n",
       "<tr><td>-2.4196968233210435e-05</td></tr>\n",
       "<tr><td>-5.7710949435214865e-06</td></tr>\n",
       "<tr><td>-5.966582622685715e-06</td></tr>\n",
       "<tr><td>3.8521504302263724e-07</td></tr>\n",
       "<tr><td>2.6802190291898723e-06</td></tr>\n",
       "<tr><td>-1.7350253002849116e-06</td></tr>\n",
       "<tr><td>4.531467039089574e-07</td></tr>\n",
       "<tr><td>6.15556599119304e-06</td></tr>\n",
       "<tr><td>-2.6344594984323466e-06</td></tr>\n",
       "<tr><td>-6.035220672044571e-06</td></tr>\n",
       "<tr><td>-7.279088790200059e-06</td></tr>\n",
       "</table>"
      ],
      "text/plain": [
       "<Column name='THETA_X' dtype='float64' length=26>\n",
       "                    0.0\n",
       "-3.6781690002628274e-07\n",
       "  8.578594936620456e-06\n",
       " -8.175742267556163e-06\n",
       "-7.5036305056017725e-06\n",
       "-1.4690758722408355e-05\n",
       " -5.795120955363012e-06\n",
       "-4.2200393380106433e-07\n",
       " -2.436381219313556e-05\n",
       " -6.742194926417913e-06\n",
       "-6.8068552977588195e-06\n",
       " -4.471773752717839e-05\n",
       "                    ...\n",
       "  1.401794769642361e-06\n",
       "-2.4196968233210435e-05\n",
       "-5.7710949435214865e-06\n",
       " -5.966582622685715e-06\n",
       " 3.8521504302263724e-07\n",
       " 2.6802190291898723e-06\n",
       "-1.7350253002849116e-06\n",
       "  4.531467039089574e-07\n",
       "   6.15556599119304e-06\n",
       "-2.6344594984323466e-06\n",
       " -6.035220672044571e-06\n",
       " -7.279088790200059e-06"
      ]
     },
     "execution_count": 64,
     "metadata": {},
     "output_type": "execute_result"
    }
   ],
   "source": [
    "b['THETA_X']"
   ]
  },
  {
   "cell_type": "code",
   "execution_count": null,
   "metadata": {},
   "outputs": [],
   "source": []
  }
 ],
 "metadata": {
  "kernelspec": {
   "display_name": "Python 3",
   "language": "python",
   "name": "python3"
  },
  "language_info": {
   "codemirror_mode": {
    "name": "ipython",
    "version": 3
   },
   "file_extension": ".py",
   "mimetype": "text/x-python",
   "name": "python",
   "nbconvert_exporter": "python",
   "pygments_lexer": "ipython3",
   "version": "3.7.3"
  }
 },
 "nbformat": 4,
 "nbformat_minor": 4
}
