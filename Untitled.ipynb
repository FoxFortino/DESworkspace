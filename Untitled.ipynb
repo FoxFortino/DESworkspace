{
 "cells": [
  {
   "cell_type": "code",
   "execution_count": 5,
   "metadata": {},
   "outputs": [],
   "source": [
    "import glob\n",
    "\n",
    "import GPRutils\n",
    "import vK2KGPR\n",
    "import plotGPR\n",
    "import vonkarmanFT as vk\n",
    "\n",
    "import numpy as np\n",
    "import astropy.units as u\n",
    "import matplotlib.pyplot as plt"
   ]
  },
  {
   "cell_type": "code",
   "execution_count": 41,
   "metadata": {},
   "outputs": [],
   "source": [
    "exp = 348819\n",
    "dataC = GPRutils.loadFITS(glob.glob(f\"../thesis/{exp}/DES{exp}_?.fits\")[0])"
   ]
  },
  {
   "cell_type": "code",
   "execution_count": 42,
   "metadata": {},
   "outputs": [],
   "source": [
    "params = dataC.params\n",
    "params = np.append(params, 312.3213)"
   ]
  },
  {
   "cell_type": "code",
   "execution_count": 45,
   "metadata": {},
   "outputs": [
    {
     "name": "stdout",
     "output_type": "stream",
     "text": [
      "K Variance     Outer Scale    Diameter       Wind X         Wind Y         W Variance     \n",
      "108.0360114    1.4157822      -0.0117676     0.05367        0.0638822      312.3213       \n"
     ]
    }
   ],
   "source": [
    "def printParams(params, FoM=None, FoMtype=None, header=False, file=None, printing=True):\n",
    "\n",
    "    if header:\n",
    "        names = [\"K Variance\", \"Outer Scale\", \"Diameter\", \"Wind X\", \"Wind Y\"]\n",
    "        if FoMtype is not None:\n",
    "            names.insert(0, FoMtype)\n",
    "        if params.size == 6:\n",
    "            names.append(\"W Variance\")\n",
    "            \n",
    "        line = \"\".join([f\"{name:<15}\" for name in names])\n",
    "        \n",
    "    else:\n",
    "        if FoM is not None:\n",
    "            params = np.insert(params, 0, FoM)\n",
    "            \n",
    "        line = \"\".join([f\"{np.round(param, 7):<15}\" for param in params])\n",
    "    \n",
    "    with open(file, mode=\"a+\") as ffile:\n",
    "        f.write(line + \"\\n\")\n",
    "        \n",
    "    if printing:\n",
    "        print(line)"
   ]
  },
  {
   "cell_type": "code",
   "execution_count": null,
   "metadata": {},
   "outputs": [],
   "source": []
  }
 ],
 "metadata": {
  "kernelspec": {
   "display_name": "Python 3",
   "language": "python",
   "name": "python3"
  },
  "language_info": {
   "codemirror_mode": {
    "name": "ipython",
    "version": 3
   },
   "file_extension": ".py",
   "mimetype": "text/x-python",
   "name": "python",
   "nbconvert_exporter": "python",
   "pygments_lexer": "ipython3",
   "version": "3.7.3"
  }
 },
 "nbformat": 4,
 "nbformat_minor": 4
}
