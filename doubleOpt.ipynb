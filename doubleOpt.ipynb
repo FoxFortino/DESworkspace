{
 "cells": [
  {
   "cell_type": "code",
   "execution_count": 1,
   "metadata": {},
   "outputs": [
    {
     "name": "stdout",
     "output_type": "stream",
     "text": [
      "Created TAP+ (v1.2.1) - Connection:\n",
      "\tHost: gea.esac.esa.int\n",
      "\tUse HTTPS: True\n",
      "\tPort: 443\n",
      "\tSSL Port: 443\n",
      "Created TAP+ (v1.2.1) - Connection:\n",
      "\tHost: geadata.esac.esa.int\n",
      "\tUse HTTPS: True\n",
      "\tPort: 443\n",
      "\tSSL Port: 443\n"
     ]
    }
   ],
   "source": [
    "from importlib import reload\n",
    "\n",
    "import GPRutils\n",
    "import vK2KGPR\n",
    "import plotGPR\n",
    "\n",
    "import numpy as np\n",
    "import astropy.units as u\n",
    "import matplotlib.pyplot as plt\n",
    "import astropy.stats as stats"
   ]
  },
  {
   "cell_type": "code",
   "execution_count": 2,
   "metadata": {},
   "outputs": [
    {
     "name": "stdout",
     "output_type": "stream",
     "text": [
      "Exposure: 364215\n",
      "Band: z\n",
      "Number of objects: 110646\n"
     ]
    },
    {
     "name": "stderr",
     "output_type": "stream",
     "text": [
      "WARNING: W35: None:5:0: W35: 'value' attribute required for INFO elements [astropy.io.votable.tree]\n",
      "WARNING: W35: None:6:0: W35: 'value' attribute required for INFO elements [astropy.io.votable.tree]\n",
      "WARNING: W35: None:7:0: W35: 'value' attribute required for INFO elements [astropy.io.votable.tree]\n",
      "WARNING: W35: None:8:0: W35: 'value' attribute required for INFO elements [astropy.io.votable.tree]\n",
      "WARNING: W35: None:10:0: W35: 'value' attribute required for INFO elements [astropy.io.votable.tree]\n",
      "WARNING: W50: None:35:0: W50: Invalid unit string 'mas.yr**-1' [astropy.io.votable.tree]\n",
      "WARNING: W50: None:38:0: W50: Invalid unit string 'mas.yr**-1' [astropy.io.votable.tree]\n",
      "WARNING: W50: None:41:0: W50: Invalid unit string 'mas.yr**-1' [astropy.io.votable.tree]\n",
      "WARNING: W50: None:44:0: W50: Invalid unit string 'mas.yr**-1' [astropy.io.votable.tree]\n",
      "WARNING: W06: None:80:0: W06: Invalid UCD 'arith.ratio': Secondary word 'arith.ratio' is not valid as a primary word [astropy.io.votable.tree]\n"
     ]
    },
    {
     "name": "stdout",
     "output_type": "stream",
     "text": [
      "INFO: Query finished. [astroquery.utils.tap.core]\n",
      "There were 10847 matches within 0.5 arcsec.\n",
      "110359 total detections\n",
      "8446 training set detections\n",
      "2112 validation set detections\n",
      "99801 prediiction set detections\n"
     ]
    }
   ],
   "source": [
    "dataC = GPRutils.dataContainer()\n",
    "dataC.load()\n",
    "dataC.splitData(nSigma=4, train_size=0.80)"
   ]
  },
  {
   "cell_type": "code",
   "execution_count": 3,
   "metadata": {},
   "outputs": [],
   "source": [
    "GP = vK2KGPR.vonKarman2KernelGPR(dataC, printing=True, outDir=\".\")\n",
    "# GP.fitCorr()\n",
    "# GP.optimize()\n",
    "params = np.array([\n",
    "    6.0052269,\n",
    "    4.1389713,\n",
    "    0.0271109,\n",
    "    0.0624530,\n",
    "    -0.0014108\n",
    "])"
   ]
  },
  {
   "cell_type": "code",
   "execution_count": 4,
   "metadata": {},
   "outputs": [],
   "source": [
    "GP.fit(params)"
   ]
  },
  {
   "cell_type": "code",
   "execution_count": 6,
   "metadata": {},
   "outputs": [],
   "source": [
    "GP.predict(GP.dC.Xvalid)"
   ]
  },
  {
   "cell_type": "code",
   "execution_count": null,
   "metadata": {},
   "outputs": [],
   "source": [
    "# dataC.quickPlot(savePath=\"preclipping\")"
   ]
  },
  {
   "cell_type": "code",
   "execution_count": null,
   "metadata": {},
   "outputs": [],
   "source": [
    "mask = stats.sigma_clip(\n",
    "    dataC.Yvalid - dataC.fbar_s,\n",
    "    sigma=4, axis=0).mask\n",
    "mask = ~np.logical_or(*mask.T)\n",
    "\n",
    "dataC.Xvalid = dataC.Xvalid[mask]\n",
    "dataC.Yvalid = dataC.Yvalid[mask]\n",
    "dataC.Evalid = dataC.Evalid[mask]"
   ]
  },
  {
   "cell_type": "code",
   "execution_count": null,
   "metadata": {},
   "outputs": [],
   "source": [
    "GP.predict(GP.dC.Xtrain)\n",
    "\n",
    "mask = stats.sigma_clip(\n",
    "    dataC.Ytrain - dataC.fbar_s,\n",
    "    sigma=4, axis=0).mask\n",
    "mask = ~np.logical_or(*mask.T)\n",
    "\n",
    "dataC.Xtrain = dataC.Xtrain[mask]\n",
    "dataC.Ytrain = dataC.Ytrain[mask]\n",
    "dataC.Etrain =  dataC.Etrain[mask]"
   ]
  },
  {
   "cell_type": "code",
   "execution_count": null,
   "metadata": {},
   "outputs": [],
   "source": [
    "# To do this second round of optimization we will need to redfine nData,\n",
    "# nTrain, and, nValid. Maybe other things too?"
   ]
  },
  {
   "cell_type": "code",
   "execution_count": null,
   "metadata": {},
   "outputs": [],
   "source": [
    "# GP.optimize(v0=params)\n",
    "params2 = np.array([\n",
    "    2.22243044e+01,\n",
    "    1.89448632e+00,\n",
    "    -4.56342809e-04,\n",
    "    9.20082711e-02,\n",
    "    1.85203931e-03\n",
    "])"
   ]
  },
  {
   "cell_type": "code",
   "execution_count": null,
   "metadata": {},
   "outputs": [],
   "source": [
    "GP.fit(params2)"
   ]
  },
  {
   "cell_type": "code",
   "execution_count": null,
   "metadata": {},
   "outputs": [],
   "source": [
    "GP.predict(GP.dC.Xvalid)"
   ]
  },
  {
   "cell_type": "code",
   "execution_count": null,
   "metadata": {},
   "outputs": [],
   "source": [
    "# dataC.quickPlot(savePath=\"postclipping\")"
   ]
  }
 ],
 "metadata": {
  "kernelspec": {
   "display_name": "Python 3",
   "language": "python",
   "name": "python3"
  },
  "language_info": {
   "codemirror_mode": {
    "name": "ipython",
    "version": 3
   },
   "file_extension": ".py",
   "mimetype": "text/x-python",
   "name": "python",
   "nbconvert_exporter": "python",
   "pygments_lexer": "ipython3",
   "version": "3.7.3"
  }
 },
 "nbformat": 4,
 "nbformat_minor": 4
}
