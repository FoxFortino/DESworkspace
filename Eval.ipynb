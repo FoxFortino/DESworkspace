{
 "cells": [
  {
   "cell_type": "code",
   "execution_count": null,
   "metadata": {},
   "outputs": [],
   "source": [
    "import gpr\n",
    "\n",
    "import numpy as np"
   ]
  },
  {
   "cell_type": "code",
   "execution_count": null,
   "metadata": {},
   "outputs": [],
   "source": [
    "nExposure = 479\n",
    "GP = gpr.GPR('dxdy', npz=f\"../exposures/{nExposure}.npz\")\n",
    "GP.savefits('../exposures')\n",
    "GP.loadfits(f'../exposures/GP{nExposure}.fits', f'../exposures/{nExposure}.fits')\n",
    "# print(nExposure, GP.nData)\n",
    "GP.summary()\n",
    "GP.fits_summary(nAvg=30)"
   ]
  },
  {
   "cell_type": "code",
   "execution_count": null,
   "metadata": {},
   "outputs": [],
   "source": []
  }
 ],
 "metadata": {
  "kernelspec": {
   "display_name": "Python 3",
   "language": "python",
   "name": "python3"
  },
  "language_info": {
   "codemirror_mode": {
    "name": "ipython",
    "version": 3
   },
   "file_extension": ".py",
   "mimetype": "text/x-python",
   "name": "python",
   "nbconvert_exporter": "python",
   "pygments_lexer": "ipython3",
   "version": "3.7.3"
  }
 },
 "nbformat": 4,
 "nbformat_minor": 4
}
